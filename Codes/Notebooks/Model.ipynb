{
 "cells": [
  {
   "cell_type": "markdown",
   "id": "8300cbdc-9df3-43ed-972d-201448e865ff",
   "metadata": {},
   "source": [
    "## Importing Libraries"
   ]
  },
  {
   "cell_type": "code",
   "execution_count": 1,
   "id": "4e3c0b17-87e2-4dbe-bc23-5e5fab88be5d",
   "metadata": {},
   "outputs": [],
   "source": [
    "import numpy as np\n",
    "import pandas as pd"
   ]
  },
  {
   "cell_type": "markdown",
   "id": "5a208246-bfb5-460b-86a5-7f09569b186a",
   "metadata": {},
   "source": [
    "## Dataset Calling"
   ]
  },
  {
   "cell_type": "code",
   "execution_count": 10,
   "id": "05acfe36-83b6-41a1-b5ae-e93e7025dfa5",
   "metadata": {
    "tags": []
   },
   "outputs": [
    {
     "data": {
      "text/html": [
       "<div>\n",
       "<style scoped>\n",
       "    .dataframe tbody tr th:only-of-type {\n",
       "        vertical-align: middle;\n",
       "    }\n",
       "\n",
       "    .dataframe tbody tr th {\n",
       "        vertical-align: top;\n",
       "    }\n",
       "\n",
       "    .dataframe thead th {\n",
       "        text-align: right;\n",
       "    }\n",
       "</style>\n",
       "<table border=\"1\" class=\"dataframe\">\n",
       "  <thead>\n",
       "    <tr style=\"text-align: right;\">\n",
       "      <th></th>\n",
       "      <th>Identifier</th>\n",
       "      <th>DRL_Win_Flag</th>\n",
       "      <th>Form</th>\n",
       "      <th>Region</th>\n",
       "      <th>Tender_Type</th>\n",
       "      <th>Client</th>\n",
       "      <th>#Participant</th>\n",
       "      <th>Winning_Price</th>\n",
       "      <th>Proximity_Delivery</th>\n",
       "      <th>Tender_Duration</th>\n",
       "      <th>Previous_Winning_Price</th>\n",
       "      <th>#Months_G.E</th>\n",
       "      <th>DRL_Bid_price</th>\n",
       "      <th>Prv_Cat</th>\n",
       "    </tr>\n",
       "  </thead>\n",
       "  <tbody>\n",
       "    <tr>\n",
       "      <th>0</th>\n",
       "      <td>CINACALCET 30MG84724</td>\n",
       "      <td>0</td>\n",
       "      <td>1</td>\n",
       "      <td>3</td>\n",
       "      <td>1</td>\n",
       "      <td>2</td>\n",
       "      <td>2</td>\n",
       "      <td>0.36800</td>\n",
       "      <td>0.266667</td>\n",
       "      <td>1.106742</td>\n",
       "      <td>0.36800</td>\n",
       "      <td>0.466667</td>\n",
       "      <td>1.0000</td>\n",
       "      <td>0</td>\n",
       "    </tr>\n",
       "    <tr>\n",
       "      <th>1</th>\n",
       "      <td>CINACALCET 30MG85261</td>\n",
       "      <td>0</td>\n",
       "      <td>1</td>\n",
       "      <td>2</td>\n",
       "      <td>2</td>\n",
       "      <td>2</td>\n",
       "      <td>2</td>\n",
       "      <td>0.41587</td>\n",
       "      <td>0.266667</td>\n",
       "      <td>0.769663</td>\n",
       "      <td>0.36800</td>\n",
       "      <td>0.933333</td>\n",
       "      <td>1.2144</td>\n",
       "      <td>0</td>\n",
       "    </tr>\n",
       "    <tr>\n",
       "      <th>2</th>\n",
       "      <td>CINACALCET 30MG85386</td>\n",
       "      <td>1</td>\n",
       "      <td>1</td>\n",
       "      <td>3</td>\n",
       "      <td>2</td>\n",
       "      <td>1</td>\n",
       "      <td>1</td>\n",
       "      <td>0.67860</td>\n",
       "      <td>0.533333</td>\n",
       "      <td>1.794944</td>\n",
       "      <td>0.41587</td>\n",
       "      <td>1.100000</td>\n",
       "      <td>0.6786</td>\n",
       "      <td>0</td>\n",
       "    </tr>\n",
       "    <tr>\n",
       "      <th>4</th>\n",
       "      <td>CINACALCET 60MG84724</td>\n",
       "      <td>0</td>\n",
       "      <td>1</td>\n",
       "      <td>3</td>\n",
       "      <td>1</td>\n",
       "      <td>2</td>\n",
       "      <td>2</td>\n",
       "      <td>0.67900</td>\n",
       "      <td>0.266667</td>\n",
       "      <td>1.106742</td>\n",
       "      <td>0.67900</td>\n",
       "      <td>0.466667</td>\n",
       "      <td>2.5000</td>\n",
       "      <td>0</td>\n",
       "    </tr>\n",
       "    <tr>\n",
       "      <th>5</th>\n",
       "      <td>CINACALCET 60MG85261</td>\n",
       "      <td>0</td>\n",
       "      <td>1</td>\n",
       "      <td>2</td>\n",
       "      <td>2</td>\n",
       "      <td>2</td>\n",
       "      <td>2</td>\n",
       "      <td>0.54609</td>\n",
       "      <td>0.266667</td>\n",
       "      <td>0.769663</td>\n",
       "      <td>0.67900</td>\n",
       "      <td>0.933333</td>\n",
       "      <td>2.1070</td>\n",
       "      <td>0</td>\n",
       "    </tr>\n",
       "  </tbody>\n",
       "</table>\n",
       "</div>"
      ],
      "text/plain": [
       "             Identifier  DRL_Win_Flag  Form  Region   Tender_Type  Client  \\\n",
       "0  CINACALCET 30MG84724             0     1       3             1       2   \n",
       "1  CINACALCET 30MG85261             0     1       2             2       2   \n",
       "2  CINACALCET 30MG85386             1     1       3             2       1   \n",
       "4  CINACALCET 60MG84724             0     1       3             1       2   \n",
       "5  CINACALCET 60MG85261             0     1       2             2       2   \n",
       "\n",
       "   #Participant  Winning_Price  Proximity_Delivery  Tender_Duration  \\\n",
       "0             2        0.36800            0.266667         1.106742   \n",
       "1             2        0.41587            0.266667         0.769663   \n",
       "2             1        0.67860            0.533333         1.794944   \n",
       "4             2        0.67900            0.266667         1.106742   \n",
       "5             2        0.54609            0.266667         0.769663   \n",
       "\n",
       "   Previous_Winning_Price  #Months_G.E  DRL_Bid_price  Prv_Cat  \n",
       "0                 0.36800     0.466667         1.0000        0  \n",
       "1                 0.36800     0.933333         1.2144        0  \n",
       "2                 0.41587     1.100000         0.6786        0  \n",
       "4                 0.67900     0.466667         2.5000        0  \n",
       "5                 0.67900     0.933333         2.1070        0  "
      ]
     },
     "execution_count": 10,
     "metadata": {},
     "output_type": "execute_result"
    }
   ],
   "source": [
    "model_final = pd.read_excel(\"Model_Final_Data.xlsx\",engine=\"openpyxl\",index_col=\"Unnamed: 0\")\n",
    "model_final.head()"
   ]
  },
  {
   "cell_type": "markdown",
   "id": "eee08d52-802a-4453-9928-74679706339a",
   "metadata": {},
   "source": [
    "## Price Prediction"
   ]
  },
  {
   "cell_type": "markdown",
   "id": "622af3ec-9c79-44a2-9f4a-3393c5ab6e2d",
   "metadata": {},
   "source": [
    "### Gradient Boosting Regressor"
   ]
  },
  {
   "cell_type": "markdown",
   "id": "27d6aff1-47cd-42df-a0d3-03acec702638",
   "metadata": {},
   "source": [
    "#### Importing Libraries"
   ]
  },
  {
   "cell_type": "code",
   "execution_count": 6,
   "id": "abf5d160-7685-4abc-86e2-f0c08048d46d",
   "metadata": {},
   "outputs": [],
   "source": [
    "from sklearn.ensemble import GradientBoostingRegressor"
   ]
  },
  {
   "cell_type": "markdown",
   "id": "dbf56024-fa37-411d-9479-365e2e01cab5",
   "metadata": {},
   "source": [
    "#### Setting up the Variables"
   ]
  },
  {
   "cell_type": "code",
   "execution_count": 118,
   "id": "6c14b419-3883-4226-a8d2-4af14070851d",
   "metadata": {},
   "outputs": [],
   "source": [
    "X_cols = [\"Client\",' Tender_Type','Proximity_Delivery', '#Participant',\n",
    "       'Tender_Duration',\"Previous_Winning_Price\", '#Months_G.E']\n",
    "X = model_final[X_cols]\n",
    "Y = list(model_final[\"Winning_Price\"])"
   ]
  },
  {
   "cell_type": "markdown",
   "id": "aab51505-5bbc-4eec-b2fc-653d338b1994",
   "metadata": {},
   "source": [
    "### Checking up the Variance Inflation Score"
   ]
  },
  {
   "cell_type": "code",
   "execution_count": 119,
   "id": "c8592e33-6ed1-4b87-a9b9-0b3075886287",
   "metadata": {},
   "outputs": [
    {
     "data": {
      "text/html": [
       "<div>\n",
       "<style scoped>\n",
       "    .dataframe tbody tr th:only-of-type {\n",
       "        vertical-align: middle;\n",
       "    }\n",
       "\n",
       "    .dataframe tbody tr th {\n",
       "        vertical-align: top;\n",
       "    }\n",
       "\n",
       "    .dataframe thead th {\n",
       "        text-align: right;\n",
       "    }\n",
       "</style>\n",
       "<table border=\"1\" class=\"dataframe\">\n",
       "  <thead>\n",
       "    <tr style=\"text-align: right;\">\n",
       "      <th></th>\n",
       "      <th>Feature</th>\n",
       "      <th>VIF</th>\n",
       "    </tr>\n",
       "  </thead>\n",
       "  <tbody>\n",
       "    <tr>\n",
       "      <th>0</th>\n",
       "      <td>Client</td>\n",
       "      <td>12.958465</td>\n",
       "    </tr>\n",
       "    <tr>\n",
       "      <th>1</th>\n",
       "      <td>Tender_Type</td>\n",
       "      <td>10.313807</td>\n",
       "    </tr>\n",
       "    <tr>\n",
       "      <th>2</th>\n",
       "      <td>Proximity_Delivery</td>\n",
       "      <td>2.760251</td>\n",
       "    </tr>\n",
       "    <tr>\n",
       "      <th>3</th>\n",
       "      <td>#Participant</td>\n",
       "      <td>16.975320</td>\n",
       "    </tr>\n",
       "    <tr>\n",
       "      <th>4</th>\n",
       "      <td>Tender_Duration</td>\n",
       "      <td>9.341480</td>\n",
       "    </tr>\n",
       "    <tr>\n",
       "      <th>5</th>\n",
       "      <td>Previous_Winning_Price</td>\n",
       "      <td>1.619312</td>\n",
       "    </tr>\n",
       "    <tr>\n",
       "      <th>6</th>\n",
       "      <td>#Months_G.E</td>\n",
       "      <td>2.705417</td>\n",
       "    </tr>\n",
       "  </tbody>\n",
       "</table>\n",
       "</div>"
      ],
      "text/plain": [
       "                  Feature        VIF\n",
       "0                  Client  12.958465\n",
       "1             Tender_Type  10.313807\n",
       "2      Proximity_Delivery   2.760251\n",
       "3            #Participant  16.975320\n",
       "4         Tender_Duration   9.341480\n",
       "5  Previous_Winning_Price   1.619312\n",
       "6             #Months_G.E   2.705417"
      ]
     },
     "execution_count": 119,
     "metadata": {},
     "output_type": "execute_result"
    }
   ],
   "source": [
    "from statsmodels.stats.outliers_influence import variance_inflation_factor\n",
    "norm_X = X.apply(lambda iterator: ((iterator-iterator.mean())/iterator.std()).round(2))\n",
    "norm_X\n",
    "vif_data = pd.DataFrame()\n",
    "vif_data[\"Feature\"]=norm_X.columns\n",
    "vif_data[\"VIF\"] = [variance_inflation_factor(X.values , i) for i in range(len(norm_X.columns))]\n",
    "vif_data"
   ]
  },
  {
   "cell_type": "markdown",
   "id": "ec106c7d-b603-40fb-a0cd-91d6637ef6cc",
   "metadata": {},
   "source": [
    "#### Mean Absolute Percentage error formulation"
   ]
  },
  {
   "cell_type": "code",
   "execution_count": 120,
   "id": "5d79e4e4-6a3d-4400-b98c-53eff0e4cf32",
   "metadata": {},
   "outputs": [],
   "source": [
    "def mean_absolute_percentage_error(y_true, y_pred): \n",
    "    y_true, y_pred = np.array(y_true), np.array(y_pred)\n",
    "    return np.mean(np.abs((y_true - y_pred) / y_true)) * 100"
   ]
  },
  {
   "cell_type": "markdown",
   "id": "50445175-72b9-435f-81af-e971518d4d8c",
   "metadata": {},
   "source": [
    "#### Fitting"
   ]
  },
  {
   "cell_type": "code",
   "execution_count": 121,
   "id": "c9929be2-9082-4abb-93d0-dee4900ef1f1",
   "metadata": {},
   "outputs": [
    {
     "data": {
      "text/plain": [
       "9.973114128329641"
      ]
     },
     "execution_count": 121,
     "metadata": {},
     "output_type": "execute_result"
    }
   ],
   "source": [
    "grad_reg = GradientBoostingRegressor(random_state=0)\n",
    "grad_reg.fit(X,np.log(Y))\n",
    "mean_absolute_percentage_error(Y,np.exp(grad_reg.predict(X)))"
   ]
  },
  {
   "cell_type": "markdown",
   "id": "320059cb-e994-4fcc-a82e-e6eb34dad20b",
   "metadata": {},
   "source": [
    "### Fitting Visualisation"
   ]
  },
  {
   "cell_type": "code",
   "execution_count": 15,
   "id": "5b46f3dc-9ad7-43a1-b695-a23f415f252b",
   "metadata": {},
   "outputs": [
    {
     "data": {
      "text/plain": [
       "<AxesSubplot:xlabel='Winning_Price', ylabel='Density'>"
      ]
     },
     "execution_count": 15,
     "metadata": {},
     "output_type": "execute_result"
    },
    {
     "data": {
      "image/png": "[encoded data removed]",
      "text/plain": [
       "<Figure size 432x288 with 1 Axes>"
      ]
     },
     "metadata": {
      "needs_background": "light"
     },
     "output_type": "display_data"
    }
   ],
   "source": [
    "import seaborn as sns\n",
    "sns.kdeplot(list(np.exp(grad_reg.predict(X))))\n",
    "sns.kdeplot(model_final[\"Winning_Price\"])"
   ]
  },
  {
   "cell_type": "markdown",
   "id": "b67f5474-cc6e-4417-a5e5-b96415a29c51",
   "metadata": {},
   "source": [
    "### Interval Estimation"
   ]
  },
  {
   "cell_type": "code",
   "execution_count": 28,
   "id": "257fdf65-e6ef-4dd1-9bd2-11b2439dc675",
   "metadata": {},
   "outputs": [],
   "source": [
    "model_final[\"Predictions\"] = np.exp(grad_reg.predict(X))\n",
    "model_final[\"Deviation\"] = np.abs(model_final[\"Winning_Price\"]-model_final[\"Predictions\"])"
   ]
  },
  {
   "cell_type": "markdown",
   "id": "df9ee614-2676-433c-b08f-5a45592c72ae",
   "metadata": {},
   "source": [
    "### Getting the nearesr like Distribution"
   ]
  },
  {
   "cell_type": "code",
   "execution_count": 29,
   "id": "0fc6d7c9-3c46-4fba-886d-a9612d7d11b7",
   "metadata": {},
   "outputs": [
    {
     "data": {
      "text/html": [
       "<div>\n",
       "<style scoped>\n",
       "    .dataframe tbody tr th:only-of-type {\n",
       "        vertical-align: middle;\n",
       "    }\n",
       "\n",
       "    .dataframe tbody tr th {\n",
       "        vertical-align: top;\n",
       "    }\n",
       "\n",
       "    .dataframe thead th {\n",
       "        text-align: right;\n",
       "    }\n",
       "</style>\n",
       "<table border=\"1\" class=\"dataframe\">\n",
       "  <thead>\n",
       "    <tr style=\"text-align: right;\">\n",
       "      <th></th>\n",
       "      <th>sumsquare_error</th>\n",
       "      <th>aic</th>\n",
       "      <th>bic</th>\n",
       "      <th>kl_div</th>\n",
       "    </tr>\n",
       "  </thead>\n",
       "  <tbody>\n",
       "    <tr>\n",
       "      <th>lognorm</th>\n",
       "      <td>2.204835</td>\n",
       "      <td>816.067830</td>\n",
       "      <td>-712.624372</td>\n",
       "      <td>inf</td>\n",
       "    </tr>\n",
       "    <tr>\n",
       "      <th>gamma</th>\n",
       "      <td>4.251351</td>\n",
       "      <td>1050.125326</td>\n",
       "      <td>-602.318283</td>\n",
       "      <td>inf</td>\n",
       "    </tr>\n",
       "    <tr>\n",
       "      <th>norm</th>\n",
       "      <td>12.938359</td>\n",
       "      <td>859.929669</td>\n",
       "      <td>-420.465012</td>\n",
       "      <td>inf</td>\n",
       "    </tr>\n",
       "  </tbody>\n",
       "</table>\n",
       "</div>"
      ],
      "text/plain": [
       "         sumsquare_error          aic         bic  kl_div\n",
       "lognorm         2.204835   816.067830 -712.624372     inf\n",
       "gamma           4.251351  1050.125326 -602.318283     inf\n",
       "norm           12.938359   859.929669 -420.465012     inf"
      ]
     },
     "execution_count": 29,
     "metadata": {},
     "output_type": "execute_result"
    },
    {
     "data": {
      "image/png": "[encoded data removed]",
      "text/plain": [
       "<Figure size 432x288 with 1 Axes>"
      ]
     },
     "metadata": {
      "needs_background": "light"
     },
     "output_type": "display_data"
    }
   ],
   "source": [
    "from fitter import Fitter\n",
    "f = Fitter(model_final[\"Deviation\"],\n",
    "           distributions=['gamma',\n",
    "                         \"lognorm\",\n",
    "                         \"norm\"])\n",
    "f.fit()\n",
    "f.summary()"
   ]
  },
  {
   "cell_type": "markdown",
   "id": "176a5bb8-f5fd-4afa-afb9-445bbbeb410a",
   "metadata": {},
   "source": [
    "**Log Normal Distribution** fits the best thus we will fit the data on it and go for interval estimation."
   ]
  },
  {
   "cell_type": "code",
   "execution_count": 31,
   "id": "e6bfacb2-e1d6-4d3a-9931-97f69804b8f6",
   "metadata": {},
   "outputs": [],
   "source": [
    "from scipy.stats import lognorm"
   ]
  },
  {
   "cell_type": "code",
   "execution_count": 49,
   "id": "05a28369-a736-4448-840f-869e79468401",
   "metadata": {},
   "outputs": [],
   "source": [
    "def dist_std(df):\n",
    "    left_inter = 0.80\n",
    "    std1 = []\n",
    "    left1=[]\n",
    "    right1 = []\n",
    "    for i in (df[\"Prv_Cat\"]).unique():\n",
    "        prv_df = df[df[\"Prv_Cat\"]==i]\n",
    "        res = pd.Series(np.abs(prv_df[\"Winning_Price\"]-prv_df[\"Predictions\"]))\n",
    "        std1.append(np.std(res))\n",
    "        right = lognorm.interval((1-left_inter),lognorm.fit(res))/np.sqrt(len(prv_df))\n",
    "        left = lognorm.interval(left_inter,lognorm.fit(res))/np.sqrt(len(prv_df))\n",
    "        left1.append(left[0][0])\n",
    "        right1.append(right[0][0])\n",
    "        #sns.kdeplot(res)\n",
    "    return pd.DataFrame({\"Category\":(df[\"Prv_Cat\"]).unique(),\"Standard\":std1,\"Left\":left1,\"Right\":right1})"
   ]
  },
  {
   "cell_type": "code",
   "execution_count": 50,
   "id": "0d1dc261-b902-4467-abbf-25e41a25f754",
   "metadata": {},
   "outputs": [
    {
     "data": {
      "text/html": [
       "<div>\n",
       "<style scoped>\n",
       "    .dataframe tbody tr th:only-of-type {\n",
       "        vertical-align: middle;\n",
       "    }\n",
       "\n",
       "    .dataframe tbody tr th {\n",
       "        vertical-align: top;\n",
       "    }\n",
       "\n",
       "    .dataframe thead th {\n",
       "        text-align: right;\n",
       "    }\n",
       "</style>\n",
       "<table border=\"1\" class=\"dataframe\">\n",
       "  <thead>\n",
       "    <tr style=\"text-align: right;\">\n",
       "      <th></th>\n",
       "      <th>Category</th>\n",
       "      <th>Standard</th>\n",
       "      <th>Left</th>\n",
       "      <th>Right</th>\n",
       "    </tr>\n",
       "  </thead>\n",
       "  <tbody>\n",
       "    <tr>\n",
       "      <th>0</th>\n",
       "      <td>0</td>\n",
       "      <td>0.122222</td>\n",
       "      <td>0.024168</td>\n",
       "      <td>0.097428</td>\n",
       "    </tr>\n",
       "    <tr>\n",
       "      <th>1</th>\n",
       "      <td>1</td>\n",
       "      <td>2.150848</td>\n",
       "      <td>0.011577</td>\n",
       "      <td>0.066374</td>\n",
       "    </tr>\n",
       "    <tr>\n",
       "      <th>2</th>\n",
       "      <td>2</td>\n",
       "      <td>3.531955</td>\n",
       "      <td>0.097524</td>\n",
       "      <td>0.193723</td>\n",
       "    </tr>\n",
       "  </tbody>\n",
       "</table>\n",
       "</div>"
      ],
      "text/plain": [
       "   Category  Standard      Left     Right\n",
       "0         0  0.122222  0.024168  0.097428\n",
       "1         1  2.150848  0.011577  0.066374\n",
       "2         2  3.531955  0.097524  0.193723"
      ]
     },
     "execution_count": 50,
     "metadata": {},
     "output_type": "execute_result"
    }
   ],
   "source": [
    "cat_df = dist_std(model_final)\n",
    "cat_df"
   ]
  },
  {
   "cell_type": "code",
   "execution_count": 51,
   "id": "966a18ab-f4d2-4570-b5bf-a601db8b7f56",
   "metadata": {},
   "outputs": [],
   "source": [
    "upper = []\n",
    "lower = []\n",
    "for i in range(len(model_final)):\n",
    "    cat = model_final.iloc[i][\"Prv_Cat\"]\n",
    "    lower.append(model_final.iloc[i][\"Predictions\"]-6*cat_df[\"Left\"][cat]*cat_df[\"Standard\"][cat])\n",
    "    upper.append(model_final.iloc[i][\"Predictions\"]+8*cat_df[\"Right\"][cat]*cat_df[\"Standard\"][cat])"
   ]
  },
  {
   "cell_type": "code",
   "execution_count": 52,
   "id": "36499963-fce9-4adf-9056-c5477aa89aee",
   "metadata": {},
   "outputs": [
    {
     "data": {
      "text/html": [
       "<div>\n",
       "<style scoped>\n",
       "    .dataframe tbody tr th:only-of-type {\n",
       "        vertical-align: middle;\n",
       "    }\n",
       "\n",
       "    .dataframe tbody tr th {\n",
       "        vertical-align: top;\n",
       "    }\n",
       "\n",
       "    .dataframe thead th {\n",
       "        text-align: right;\n",
       "    }\n",
       "</style>\n",
       "<table border=\"1\" class=\"dataframe\">\n",
       "  <thead>\n",
       "    <tr style=\"text-align: right;\">\n",
       "      <th></th>\n",
       "      <th>Upper</th>\n",
       "      <th>Actual</th>\n",
       "      <th>Lower</th>\n",
       "    </tr>\n",
       "  </thead>\n",
       "  <tbody>\n",
       "    <tr>\n",
       "      <th>0</th>\n",
       "      <td>0.481977</td>\n",
       "      <td>0.36800</td>\n",
       "      <td>0.368992</td>\n",
       "    </tr>\n",
       "    <tr>\n",
       "      <th>1</th>\n",
       "      <td>0.490849</td>\n",
       "      <td>0.41587</td>\n",
       "      <td>0.377863</td>\n",
       "    </tr>\n",
       "    <tr>\n",
       "      <th>2</th>\n",
       "      <td>0.876039</td>\n",
       "      <td>0.67860</td>\n",
       "      <td>0.763054</td>\n",
       "    </tr>\n",
       "    <tr>\n",
       "      <th>3</th>\n",
       "      <td>0.708678</td>\n",
       "      <td>0.67900</td>\n",
       "      <td>0.595693</td>\n",
       "    </tr>\n",
       "    <tr>\n",
       "      <th>4</th>\n",
       "      <td>0.709889</td>\n",
       "      <td>0.54609</td>\n",
       "      <td>0.596903</td>\n",
       "    </tr>\n",
       "    <tr>\n",
       "      <th>...</th>\n",
       "      <td>...</td>\n",
       "      <td>...</td>\n",
       "      <td>...</td>\n",
       "    </tr>\n",
       "    <tr>\n",
       "      <th>163</th>\n",
       "      <td>10.775079</td>\n",
       "      <td>13.33334</td>\n",
       "      <td>9.483587</td>\n",
       "    </tr>\n",
       "    <tr>\n",
       "      <th>164</th>\n",
       "      <td>0.322434</td>\n",
       "      <td>0.26990</td>\n",
       "      <td>0.209449</td>\n",
       "    </tr>\n",
       "    <tr>\n",
       "      <th>165</th>\n",
       "      <td>0.357660</td>\n",
       "      <td>0.24550</td>\n",
       "      <td>0.244674</td>\n",
       "    </tr>\n",
       "    <tr>\n",
       "      <th>166</th>\n",
       "      <td>0.301117</td>\n",
       "      <td>0.18020</td>\n",
       "      <td>0.188131</td>\n",
       "    </tr>\n",
       "    <tr>\n",
       "      <th>167</th>\n",
       "      <td>0.359303</td>\n",
       "      <td>0.26558</td>\n",
       "      <td>0.246318</td>\n",
       "    </tr>\n",
       "  </tbody>\n",
       "</table>\n",
       "<p>168 rows × 3 columns</p>\n",
       "</div>"
      ],
      "text/plain": [
       "         Upper    Actual     Lower\n",
       "0     0.481977   0.36800  0.368992\n",
       "1     0.490849   0.41587  0.377863\n",
       "2     0.876039   0.67860  0.763054\n",
       "3     0.708678   0.67900  0.595693\n",
       "4     0.709889   0.54609  0.596903\n",
       "..         ...       ...       ...\n",
       "163  10.775079  13.33334  9.483587\n",
       "164   0.322434   0.26990  0.209449\n",
       "165   0.357660   0.24550  0.244674\n",
       "166   0.301117   0.18020  0.188131\n",
       "167   0.359303   0.26558  0.246318\n",
       "\n",
       "[168 rows x 3 columns]"
      ]
     },
     "execution_count": 52,
     "metadata": {},
     "output_type": "execute_result"
    }
   ],
   "source": [
    "pd.DataFrame({\"Upper\":upper,\"Actual\":list(model_final[\"Winning_Price\"]),\"Lower\":lower})"
   ]
  },
  {
   "cell_type": "code",
   "execution_count": 53,
   "id": "2af5a3e6-0171-4a00-96ec-d79ed6908576",
   "metadata": {},
   "outputs": [
    {
     "data": {
      "text/plain": [
       "Index(['Identifier', 'DRL_Win_Flag', 'Form', 'Region', ' Tender_Type',\n",
       "       'Client', '#Participant', 'Winning_Price', 'Proximity_Delivery',\n",
       "       'Tender_Duration', 'Previous_Winning_Price', '#Months_G.E',\n",
       "       'DRL_Bid_price', 'Prv_Cat', 'Predictions', 'Deviation'],\n",
       "      dtype='object')"
      ]
     },
     "execution_count": 53,
     "metadata": {},
     "output_type": "execute_result"
    }
   ],
   "source": [
    "model_final.columns"
   ]
  },
  {
   "cell_type": "markdown",
   "id": "4040ee55-bbe6-4af0-8941-c10ef6d4f7e5",
   "metadata": {},
   "source": [
    "### Correlation Plot"
   ]
  },
  {
   "cell_type": "code",
   "execution_count": 87,
   "id": "714a7184-f593-4ce0-85a1-efce06b004fb",
   "metadata": {},
   "outputs": [
    {
     "data": {
      "image/png": "[encoded data removed]",
      "text/plain": [
       "<Figure size 576x576 with 2 Axes>"
      ]
     },
     "metadata": {
      "needs_background": "light"
     },
     "output_type": "display_data"
    }
   ],
   "source": [
    "# import modules\n",
    "import matplotlib.pyplot as mp\n",
    "import pandas as pd\n",
    "import seaborn as sb\n",
    "  \n",
    "# import file with data\n",
    "data = model_final[[ ' Tender_Type',\n",
    "       'Client', '#Participant', 'Proximity_Delivery',\n",
    "       'Tender_Duration', 'Previous_Winning_Price', '#Months_G.E']]\n",
    "  \n",
    "# prints data that will be plotted\n",
    "# columns shown here are selected by corr() since\n",
    "# they are ideal for the plot\n",
    "#print(data.corr())\n",
    "  \n",
    "# plotting correlation heatmap\n",
    "plt.figure(figsize=(8,8)) \n",
    "dataplot = sb.heatmap(data.corr(), cmap=\"YlGnBu\", annot=True) \n",
    "# displaying heatmap\n",
    "mp.show()"
   ]
  },
  {
   "cell_type": "markdown",
   "id": "281ee172-b7fc-4d80-adfe-341fd556f404",
   "metadata": {},
   "source": [
    "### Logistic Regression"
   ]
  },
  {
   "cell_type": "code",
   "execution_count": 88,
   "id": "85aa5469-696d-409f-97ba-99c3181409dc",
   "metadata": {},
   "outputs": [],
   "source": [
    "X=model_final[[ ' Tender_Type',\n",
    "       'Client', '#Participant', 'Proximity_Delivery',\n",
    "       'Tender_Duration', 'Previous_Winning_Price', '#Months_G.E']]"
   ]
  },
  {
   "cell_type": "code",
   "execution_count": 89,
   "id": "2a0c8ea0-9090-446e-8d30-8985f8d41409",
   "metadata": {},
   "outputs": [],
   "source": [
    "Y2 = list(model_final[\"DRL_Win_Flag\"])"
   ]
  },
  {
   "cell_type": "code",
   "execution_count": 90,
   "id": "7840a63b-9394-4e7b-81a4-f2f1faa93f56",
   "metadata": {},
   "outputs": [],
   "source": [
    "from sklearn.linear_model import LogisticRegression"
   ]
  },
  {
   "cell_type": "code",
   "execution_count": 94,
   "id": "6da99d7d-25c1-4495-881f-ce919bcfaa64",
   "metadata": {},
   "outputs": [],
   "source": [
    "# calculate heuristic class weighting\n",
    "from sklearn.utils.class_weight import compute_class_weight\n",
    "from sklearn.datasets import make_classification\n",
    "# calculate class weighting\n",
    "#weighting = compute_class_weight('balanced', [0,1], Y2)\n",
    "#class_model = [0,1]\n",
    "#weight_hue = dict(zip(class_model,weighting))\n",
    "#print(weight_hue)\n",
    "log_reg = LogisticRegression(random_state=0)#,class_weight=weight_hue)\n",
    "log_reg.fit(X,Y2)\n",
    "log_preds = log_reg.predict_proba(X)"
   ]
  },
  {
   "cell_type": "code",
   "execution_count": 95,
   "id": "0f732b81-1d34-468b-95e6-a39e385f22b3",
   "metadata": {},
   "outputs": [],
   "source": [
    "win_prob_pred = []\n",
    "for i in log_preds:\n",
    "    win_prob_pred.append(i[1])\n",
    "model_final[\"log_Pred\"] = win_prob_pred"
   ]
  },
  {
   "cell_type": "code",
   "execution_count": 96,
   "id": "0476dc13-6e31-45d4-80ee-dbdf21e90800",
   "metadata": {},
   "outputs": [],
   "source": [
    "model_final.to_excel(\"Lognew_Preds3.xlsx\")"
   ]
  },
  {
   "cell_type": "code",
   "execution_count": 97,
   "id": "82720cb2-952e-49c8-9959-a732e5045b84",
   "metadata": {
    "collapsed": true,
    "jupyter": {
     "outputs_hidden": true
    },
    "tags": []
   },
   "outputs": [
    {
     "data": {
      "text/plain": [
       "[0.31878650974826356,\n",
       " 0.3508483105270144,\n",
       " 0.754335775111769,\n",
       " 0.3182955476589945,\n",
       " 0.35033336434044987,\n",
       " 0.7541602369929143,\n",
       " 0.14349120568535034,\n",
       " 0.3177592661139051,\n",
       " 0.3499853687442937,\n",
       " 0.7541147008261071,\n",
       " 0.14345545745033714,\n",
       " 0.10946415201180237,\n",
       " 0.32424996075296414,\n",
       " 0.1654542988352994,\n",
       " 0.22314212031362246,\n",
       " 0.20039434606464562,\n",
       " 0.3319849446516065,\n",
       " 0.11802423799959272,\n",
       " 0.15428990333766635,\n",
       " 0.10946415201180237,\n",
       " 0.32424996075296414,\n",
       " 0.1654542988352994,\n",
       " 0.22314212031362246,\n",
       " 0.20039434606464562,\n",
       " 0.3319849446516065,\n",
       " 0.11802423799959272,\n",
       " 0.15428990333766635,\n",
       " 0.1945631072411789,\n",
       " 0.1645699898331207,\n",
       " 0.21088692723927568,\n",
       " 0.19204333987375197,\n",
       " 0.21288324295232197,\n",
       " 0.20131031530665594,\n",
       " 0.2639664062490353,\n",
       " 0.5025587340239653,\n",
       " 0.10168310118339531,\n",
       " 0.1892174914702241,\n",
       " 0.2058801591235745,\n",
       " 0.196960709265329,\n",
       " 0.25842095519735275,\n",
       " 0.1441808942339238,\n",
       " 0.1427016809915216,\n",
       " 0.2695899396736612,\n",
       " 0.11162855082663309,\n",
       " 0.2587888040715629,\n",
       " 0.2741151565428894,\n",
       " 0.27051025010404195,\n",
       " 0.11144837946483291,\n",
       " 0.2584820255061708,\n",
       " 0.4377635262176451,\n",
       " 0.4751932712470416,\n",
       " 0.07437628851048295,\n",
       " 0.07713064341331925,\n",
       " 0.135762465135365,\n",
       " 0.2286988597635765,\n",
       " 0.3825842045345737,\n",
       " 0.35729187189957934,\n",
       " 0.5877074547272966,\n",
       " 0.13725073023310821,\n",
       " 0.5599391182663731,\n",
       " 0.2265945562671702,\n",
       " 0.22877265785123554,\n",
       " 0.13451738581589812,\n",
       " 0.45673652058017195,\n",
       " 0.07046879139933028,\n",
       " 0.07114340112750939,\n",
       " 0.12745335293938112,\n",
       " 0.22844239418031587,\n",
       " 0.3407705032552728,\n",
       " 0.5735435381554633,\n",
       " 0.12886411298546843,\n",
       " 0.5215802781216387,\n",
       " 0.21421482090241578,\n",
       " 0.22218805585708493,\n",
       " 0.12455832318877583,\n",
       " 0.11924201312446259,\n",
       " 0.09054699080543316,\n",
       " 0.09300931336962631,\n",
       " 0.15763097890590574,\n",
       " 0.08935101560709464,\n",
       " 0.25523508460112154,\n",
       " 0.08112534973508446,\n",
       " 0.2657011766765339,\n",
       " 0.12266905539371947,\n",
       " 0.2781026783788741,\n",
       " 0.28359686686209656,\n",
       " 0.16905429705933558,\n",
       " 0.3358780306768129,\n",
       " 0.11424252154844876,\n",
       " 0.1513901892565998,\n",
       " 0.29443111263331406,\n",
       " 0.30575510475245904,\n",
       " 0.09704149178062871,\n",
       " 0.10486556215608364,\n",
       " 0.12459456065069244,\n",
       " 0.10022087857513762,\n",
       " 0.5841911442896851,\n",
       " 0.2072871624173922,\n",
       " 0.46884559691668554,\n",
       " 0.1409376742950641,\n",
       " 0.08713724169782106,\n",
       " 0.21498437905083137,\n",
       " 0.7039747984620509,\n",
       " 0.13842306089020429,\n",
       " 0.7061647755755359,\n",
       " 0.6875257933812688,\n",
       " 0.1347217075888565,\n",
       " 0.18351180765359235,\n",
       " 0.08726510047596582,\n",
       " 0.5689588814147782,\n",
       " 0.18440168156042155,\n",
       " 0.45552350912358386,\n",
       " 0.134572348880442,\n",
       " 0.08317204496611506,\n",
       " 0.2222891018080126,\n",
       " 0.6963412901020286,\n",
       " 0.13453958088899445,\n",
       " 0.31280338481510345,\n",
       " 0.12973983572098838,\n",
       " 0.17764741675617676,\n",
       " 0.14448950467597166,\n",
       " 0.14468935927527118,\n",
       " 0.1366657484371624,\n",
       " 0.22229494856624388,\n",
       " 0.19707466010782465,\n",
       " 0.21812675479752303,\n",
       " 0.0927467553525005,\n",
       " 0.10652942699242289,\n",
       " 0.17493916795387068,\n",
       " 0.2067132256303107,\n",
       " 0.10461267325510219,\n",
       " 0.0908109475099288,\n",
       " 0.12469671107204414,\n",
       " 0.18293906271789442,\n",
       " 0.21025000572556105,\n",
       " 0.0912525975597623,\n",
       " 0.09578245915525853,\n",
       " 0.18371282551908505,\n",
       " 0.6029727369022987,\n",
       " 0.24875848543698012,\n",
       " 0.14448950467597166,\n",
       " 0.14455353911614913,\n",
       " 0.13656355908974954,\n",
       " 0.1970514961370776,\n",
       " 0.21812675479752303,\n",
       " 0.09272228059833565,\n",
       " 0.10645330881706355,\n",
       " 0.18833114413054997,\n",
       " 0.17478061844988507,\n",
       " 0.26384726149638416,\n",
       " 0.10450305002280888,\n",
       " 0.5144405123259199,\n",
       " 0.22220720379381698,\n",
       " 0.0927230208745918,\n",
       " 0.2063517078776447,\n",
       " 0.13424806124543578,\n",
       " 0.27023818557677515,\n",
       " 0.23160477184982423,\n",
       " 0.09644603099910384,\n",
       " 0.20047681030767212,\n",
       " 0.15586770463843608,\n",
       " 0.09891722483069859,\n",
       " 0.20627527836230997,\n",
       " 0.252268864994648,\n",
       " 0.42049119727026196,\n",
       " 0.15105748731221327,\n",
       " 0.3393164073769876,\n",
       " 0.30796121022179135]"
      ]
     },
     "execution_count": 97,
     "metadata": {},
     "output_type": "execute_result"
    }
   ],
   "source": [
    "win_prob_pred"
   ]
  },
  {
   "cell_type": "code",
   "execution_count": 79,
   "id": "ddf294e0-87ae-4d12-8f15-99f5c4146cec",
   "metadata": {},
   "outputs": [
    {
     "data": {
      "text/plain": [
       "Index(['Identifier', 'DRL_Win_Flag', 'Form', 'Region', ' Tender_Type',\n",
       "       'Client', '#Participant', 'Winning_Price', 'Proximity_Delivery',\n",
       "       'Tender_Duration', 'Previous_Winning_Price', '#Months_G.E',\n",
       "       'DRL_Bid_price', 'Prv_Cat', 'Predictions', 'Deviation', 'log_Pred'],\n",
       "      dtype='object')"
      ]
     },
     "execution_count": 79,
     "metadata": {},
     "output_type": "execute_result"
    }
   ],
   "source": [
    "model_final.columns"
   ]
  },
  {
   "cell_type": "code",
   "execution_count": 85,
   "id": "a33e1de5-f92a-48e7-8bc6-23b7dddfc0a0",
   "metadata": {},
   "outputs": [],
   "source": [
    "Client = pd.get_dummies(model_final[\"Client\"])\n",
    "Participant=pd.get_dummies(model_final[\"#Participant\"])\n",
    "Tender=pd.get_dummies(model_final[\" Tender_Type\"])"
   ]
  },
  {
   "cell_type": "code",
   "execution_count": 102,
   "id": "10097e78-352d-4861-b145-40706531b2d8",
   "metadata": {},
   "outputs": [],
   "source": [
    "Client.columns = [\"Top 10\", \"Bottom Left\"]\n",
    "Participant.columns = [\"Low Competition\",\"High Competition\"]\n",
    "Tender.columns = [\"Regional\",\"Others\"]"
   ]
  },
  {
   "cell_type": "code",
   "execution_count": 109,
   "id": "63262f7c-1a17-4cf1-8560-58e9ddf2c636",
   "metadata": {},
   "outputs": [],
   "source": [
    "log_X = pd.concat([Client,Participant,Tender,model_final[['Proximity_Delivery',\n",
    "       'Tender_Duration',\"Previous_Winning_Price\", '#Months_G.E']]],axis=1)"
   ]
  },
  {
   "cell_type": "code",
   "execution_count": 108,
   "id": "ed550394-8951-47c9-8148-be721575052c",
   "metadata": {},
   "outputs": [],
   "source": [
    "log_Y = list(model_final[\"DRL_Win_Flag\"])"
   ]
  },
  {
   "cell_type": "code",
   "execution_count": 127,
   "id": "bc18ad84-37b8-4256-89d3-777196940711",
   "metadata": {},
   "outputs": [
    {
     "data": {
      "text/html": [
       "<div>\n",
       "<style scoped>\n",
       "    .dataframe tbody tr th:only-of-type {\n",
       "        vertical-align: middle;\n",
       "    }\n",
       "\n",
       "    .dataframe tbody tr th {\n",
       "        vertical-align: top;\n",
       "    }\n",
       "\n",
       "    .dataframe thead th {\n",
       "        text-align: right;\n",
       "    }\n",
       "</style>\n",
       "<table border=\"1\" class=\"dataframe\">\n",
       "  <thead>\n",
       "    <tr style=\"text-align: right;\">\n",
       "      <th></th>\n",
       "      <th>Top 10</th>\n",
       "      <th>Bottom Left</th>\n",
       "      <th>Low Competition</th>\n",
       "      <th>High Competition</th>\n",
       "      <th>Regional</th>\n",
       "      <th>Others</th>\n",
       "      <th>Proximity_Delivery</th>\n",
       "      <th>Tender_Duration</th>\n",
       "      <th>Previous_Winning_Price</th>\n",
       "      <th>#Months_G.E</th>\n",
       "    </tr>\n",
       "  </thead>\n",
       "  <tbody>\n",
       "    <tr>\n",
       "      <th>0</th>\n",
       "      <td>0</td>\n",
       "      <td>1</td>\n",
       "      <td>0</td>\n",
       "      <td>1</td>\n",
       "      <td>1</td>\n",
       "      <td>0</td>\n",
       "      <td>0.266667</td>\n",
       "      <td>1.106742</td>\n",
       "      <td>0.36800</td>\n",
       "      <td>0.466667</td>\n",
       "    </tr>\n",
       "    <tr>\n",
       "      <th>1</th>\n",
       "      <td>0</td>\n",
       "      <td>1</td>\n",
       "      <td>0</td>\n",
       "      <td>1</td>\n",
       "      <td>0</td>\n",
       "      <td>1</td>\n",
       "      <td>0.266667</td>\n",
       "      <td>0.769663</td>\n",
       "      <td>0.36800</td>\n",
       "      <td>0.933333</td>\n",
       "    </tr>\n",
       "    <tr>\n",
       "      <th>2</th>\n",
       "      <td>1</td>\n",
       "      <td>0</td>\n",
       "      <td>1</td>\n",
       "      <td>0</td>\n",
       "      <td>0</td>\n",
       "      <td>1</td>\n",
       "      <td>0.533333</td>\n",
       "      <td>1.794944</td>\n",
       "      <td>0.41587</td>\n",
       "      <td>1.100000</td>\n",
       "    </tr>\n",
       "    <tr>\n",
       "      <th>4</th>\n",
       "      <td>0</td>\n",
       "      <td>1</td>\n",
       "      <td>0</td>\n",
       "      <td>1</td>\n",
       "      <td>1</td>\n",
       "      <td>0</td>\n",
       "      <td>0.266667</td>\n",
       "      <td>1.106742</td>\n",
       "      <td>0.67900</td>\n",
       "      <td>0.466667</td>\n",
       "    </tr>\n",
       "    <tr>\n",
       "      <th>5</th>\n",
       "      <td>0</td>\n",
       "      <td>1</td>\n",
       "      <td>0</td>\n",
       "      <td>1</td>\n",
       "      <td>0</td>\n",
       "      <td>1</td>\n",
       "      <td>0.266667</td>\n",
       "      <td>0.769663</td>\n",
       "      <td>0.67900</td>\n",
       "      <td>0.933333</td>\n",
       "    </tr>\n",
       "    <tr>\n",
       "      <th>...</th>\n",
       "      <td>...</td>\n",
       "      <td>...</td>\n",
       "      <td>...</td>\n",
       "      <td>...</td>\n",
       "      <td>...</td>\n",
       "      <td>...</td>\n",
       "      <td>...</td>\n",
       "      <td>...</td>\n",
       "      <td>...</td>\n",
       "      <td>...</td>\n",
       "    </tr>\n",
       "    <tr>\n",
       "      <th>177</th>\n",
       "      <td>0</td>\n",
       "      <td>1</td>\n",
       "      <td>0</td>\n",
       "      <td>1</td>\n",
       "      <td>1</td>\n",
       "      <td>0</td>\n",
       "      <td>9.733333</td>\n",
       "      <td>3.073034</td>\n",
       "      <td>12.50000</td>\n",
       "      <td>24.366667</td>\n",
       "    </tr>\n",
       "    <tr>\n",
       "      <th>178</th>\n",
       "      <td>0</td>\n",
       "      <td>1</td>\n",
       "      <td>1</td>\n",
       "      <td>0</td>\n",
       "      <td>0</td>\n",
       "      <td>1</td>\n",
       "      <td>2.333333</td>\n",
       "      <td>4.101124</td>\n",
       "      <td>0.22850</td>\n",
       "      <td>29.466667</td>\n",
       "    </tr>\n",
       "    <tr>\n",
       "      <th>179</th>\n",
       "      <td>0</td>\n",
       "      <td>1</td>\n",
       "      <td>0</td>\n",
       "      <td>1</td>\n",
       "      <td>1</td>\n",
       "      <td>0</td>\n",
       "      <td>1.833333</td>\n",
       "      <td>3.075843</td>\n",
       "      <td>0.23497</td>\n",
       "      <td>43.766667</td>\n",
       "    </tr>\n",
       "    <tr>\n",
       "      <th>180</th>\n",
       "      <td>0</td>\n",
       "      <td>1</td>\n",
       "      <td>0</td>\n",
       "      <td>1</td>\n",
       "      <td>1</td>\n",
       "      <td>0</td>\n",
       "      <td>4.033333</td>\n",
       "      <td>1.264045</td>\n",
       "      <td>0.24550</td>\n",
       "      <td>44.333333</td>\n",
       "    </tr>\n",
       "    <tr>\n",
       "      <th>181</th>\n",
       "      <td>1</td>\n",
       "      <td>0</td>\n",
       "      <td>0</td>\n",
       "      <td>1</td>\n",
       "      <td>1</td>\n",
       "      <td>0</td>\n",
       "      <td>2.333333</td>\n",
       "      <td>2.047753</td>\n",
       "      <td>0.18020</td>\n",
       "      <td>45.600000</td>\n",
       "    </tr>\n",
       "  </tbody>\n",
       "</table>\n",
       "<p>168 rows × 10 columns</p>\n",
       "</div>"
      ],
      "text/plain": [
       "     Top 10  Bottom Left  Low Competition  High Competition  Regional  Others  \\\n",
       "0         0            1                0                 1         1       0   \n",
       "1         0            1                0                 1         0       1   \n",
       "2         1            0                1                 0         0       1   \n",
       "4         0            1                0                 1         1       0   \n",
       "5         0            1                0                 1         0       1   \n",
       "..      ...          ...              ...               ...       ...     ...   \n",
       "177       0            1                0                 1         1       0   \n",
       "178       0            1                1                 0         0       1   \n",
       "179       0            1                0                 1         1       0   \n",
       "180       0            1                0                 1         1       0   \n",
       "181       1            0                0                 1         1       0   \n",
       "\n",
       "     Proximity_Delivery  Tender_Duration  Previous_Winning_Price  #Months_G.E  \n",
       "0              0.266667         1.106742                 0.36800     0.466667  \n",
       "1              0.266667         0.769663                 0.36800     0.933333  \n",
       "2              0.533333         1.794944                 0.41587     1.100000  \n",
       "4              0.266667         1.106742                 0.67900     0.466667  \n",
       "5              0.266667         0.769663                 0.67900     0.933333  \n",
       "..                  ...              ...                     ...          ...  \n",
       "177            9.733333         3.073034                12.50000    24.366667  \n",
       "178            2.333333         4.101124                 0.22850    29.466667  \n",
       "179            1.833333         3.075843                 0.23497    43.766667  \n",
       "180            4.033333         1.264045                 0.24550    44.333333  \n",
       "181            2.333333         2.047753                 0.18020    45.600000  \n",
       "\n",
       "[168 rows x 10 columns]"
      ]
     },
     "execution_count": 127,
     "metadata": {},
     "output_type": "execute_result"
    }
   ],
   "source": [
    "log_X"
   ]
  },
  {
   "cell_type": "code",
   "execution_count": 132,
   "id": "affb59a7-7782-42b3-b852-3dae4bf9d181",
   "metadata": {},
   "outputs": [
    {
     "name": "stderr",
     "output_type": "stream",
     "text": [
      "C:\\ProgramData\\Anaconda3\\lib\\site-packages\\sklearn\\linear_model\\_logistic.py:763: ConvergenceWarning: lbfgs failed to converge (status=1):\n",
      "STOP: TOTAL NO. of ITERATIONS REACHED LIMIT.\n",
      "\n",
      "Increase the number of iterations (max_iter) or scale the data as shown in:\n",
      "    https://scikit-learn.org/stable/modules/preprocessing.html\n",
      "Please also refer to the documentation for alternative solver options:\n",
      "    https://scikit-learn.org/stable/modules/linear_model.html#logistic-regression\n",
      "  n_iter_i = _check_optimize_result(\n"
     ]
    },
    {
     "data": {
      "text/plain": [
       "array([[ 0.2097457 , -0.2012764 ,  1.0285586 , -1.02008929,  0.02577962,\n",
       "        -0.01731032,  0.09008254, -0.49315123, -0.00800608, -0.004028  ]])"
      ]
     },
     "execution_count": 132,
     "metadata": {},
     "output_type": "execute_result"
    }
   ],
   "source": [
    "log_reg1 = LogisticRegression(random_state=0)#,class_weight=weight_hue)\n",
    "log_reg1.fit(log_X,log_Y)\n",
    "log_reg1.coef_\n",
    "#log_reg1.intercept_"
   ]
  },
  {
   "cell_type": "code",
   "execution_count": 126,
   "id": "a0c1cc8e-d1aa-430c-bdf1-d8949f85fd28",
   "metadata": {},
   "outputs": [
    {
     "data": {
      "text/plain": [
       "Index(['Top 10', 'Bottom Left', 'Low Competition', 'High Competition',\n",
       "       'Regional', 'Others', 'Proximity_Delivery', 'Tender_Duration',\n",
       "       'Previous_Winning_Price', '#Months_G.E'],\n",
       "      dtype='object')"
      ]
     },
     "execution_count": 126,
     "metadata": {},
     "output_type": "execute_result"
    }
   ],
   "source": [
    "log_X.columns"
   ]
  },
  {
   "cell_type": "code",
   "execution_count": 124,
   "id": "d1e60465-8707-4568-b2ae-2a34053805ce",
   "metadata": {},
   "outputs": [
    {
     "data": {
      "text/html": [
       "<div>\n",
       "<style scoped>\n",
       "    .dataframe tbody tr th:only-of-type {\n",
       "        vertical-align: middle;\n",
       "    }\n",
       "\n",
       "    .dataframe tbody tr th {\n",
       "        vertical-align: top;\n",
       "    }\n",
       "\n",
       "    .dataframe thead th {\n",
       "        text-align: right;\n",
       "    }\n",
       "</style>\n",
       "<table border=\"1\" class=\"dataframe\">\n",
       "  <thead>\n",
       "    <tr style=\"text-align: right;\">\n",
       "      <th></th>\n",
       "      <th>Features</th>\n",
       "      <th>Coefficients</th>\n",
       "    </tr>\n",
       "  </thead>\n",
       "  <tbody>\n",
       "    <tr>\n",
       "      <th>0</th>\n",
       "      <td>Top 10</td>\n",
       "      <td>0.209746</td>\n",
       "    </tr>\n",
       "    <tr>\n",
       "      <th>1</th>\n",
       "      <td>Bottom Left</td>\n",
       "      <td>-0.201276</td>\n",
       "    </tr>\n",
       "    <tr>\n",
       "      <th>2</th>\n",
       "      <td>Low Competition</td>\n",
       "      <td>1.028559</td>\n",
       "    </tr>\n",
       "    <tr>\n",
       "      <th>3</th>\n",
       "      <td>High Competition</td>\n",
       "      <td>-1.020089</td>\n",
       "    </tr>\n",
       "    <tr>\n",
       "      <th>4</th>\n",
       "      <td>Regional</td>\n",
       "      <td>0.025780</td>\n",
       "    </tr>\n",
       "    <tr>\n",
       "      <th>5</th>\n",
       "      <td>Others</td>\n",
       "      <td>-0.017310</td>\n",
       "    </tr>\n",
       "    <tr>\n",
       "      <th>6</th>\n",
       "      <td>Proximity_Delivery</td>\n",
       "      <td>0.090083</td>\n",
       "    </tr>\n",
       "    <tr>\n",
       "      <th>7</th>\n",
       "      <td>Tender_Duration</td>\n",
       "      <td>-0.493151</td>\n",
       "    </tr>\n",
       "    <tr>\n",
       "      <th>8</th>\n",
       "      <td>Previous_Winning_Price</td>\n",
       "      <td>-0.008006</td>\n",
       "    </tr>\n",
       "    <tr>\n",
       "      <th>9</th>\n",
       "      <td>#Months_G.E</td>\n",
       "      <td>-0.004028</td>\n",
       "    </tr>\n",
       "  </tbody>\n",
       "</table>\n",
       "</div>"
      ],
      "text/plain": [
       "                 Features  Coefficients\n",
       "0                  Top 10      0.209746\n",
       "1             Bottom Left     -0.201276\n",
       "2         Low Competition      1.028559\n",
       "3        High Competition     -1.020089\n",
       "4                Regional      0.025780\n",
       "5                  Others     -0.017310\n",
       "6      Proximity_Delivery      0.090083\n",
       "7         Tender_Duration     -0.493151\n",
       "8  Previous_Winning_Price     -0.008006\n",
       "9             #Months_G.E     -0.004028"
      ]
     },
     "execution_count": 124,
     "metadata": {},
     "output_type": "execute_result"
    }
   ],
   "source": [
    "log_df = pd.DataFrame({\"Features\":log_X.columns,\"Coefficients\":(log_reg1.coef_)[0]})\n",
    "log_df"
   ]
  },
  {
   "cell_type": "code",
   "execution_count": 115,
   "id": "1a52b5cf-96b2-4ca8-9f04-5f3fe9b64d69",
   "metadata": {},
   "outputs": [],
   "source": [
    "log_df.to_excel(\"LogisticCoefficient.xlsx\")"
   ]
  },
  {
   "cell_type": "code",
   "execution_count": 122,
   "id": "ee5656e3-b636-44bd-a2e5-3b412489a5d7",
   "metadata": {},
   "outputs": [
    {
     "data": {
      "text/plain": [
       "array([9.21308826e-05, 3.31785860e-04, 6.51870314e-03, 7.77763428e-03,\n",
       "       1.11097872e-02, 9.65486660e-01, 8.68329851e-03])"
      ]
     },
     "execution_count": 122,
     "metadata": {},
     "output_type": "execute_result"
    }
   ],
   "source": [
    "grad_reg.feature_importances_"
   ]
  },
  {
   "cell_type": "code",
   "execution_count": 123,
   "id": "78684695-5690-44e8-8630-a28c2d0d3471",
   "metadata": {},
   "outputs": [
    {
     "data": {
      "text/plain": [
       "Index(['Client', ' Tender_Type', 'Proximity_Delivery', '#Participant',\n",
       "       'Tender_Duration', 'Previous_Winning_Price', '#Months_G.E'],\n",
       "      dtype='object')"
      ]
     },
     "execution_count": 123,
     "metadata": {},
     "output_type": "execute_result"
    }
   ],
   "source": [
    "X.columns"
   ]
  },
  {
   "cell_type": "code",
   "execution_count": 129,
   "id": "f09dc975-2878-4264-9f7e-a9bd5b11f1f1",
   "metadata": {},
   "outputs": [
    {
     "data": {
      "text/plain": [
       "array([[-0.01764674, -0.3825706 , -1.82973892,  0.08384593, -0.48433114,\n",
       "        -0.00727248, -0.00336272]])"
      ]
     },
     "execution_count": 129,
     "metadata": {},
     "output_type": "execute_result"
    }
   ],
   "source": [
    "log_reg.coef_"
   ]
  },
  {
   "cell_type": "code",
   "execution_count": 130,
   "id": "8937d8ec-f76c-4853-8dc2-fa1541e0afc0",
   "metadata": {},
   "outputs": [
    {
     "data": {
      "text/plain": [
       "Index(['Client', ' Tender_Type', 'Proximity_Delivery', '#Participant',\n",
       "       'Tender_Duration', 'Previous_Winning_Price', '#Months_G.E'],\n",
       "      dtype='object')"
      ]
     },
     "execution_count": 130,
     "metadata": {},
     "output_type": "execute_result"
    }
   ],
   "source": [
    "X.columns"
   ]
  },
  {
   "cell_type": "code",
   "execution_count": null,
   "id": "246bf2d3-7b18-4561-87d7-93e7d9bff658",
   "metadata": {},
   "outputs": [],
   "source": []
  }
 ],
 "metadata": {
  "kernelspec": {
   "display_name": "Python 3 (ipykernel)",
   "language": "python",
   "name": "python3"
  },
  "language_info": {
   "codemirror_mode": {
    "name": "ipython",
    "version": 3
   },
   "file_extension": ".py",
   "mimetype": "text/x-python",
   "name": "python",
   "nbconvert_exporter": "python",
   "pygments_lexer": "ipython3",
   "version": "3.9.12"
  }
 },
 "nbformat": 4,
 "nbformat_minor": 5
}
