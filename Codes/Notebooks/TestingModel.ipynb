{
 "cells": [
  {
   "cell_type": "code",
   "execution_count": 1,
   "id": "743c5c88-e812-491e-9a65-f6dceae94a6a",
   "metadata": {},
   "outputs": [],
   "source": [
    "import pandas as pd\n",
    "import numpy as np\n",
    "import plotly.express as px\n",
    "import os\n",
    "import glob\n",
    "import warnings\n",
    "warnings.filterwarnings('ignore')"
   ]
  },
  {
   "cell_type": "code",
   "execution_count": 2,
   "id": "7d98d780-2c63-4f8e-a674-1c8febcefffa",
   "metadata": {},
   "outputs": [],
   "source": [
    "import numpy as np\n",
    "import matplotlib.pyplot as plt\n",
    "from sklearn import svm"
   ]
  },
  {
   "cell_type": "code",
   "execution_count": 3,
   "id": "f3ec646e-06ae-449d-8dba-888695f0fb5d",
   "metadata": {},
   "outputs": [],
   "source": [
    "import DataHandling as dh"
   ]
  },
  {
   "cell_type": "code",
   "execution_count": 4,
   "id": "5f38dfab-7798-4045-afdb-accb2e4d3d27",
   "metadata": {},
   "outputs": [
    {
     "data": {
      "text/html": [
       "<div>\n",
       "<style scoped>\n",
       "    .dataframe tbody tr th:only-of-type {\n",
       "        vertical-align: middle;\n",
       "    }\n",
       "\n",
       "    .dataframe tbody tr th {\n",
       "        vertical-align: top;\n",
       "    }\n",
       "\n",
       "    .dataframe thead th {\n",
       "        text-align: right;\n",
       "    }\n",
       "</style>\n",
       "<table border=\"1\" class=\"dataframe\">\n",
       "  <thead>\n",
       "    <tr style=\"text-align: right;\">\n",
       "      <th></th>\n",
       "      <th>Product_Name</th>\n",
       "      <th>Form</th>\n",
       "      <th>Tender_Id</th>\n",
       "      <th>Tender_Type</th>\n",
       "      <th>Client</th>\n",
       "      <th>Region</th>\n",
       "      <th>Start_Date</th>\n",
       "      <th>End_Date</th>\n",
       "      <th>Tender_Submission_Date</th>\n",
       "      <th>Winner</th>\n",
       "      <th>...</th>\n",
       "      <th>AVAS PHARMACEUTICALS S.r.l._Win_status</th>\n",
       "      <th>Ethypharm Italy S.r.l_Win_status</th>\n",
       "      <th>Sanofi S.r.l._Win_status</th>\n",
       "      <th>Gilead Sciences S.r.l._Win_status</th>\n",
       "      <th>KRKA Farmaceutici Milano S.r.l._Win_status</th>\n",
       "      <th>Bayer S.p.A._Win_status</th>\n",
       "      <th>Proximity_Delivery</th>\n",
       "      <th>Start_End_Date_Diff</th>\n",
       "      <th>#Participant</th>\n",
       "      <th>#Months_G.E</th>\n",
       "    </tr>\n",
       "  </thead>\n",
       "  <tbody>\n",
       "    <tr>\n",
       "      <th>0</th>\n",
       "      <td>CINACALCET 30MG</td>\n",
       "      <td>OSD</td>\n",
       "      <td>50328</td>\n",
       "      <td>Area vasta</td>\n",
       "      <td>ASUR MARCHE</td>\n",
       "      <td>Marche</td>\n",
       "      <td>2015-06-01</td>\n",
       "      <td>2021-12-31</td>\n",
       "      <td>2015-03-23</td>\n",
       "      <td>Amgen S.r.l.</td>\n",
       "      <td>...</td>\n",
       "      <td>0</td>\n",
       "      <td>0</td>\n",
       "      <td>0</td>\n",
       "      <td>0</td>\n",
       "      <td>0</td>\n",
       "      <td>0</td>\n",
       "      <td>70</td>\n",
       "      <td>2405</td>\n",
       "      <td>1</td>\n",
       "      <td>0.0</td>\n",
       "    </tr>\n",
       "    <tr>\n",
       "      <th>1</th>\n",
       "      <td>CINACALCET 30MG</td>\n",
       "      <td>OSD</td>\n",
       "      <td>60914</td>\n",
       "      <td>Regionale</td>\n",
       "      <td>REGIONE SICILIANA - ASSESSORATO DELLA SALUTE</td>\n",
       "      <td>Sicilia</td>\n",
       "      <td>2017-06-05</td>\n",
       "      <td>2021-12-30</td>\n",
       "      <td>2016-11-21</td>\n",
       "      <td>Amgen S.r.l.</td>\n",
       "      <td>...</td>\n",
       "      <td>0</td>\n",
       "      <td>0</td>\n",
       "      <td>0</td>\n",
       "      <td>0</td>\n",
       "      <td>0</td>\n",
       "      <td>0</td>\n",
       "      <td>196</td>\n",
       "      <td>1669</td>\n",
       "      <td>1</td>\n",
       "      <td>0.0</td>\n",
       "    </tr>\n",
       "    <tr>\n",
       "      <th>2</th>\n",
       "      <td>CINACALCET 30MG</td>\n",
       "      <td>OSD</td>\n",
       "      <td>62643</td>\n",
       "      <td>Regionale</td>\n",
       "      <td>REGIONE TOSCANA</td>\n",
       "      <td>Toscana</td>\n",
       "      <td>2017-04-01</td>\n",
       "      <td>2021-06-30</td>\n",
       "      <td>2017-03-06</td>\n",
       "      <td>Amgen S.r.l.</td>\n",
       "      <td>...</td>\n",
       "      <td>0</td>\n",
       "      <td>0</td>\n",
       "      <td>0</td>\n",
       "      <td>0</td>\n",
       "      <td>0</td>\n",
       "      <td>0</td>\n",
       "      <td>26</td>\n",
       "      <td>1551</td>\n",
       "      <td>1</td>\n",
       "      <td>0.0</td>\n",
       "    </tr>\n",
       "    <tr>\n",
       "      <th>3</th>\n",
       "      <td>CINACALCET 30MG</td>\n",
       "      <td>OSD</td>\n",
       "      <td>62910</td>\n",
       "      <td>Regionale</td>\n",
       "      <td>SO.RE.SA. SpA</td>\n",
       "      <td>Campania</td>\n",
       "      <td>2017-06-05</td>\n",
       "      <td>2021-06-05</td>\n",
       "      <td>2017-04-20</td>\n",
       "      <td>Amgen S.r.l.</td>\n",
       "      <td>...</td>\n",
       "      <td>0</td>\n",
       "      <td>0</td>\n",
       "      <td>0</td>\n",
       "      <td>0</td>\n",
       "      <td>0</td>\n",
       "      <td>0</td>\n",
       "      <td>46</td>\n",
       "      <td>1461</td>\n",
       "      <td>1</td>\n",
       "      <td>0.0</td>\n",
       "    </tr>\n",
       "    <tr>\n",
       "      <th>4</th>\n",
       "      <td>CINACALCET 30MG</td>\n",
       "      <td>OSD</td>\n",
       "      <td>64692</td>\n",
       "      <td>Regionale</td>\n",
       "      <td>ENTE GESTIONE ACCENTRATA SERVIZI - CHIUSO VEDI...</td>\n",
       "      <td>Friuli Venezia Giulia</td>\n",
       "      <td>2018-01-24</td>\n",
       "      <td>2021-07-24</td>\n",
       "      <td>2017-06-28</td>\n",
       "      <td>Amgen S.r.l.</td>\n",
       "      <td>...</td>\n",
       "      <td>0</td>\n",
       "      <td>0</td>\n",
       "      <td>0</td>\n",
       "      <td>0</td>\n",
       "      <td>0</td>\n",
       "      <td>0</td>\n",
       "      <td>210</td>\n",
       "      <td>1277</td>\n",
       "      <td>1</td>\n",
       "      <td>0.0</td>\n",
       "    </tr>\n",
       "  </tbody>\n",
       "</table>\n",
       "<p>5 rows × 133 columns</p>\n",
       "</div>"
      ],
      "text/plain": [
       "      Product_Name Form  Tender_Id Tender_Type  \\\n",
       "0  CINACALCET 30MG  OSD      50328  Area vasta   \n",
       "1  CINACALCET 30MG  OSD      60914   Regionale   \n",
       "2  CINACALCET 30MG  OSD      62643   Regionale   \n",
       "3  CINACALCET 30MG  OSD      62910   Regionale   \n",
       "4  CINACALCET 30MG  OSD      64692   Regionale   \n",
       "\n",
       "                                              Client                 Region  \\\n",
       "0                                        ASUR MARCHE                 Marche   \n",
       "1       REGIONE SICILIANA - ASSESSORATO DELLA SALUTE                Sicilia   \n",
       "2                                    REGIONE TOSCANA                Toscana   \n",
       "3                                      SO.RE.SA. SpA               Campania   \n",
       "4  ENTE GESTIONE ACCENTRATA SERVIZI - CHIUSO VEDI...  Friuli Venezia Giulia   \n",
       "\n",
       "  Start_Date   End_Date Tender_Submission_Date        Winner  ...  \\\n",
       "0 2015-06-01 2021-12-31             2015-03-23  Amgen S.r.l.  ...   \n",
       "1 2017-06-05 2021-12-30             2016-11-21  Amgen S.r.l.  ...   \n",
       "2 2017-04-01 2021-06-30             2017-03-06  Amgen S.r.l.  ...   \n",
       "3 2017-06-05 2021-06-05             2017-04-20  Amgen S.r.l.  ...   \n",
       "4 2018-01-24 2021-07-24             2017-06-28  Amgen S.r.l.  ...   \n",
       "\n",
       "   AVAS PHARMACEUTICALS S.r.l._Win_status  Ethypharm Italy S.r.l_Win_status  \\\n",
       "0                                       0                                 0   \n",
       "1                                       0                                 0   \n",
       "2                                       0                                 0   \n",
       "3                                       0                                 0   \n",
       "4                                       0                                 0   \n",
       "\n",
       "   Sanofi S.r.l._Win_status  Gilead Sciences S.r.l._Win_status  \\\n",
       "0                         0                                  0   \n",
       "1                         0                                  0   \n",
       "2                         0                                  0   \n",
       "3                         0                                  0   \n",
       "4                         0                                  0   \n",
       "\n",
       "   KRKA Farmaceutici Milano S.r.l._Win_status  Bayer S.p.A._Win_status  \\\n",
       "0                                           0                        0   \n",
       "1                                           0                        0   \n",
       "2                                           0                        0   \n",
       "3                                           0                        0   \n",
       "4                                           0                        0   \n",
       "\n",
       "   Proximity_Delivery  Start_End_Date_Diff  #Participant  #Months_G.E  \n",
       "0                  70                 2405             1          0.0  \n",
       "1                 196                 1669             1          0.0  \n",
       "2                  26                 1551             1          0.0  \n",
       "3                  46                 1461             1          0.0  \n",
       "4                 210                 1277             1          0.0  \n",
       "\n",
       "[5 rows x 133 columns]"
      ]
     },
     "execution_count": 4,
     "metadata": {},
     "output_type": "execute_result"
    }
   ],
   "source": [
    "model_data = pd.read_excel(r\"Model_final.xlsx\",engine = \"openpyxl\").drop(columns = \"Unnamed: 0\")\n",
    "model_data.head()"
   ]
  },
  {
   "cell_type": "code",
   "execution_count": 5,
   "id": "6838a889-2b7c-427b-8b95-dd426908a8b2",
   "metadata": {},
   "outputs": [
    {
     "data": {
      "text/html": [
       "<div>\n",
       "<style scoped>\n",
       "    .dataframe tbody tr th:only-of-type {\n",
       "        vertical-align: middle;\n",
       "    }\n",
       "\n",
       "    .dataframe tbody tr th {\n",
       "        vertical-align: top;\n",
       "    }\n",
       "\n",
       "    .dataframe thead th {\n",
       "        text-align: right;\n",
       "    }\n",
       "</style>\n",
       "<table border=\"1\" class=\"dataframe\">\n",
       "  <thead>\n",
       "    <tr style=\"text-align: right;\">\n",
       "      <th></th>\n",
       "      <th>Product_Name</th>\n",
       "      <th>Form</th>\n",
       "      <th>Tender_Id</th>\n",
       "      <th>Tender_Type</th>\n",
       "      <th>Client</th>\n",
       "      <th>Region</th>\n",
       "      <th>Start_Date</th>\n",
       "      <th>End_Date</th>\n",
       "      <th>Tender_Submission_Date</th>\n",
       "      <th>Winner</th>\n",
       "      <th>...</th>\n",
       "      <th>Proximity_Delivery</th>\n",
       "      <th>Start_End_Date_Diff</th>\n",
       "      <th>#Participant</th>\n",
       "      <th>#Months_G.E</th>\n",
       "      <th>Participant_Club</th>\n",
       "      <th>Genric_Entry_Club</th>\n",
       "      <th>Proximity_Club</th>\n",
       "      <th>Client_Club</th>\n",
       "      <th>Tender_Duration_Club</th>\n",
       "      <th>Identifier</th>\n",
       "    </tr>\n",
       "  </thead>\n",
       "  <tbody>\n",
       "    <tr>\n",
       "      <th>0</th>\n",
       "      <td>CINACALCET 30MG</td>\n",
       "      <td>OSD</td>\n",
       "      <td>50328</td>\n",
       "      <td>Area vasta</td>\n",
       "      <td>ASUR MARCHE</td>\n",
       "      <td>Marche</td>\n",
       "      <td>2015-06-01</td>\n",
       "      <td>2021-12-31</td>\n",
       "      <td>2015-03-23</td>\n",
       "      <td>Amgen S.r.l.</td>\n",
       "      <td>...</td>\n",
       "      <td>70</td>\n",
       "      <td>2405</td>\n",
       "      <td>1</td>\n",
       "      <td>0.0</td>\n",
       "      <td>Low Competition</td>\n",
       "      <td>High</td>\n",
       "      <td>mid</td>\n",
       "      <td>Normal</td>\n",
       "      <td>Long</td>\n",
       "      <td>CINACALCET 30MG50328</td>\n",
       "    </tr>\n",
       "    <tr>\n",
       "      <th>1</th>\n",
       "      <td>CINACALCET 30MG</td>\n",
       "      <td>OSD</td>\n",
       "      <td>60914</td>\n",
       "      <td>Regionale</td>\n",
       "      <td>REGIONE SICILIANA - ASSESSORATO DELLA SALUTE</td>\n",
       "      <td>Sicilia</td>\n",
       "      <td>2017-06-05</td>\n",
       "      <td>2021-12-30</td>\n",
       "      <td>2016-11-21</td>\n",
       "      <td>Amgen S.r.l.</td>\n",
       "      <td>...</td>\n",
       "      <td>196</td>\n",
       "      <td>1669</td>\n",
       "      <td>1</td>\n",
       "      <td>0.0</td>\n",
       "      <td>Low Competition</td>\n",
       "      <td>High</td>\n",
       "      <td>mid</td>\n",
       "      <td>Top10</td>\n",
       "      <td>Long</td>\n",
       "      <td>CINACALCET 30MG60914</td>\n",
       "    </tr>\n",
       "    <tr>\n",
       "      <th>2</th>\n",
       "      <td>CINACALCET 30MG</td>\n",
       "      <td>OSD</td>\n",
       "      <td>62643</td>\n",
       "      <td>Regionale</td>\n",
       "      <td>REGIONE TOSCANA</td>\n",
       "      <td>Toscana</td>\n",
       "      <td>2017-04-01</td>\n",
       "      <td>2021-06-30</td>\n",
       "      <td>2017-03-06</td>\n",
       "      <td>Amgen S.r.l.</td>\n",
       "      <td>...</td>\n",
       "      <td>26</td>\n",
       "      <td>1551</td>\n",
       "      <td>1</td>\n",
       "      <td>0.0</td>\n",
       "      <td>Low Competition</td>\n",
       "      <td>High</td>\n",
       "      <td>low</td>\n",
       "      <td>Normal</td>\n",
       "      <td>Long</td>\n",
       "      <td>CINACALCET 30MG62643</td>\n",
       "    </tr>\n",
       "    <tr>\n",
       "      <th>3</th>\n",
       "      <td>CINACALCET 30MG</td>\n",
       "      <td>OSD</td>\n",
       "      <td>62910</td>\n",
       "      <td>Regionale</td>\n",
       "      <td>SO.RE.SA. SpA</td>\n",
       "      <td>Campania</td>\n",
       "      <td>2017-06-05</td>\n",
       "      <td>2021-06-05</td>\n",
       "      <td>2017-04-20</td>\n",
       "      <td>Amgen S.r.l.</td>\n",
       "      <td>...</td>\n",
       "      <td>46</td>\n",
       "      <td>1461</td>\n",
       "      <td>1</td>\n",
       "      <td>0.0</td>\n",
       "      <td>Low Competition</td>\n",
       "      <td>High</td>\n",
       "      <td>low</td>\n",
       "      <td>Top10</td>\n",
       "      <td>Long</td>\n",
       "      <td>CINACALCET 30MG62910</td>\n",
       "    </tr>\n",
       "    <tr>\n",
       "      <th>4</th>\n",
       "      <td>CINACALCET 30MG</td>\n",
       "      <td>OSD</td>\n",
       "      <td>64692</td>\n",
       "      <td>Regionale</td>\n",
       "      <td>ENTE GESTIONE ACCENTRATA SERVIZI - CHIUSO VEDI...</td>\n",
       "      <td>Friuli Venezia Giulia</td>\n",
       "      <td>2018-01-24</td>\n",
       "      <td>2021-07-24</td>\n",
       "      <td>2017-06-28</td>\n",
       "      <td>Amgen S.r.l.</td>\n",
       "      <td>...</td>\n",
       "      <td>210</td>\n",
       "      <td>1277</td>\n",
       "      <td>1</td>\n",
       "      <td>0.0</td>\n",
       "      <td>Low Competition</td>\n",
       "      <td>High</td>\n",
       "      <td>mid</td>\n",
       "      <td>Normal</td>\n",
       "      <td>Long</td>\n",
       "      <td>CINACALCET 30MG64692</td>\n",
       "    </tr>\n",
       "  </tbody>\n",
       "</table>\n",
       "<p>5 rows × 139 columns</p>\n",
       "</div>"
      ],
      "text/plain": [
       "      Product_Name Form  Tender_Id Tender_Type  \\\n",
       "0  CINACALCET 30MG  OSD      50328  Area vasta   \n",
       "1  CINACALCET 30MG  OSD      60914   Regionale   \n",
       "2  CINACALCET 30MG  OSD      62643   Regionale   \n",
       "3  CINACALCET 30MG  OSD      62910   Regionale   \n",
       "4  CINACALCET 30MG  OSD      64692   Regionale   \n",
       "\n",
       "                                              Client                 Region  \\\n",
       "0                                        ASUR MARCHE                 Marche   \n",
       "1       REGIONE SICILIANA - ASSESSORATO DELLA SALUTE                Sicilia   \n",
       "2                                    REGIONE TOSCANA                Toscana   \n",
       "3                                      SO.RE.SA. SpA               Campania   \n",
       "4  ENTE GESTIONE ACCENTRATA SERVIZI - CHIUSO VEDI...  Friuli Venezia Giulia   \n",
       "\n",
       "  Start_Date   End_Date Tender_Submission_Date        Winner  ...  \\\n",
       "0 2015-06-01 2021-12-31             2015-03-23  Amgen S.r.l.  ...   \n",
       "1 2017-06-05 2021-12-30             2016-11-21  Amgen S.r.l.  ...   \n",
       "2 2017-04-01 2021-06-30             2017-03-06  Amgen S.r.l.  ...   \n",
       "3 2017-06-05 2021-06-05             2017-04-20  Amgen S.r.l.  ...   \n",
       "4 2018-01-24 2021-07-24             2017-06-28  Amgen S.r.l.  ...   \n",
       "\n",
       "   Proximity_Delivery  Start_End_Date_Diff  #Participant  #Months_G.E  \\\n",
       "0                  70                 2405             1          0.0   \n",
       "1                 196                 1669             1          0.0   \n",
       "2                  26                 1551             1          0.0   \n",
       "3                  46                 1461             1          0.0   \n",
       "4                 210                 1277             1          0.0   \n",
       "\n",
       "   Participant_Club  Genric_Entry_Club  Proximity_Club  Client_Club  \\\n",
       "0   Low Competition               High             mid       Normal   \n",
       "1   Low Competition               High             mid        Top10   \n",
       "2   Low Competition               High             low       Normal   \n",
       "3   Low Competition               High             low        Top10   \n",
       "4   Low Competition               High             mid       Normal   \n",
       "\n",
       "   Tender_Duration_Club            Identifier  \n",
       "0                  Long  CINACALCET 30MG50328  \n",
       "1                  Long  CINACALCET 30MG60914  \n",
       "2                  Long  CINACALCET 30MG62643  \n",
       "3                  Long  CINACALCET 30MG62910  \n",
       "4                  Long  CINACALCET 30MG64692  \n",
       "\n",
       "[5 rows x 139 columns]"
      ]
     },
     "execution_count": 5,
     "metadata": {},
     "output_type": "execute_result"
    }
   ],
   "source": [
    "encode_model_data = dh.encoded_df(model_data)\n",
    "encode_model_data.head()"
   ]
  },
  {
   "cell_type": "code",
   "execution_count": 8,
   "id": "2ed18012-69dc-47ec-adb1-8b3f6660eec9",
   "metadata": {},
   "outputs": [
    {
     "data": {
      "text/plain": [
       "<AxesSubplot:xlabel='Winning_Price', ylabel='Density'>"
      ]
     },
     "execution_count": 8,
     "metadata": {},
     "output_type": "execute_result"
    },
    {
     "data": {
      "image/png": "[encoded data removed]",
      "text/plain": [
       "<Figure size 432x288 with 1 Axes>"
      ]
     },
     "metadata": {
      "needs_background": "light"
     },
     "output_type": "display_data"
    }
   ],
   "source": [
    "import seaborn as sns\n",
    "sns.kdeplot(encode_model_data[\"Winning_Price\"])"
   ]
  },
  {
   "cell_type": "code",
   "execution_count": 9,
   "id": "f2af59bd-05be-4482-92ae-f77a46fe1fc0",
   "metadata": {},
   "outputs": [
    {
     "data": {
      "text/plain": [
       "(842, 139)"
      ]
     },
     "execution_count": 9,
     "metadata": {},
     "output_type": "execute_result"
    }
   ],
   "source": [
    "encode_model_data.shape"
   ]
  },
  {
   "cell_type": "code",
   "execution_count": 10,
   "id": "c026b504-0a36-4f78-bd83-cdd83d5edee8",
   "metadata": {},
   "outputs": [],
   "source": [
    "import numpy as np\n",
    "from scipy import stats\n",
    "#encode_model_data[(np.abs(stats.zscore(encode_model_data)) < 3).all(axis=1)]"
   ]
  },
  {
   "cell_type": "code",
   "execution_count": 22,
   "id": "e02cc3cf-30ed-4537-9720-6821274c7de5",
   "metadata": {},
   "outputs": [],
   "source": [
    "#encode_model_data[(np.abs(stats.zscore(encode_model_data)) < 3).all(axis=1)].shape"
   ]
  },
  {
   "cell_type": "code",
   "execution_count": 7,
   "id": "a39f64fa-6222-4f61-828d-d0b8f2e5899c",
   "metadata": {},
   "outputs": [],
   "source": [
    "def price_data_processor(df,inclusion_exclusion = True,DRL_Participation=False,DRL_Win=False,visualize_numeric=False,price=\"Winner\"):\n",
    "    data = dh.encoded_df(df)\n",
    "    if DRL_Participation:\n",
    "        data = df[df[\"Dr Reddys S.r.l.Pr.Status\"]==1]\n",
    "    if DRL_Win:\n",
    "        data = df[df[\"Dr Reddys S.r.l._Win_status\"]==1]\n",
    "    if inclusion_exclusion:\n",
    "        data = data[(data[\"Proximity_Delivery\"]>0) &(data[\"#Months_G.E\"]>0)]\n",
    "    #data = data.dropna(subset=[\"Previous_Winning_Price\"])\n",
    "    data = data.fillna(0)\n",
    "    model_col = [\"Identifier\",\"Dr Reddys S.r.l._Win_status\",\"Form\",\"Region\",\"Tender_Type\",\"Client\",\"#Participant\",\"Winning_Price\",\n",
    "            \"Proximity_Delivery\",\"Start_End_Date_Diff\",\"Previous_Winning_Price\",\"#Months_G.E\",\"Dr Reddys S.r.l.\"]\n",
    "    data = data[model_col]\n",
    "    data[\"Region\"] = data[\"Region\"].apply(dh.data_processor_region)\n",
    "    data[\"Client\"] = data[\"Client\"].apply(dh.data_processor_client)\n",
    "    data[\"Tender_Type\"] = data[\"Tender_Type\"].apply(dh.data_processor_tender_type)\n",
    "    data[\"Form\"] = data[\"Form\"].apply(dh.data_processor_form)\n",
    "    data[\"#Participant\"] = data[\"#Participant\"]#.apply(dh.data_processor_participant)\n",
    "    data[\"Proximity_Delivery\"] = (data[\"Proximity_Delivery\"]/30)\n",
    "    data[\"Start_End_Date_Diff\"] = (data[\"Start_End_Date_Diff\"]/356)\n",
    "    data[\"#Months_G.E\"] = (data[\"#Months_G.E\"]/30) \n",
    "    data.columns=[\"Identifier\",\"DRL_Win_Flag\",\"Form\",\"Region\",\" Tender_Type\",\"Client\",\"#Participant\",\"Winning_Price\",\n",
    "            \"Proximity_Delivery\",\"Tender_Duration\",\"Previous_Winning_Price\",\"#Months_G.E\",\"DRL_Bid_price\"]\n",
    "    if visualize_numeric:\n",
    "        visualise_winprob(data)\n",
    "    print(data.shape)\n",
    "    return data"
   ]
  },
  {
   "cell_type": "code",
   "execution_count": 8,
   "id": "6ba049c5-9e5f-4dfa-97eb-fadcee9bdff6",
   "metadata": {},
   "outputs": [],
   "source": [
    "def previous_winning_price(df1):\n",
    "    df=df1\n",
    "    prod_names = df[\"Product_Name\"].unique()\n",
    "    df_w=pd.DataFrame()\n",
    "    for i in prod_names:\n",
    "        prod_df = df[df[\"Product_Name\"]==i]\n",
    "        winning_pr = list(prod_df[\"Winning_Price\"])\n",
    "        prev_win_pr = [np.nan]\n",
    "        for i in range(len(winning_pr)-1):\n",
    "            prev_win_pr.append(winning_pr[i])\n",
    "        prod_df[\"Previous_Winning_Price\"]=prev_win_pr\n",
    "        df_w = pd.concat([df_w,prod_df])\n",
    "    return df_w"
   ]
  },
  {
   "cell_type": "code",
   "execution_count": 9,
   "id": "50b512d2-d971-4682-a59a-751e63b68c49",
   "metadata": {},
   "outputs": [
    {
     "data": {
      "text/plain": [
       "(842, 140)"
      ]
     },
     "execution_count": 9,
     "metadata": {},
     "output_type": "execute_result"
    }
   ],
   "source": [
    "encode_model_data = dh.encoded_df(model_data)\n",
    "encode_model_data = previous_winning_price(encode_model_data)\n",
    "#encode_model_data.dropna(subset=[\"Previous_Winning_Price\"],inplace=True)\n",
    "encode_model_data.shape"
   ]
  },
  {
   "cell_type": "code",
   "execution_count": 10,
   "id": "0c5634be-a7f3-4c55-88dc-e14381735184",
   "metadata": {
    "tags": []
   },
   "outputs": [
    {
     "data": {
      "text/html": [
       "<div>\n",
       "<style scoped>\n",
       "    .dataframe tbody tr th:only-of-type {\n",
       "        vertical-align: middle;\n",
       "    }\n",
       "\n",
       "    .dataframe tbody tr th {\n",
       "        vertical-align: top;\n",
       "    }\n",
       "\n",
       "    .dataframe thead th {\n",
       "        text-align: right;\n",
       "    }\n",
       "</style>\n",
       "<table border=\"1\" class=\"dataframe\">\n",
       "  <thead>\n",
       "    <tr style=\"text-align: right;\">\n",
       "      <th></th>\n",
       "      <th>Product_Name</th>\n",
       "      <th>Form</th>\n",
       "      <th>Tender_Id</th>\n",
       "      <th>Tender_Type</th>\n",
       "      <th>Client</th>\n",
       "      <th>Region</th>\n",
       "      <th>Start_Date</th>\n",
       "      <th>End_Date</th>\n",
       "      <th>Tender_Submission_Date</th>\n",
       "      <th>Winner</th>\n",
       "      <th>...</th>\n",
       "      <th>#Participant</th>\n",
       "      <th>#Months_G.E</th>\n",
       "      <th>Participant_Club</th>\n",
       "      <th>Genric_Entry_Club</th>\n",
       "      <th>Proximity_Club</th>\n",
       "      <th>Client_Club</th>\n",
       "      <th>Tender_Duration_Club</th>\n",
       "      <th>Identifier</th>\n",
       "      <th>Previous_Winning_Price</th>\n",
       "      <th>Pct_drop</th>\n",
       "    </tr>\n",
       "  </thead>\n",
       "  <tbody>\n",
       "    <tr>\n",
       "      <th>3</th>\n",
       "      <td>CINACALCET 30MG</td>\n",
       "      <td>OSD</td>\n",
       "      <td>62910</td>\n",
       "      <td>Regionale</td>\n",
       "      <td>SO.RE.SA. SpA</td>\n",
       "      <td>Campania</td>\n",
       "      <td>2017-06-05</td>\n",
       "      <td>2021-06-05</td>\n",
       "      <td>2017-04-20</td>\n",
       "      <td>Amgen S.r.l.</td>\n",
       "      <td>...</td>\n",
       "      <td>1</td>\n",
       "      <td>0.0</td>\n",
       "      <td>Low Competition</td>\n",
       "      <td>High</td>\n",
       "      <td>low</td>\n",
       "      <td>Top10</td>\n",
       "      <td>Long</td>\n",
       "      <td>CINACALCET 30MG62910</td>\n",
       "      <td>5.86607</td>\n",
       "      <td>-0.050029</td>\n",
       "    </tr>\n",
       "    <tr>\n",
       "      <th>16</th>\n",
       "      <td>CINACALCET 30MG</td>\n",
       "      <td>OSD</td>\n",
       "      <td>82514</td>\n",
       "      <td>Multi regione</td>\n",
       "      <td>Società di Committenza Regione Piemonte SpA - ...</td>\n",
       "      <td>Piemonte</td>\n",
       "      <td>2020-04-29</td>\n",
       "      <td>2022-09-30</td>\n",
       "      <td>2020-04-10</td>\n",
       "      <td>Amgen S.r.l.</td>\n",
       "      <td>...</td>\n",
       "      <td>1</td>\n",
       "      <td>0.0</td>\n",
       "      <td>Low Competition</td>\n",
       "      <td>High</td>\n",
       "      <td>low</td>\n",
       "      <td>Top10</td>\n",
       "      <td>Short</td>\n",
       "      <td>CINACALCET 30MG82514</td>\n",
       "      <td>2.71036</td>\n",
       "      <td>-0.537960</td>\n",
       "    </tr>\n",
       "    <tr>\n",
       "      <th>17</th>\n",
       "      <td>CINACALCET 30MG</td>\n",
       "      <td>OSD</td>\n",
       "      <td>83908</td>\n",
       "      <td>Multi regione</td>\n",
       "      <td>REGIONE LAZIO</td>\n",
       "      <td>Lazio</td>\n",
       "      <td>2020-07-22</td>\n",
       "      <td>2023-07-21</td>\n",
       "      <td>2020-06-03</td>\n",
       "      <td>EG S.p.A.</td>\n",
       "      <td>...</td>\n",
       "      <td>3</td>\n",
       "      <td>0.0</td>\n",
       "      <td>High Competition</td>\n",
       "      <td>High</td>\n",
       "      <td>low</td>\n",
       "      <td>Top10</td>\n",
       "      <td>Short</td>\n",
       "      <td>CINACALCET 30MG83908</td>\n",
       "      <td>5.86607</td>\n",
       "      <td>1.164314</td>\n",
       "    </tr>\n",
       "    <tr>\n",
       "      <th>18</th>\n",
       "      <td>CINACALCET 30MG</td>\n",
       "      <td>OSD</td>\n",
       "      <td>84548</td>\n",
       "      <td>Regionale</td>\n",
       "      <td>SO.RE.SA. SpA</td>\n",
       "      <td>Campania</td>\n",
       "      <td>2020-07-07</td>\n",
       "      <td>2024-07-07</td>\n",
       "      <td>2020-06-10</td>\n",
       "      <td>EG S.p.A.</td>\n",
       "      <td>...</td>\n",
       "      <td>1</td>\n",
       "      <td>7.0</td>\n",
       "      <td>Low Competition</td>\n",
       "      <td>High</td>\n",
       "      <td>low</td>\n",
       "      <td>Top10</td>\n",
       "      <td>Long</td>\n",
       "      <td>CINACALCET 30MG84548</td>\n",
       "      <td>0.46800</td>\n",
       "      <td>-0.920219</td>\n",
       "    </tr>\n",
       "    <tr>\n",
       "      <th>19</th>\n",
       "      <td>CINACALCET 30MG</td>\n",
       "      <td>OSD</td>\n",
       "      <td>84724</td>\n",
       "      <td>Regionale</td>\n",
       "      <td>ARCS AZIENDA REGIONALE DI COORDINAMENTO PER LA...</td>\n",
       "      <td>Friuli Venezia Giulia</td>\n",
       "      <td>2020-06-25</td>\n",
       "      <td>2021-07-24</td>\n",
       "      <td>2020-06-17</td>\n",
       "      <td>EG S.p.A.</td>\n",
       "      <td>...</td>\n",
       "      <td>4</td>\n",
       "      <td>14.0</td>\n",
       "      <td>High Competition</td>\n",
       "      <td>High</td>\n",
       "      <td>low</td>\n",
       "      <td>Normal</td>\n",
       "      <td>Short</td>\n",
       "      <td>CINACALCET 30MG84724</td>\n",
       "      <td>0.36800</td>\n",
       "      <td>-0.213675</td>\n",
       "    </tr>\n",
       "    <tr>\n",
       "      <th>...</th>\n",
       "      <td>...</td>\n",
       "      <td>...</td>\n",
       "      <td>...</td>\n",
       "      <td>...</td>\n",
       "      <td>...</td>\n",
       "      <td>...</td>\n",
       "      <td>...</td>\n",
       "      <td>...</td>\n",
       "      <td>...</td>\n",
       "      <td>...</td>\n",
       "      <td>...</td>\n",
       "      <td>...</td>\n",
       "      <td>...</td>\n",
       "      <td>...</td>\n",
       "      <td>...</td>\n",
       "      <td>...</td>\n",
       "      <td>...</td>\n",
       "      <td>...</td>\n",
       "      <td>...</td>\n",
       "      <td>...</td>\n",
       "      <td>...</td>\n",
       "    </tr>\n",
       "    <tr>\n",
       "      <th>837</th>\n",
       "      <td>SORAFENIB 200MG</td>\n",
       "      <td>OSD</td>\n",
       "      <td>94460</td>\n",
       "      <td>Regionale</td>\n",
       "      <td>ASUR MARCHE</td>\n",
       "      <td>Marche</td>\n",
       "      <td>2022-01-01</td>\n",
       "      <td>2025-12-31</td>\n",
       "      <td>2021-09-28</td>\n",
       "      <td>EG S.p.A.</td>\n",
       "      <td>...</td>\n",
       "      <td>5</td>\n",
       "      <td>113.0</td>\n",
       "      <td>High Competition</td>\n",
       "      <td>High</td>\n",
       "      <td>mid</td>\n",
       "      <td>Normal</td>\n",
       "      <td>Long</td>\n",
       "      <td>SORAFENIB 200MG94460</td>\n",
       "      <td>1.57029</td>\n",
       "      <td>-0.915666</td>\n",
       "    </tr>\n",
       "    <tr>\n",
       "      <th>838</th>\n",
       "      <td>SORAFENIB 200MG</td>\n",
       "      <td>OSD</td>\n",
       "      <td>96297</td>\n",
       "      <td>Multi regione</td>\n",
       "      <td>Società di Committenza Regione Piemonte SpA - ...</td>\n",
       "      <td>Piemonte</td>\n",
       "      <td>2021-10-11</td>\n",
       "      <td>2022-09-30</td>\n",
       "      <td>2021-10-11</td>\n",
       "      <td>Medac Pharma S.r.l.</td>\n",
       "      <td>...</td>\n",
       "      <td>5</td>\n",
       "      <td>126.0</td>\n",
       "      <td>High Competition</td>\n",
       "      <td>High</td>\n",
       "      <td>low</td>\n",
       "      <td>Top10</td>\n",
       "      <td>Short</td>\n",
       "      <td>SORAFENIB 200MG96297</td>\n",
       "      <td>3.00000</td>\n",
       "      <td>0.910475</td>\n",
       "    </tr>\n",
       "    <tr>\n",
       "      <th>839</th>\n",
       "      <td>SORAFENIB 200MG</td>\n",
       "      <td>OSD</td>\n",
       "      <td>97396</td>\n",
       "      <td>Locale</td>\n",
       "      <td>IRCCS AOU SAN MARTINO</td>\n",
       "      <td>Liguria</td>\n",
       "      <td>2021-11-23</td>\n",
       "      <td>2023-05-30</td>\n",
       "      <td>2021-11-23</td>\n",
       "      <td>Mylan Italia Srl</td>\n",
       "      <td>...</td>\n",
       "      <td>5</td>\n",
       "      <td>169.0</td>\n",
       "      <td>High Competition</td>\n",
       "      <td>High</td>\n",
       "      <td>low</td>\n",
       "      <td>Normal</td>\n",
       "      <td>Short</td>\n",
       "      <td>SORAFENIB 200MG97396</td>\n",
       "      <td>0.83000</td>\n",
       "      <td>-0.723333</td>\n",
       "    </tr>\n",
       "    <tr>\n",
       "      <th>840</th>\n",
       "      <td>SORAFENIB 200MG</td>\n",
       "      <td>OSD</td>\n",
       "      <td>98102</td>\n",
       "      <td>Regionale</td>\n",
       "      <td>REGIONE SICILIANA - ASSESSORATO DELLA SALUTE</td>\n",
       "      <td>Sicilia</td>\n",
       "      <td>2021-12-21</td>\n",
       "      <td>2024-12-31</td>\n",
       "      <td>2021-12-21</td>\n",
       "      <td>Medac Pharma S.r.l.</td>\n",
       "      <td>...</td>\n",
       "      <td>7</td>\n",
       "      <td>197.0</td>\n",
       "      <td>High Competition</td>\n",
       "      <td>Mid</td>\n",
       "      <td>low</td>\n",
       "      <td>Top10</td>\n",
       "      <td>Long</td>\n",
       "      <td>SORAFENIB 200MG98102</td>\n",
       "      <td>1.10500</td>\n",
       "      <td>0.331325</td>\n",
       "    </tr>\n",
       "    <tr>\n",
       "      <th>841</th>\n",
       "      <td>SORAFENIB 200MG</td>\n",
       "      <td>OSD</td>\n",
       "      <td>98605</td>\n",
       "      <td>Multi regione</td>\n",
       "      <td>INTERCENT-ER</td>\n",
       "      <td>Emilia Romagna</td>\n",
       "      <td>2022-01-26</td>\n",
       "      <td>2025-01-31</td>\n",
       "      <td>2022-01-26</td>\n",
       "      <td>Teva Italia S.r.l.</td>\n",
       "      <td>...</td>\n",
       "      <td>5</td>\n",
       "      <td>233.0</td>\n",
       "      <td>High Competition</td>\n",
       "      <td>Mid</td>\n",
       "      <td>low</td>\n",
       "      <td>Top10</td>\n",
       "      <td>Long</td>\n",
       "      <td>SORAFENIB 200MG98605</td>\n",
       "      <td>0.54000</td>\n",
       "      <td>-0.511312</td>\n",
       "    </tr>\n",
       "  </tbody>\n",
       "</table>\n",
       "<p>542 rows × 141 columns</p>\n",
       "</div>"
      ],
      "text/plain": [
       "        Product_Name Form  Tender_Id    Tender_Type  \\\n",
       "3    CINACALCET 30MG  OSD      62910      Regionale   \n",
       "16   CINACALCET 30MG  OSD      82514  Multi regione   \n",
       "17   CINACALCET 30MG  OSD      83908  Multi regione   \n",
       "18   CINACALCET 30MG  OSD      84548      Regionale   \n",
       "19   CINACALCET 30MG  OSD      84724      Regionale   \n",
       "..               ...  ...        ...            ...   \n",
       "837  SORAFENIB 200MG  OSD      94460      Regionale   \n",
       "838  SORAFENIB 200MG  OSD      96297  Multi regione   \n",
       "839  SORAFENIB 200MG  OSD      97396         Locale   \n",
       "840  SORAFENIB 200MG  OSD      98102      Regionale   \n",
       "841  SORAFENIB 200MG  OSD      98605  Multi regione   \n",
       "\n",
       "                                                Client                 Region  \\\n",
       "3                                        SO.RE.SA. SpA               Campania   \n",
       "16   Società di Committenza Regione Piemonte SpA - ...               Piemonte   \n",
       "17                                       REGIONE LAZIO                  Lazio   \n",
       "18                                       SO.RE.SA. SpA               Campania   \n",
       "19   ARCS AZIENDA REGIONALE DI COORDINAMENTO PER LA...  Friuli Venezia Giulia   \n",
       "..                                                 ...                    ...   \n",
       "837                                        ASUR MARCHE                 Marche   \n",
       "838  Società di Committenza Regione Piemonte SpA - ...               Piemonte   \n",
       "839                              IRCCS AOU SAN MARTINO                Liguria   \n",
       "840       REGIONE SICILIANA - ASSESSORATO DELLA SALUTE                Sicilia   \n",
       "841                                       INTERCENT-ER         Emilia Romagna   \n",
       "\n",
       "    Start_Date   End_Date Tender_Submission_Date               Winner  ...  \\\n",
       "3   2017-06-05 2021-06-05             2017-04-20         Amgen S.r.l.  ...   \n",
       "16  2020-04-29 2022-09-30             2020-04-10         Amgen S.r.l.  ...   \n",
       "17  2020-07-22 2023-07-21             2020-06-03            EG S.p.A.  ...   \n",
       "18  2020-07-07 2024-07-07             2020-06-10            EG S.p.A.  ...   \n",
       "19  2020-06-25 2021-07-24             2020-06-17            EG S.p.A.  ...   \n",
       "..         ...        ...                    ...                  ...  ...   \n",
       "837 2022-01-01 2025-12-31             2021-09-28            EG S.p.A.  ...   \n",
       "838 2021-10-11 2022-09-30             2021-10-11  Medac Pharma S.r.l.  ...   \n",
       "839 2021-11-23 2023-05-30             2021-11-23     Mylan Italia Srl  ...   \n",
       "840 2021-12-21 2024-12-31             2021-12-21  Medac Pharma S.r.l.  ...   \n",
       "841 2022-01-26 2025-01-31             2022-01-26   Teva Italia S.r.l.  ...   \n",
       "\n",
       "     #Participant  #Months_G.E  Participant_Club  Genric_Entry_Club  \\\n",
       "3               1          0.0   Low Competition               High   \n",
       "16              1          0.0   Low Competition               High   \n",
       "17              3          0.0  High Competition               High   \n",
       "18              1          7.0   Low Competition               High   \n",
       "19              4         14.0  High Competition               High   \n",
       "..            ...          ...               ...                ...   \n",
       "837             5        113.0  High Competition               High   \n",
       "838             5        126.0  High Competition               High   \n",
       "839             5        169.0  High Competition               High   \n",
       "840             7        197.0  High Competition                Mid   \n",
       "841             5        233.0  High Competition                Mid   \n",
       "\n",
       "     Proximity_Club  Client_Club  Tender_Duration_Club            Identifier  \\\n",
       "3               low        Top10                  Long  CINACALCET 30MG62910   \n",
       "16              low        Top10                 Short  CINACALCET 30MG82514   \n",
       "17              low        Top10                 Short  CINACALCET 30MG83908   \n",
       "18              low        Top10                  Long  CINACALCET 30MG84548   \n",
       "19              low       Normal                 Short  CINACALCET 30MG84724   \n",
       "..              ...          ...                   ...                   ...   \n",
       "837             mid       Normal                  Long  SORAFENIB 200MG94460   \n",
       "838             low        Top10                 Short  SORAFENIB 200MG96297   \n",
       "839             low       Normal                 Short  SORAFENIB 200MG97396   \n",
       "840             low        Top10                  Long  SORAFENIB 200MG98102   \n",
       "841             low        Top10                  Long  SORAFENIB 200MG98605   \n",
       "\n",
       "     Previous_Winning_Price  Pct_drop  \n",
       "3                   5.86607 -0.050029  \n",
       "16                  2.71036 -0.537960  \n",
       "17                  5.86607  1.164314  \n",
       "18                  0.46800 -0.920219  \n",
       "19                  0.36800 -0.213675  \n",
       "..                      ...       ...  \n",
       "837                 1.57029 -0.915666  \n",
       "838                 3.00000  0.910475  \n",
       "839                 0.83000 -0.723333  \n",
       "840                 1.10500  0.331325  \n",
       "841                 0.54000 -0.511312  \n",
       "\n",
       "[542 rows x 141 columns]"
      ]
     },
     "execution_count": 10,
     "metadata": {},
     "output_type": "execute_result"
    }
   ],
   "source": [
    "prods = encode_model_data[\"Product_Name\"].unique()\n",
    "df_test = pd.DataFrame()\n",
    "for i in prods:\n",
    "    prod_df = encode_model_data[encode_model_data[\"Product_Name\"]==i]\n",
    "    prod_df.dropna(subset=[\"Previous_Winning_Price\"],inplace=True)\n",
    "    prod_df = prod_df[prod_df[\"Previous_Winning_Price\"]>0]\n",
    "    prod_df.dropna(subset=[\"Previous_Winning_Price\"],inplace=True)\n",
    "    prod_df[\"Pct_drop\"] = prod_df[\"Previous_Winning_Price\"].pct_change()\n",
    "    prod_df.dropna(subset=[\"Pct_drop\"],inplace=True)\n",
    "    df_test = pd.concat([df_test,prod_df])\n",
    "    df_test=df_test[df_test[\"Pct_drop\"]!=0]\n",
    "df_test"
   ]
  },
  {
   "cell_type": "code",
   "execution_count": null,
   "id": "c15886bc-33b0-44ff-896d-bc9967a2ca4c",
   "metadata": {},
   "outputs": [],
   "source": []
  },
  {
   "cell_type": "code",
   "execution_count": null,
   "id": "449f2128-5d04-4352-8de4-d0715d0ea584",
   "metadata": {},
   "outputs": [],
   "source": []
  },
  {
   "cell_type": "code",
   "execution_count": 11,
   "id": "0b4851e7-e607-4d7c-af45-aee0faf6e621",
   "metadata": {},
   "outputs": [
    {
     "name": "stdout",
     "output_type": "stream",
     "text": [
      "(842, 13)\n"
     ]
    }
   ],
   "source": [
    "modelreg_data = price_data_processor(encode_model_data,inclusion_exclusion=False) "
   ]
  },
  {
   "cell_type": "code",
   "execution_count": 59,
   "id": "899bb7fb-e9db-4bb2-9643-8268bf5cf24e",
   "metadata": {},
   "outputs": [
    {
     "data": {
      "text/plain": [
       "(802, 140)"
      ]
     },
     "execution_count": 59,
     "metadata": {},
     "output_type": "execute_result"
    }
   ],
   "source": [
    "encode_model_data.dropna(subset=[\"Previous_Winning_Price\"],inplace=True)\n",
    "#(np.abs(encode_model_data[\"Previous_Winning_Price\"].pct_change())).drop\n",
    "encode_model_data.shape"
   ]
  },
  {
   "cell_type": "code",
   "execution_count": 60,
   "id": "3da4f505-0e1b-44ac-89bc-a0fc648e0162",
   "metadata": {},
   "outputs": [],
   "source": [
    "encode_model_data[\"Price_drop\"] = encode_model_data[\"Previous_Winning_Price\"].pct_change()"
   ]
  },
  {
   "cell_type": "code",
   "execution_count": 61,
   "id": "18105d17-4c6a-451b-87b7-ed0173a65d88",
   "metadata": {},
   "outputs": [
    {
     "data": {
      "text/plain": [
       "(801, 141)"
      ]
     },
     "execution_count": 61,
     "metadata": {},
     "output_type": "execute_result"
    }
   ],
   "source": [
    "encode_model_data.dropna(subset=[\"Price_drop\"],inplace=True)\n",
    "encode_model_data.shape"
   ]
  },
  {
   "cell_type": "markdown",
   "id": "a1c93074-2c0f-4937-a4af-995dc58b5872",
   "metadata": {},
   "source": [
    "## Linear Regression on DRL Win Dataset"
   ]
  },
  {
   "cell_type": "code",
   "execution_count": 170,
   "id": "b48a5a6b-cc40-4289-b029-2bc125ed24f0",
   "metadata": {},
   "outputs": [
    {
     "name": "stdout",
     "output_type": "stream",
     "text": [
      "(70, 13)\n"
     ]
    },
    {
     "data": {
      "text/html": [
       "<div>\n",
       "<style scoped>\n",
       "    .dataframe tbody tr th:only-of-type {\n",
       "        vertical-align: middle;\n",
       "    }\n",
       "\n",
       "    .dataframe tbody tr th {\n",
       "        vertical-align: top;\n",
       "    }\n",
       "\n",
       "    .dataframe thead th {\n",
       "        text-align: right;\n",
       "    }\n",
       "</style>\n",
       "<table border=\"1\" class=\"dataframe\">\n",
       "  <thead>\n",
       "    <tr style=\"text-align: right;\">\n",
       "      <th></th>\n",
       "      <th>Identifier</th>\n",
       "      <th>DRL_Win_Flag</th>\n",
       "      <th>Form</th>\n",
       "      <th>Region</th>\n",
       "      <th>Tender_Type</th>\n",
       "      <th>Client</th>\n",
       "      <th>#Participant</th>\n",
       "      <th>Winning_Price</th>\n",
       "      <th>Proximity_Delivery</th>\n",
       "      <th>Tender_Duration</th>\n",
       "      <th>Previous_Winning_Price</th>\n",
       "      <th>#Months_G.E</th>\n",
       "      <th>DRL_Bid_price</th>\n",
       "    </tr>\n",
       "  </thead>\n",
       "  <tbody>\n",
       "    <tr>\n",
       "      <th>21</th>\n",
       "      <td>CINACALCET 30MG85386</td>\n",
       "      <td>1</td>\n",
       "      <td>1</td>\n",
       "      <td>3</td>\n",
       "      <td>2</td>\n",
       "      <td>1</td>\n",
       "      <td>1</td>\n",
       "      <td>0.67860</td>\n",
       "      <td>0.533333</td>\n",
       "      <td>1.794944</td>\n",
       "      <td>0.41587</td>\n",
       "      <td>1.100000</td>\n",
       "      <td>0.67860</td>\n",
       "    </tr>\n",
       "    <tr>\n",
       "      <th>48</th>\n",
       "      <td>CINACALCET 60MG85386</td>\n",
       "      <td>1</td>\n",
       "      <td>1</td>\n",
       "      <td>3</td>\n",
       "      <td>2</td>\n",
       "      <td>1</td>\n",
       "      <td>1</td>\n",
       "      <td>1.28570</td>\n",
       "      <td>0.533333</td>\n",
       "      <td>1.794944</td>\n",
       "      <td>0.54609</td>\n",
       "      <td>1.100000</td>\n",
       "      <td>1.28570</td>\n",
       "    </tr>\n",
       "    <tr>\n",
       "      <th>76</th>\n",
       "      <td>CINACALCET 90MG85386</td>\n",
       "      <td>1</td>\n",
       "      <td>1</td>\n",
       "      <td>3</td>\n",
       "      <td>2</td>\n",
       "      <td>1</td>\n",
       "      <td>1</td>\n",
       "      <td>2.42860</td>\n",
       "      <td>0.533333</td>\n",
       "      <td>1.794944</td>\n",
       "      <td>0.57986</td>\n",
       "      <td>1.100000</td>\n",
       "      <td>2.42860</td>\n",
       "    </tr>\n",
       "    <tr>\n",
       "      <th>93</th>\n",
       "      <td>AMBRISENTAN 10MG88094</td>\n",
       "      <td>1</td>\n",
       "      <td>1</td>\n",
       "      <td>4</td>\n",
       "      <td>1</td>\n",
       "      <td>2</td>\n",
       "      <td>2</td>\n",
       "      <td>9.81212</td>\n",
       "      <td>0.333333</td>\n",
       "      <td>3.584270</td>\n",
       "      <td>19.85698</td>\n",
       "      <td>0.700000</td>\n",
       "      <td>9.81212</td>\n",
       "    </tr>\n",
       "    <tr>\n",
       "      <th>97</th>\n",
       "      <td>AMBRISENTAN 10MG91896</td>\n",
       "      <td>1</td>\n",
       "      <td>1</td>\n",
       "      <td>2</td>\n",
       "      <td>1</td>\n",
       "      <td>1</td>\n",
       "      <td>2</td>\n",
       "      <td>2.41221</td>\n",
       "      <td>0.866667</td>\n",
       "      <td>1.876404</td>\n",
       "      <td>2.87708</td>\n",
       "      <td>5.466667</td>\n",
       "      <td>2.41221</td>\n",
       "    </tr>\n",
       "  </tbody>\n",
       "</table>\n",
       "</div>"
      ],
      "text/plain": [
       "               Identifier  DRL_Win_Flag  Form  Region   Tender_Type  Client  \\\n",
       "21   CINACALCET 30MG85386             1     1       3             2       1   \n",
       "48   CINACALCET 60MG85386             1     1       3             2       1   \n",
       "76   CINACALCET 90MG85386             1     1       3             2       1   \n",
       "93  AMBRISENTAN 10MG88094             1     1       4             1       2   \n",
       "97  AMBRISENTAN 10MG91896             1     1       2             1       1   \n",
       "\n",
       "    #Participant  Winning_Price  Proximity_Delivery  Tender_Duration  \\\n",
       "21             1        0.67860            0.533333         1.794944   \n",
       "48             1        1.28570            0.533333         1.794944   \n",
       "76             1        2.42860            0.533333         1.794944   \n",
       "93             2        9.81212            0.333333         3.584270   \n",
       "97             2        2.41221            0.866667         1.876404   \n",
       "\n",
       "    Previous_Winning_Price  #Months_G.E  DRL_Bid_price  \n",
       "21                 0.41587     1.100000        0.67860  \n",
       "48                 0.54609     1.100000        1.28570  \n",
       "76                 0.57986     1.100000        2.42860  \n",
       "93                19.85698     0.700000        9.81212  \n",
       "97                 2.87708     5.466667        2.41221  "
      ]
     },
     "execution_count": 170,
     "metadata": {},
     "output_type": "execute_result"
    }
   ],
   "source": [
    "modelreg_data1 = price_data_processor(encode_model_data,DRL_Win=True)\n",
    "modelreg_data1.head()"
   ]
  },
  {
   "cell_type": "code",
   "execution_count": 171,
   "id": "8cb522f3-af74-4e3a-bdcd-071d393b6352",
   "metadata": {},
   "outputs": [
    {
     "data": {
      "text/plain": [
       "9"
      ]
     },
     "execution_count": 171,
     "metadata": {},
     "output_type": "execute_result"
    }
   ],
   "source": [
    "independent_variables=['Form', 'Region', ' Tender_Type',\n",
    "       'Client', '#Participant','Proximity_Delivery',\n",
    "       'Tender_Duration', 'Previous_Winning_Price', '#Months_G.E']\n",
    "len(independent_variables)"
   ]
  },
  {
   "cell_type": "code",
   "execution_count": 172,
   "id": "0b8cd59b-fa82-4074-9056-217438745031",
   "metadata": {},
   "outputs": [],
   "source": [
    "X_var = modelreg_data1[independent_variables]\n",
    "Y = list(modelreg_data[\"Winning_Price\"])"
   ]
  },
  {
   "cell_type": "code",
   "execution_count": 173,
   "id": "ea5f106f-51f9-4a5b-a16d-3cbd97779b61",
   "metadata": {},
   "outputs": [
    {
     "data": {
      "text/html": [
       "<div>\n",
       "<style scoped>\n",
       "    .dataframe tbody tr th:only-of-type {\n",
       "        vertical-align: middle;\n",
       "    }\n",
       "\n",
       "    .dataframe tbody tr th {\n",
       "        vertical-align: top;\n",
       "    }\n",
       "\n",
       "    .dataframe thead th {\n",
       "        text-align: right;\n",
       "    }\n",
       "</style>\n",
       "<table border=\"1\" class=\"dataframe\">\n",
       "  <thead>\n",
       "    <tr style=\"text-align: right;\">\n",
       "      <th></th>\n",
       "      <th>Feature</th>\n",
       "      <th>VIF</th>\n",
       "    </tr>\n",
       "  </thead>\n",
       "  <tbody>\n",
       "    <tr>\n",
       "      <th>0</th>\n",
       "      <td>Form</td>\n",
       "      <td>17.76</td>\n",
       "    </tr>\n",
       "    <tr>\n",
       "      <th>1</th>\n",
       "      <td>Region</td>\n",
       "      <td>20.10</td>\n",
       "    </tr>\n",
       "    <tr>\n",
       "      <th>2</th>\n",
       "      <td>Tender_Type</td>\n",
       "      <td>11.26</td>\n",
       "    </tr>\n",
       "    <tr>\n",
       "      <th>3</th>\n",
       "      <td>Client</td>\n",
       "      <td>12.57</td>\n",
       "    </tr>\n",
       "    <tr>\n",
       "      <th>4</th>\n",
       "      <td>#Participant</td>\n",
       "      <td>9.01</td>\n",
       "    </tr>\n",
       "    <tr>\n",
       "      <th>5</th>\n",
       "      <td>Proximity_Delivery</td>\n",
       "      <td>3.21</td>\n",
       "    </tr>\n",
       "    <tr>\n",
       "      <th>6</th>\n",
       "      <td>Tender_Duration</td>\n",
       "      <td>9.34</td>\n",
       "    </tr>\n",
       "    <tr>\n",
       "      <th>7</th>\n",
       "      <td>Previous_Winning_Price</td>\n",
       "      <td>1.66</td>\n",
       "    </tr>\n",
       "    <tr>\n",
       "      <th>8</th>\n",
       "      <td>#Months_G.E</td>\n",
       "      <td>2.88</td>\n",
       "    </tr>\n",
       "  </tbody>\n",
       "</table>\n",
       "</div>"
      ],
      "text/plain": [
       "                  Feature    VIF\n",
       "0                    Form  17.76\n",
       "1                  Region  20.10\n",
       "2             Tender_Type  11.26\n",
       "3                  Client  12.57\n",
       "4            #Participant   9.01\n",
       "5      Proximity_Delivery   3.21\n",
       "6         Tender_Duration   9.34\n",
       "7  Previous_Winning_Price   1.66\n",
       "8             #Months_G.E   2.88"
      ]
     },
     "execution_count": 173,
     "metadata": {},
     "output_type": "execute_result"
    }
   ],
   "source": [
    "from statsmodels.stats.outliers_influence import variance_inflation_factor\n",
    "norm_X = X_var.apply(lambda iterator: ((iterator-iterator.mean())/iterator.std()).round(2))\n",
    "norm_X\n",
    "vif_data = pd.DataFrame()\n",
    "vif_data[\"Feature\"]=norm_X.columns\n",
    "vif_data[\"VIF\"] = [np.round(variance_inflation_factor(X_var.values , i),2) for i in range(len(norm_X.columns))]\n",
    "vif_data"
   ]
  },
  {
   "cell_type": "code",
   "execution_count": 174,
   "id": "475dd2b5-2c69-483a-9baf-2b781c37450b",
   "metadata": {},
   "outputs": [
    {
     "data": {
      "text/plain": [
       "2.693555226549483"
      ]
     },
     "execution_count": 174,
     "metadata": {},
     "output_type": "execute_result"
    }
   ],
   "source": [
    "np.linalg.cond(norm_X)"
   ]
  },
  {
   "cell_type": "code",
   "execution_count": 175,
   "id": "fa5222c0-eb36-435f-b6c2-2a5019fd0b77",
   "metadata": {},
   "outputs": [],
   "source": [
    "from sklearn.model_selection import train_test_split\n",
    "from sklearn.model_selection import KFold\n",
    "from sklearn.model_selection import cross_val_score"
   ]
  },
  {
   "cell_type": "code",
   "execution_count": 176,
   "id": "5600f256-1659-45de-88c2-c1b713c2169a",
   "metadata": {},
   "outputs": [],
   "source": [
    "X_train, X_test, y_train, y_test = train_test_split(X_var, Y, test_size=0.33, random_state=42)"
   ]
  },
  {
   "cell_type": "code",
   "execution_count": 177,
   "id": "6a33f7e6-aa30-45d2-a467-aafb960541f3",
   "metadata": {},
   "outputs": [],
   "source": [
    "import sklearn\n",
    "#sklearn.metrics.SCORERS.keys()"
   ]
  },
  {
   "cell_type": "code",
   "execution_count": 178,
   "id": "1f65793d-e8bb-43f5-8707-e6ee841e9b3b",
   "metadata": {},
   "outputs": [
    {
     "data": {
      "text/plain": [
       "-1.4813353655022314"
      ]
     },
     "execution_count": 178,
     "metadata": {},
     "output_type": "execute_result"
    }
   ],
   "source": [
    "from sklearn.linear_model import LinearRegression\n",
    "#define cross-validation method to use\n",
    "cv = KFold(n_splits=10, random_state=1, shuffle=True)\n",
    "\n",
    "#build multiple linear regression model\n",
    "model = LinearRegression()\n",
    "\n",
    "#use k-fold CV to evaluate model\n",
    "scores = cross_val_score(model, X_train, np.log(y_train), scoring='neg_mean_absolute_error',\n",
    "                         cv=cv, n_jobs=-1)\n",
    "np.mean(scores)"
   ]
  },
  {
   "cell_type": "code",
   "execution_count": 236,
   "id": "f96b6a18-7a8e-47a3-81fc-2b19b6476de4",
   "metadata": {},
   "outputs": [
    {
     "data": {
      "text/html": [
       "<table class=\"simpletable\">\n",
       "<tr>\n",
       "        <td>Model:</td>               <td>OLS</td>         <td>Adj. R-squared:</td>     <td>0.840</td> \n",
       "</tr>\n",
       "<tr>\n",
       "  <td>Dependent Variable:</td>         <td>y</td>               <td>AIC:</td>         <td>167.1848</td>\n",
       "</tr>\n",
       "<tr>\n",
       "         <td>Date:</td>        <td>2022-06-21 17:37</td>        <td>BIC:</td>         <td>183.6425</td>\n",
       "</tr>\n",
       "<tr>\n",
       "   <td>No. Observations:</td>         <td>46</td>          <td>Log-Likelihood:</td>    <td>-74.592</td>\n",
       "</tr>\n",
       "<tr>\n",
       "       <td>Df Model:</td>              <td>8</td>           <td>F-statistic:</td>       <td>30.63</td> \n",
       "</tr>\n",
       "<tr>\n",
       "     <td>Df Residuals:</td>           <td>37</td>        <td>Prob (F-statistic):</td> <td>4.62e-14</td>\n",
       "</tr>\n",
       "<tr>\n",
       "      <td>R-squared:</td>            <td>0.869</td>            <td>Scale:</td>         <td>1.8645</td> \n",
       "</tr>\n",
       "</table>\n",
       "<table class=\"simpletable\">\n",
       "<tr>\n",
       "             <td></td>             <th>Coef.</th>  <th>Std.Err.</th>    <th>t</th>     <th>P>|t|</th> <th>[0.025</th>  <th>0.975]</th> \n",
       "</tr>\n",
       "<tr>\n",
       "  <th>Form</th>                   <td>4.8754</td>   <td>0.4969</td>  <td>9.8113</td>  <td>0.0000</td> <td>3.8686</td>  <td>5.8822</td> \n",
       "</tr>\n",
       "<tr>\n",
       "  <th>Region</th>                 <td>-0.6678</td>  <td>0.2982</td>  <td>-2.2391</td> <td>0.0312</td> <td>-1.2720</td> <td>-0.0635</td>\n",
       "</tr>\n",
       "<tr>\n",
       "  <th> Tender_Type</th>           <td>-0.3660</td>  <td>0.5053</td>  <td>-0.7243</td> <td>0.4734</td> <td>-1.3898</td> <td>0.6578</td> \n",
       "</tr>\n",
       "<tr>\n",
       "  <th>Client</th>                 <td>0.9939</td>   <td>0.4270</td>  <td>2.3275</td>  <td>0.0255</td> <td>0.1287</td>  <td>1.8591</td> \n",
       "</tr>\n",
       "<tr>\n",
       "  <th>#Participant</th>           <td>-1.4588</td>  <td>0.3939</td>  <td>-3.7031</td> <td>0.0007</td> <td>-2.2570</td> <td>-0.6606</td>\n",
       "</tr>\n",
       "<tr>\n",
       "  <th>Proximity_Delivery</th>     <td>-0.2568</td>  <td>0.1086</td>  <td>-2.3658</td> <td>0.0233</td> <td>-0.4768</td> <td>-0.0369</td>\n",
       "</tr>\n",
       "<tr>\n",
       "  <th>Tender_Duration</th>        <td>-0.1285</td>  <td>0.2071</td>  <td>-0.6203</td> <td>0.5389</td> <td>-0.5481</td> <td>0.2912</td> \n",
       "</tr>\n",
       "<tr>\n",
       "  <th>Previous_Winning_Price</th> <td>0.0002</td>   <td>0.0000</td>  <td>4.8897</td>  <td>0.0000</td> <td>0.0001</td>  <td>0.0003</td> \n",
       "</tr>\n",
       "<tr>\n",
       "  <th>#Months_G.E</th>            <td>-0.0721</td>  <td>0.0190</td>  <td>-3.7989</td> <td>0.0005</td> <td>-0.1106</td> <td>-0.0336</td>\n",
       "</tr>\n",
       "</table>\n",
       "<table class=\"simpletable\">\n",
       "<tr>\n",
       "     <td>Omnibus:</td>     <td>0.894</td>  <td>Durbin-Watson:</td>   <td>1.766</td>\n",
       "</tr>\n",
       "<tr>\n",
       "  <td>Prob(Omnibus):</td>  <td>0.640</td> <td>Jarque-Bera (JB):</td> <td>0.864</td>\n",
       "</tr>\n",
       "<tr>\n",
       "       <td>Skew:</td>     <td>-0.122</td>     <td>Prob(JB):</td>     <td>0.649</td>\n",
       "</tr>\n",
       "<tr>\n",
       "     <td>Kurtosis:</td>    <td>2.375</td>  <td>Condition No.:</td>   <td>17316</td>\n",
       "</tr>\n",
       "</table>"
      ],
      "text/plain": [
       "<class 'statsmodels.iolib.summary2.Summary'>\n",
       "\"\"\"\n",
       "                   Results: Ordinary least squares\n",
       "======================================================================\n",
       "Model:                 OLS               Adj. R-squared:      0.840   \n",
       "Dependent Variable:    y                 AIC:                 167.1848\n",
       "Date:                  2022-06-21 17:37  BIC:                 183.6425\n",
       "No. Observations:      46                Log-Likelihood:      -74.592 \n",
       "Df Model:              8                 F-statistic:         30.63   \n",
       "Df Residuals:          37                Prob (F-statistic):  4.62e-14\n",
       "R-squared:             0.869             Scale:               1.8645  \n",
       "----------------------------------------------------------------------\n",
       "                        Coef.  Std.Err.    t    P>|t|   [0.025  0.975]\n",
       "----------------------------------------------------------------------\n",
       "Form                    4.8754   0.4969  9.8113 0.0000  3.8686  5.8822\n",
       "Region                 -0.6678   0.2982 -2.2391 0.0312 -1.2720 -0.0635\n",
       " Tender_Type           -0.3660   0.5053 -0.7243 0.4734 -1.3898  0.6578\n",
       "Client                  0.9939   0.4270  2.3275 0.0255  0.1287  1.8591\n",
       "#Participant           -1.4588   0.3939 -3.7031 0.0007 -2.2570 -0.6606\n",
       "Proximity_Delivery     -0.2568   0.1086 -2.3658 0.0233 -0.4768 -0.0369\n",
       "Tender_Duration        -0.1285   0.2071 -0.6203 0.5389 -0.5481  0.2912\n",
       "Previous_Winning_Price  0.0002   0.0000  4.8897 0.0000  0.0001  0.0003\n",
       "#Months_G.E            -0.0721   0.0190 -3.7989 0.0005 -0.1106 -0.0336\n",
       "----------------------------------------------------------------------\n",
       "Omnibus:                0.894          Durbin-Watson:            1.766\n",
       "Prob(Omnibus):          0.640          Jarque-Bera (JB):         0.864\n",
       "Skew:                   -0.122         Prob(JB):                 0.649\n",
       "Kurtosis:               2.375          Condition No.:            17316\n",
       "======================================================================\n",
       "* The condition number is large (2e+04). This might indicate\n",
       "strong multicollinearity or other numerical problems.\n",
       "\"\"\""
      ]
     },
     "execution_count": 236,
     "metadata": {},
     "output_type": "execute_result"
    }
   ],
   "source": [
    "import statsmodels.regression.linear_model as sml\n",
    "ols = sml.OLS(endog=np.log(y_train),exog=X_train,hasconst=True).fit()\n",
    "ols.summary2()"
   ]
  },
  {
   "cell_type": "code",
   "execution_count": 237,
   "id": "a0ac7a68-918e-4ab7-a2d1-aa68dee4b434",
   "metadata": {},
   "outputs": [
    {
     "data": {
      "text/plain": [
       "2.000808536385686"
      ]
     },
     "execution_count": 237,
     "metadata": {},
     "output_type": "execute_result"
    }
   ],
   "source": [
    "y_pred=np.exp(ols.predict(X_test))\n",
    "mape(y_test,y_pred)"
   ]
  },
  {
   "cell_type": "code",
   "execution_count": 194,
   "id": "0d18f10f-2de4-4239-bbca-1a47d275d6d6",
   "metadata": {},
   "outputs": [
    {
     "data": {
      "text/plain": [
       "184     3454.385007\n",
       "21         3.415854\n",
       "360       58.182024\n",
       "97         1.481345\n",
       "440       26.176141\n",
       "178    13842.730187\n",
       "136        0.156792\n",
       "227      246.854606\n",
       "316      783.280134\n",
       "143        0.026964\n",
       "215     1347.610357\n",
       "135        0.384522\n",
       "762     1753.408827\n",
       "101        0.402847\n",
       "688       14.021987\n",
       "205     4846.579019\n",
       "461       39.739185\n",
       "231      670.780400\n",
       "450       30.841854\n",
       "323      241.068773\n",
       "165        5.154510\n",
       "228      463.438370\n",
       "289      765.352258\n",
       "203    27936.417558\n",
       "dtype: float64"
      ]
     },
     "execution_count": 194,
     "metadata": {},
     "output_type": "execute_result"
    }
   ],
   "source": [
    "y_pred"
   ]
  },
  {
   "cell_type": "code",
   "execution_count": 181,
   "id": "1374a8b6-0f32-4caf-818d-4a155564a1d5",
   "metadata": {},
   "outputs": [
    {
     "data": {
      "text/plain": [
       "array([3.45242834e+03, 3.41341588e+00, 5.82074319e+01, 1.47932380e+00,\n",
       "       2.62202759e+01, 1.38424090e+04, 1.56664865e-01, 2.46794954e+02,\n",
       "       7.82951451e+02, 2.69266132e-02, 1.34734219e+03, 3.84394389e-01,\n",
       "       1.75387993e+03, 4.02435248e-01, 1.40328392e+01, 4.84360948e+03,\n",
       "       3.97310984e+01, 6.70317527e+02, 3.08355946e+01, 2.40888107e+02,\n",
       "       5.15198909e+00, 4.63758021e+02, 7.65029761e+02, 2.79249986e+04])"
      ]
     },
     "execution_count": 181,
     "metadata": {},
     "output_type": "execute_result"
    }
   ],
   "source": []
  },
  {
   "cell_type": "code",
   "execution_count": 111,
   "id": "db94bbe2-79ae-44db-87fa-dcc5712ec7a3",
   "metadata": {},
   "outputs": [],
   "source": [
    "from sklearn.metrics import mean_absolute_percentage_error as mape"
   ]
  },
  {
   "cell_type": "code",
   "execution_count": 186,
   "id": "fc54c63e-5f78-418b-8523-b88af125db85",
   "metadata": {},
   "outputs": [
    {
     "data": {
      "text/plain": [
       "21       2.97\n",
       "48       2.97\n",
       "76       2.97\n",
       "93       1.33\n",
       "97       1.60\n",
       "        ...  \n",
       "757    243.51\n",
       "758    104.32\n",
       "762    919.15\n",
       "787      0.46\n",
       "797      0.80\n",
       "Length: 70, dtype: float64"
      ]
     },
     "execution_count": 186,
     "metadata": {},
     "output_type": "execute_result"
    }
   ],
   "source": [
    "y_pred = np.round(np.exp(ols.predict(X_var)),2)\n",
    "y_pred"
   ]
  },
  {
   "cell_type": "code",
   "execution_count": 187,
   "id": "a16e48c4-2c6d-4469-84cd-10692472d4d3",
   "metadata": {},
   "outputs": [
    {
     "data": {
      "text/plain": [
       "1.6610438562676808"
      ]
     },
     "execution_count": 187,
     "metadata": {},
     "output_type": "execute_result"
    }
   ],
   "source": [
    "mape(Y,y_pred)"
   ]
  },
  {
   "cell_type": "code",
   "execution_count": 122,
   "id": "7e39d1de-4557-4f5e-a212-c39104faa47f",
   "metadata": {},
   "outputs": [
    {
     "name": "stdout",
     "output_type": "stream",
     "text": [
      "(207, 13)\n"
     ]
    }
   ],
   "source": [
    "modelreg_data2 = price_data_processor(encode_model_data,DRL_Participation=True)"
   ]
  },
  {
   "cell_type": "code",
   "execution_count": 198,
   "id": "5d38ddb4-8400-489d-ace9-25b24302f6ee",
   "metadata": {},
   "outputs": [
    {
     "data": {
      "text/plain": [
       "Index(['Identifier', 'DRL_Win_Flag', 'Form', 'Region', ' Tender_Type',\n",
       "       'Client', '#Participant', 'Winning_Price', 'Proximity_Delivery',\n",
       "       'Tender_Duration', 'Previous_Winning_Price', '#Months_G.E',\n",
       "       'DRL_Bid_price'],\n",
       "      dtype='object')"
      ]
     },
     "execution_count": 198,
     "metadata": {},
     "output_type": "execute_result"
    }
   ],
   "source": [
    "modelreg_data2.columns"
   ]
  },
  {
   "cell_type": "code",
   "execution_count": 199,
   "id": "f66d95eb-d330-47f4-bcbb-d24576447db9",
   "metadata": {},
   "outputs": [
    {
     "data": {
      "text/plain": [
       "10"
      ]
     },
     "execution_count": 199,
     "metadata": {},
     "output_type": "execute_result"
    }
   ],
   "source": [
    "ind_col1 = [\"DRL_Win_Flag\",\"Form\",\"Region\",\" Tender_Type\",\"Client\",\"#Participant\",\n",
    "            \"Proximity_Delivery\",\"Tender_Duration\",\"Previous_Winning_Price\",\"#Months_G.E\",]\n",
    "len(ind_col1)"
   ]
  },
  {
   "cell_type": "code",
   "execution_count": 223,
   "id": "b3c4953a-fbe6-4a9a-ba14-7c9e6c5c29a7",
   "metadata": {},
   "outputs": [
    {
     "data": {
      "text/plain": [
       "(207, 9)"
      ]
     },
     "execution_count": 223,
     "metadata": {},
     "output_type": "execute_result"
    }
   ],
   "source": [
    "X_var1= modelreg_data2[independent_variables]\n",
    "X_var1.shape"
   ]
  },
  {
   "cell_type": "code",
   "execution_count": 224,
   "id": "8e45986f-f399-41df-a4ac-de3bc9c223a9",
   "metadata": {},
   "outputs": [
    {
     "data": {
      "text/plain": [
       "207"
      ]
     },
     "execution_count": 224,
     "metadata": {},
     "output_type": "execute_result"
    }
   ],
   "source": [
    "Y1 = list(modelreg_data2[\"Winning_Price\"])\n",
    "len(Y1)"
   ]
  },
  {
   "cell_type": "code",
   "execution_count": 225,
   "id": "799f1fc1-b7af-413c-ae00-3cc4a373cdf0",
   "metadata": {},
   "outputs": [],
   "source": [
    "X_train1, X_test1, y_train1, y_test1 = train_test_split(X_var1, Y1, test_size=0.33, random_state=42)"
   ]
  },
  {
   "cell_type": "code",
   "execution_count": 226,
   "id": "503aa337-5664-489e-814e-818774358a8f",
   "metadata": {},
   "outputs": [
    {
     "data": {
      "text/plain": [
       "(138, 9)"
      ]
     },
     "execution_count": 226,
     "metadata": {},
     "output_type": "execute_result"
    }
   ],
   "source": [
    "X_train1.shape"
   ]
  },
  {
   "cell_type": "code",
   "execution_count": 232,
   "id": "6a9a8a5e-41db-4b45-9289-7e68e5aa06ce",
   "metadata": {},
   "outputs": [
    {
     "data": {
      "text/html": [
       "<table class=\"simpletable\">\n",
       "<tr>\n",
       "        <td>Model:</td>               <td>OLS</td>         <td>Adj. R-squared:</td>     <td>0.865</td> \n",
       "</tr>\n",
       "<tr>\n",
       "  <td>Dependent Variable:</td>         <td>y</td>               <td>AIC:</td>         <td>626.3197</td>\n",
       "</tr>\n",
       "<tr>\n",
       "         <td>Date:</td>        <td>2022-06-21 17:37</td>        <td>BIC:</td>         <td>656.3141</td>\n",
       "</tr>\n",
       "<tr>\n",
       "   <td>No. Observations:</td>         <td>207</td>         <td>Log-Likelihood:</td>    <td>-304.16</td>\n",
       "</tr>\n",
       "<tr>\n",
       "       <td>Df Model:</td>              <td>8</td>           <td>F-statistic:</td>       <td>165.9</td> \n",
       "</tr>\n",
       "<tr>\n",
       "     <td>Df Residuals:</td>           <td>198</td>       <td>Prob (F-statistic):</td> <td>1.85e-83</td>\n",
       "</tr>\n",
       "<tr>\n",
       "      <td>R-squared:</td>            <td>0.870</td>            <td>Scale:</td>         <td>1.1564</td> \n",
       "</tr>\n",
       "</table>\n",
       "<table class=\"simpletable\">\n",
       "<tr>\n",
       "             <td></td>             <th>Coef.</th>  <th>Std.Err.</th>    <th>t</th>     <th>P>|t|</th> <th>[0.025</th>  <th>0.975]</th> \n",
       "</tr>\n",
       "<tr>\n",
       "  <th>Form</th>                   <td>3.8465</td>   <td>0.1468</td>  <td>26.1999</td> <td>0.0000</td> <td>3.5570</td>  <td>4.1360</td> \n",
       "</tr>\n",
       "<tr>\n",
       "  <th>Region</th>                 <td>-0.2848</td>  <td>0.1161</td>  <td>-2.4524</td> <td>0.0151</td> <td>-0.5138</td> <td>-0.0558</td>\n",
       "</tr>\n",
       "<tr>\n",
       "  <th> Tender_Type</th>           <td>-0.1767</td>  <td>0.1903</td>  <td>-0.9282</td> <td>0.3544</td> <td>-0.5520</td> <td>0.1986</td> \n",
       "</tr>\n",
       "<tr>\n",
       "  <th>Client</th>                 <td>0.3783</td>   <td>0.1636</td>  <td>2.3120</td>  <td>0.0218</td> <td>0.0556</td>  <td>0.7009</td> \n",
       "</tr>\n",
       "<tr>\n",
       "  <th>#Participant</th>           <td>-1.3771</td>  <td>0.1765</td>  <td>-7.8007</td> <td>0.0000</td> <td>-1.7253</td> <td>-1.0290</td>\n",
       "</tr>\n",
       "<tr>\n",
       "  <th>Proximity_Delivery</th>     <td>0.0243</td>   <td>0.0318</td>  <td>0.7655</td>  <td>0.4449</td> <td>-0.0383</td> <td>0.0870</td> \n",
       "</tr>\n",
       "<tr>\n",
       "  <th>Tender_Duration</th>        <td>-0.2212</td>  <td>0.0677</td>  <td>-3.2662</td> <td>0.0013</td> <td>-0.3548</td> <td>-0.0877</td>\n",
       "</tr>\n",
       "<tr>\n",
       "  <th>Previous_Winning_Price</th> <td>0.0003</td>   <td>0.0000</td>  <td>12.0250</td> <td>0.0000</td> <td>0.0002</td>  <td>0.0003</td> \n",
       "</tr>\n",
       "<tr>\n",
       "  <th>#Months_G.E</th>            <td>-0.0338</td>  <td>0.0061</td>  <td>-5.5232</td> <td>0.0000</td> <td>-0.0459</td> <td>-0.0217</td>\n",
       "</tr>\n",
       "</table>\n",
       "<table class=\"simpletable\">\n",
       "<tr>\n",
       "     <td>Omnibus:</td>    <td>4.541</td>  <td>Durbin-Watson:</td>   <td>1.045</td>\n",
       "</tr>\n",
       "<tr>\n",
       "  <td>Prob(Omnibus):</td> <td>0.103</td> <td>Jarque-Bera (JB):</td> <td>4.219</td>\n",
       "</tr>\n",
       "<tr>\n",
       "       <td>Skew:</td>     <td>0.341</td>     <td>Prob(JB):</td>     <td>0.121</td>\n",
       "</tr>\n",
       "<tr>\n",
       "     <td>Kurtosis:</td>   <td>3.155</td>  <td>Condition No.:</td>   <td>10680</td>\n",
       "</tr>\n",
       "</table>"
      ],
      "text/plain": [
       "<class 'statsmodels.iolib.summary2.Summary'>\n",
       "\"\"\"\n",
       "                   Results: Ordinary least squares\n",
       "======================================================================\n",
       "Model:                 OLS               Adj. R-squared:      0.865   \n",
       "Dependent Variable:    y                 AIC:                 626.3197\n",
       "Date:                  2022-06-21 17:37  BIC:                 656.3141\n",
       "No. Observations:      207               Log-Likelihood:      -304.16 \n",
       "Df Model:              8                 F-statistic:         165.9   \n",
       "Df Residuals:          198               Prob (F-statistic):  1.85e-83\n",
       "R-squared:             0.870             Scale:               1.1564  \n",
       "----------------------------------------------------------------------\n",
       "                        Coef.  Std.Err.    t    P>|t|   [0.025  0.975]\n",
       "----------------------------------------------------------------------\n",
       "Form                    3.8465   0.1468 26.1999 0.0000  3.5570  4.1360\n",
       "Region                 -0.2848   0.1161 -2.4524 0.0151 -0.5138 -0.0558\n",
       " Tender_Type           -0.1767   0.1903 -0.9282 0.3544 -0.5520  0.1986\n",
       "Client                  0.3783   0.1636  2.3120 0.0218  0.0556  0.7009\n",
       "#Participant           -1.3771   0.1765 -7.8007 0.0000 -1.7253 -1.0290\n",
       "Proximity_Delivery      0.0243   0.0318  0.7655 0.4449 -0.0383  0.0870\n",
       "Tender_Duration        -0.2212   0.0677 -3.2662 0.0013 -0.3548 -0.0877\n",
       "Previous_Winning_Price  0.0003   0.0000 12.0250 0.0000  0.0002  0.0003\n",
       "#Months_G.E            -0.0338   0.0061 -5.5232 0.0000 -0.0459 -0.0217\n",
       "----------------------------------------------------------------------\n",
       "Omnibus:                 4.541         Durbin-Watson:            1.045\n",
       "Prob(Omnibus):           0.103         Jarque-Bera (JB):         4.219\n",
       "Skew:                    0.341         Prob(JB):                 0.121\n",
       "Kurtosis:                3.155         Condition No.:            10680\n",
       "======================================================================\n",
       "* The condition number is large (1e+04). This might indicate\n",
       "strong multicollinearity or other numerical problems.\n",
       "\"\"\""
      ]
     },
     "execution_count": 232,
     "metadata": {},
     "output_type": "execute_result"
    }
   ],
   "source": [
    "ols2 = sml.OLS(endog=np.log(Y1),exog=X_var1,hasconst=True).fit()\n",
    "ols2.summary2()"
   ]
  },
  {
   "cell_type": "code",
   "execution_count": 233,
   "id": "1dedff5d-d2b7-4e1e-b393-6f4267e1f8e0",
   "metadata": {},
   "outputs": [],
   "source": [
    "y_pred2 = np.exp(ols2.predict(X_test1))"
   ]
  },
  {
   "cell_type": "code",
   "execution_count": 234,
   "id": "e4d6ea5d-ef2e-460a-b9ec-07106f473a91",
   "metadata": {},
   "outputs": [
    {
     "data": {
      "text/plain": [
       "0.9501444242711877"
      ]
     },
     "execution_count": 234,
     "metadata": {},
     "output_type": "execute_result"
    }
   ],
   "source": [
    "mape(y_test1,y_pred2)"
   ]
  },
  {
   "cell_type": "code",
   "execution_count": 235,
   "id": "b83def8f-d9b9-40cf-b0b4-d43de0b24970",
   "metadata": {},
   "outputs": [
    {
     "data": {
      "text/plain": [
       "1.1424827209898143"
      ]
     },
     "execution_count": 235,
     "metadata": {},
     "output_type": "execute_result"
    }
   ],
   "source": [
    "mape(Y1,np.exp(ols2.predict(X_var1)))"
   ]
  },
  {
   "cell_type": "code",
   "execution_count": 206,
   "id": "a244c2b7-96ba-429e-ba63-b747603da227",
   "metadata": {},
   "outputs": [
    {
     "data": {
      "text/plain": [
       "207"
      ]
     },
     "execution_count": 206,
     "metadata": {},
     "output_type": "execute_result"
    }
   ],
   "source": [
    "model2_pred = np.exp(ols2.predict(X_var1))\n",
    "len(model2_pred)"
   ]
  },
  {
   "cell_type": "code",
   "execution_count": 214,
   "id": "369a2c7d-6010-4442-bcdb-0b325753c320",
   "metadata": {},
   "outputs": [],
   "source": [
    "modelreg_data2[\"Linear Prediction\"]=model2_pred"
   ]
  },
  {
   "cell_type": "code",
   "execution_count": 215,
   "id": "af59ff59-ede3-47b4-9f41-de79dc9c93d2",
   "metadata": {},
   "outputs": [],
   "source": [
    "modelreg_data2.to_excel(r\"PricePred.xlsx\")"
   ]
  },
  {
   "cell_type": "code",
   "execution_count": 220,
   "id": "dba78b32-1ab3-4908-a233-2bfa7fb15ae9",
   "metadata": {},
   "outputs": [],
   "source": [
    "pred_test=ols.predict(X_var1[independent_variables])"
   ]
  },
  {
   "cell_type": "code",
   "execution_count": 222,
   "id": "b9593715-e6b9-463b-9982-484cdb30306a",
   "metadata": {},
   "outputs": [
    {
     "data": {
      "text/plain": [
       "146"
      ]
     },
     "execution_count": 222,
     "metadata": {},
     "output_type": "execute_result"
    }
   ],
   "source": [
    "sum(pred_test>0)"
   ]
  },
  {
   "cell_type": "code",
   "execution_count": 240,
   "id": "d83f18d9-c960-4f4b-9fea-efeea8646bb3",
   "metadata": {},
   "outputs": [
    {
     "data": {
      "text/plain": [
       "146"
      ]
     },
     "execution_count": 240,
     "metadata": {},
     "output_type": "execute_result"
    }
   ],
   "source": [
    "sum(ols.predict(X_var1)>0)"
   ]
  },
  {
   "cell_type": "code",
   "execution_count": 249,
   "id": "52071bca-7690-48ea-8788-cbcf4da058ec",
   "metadata": {},
   "outputs": [
    {
     "data": {
      "text/plain": [
       "<AxesSubplot:xlabel='Winning_Price', ylabel='Density'>"
      ]
     },
     "execution_count": 249,
     "metadata": {},
     "output_type": "execute_result"
    },
    {
     "data": {
      "image/png": "[encoded data removed]",
      "text/plain": [
       "<Figure size 432x288 with 1 Axes>"
      ]
     },
     "metadata": {
      "needs_background": "light"
     },
     "output_type": "display_data"
    }
   ],
   "source": [
    "import seaborn as sns\n",
    "sns.kdeplot(data=modelreg_data2, x=np.log(modelreg_data2[\"Winning_Price\"]),hue=\"DRL_Win_Flag\")"
   ]
  },
  {
   "cell_type": "code",
   "execution_count": 252,
   "id": "e7178ee0-fab0-418f-bf1d-af84fcba2960",
   "metadata": {},
   "outputs": [
    {
     "data": {
      "text/plain": [
       "<AxesSubplot:xlabel='Winning_Price', ylabel='Density'>"
      ]
     },
     "execution_count": 252,
     "metadata": {},
     "output_type": "execute_result"
    },
    {
     "data": {
      "image/png": "[encoded data removed]",
      "text/plain": [
       "<Figure size 432x288 with 1 Axes>"
      ]
     },
     "metadata": {
      "needs_background": "light"
     },
     "output_type": "display_data"
    }
   ],
   "source": [
    "import matplotlib.pyplot as plt\n",
    "\n",
    "sns.kdeplot(data=modelreg_data2[modelreg_data2[\"DRL_Win_Flag\"]==1], x=\"Winning_Price\")"
   ]
  },
  {
   "cell_type": "code",
   "execution_count": 253,
   "id": "ca3d8f91-d198-4a2d-8b24-32080d584851",
   "metadata": {},
   "outputs": [
    {
     "data": {
      "text/plain": [
       "<AxesSubplot:xlabel='Winning_Price', ylabel='Density'>"
      ]
     },
     "execution_count": 253,
     "metadata": {},
     "output_type": "execute_result"
    },
    {
     "data": {
      "image/png": "[encoded data removed]",
      "text/plain": [
       "<Figure size 432x288 with 1 Axes>"
      ]
     },
     "metadata": {
      "needs_background": "light"
     },
     "output_type": "display_data"
    }
   ],
   "source": [
    "sns.kdeplot(data=modelreg_data2[modelreg_data2[\"DRL_Win_Flag\"]==0], x=\"Winning_Price\")"
   ]
  },
  {
   "cell_type": "code",
   "execution_count": 254,
   "id": "a9751f76-293c-4c6f-a224-17d032551ebe",
   "metadata": {},
   "outputs": [],
   "source": [
    "modelreg_data2.to_excel(\"Regressionmodeldata.xlsx\")"
   ]
  },
  {
   "cell_type": "code",
   "execution_count": 255,
   "id": "692cb471-e34b-4e5f-8b8b-00fd8eea1a8d",
   "metadata": {},
   "outputs": [
    {
     "data": {
      "text/plain": [
       "<AxesSubplot:xlabel='Winning_Price', ylabel='Density'>"
      ]
     },
     "execution_count": 255,
     "metadata": {},
     "output_type": "execute_result"
    },
    {
     "data": {
      "image/png": "[encoded data removed]",
      "text/plain": [
       "<Figure size 432x288 with 1 Axes>"
      ]
     },
     "metadata": {
      "needs_background": "light"
     },
     "output_type": "display_data"
    }
   ],
   "source": [
    "sns.kdeplot(modelreg_data2[\"Winning_Price\"])"
   ]
  },
  {
   "cell_type": "code",
   "execution_count": 280,
   "id": "a6f7b929-88ce-44f0-a558-14a65ea29eb1",
   "metadata": {},
   "outputs": [
    {
     "data": {
      "text/plain": [
       "Text(0.5, 0, 'Proximity Delivery')"
      ]
     },
     "execution_count": 280,
     "metadata": {},
     "output_type": "execute_result"
    },
    {
     "data": {
      "image/png": "[encoded data removed]",
      "text/plain": [
       "<Figure size 432x288 with 1 Axes>"
      ]
     },
     "metadata": {
      "needs_background": "light"
     },
     "output_type": "display_data"
    }
   ],
   "source": [
    "x=encode_model_data[\"Proximity_Delivery\"]/30\n",
    "plt.boxplot(x)\n",
    "plt.xlabel(\"Proximity Delivery\")\n",
    "#sns.kdeplot(x)\n",
    "#plt.vlines(x=6,ymin=0,ymax=0.2,color=\"orange\")\n",
    "#plt.title(\"Outlier Removal in Proximity Delivery\")"
   ]
  },
  {
   "cell_type": "code",
   "execution_count": 278,
   "id": "6dab353d-ed7d-4ac7-acf9-a9fcf732f278",
   "metadata": {},
   "outputs": [
    {
     "data": {
      "text/plain": [
       "<AxesSubplot:xlabel='Proximity_Delivery', ylabel='Density'>"
      ]
     },
     "execution_count": 278,
     "metadata": {},
     "output_type": "execute_result"
    },
    {
     "data": {
      "image/png": "[encoded data removed]",
      "text/plain": [
       "<Figure size 432x288 with 1 Axes>"
      ]
     },
     "metadata": {
      "needs_background": "light"
     },
     "output_type": "display_data"
    }
   ],
   "source": [
    "sns.kdeplot(x[x<6])"
   ]
  },
  {
   "cell_type": "code",
   "execution_count": 267,
   "id": "5823399f-f593-4dd4-941e-1b11ee93f018",
   "metadata": {},
   "outputs": [
    {
     "data": {
      "text/plain": [
       "<AxesSubplot:xlabel='Proximity_Delivery', ylabel='Density'>"
      ]
     },
     "execution_count": 267,
     "metadata": {},
     "output_type": "execute_result"
    },
    {
     "data": {
      "image/png": "[encoded data removed]",
      "text/plain": [
       "<Figure size 432x288 with 1 Axes>"
      ]
     },
     "metadata": {
      "needs_background": "light"
     },
     "output_type": "display_data"
    }
   ],
   "source": [
    "sns.kdeplot(encode_model_data[encode_model_data[\"Proximity_Delivery\"]<150][\"Proximity_Delivery\"])"
   ]
  },
  {
   "cell_type": "code",
   "execution_count": 281,
   "id": "24c3a3de-4294-44be-b096-ec142d55e66d",
   "metadata": {},
   "outputs": [
    {
     "data": {
      "text/plain": [
       "Index(['Product_Name', 'Form', 'Tender_Id', 'Tender_Type', 'Client', 'Region',\n",
       "       'Start_Date', 'End_Date', 'Tender_Submission_Date', 'Winner',\n",
       "       ...\n",
       "       'Start_End_Date_Diff', '#Participant', '#Months_G.E',\n",
       "       'Participant_Club', 'Genric_Entry_Club', 'Proximity_Club',\n",
       "       'Client_Club', 'Tender_Duration_Club', 'Identifier',\n",
       "       'Previous_Winning_Price'],\n",
       "      dtype='object', length=140)"
      ]
     },
     "execution_count": 281,
     "metadata": {},
     "output_type": "execute_result"
    }
   ],
   "source": [
    "encode_model_data.columns"
   ]
  },
  {
   "cell_type": "code",
   "execution_count": 287,
   "id": "c1ae3c23-5f07-4aac-b4e4-a5ef46ce80d3",
   "metadata": {},
   "outputs": [
    {
     "data": {
      "text/plain": [
       "<AxesSubplot:xlabel='Dr Reddys S.r.l._Win_status', ylabel='Proximity_Delivery'>"
      ]
     },
     "execution_count": 287,
     "metadata": {},
     "output_type": "execute_result"
    },
    {
     "data": {
      "image/png": "[encoded data removed]",
      "text/plain": [
       "<Figure size 720x720 with 1 Axes>"
      ]
     },
     "metadata": {
      "needs_background": "light"
     },
     "output_type": "display_data"
    }
   ],
   "source": [
    "plt.figure(figsize=(10,10))\n",
    "sns.boxplot(x=\"Dr Reddys S.r.l._Win_status\", y=\"Proximity_Delivery\", data=encode_model_data)"
   ]
  },
  {
   "cell_type": "code",
   "execution_count": 288,
   "id": "62a4df8b-49a7-4706-ab30-fa19beb49fc3",
   "metadata": {},
   "outputs": [
    {
     "data": {
      "text/plain": [
       "<AxesSubplot:xlabel='Dr Reddys S.r.l._Win_status', ylabel='#Months_G.E'>"
      ]
     },
     "execution_count": 288,
     "metadata": {},
     "output_type": "execute_result"
    },
    {
     "data": {
      "image/png": "[encoded data removed]",
      "text/plain": [
       "<Figure size 720x720 with 1 Axes>"
      ]
     },
     "metadata": {
      "needs_background": "light"
     },
     "output_type": "display_data"
    }
   ],
   "source": [
    "plt.figure(figsize=(10,10))\n",
    "sns.boxplot(x=\"Dr Reddys S.r.l._Win_status\", y=\"#Months_G.E\", data=encode_model_data)"
   ]
  },
  {
   "cell_type": "code",
   "execution_count": 293,
   "id": "5b2c5bb7-baf4-4576-adf8-aaab8f2cf202",
   "metadata": {},
   "outputs": [
    {
     "data": {
      "text/plain": [
       "<AxesSubplot:xlabel='Dr Reddys S.r.l._Win_status', ylabel='Previous_Winning_Price'>"
      ]
     },
     "execution_count": 293,
     "metadata": {},
     "output_type": "execute_result"
    },
    {
     "data": {
      "image/png": "[encoded data removed]",
      "text/plain": [
       "<Figure size 720x720 with 1 Axes>"
      ]
     },
     "metadata": {
      "needs_background": "light"
     },
     "output_type": "display_data"
    }
   ],
   "source": [
    "new = encode_model_data[encode_model_data[\"Previous_Winning_Price\"]<100]\n",
    "plt.figure(figsize=(10,10))\n",
    "sns.boxplot(x=\"Dr Reddys S.r.l._Win_status\", y=\"Previous_Winning_Price\", data=new)"
   ]
  },
  {
   "cell_type": "code",
   "execution_count": 294,
   "id": "dcb4c1e1-467c-43b1-b6b4-9ff7f51991dc",
   "metadata": {},
   "outputs": [
    {
     "data": {
      "text/plain": [
       "<AxesSubplot:xlabel='Dr Reddys S.r.l._Win_status', ylabel='Start_End_Date_Diff'>"
      ]
     },
     "execution_count": 294,
     "metadata": {},
     "output_type": "execute_result"
    },
    {
     "data": {
      "image/png": "[encoded data removed]",
      "text/plain": [
       "<Figure size 720x720 with 1 Axes>"
      ]
     },
     "metadata": {
      "needs_background": "light"
     },
     "output_type": "display_data"
    }
   ],
   "source": [
    "new = encode_model_data[encode_model_data[\"Previous_Winning_Price\"]<100]\n",
    "plt.figure(figsize=(10,10))\n",
    "sns.boxplot(x=\"Dr Reddys S.r.l._Win_status\", y=\"Start_End_Date_Diff\", data=encode_model_data)"
   ]
  },
  {
   "cell_type": "markdown",
   "id": "fd6b6a8d-2ff9-43e2-9dbc-2f5f207c97be",
   "metadata": {},
   "source": [
    "## Price Regression Model Data "
   ]
  },
  {
   "cell_type": "code",
   "execution_count": 13,
   "id": "a1e94f5a-9d8d-4326-993f-f7c65c6ae938",
   "metadata": {},
   "outputs": [
    {
     "name": "stdout",
     "output_type": "stream",
     "text": [
      "(207, 13)\n"
     ]
    },
    {
     "data": {
      "text/plain": [
       "Index(['Identifier', 'DRL_Win_Flag', 'Form', 'Region', ' Tender_Type',\n",
       "       'Client', '#Participant', 'Winning_Price', 'Proximity_Delivery',\n",
       "       'Tender_Duration', 'Previous_Winning_Price', '#Months_G.E',\n",
       "       'DRL_Bid_price'],\n",
       "      dtype='object')"
      ]
     },
     "execution_count": 13,
     "metadata": {},
     "output_type": "execute_result"
    }
   ],
   "source": [
    "model1_data = price_data_processor(encode_model_data,DRL_Participation=True)\n",
    "model1_data.columns"
   ]
  },
  {
   "cell_type": "code",
   "execution_count": 14,
   "id": "b387ffba-e5ff-4822-a04a-56660779f5cf",
   "metadata": {},
   "outputs": [],
   "source": [
    "import numpy as np\n",
    "from scipy import stats\n",
    "from sklearn.model_selection import train_test_split"
   ]
  },
  {
   "cell_type": "markdown",
   "id": "e263079b-463e-487e-b8d0-9b0743a1e834",
   "metadata": {},
   "source": [
    "## Train Test Split"
   ]
  },
  {
   "cell_type": "markdown",
   "id": "55d80e72-603b-45cc-b9e3-919ec5994c7a",
   "metadata": {},
   "source": [
    "### Model 1 Setup"
   ]
  },
  {
   "cell_type": "code",
   "execution_count": 15,
   "id": "95dc9a77-f8cf-4a0a-b332-da793de20fc4",
   "metadata": {},
   "outputs": [],
   "source": [
    "X_cols = ['Form', 'Region', ' Tender_Type',\n",
    "       'Client', '#Participant', 'Proximity_Delivery',\n",
    "       'Tender_Duration', 'Previous_Winning_Price', '#Months_G.E']\n",
    "X = model1_data[X_cols]\n",
    "Y = list(model1_data[\"Winning_Price\"])\n",
    "X_train,X_test,Y_train,Y_Test = train_test_split(X,Y,test_size=0.2,random_state=1)"
   ]
  },
  {
   "cell_type": "markdown",
   "id": "3bc51af7-8fba-4ad2-b16d-794d9ac85a3f",
   "metadata": {},
   "source": [
    "### Model 2 Setup"
   ]
  },
  {
   "cell_type": "code",
   "execution_count": 16,
   "id": "3761ec02-1aa6-46e1-8796-6c9ab3800619",
   "metadata": {},
   "outputs": [],
   "source": [
    "Y2 = list(model1_data[\"DRL_Bid_price\"])\n",
    "X_train,X_test,Y_train2,Y_Test2 = train_test_split(X,Y2,test_size=0.2,random_state=1)"
   ]
  },
  {
   "cell_type": "markdown",
   "id": "fa7500fe-50a0-4411-94a2-e238f5b07792",
   "metadata": {},
   "source": [
    "### Compare robust regression algorithms on a regression dataset with outliers"
   ]
  },
  {
   "cell_type": "code",
   "execution_count": 17,
   "id": "c3319cfe-6657-4167-b05e-f89d6f8d79be",
   "metadata": {},
   "outputs": [],
   "source": [
    "from random import random\n",
    "from random import randint\n",
    "from random import seed\n",
    "from numpy import mean\n",
    "from numpy import std\n",
    "from numpy import absolute\n",
    "from sklearn.datasets import make_regression\n",
    "from sklearn.model_selection import cross_val_score\n",
    "from sklearn.model_selection import RepeatedKFold\n",
    "from sklearn.linear_model import LinearRegression\n",
    "from sklearn.linear_model import HuberRegressor\n",
    "from sklearn.linear_model import RANSACRegressor\n",
    "from sklearn.linear_model import TheilSenRegressor\n",
    "from matplotlib import pyplot"
   ]
  },
  {
   "cell_type": "markdown",
   "id": "8b2ed713-93e5-4668-9b8e-2b31cfa1b264",
   "metadata": {},
   "source": [
    "### Dictionary of model names and model objects"
   ]
  },
  {
   "cell_type": "code",
   "execution_count": 18,
   "id": "a80849c4-7ba2-445f-ab67-cd6ca06e0d7c",
   "metadata": {},
   "outputs": [],
   "source": [
    "def get_models():\n",
    "    models = dict()\n",
    "    models['Linear'] = LinearRegression()\n",
    "    models['Huber'] = HuberRegressor()\n",
    "    models['RANSAC'] = RANSACRegressor()\n",
    "    models['TheilSen'] = TheilSenRegressor()\n",
    "    return models"
   ]
  },
  {
   "cell_type": "code",
   "execution_count": 19,
   "id": "5354de71-bd2b-4c93-937b-e30fb21052cb",
   "metadata": {},
   "outputs": [],
   "source": [
    "# evaluate a model\n",
    "def evalute_model(X, y, model, name):\n",
    "    # define model evaluation method\n",
    "    cv = RepeatedKFold(n_splits=10, n_repeats=3, random_state=1)\n",
    "    # evaluate model\n",
    "    scores = cross_val_score(model, X, y, scoring='neg_mean_absolute_error', cv=cv, n_jobs=-1)\n",
    "    # force scores to be positive\n",
    "    scores = absolute(scores)\n",
    "    return scores"
   ]
  },
  {
   "cell_type": "code",
   "execution_count": 20,
   "id": "fade4273-0023-4a28-918b-f7ae48365fd7",
   "metadata": {},
   "outputs": [
    {
     "name": "stdout",
     "output_type": "stream",
     "text": [
      ">Linear 180.516 (105.302)\n",
      ">Huber nan (nan)\n",
      ">RANSAC 278.047 (299.076)\n",
      ">TheilSen 141.203 (117.292)\n"
     ]
    },
    {
     "data": {
      "text/plain": [
       "{'whiskers': [<matplotlib.lines.Line2D at 0x1ceb22d5a30>,\n",
       "  <matplotlib.lines.Line2D at 0x1ceb22d5d00>,\n",
       "  <matplotlib.lines.Line2D at 0x1ceb22fa6a0>,\n",
       "  <matplotlib.lines.Line2D at 0x1ceb22faa30>,\n",
       "  <matplotlib.lines.Line2D at 0x1ceb23103a0>,\n",
       "  <matplotlib.lines.Line2D at 0x1ceb2310730>,\n",
       "  <matplotlib.lines.Line2D at 0x1ceb23260a0>,\n",
       "  <matplotlib.lines.Line2D at 0x1ceb2326430>],\n",
       " 'caps': [<matplotlib.lines.Line2D at 0x1ceb22ef0d0>,\n",
       "  <matplotlib.lines.Line2D at 0x1ceb22ef460>,\n",
       "  <matplotlib.lines.Line2D at 0x1ceb22fadc0>,\n",
       "  <matplotlib.lines.Line2D at 0x1ceb2306190>,\n",
       "  <matplotlib.lines.Line2D at 0x1ceb2310ac0>,\n",
       "  <matplotlib.lines.Line2D at 0x1ceb2310e50>,\n",
       "  <matplotlib.lines.Line2D at 0x1ceb23267c0>,\n",
       "  <matplotlib.lines.Line2D at 0x1ceb1c1d310>],\n",
       " 'boxes': [<matplotlib.lines.Line2D at 0x1ceb22d55e0>,\n",
       "  <matplotlib.lines.Line2D at 0x1ceb22fa310>,\n",
       "  <matplotlib.lines.Line2D at 0x1ceb2306fd0>,\n",
       "  <matplotlib.lines.Line2D at 0x1ceb231ccd0>],\n",
       " 'medians': [<matplotlib.lines.Line2D at 0x1ceb22ef7f0>,\n",
       "  <matplotlib.lines.Line2D at 0x1ceb2306520>,\n",
       "  <matplotlib.lines.Line2D at 0x1ceb231c220>,\n",
       "  <matplotlib.lines.Line2D at 0x1ceb1bd6d30>],\n",
       " 'fliers': [<matplotlib.lines.Line2D at 0x1ceb22eff10>,\n",
       "  <matplotlib.lines.Line2D at 0x1ceb2306c40>,\n",
       "  <matplotlib.lines.Line2D at 0x1ceb231c940>,\n",
       "  <matplotlib.lines.Line2D at 0x1ceb1bd3c70>],\n",
       " 'means': [<matplotlib.lines.Line2D at 0x1ceb22efb80>,\n",
       "  <matplotlib.lines.Line2D at 0x1ceb23068b0>,\n",
       "  <matplotlib.lines.Line2D at 0x1ceb231c5b0>,\n",
       "  <matplotlib.lines.Line2D at 0x1ceb1bd66d0>]}"
      ]
     },
     "execution_count": 20,
     "metadata": {},
     "output_type": "execute_result"
    },
    {
     "data": {
      "image/png": "[encoded data removed]",
      "text/plain": [
       "<Figure size 432x288 with 1 Axes>"
      ]
     },
     "metadata": {
      "needs_background": "light"
     },
     "output_type": "display_data"
    }
   ],
   "source": [
    "# retrieve models\n",
    "models = get_models()\n",
    "results = dict()\n",
    "for name, model in models.items():\n",
    "    # evaluate the model\n",
    "    results[name] = evalute_model(X_train, Y_train, model, name)\n",
    "    # summarize progress\n",
    "    print('>%s %.3f (%.3f)' % (name, mean(results[name]), std(results[name])))\n",
    "# plot model performance for comparison\n",
    "pyplot.boxplot(results.values(), labels=results.keys(), showmeans=True)"
   ]
  },
  {
   "cell_type": "markdown",
   "id": "bf3503ad-b0f2-4dde-94a1-42dfa5750748",
   "metadata": {},
   "source": [
    "### Regression 1"
   ]
  },
  {
   "cell_type": "code",
   "execution_count": 21,
   "id": "39832a17-1bbe-4eca-81b3-f758219459ee",
   "metadata": {},
   "outputs": [
    {
     "data": {
      "text/plain": [
       "LinearRegression()"
      ]
     },
     "execution_count": 21,
     "metadata": {},
     "output_type": "execute_result"
    }
   ],
   "source": [
    "reg = LinearRegression()\n",
    "reg.fit(X_train,np.log(Y_train))"
   ]
  },
  {
   "cell_type": "code",
   "execution_count": 22,
   "id": "cc2d5194-eefb-4f4b-8727-ae16cab72eb0",
   "metadata": {},
   "outputs": [
    {
     "data": {
      "text/plain": [
       "0.8658090616634333"
      ]
     },
     "execution_count": 22,
     "metadata": {},
     "output_type": "execute_result"
    }
   ],
   "source": [
    "reg.score(X_test,np.log(Y_Test))"
   ]
  },
  {
   "cell_type": "code",
   "execution_count": 23,
   "id": "bdb0e779-5c8d-4fd4-b833-914e2d167c44",
   "metadata": {},
   "outputs": [
    {
     "data": {
      "text/plain": [
       "array([6.11200e+01, 6.40000e-01, 1.20900e+01, 4.80000e-01, 2.24559e+03,\n",
       "       6.80000e-01, 1.29000e+00, 6.40000e-01, 4.80000e-01, 2.31270e+02,\n",
       "       1.45000e+00, 1.54195e+03, 3.28200e+01, 2.60000e-01, 5.66400e+01,\n",
       "       1.29000e+00, 5.60000e-01, 6.30000e-01, 4.80000e-01, 2.42500e+01,\n",
       "       6.40000e-01, 3.06150e+02, 9.00000e-01, 7.00000e-01, 4.58200e+01,\n",
       "       1.44900e+01, 2.40000e-01, 9.61000e+00, 5.41170e+02, 1.86900e+01,\n",
       "       6.60000e-01, 2.54200e+02, 7.70000e-01, 8.50000e-01, 3.21900e+01,\n",
       "       3.63900e+01, 2.50000e-01, 5.50000e-01, 6.20000e-01, 3.92800e+01,\n",
       "       1.90000e-01, 5.90000e-01])"
      ]
     },
     "execution_count": 23,
     "metadata": {},
     "output_type": "execute_result"
    }
   ],
   "source": [
    "np.round(np.exp(reg.predict(X_test)),2)"
   ]
  },
  {
   "cell_type": "code",
   "execution_count": 24,
   "id": "48c622df-4305-4d67-9be5-994df2b0ad4f",
   "metadata": {},
   "outputs": [
    {
     "data": {
      "text/plain": [
       "array([ 4.02615794e+00, -2.27964453e-01, -5.46912125e-02,  3.73571141e-01,\n",
       "       -9.94321930e-01,  6.18912093e-04, -1.50755142e-01,  2.81914010e-04,\n",
       "       -3.39311680e-02])"
      ]
     },
     "execution_count": 24,
     "metadata": {},
     "output_type": "execute_result"
    }
   ],
   "source": [
    "reg.coef_"
   ]
  },
  {
   "cell_type": "markdown",
   "id": "7a440bf9-279b-4c34-9ef4-abb1c3e2c0f6",
   "metadata": {},
   "source": [
    "### Regression 2"
   ]
  },
  {
   "cell_type": "code",
   "execution_count": 25,
   "id": "70a056c0-0e75-40c0-9fb4-b0135420c70f",
   "metadata": {},
   "outputs": [
    {
     "data": {
      "text/plain": [
       "LinearRegression()"
      ]
     },
     "execution_count": 25,
     "metadata": {},
     "output_type": "execute_result"
    }
   ],
   "source": [
    "reg2 = LinearRegression()\n",
    "reg2.fit(X_train,np.log(Y_train2))"
   ]
  },
  {
   "cell_type": "code",
   "execution_count": 26,
   "id": "098901cb-6d27-4cee-b1d6-db80482a6c4a",
   "metadata": {},
   "outputs": [
    {
     "data": {
      "text/plain": [
       "LinearRegression()"
      ]
     },
     "execution_count": 26,
     "metadata": {},
     "output_type": "execute_result"
    }
   ],
   "source": [
    "reg2.fit(X_train,np.log(Y_train2))"
   ]
  },
  {
   "cell_type": "code",
   "execution_count": 27,
   "id": "c8d6c2da-6d41-47db-a457-5d8bb1641a4b",
   "metadata": {},
   "outputs": [
    {
     "data": {
      "text/plain": [
       "array([9.21511263e+01, 1.39948835e+00, 1.62073487e+01, 8.64871839e-01,\n",
       "       2.24687603e+03, 1.40526950e+00, 2.67091515e+00, 1.30437984e+00,\n",
       "       1.08653946e+00, 2.05447185e+02, 2.97582510e+00, 1.60433580e+03,\n",
       "       5.06567398e+01, 5.43212799e-01, 9.32154982e+01, 2.67091515e+00,\n",
       "       1.05446670e+00, 1.16188165e+00, 1.05592921e+00, 3.36188472e+01,\n",
       "       1.39949650e+00, 2.82318577e+02, 1.90714249e+00, 1.27985944e+00,\n",
       "       6.87401332e+01, 2.23225460e+01, 4.35621288e-01, 1.49163464e+01,\n",
       "       4.75757820e+02, 3.13724417e+01, 1.20087037e+00, 2.34332170e+02,\n",
       "       1.41114503e+00, 1.78131772e+00, 4.53119752e+01, 5.98931027e+01,\n",
       "       5.63033820e-01, 1.02693325e+00, 1.20502367e+00, 5.38809701e+01,\n",
       "       3.57167201e-01, 1.06119975e+00])"
      ]
     },
     "execution_count": 27,
     "metadata": {},
     "output_type": "execute_result"
    }
   ],
   "source": [
    "np.exp(reg2.predict(X_test))"
   ]
  },
  {
   "cell_type": "code",
   "execution_count": 28,
   "id": "e34ef683-172f-4a28-9d94-cbd0ba41898b",
   "metadata": {},
   "outputs": [],
   "source": [
    "model1_data[\"Win_Bid\"] = np.exp(reg.predict(X))\n",
    "model1_data[\"DRL_Bid\"] = np.exp(reg2.predict(X))"
   ]
  },
  {
   "cell_type": "code",
   "execution_count": 29,
   "id": "d214d778-15eb-4362-849d-1e76a4653cd2",
   "metadata": {},
   "outputs": [
    {
     "data": {
      "text/plain": [
       "102"
      ]
     },
     "execution_count": 29,
     "metadata": {},
     "output_type": "execute_result"
    }
   ],
   "source": [
    "sum(model1_data[\"Winning_Price\"]>model1_data[\"Win_Bid\"])"
   ]
  },
  {
   "cell_type": "code",
   "execution_count": 30,
   "id": "2176d535-12df-4aa3-b3eb-d44ab1a01cc1",
   "metadata": {},
   "outputs": [
    {
     "data": {
      "text/plain": [
       "65"
      ]
     },
     "execution_count": 30,
     "metadata": {},
     "output_type": "execute_result"
    }
   ],
   "source": [
    "sum(model1_data[\"Winning_Price\"]>model1_data[\"DRL_Bid\"])"
   ]
  },
  {
   "cell_type": "code",
   "execution_count": 32,
   "id": "a35791a5-6aaa-4b3f-a6db-f1a3f2deb556",
   "metadata": {},
   "outputs": [
    {
     "data": {
      "text/plain": [
       "<AxesSubplot:xlabel='DRL_Bid', ylabel='Density'>"
      ]
     },
     "execution_count": 32,
     "metadata": {},
     "output_type": "execute_result"
    },
    {
     "data": {
      "image/png": "[encoded data removed]",
      "text/plain": [
       "<Figure size 432x288 with 1 Axes>"
      ]
     },
     "metadata": {
      "needs_background": "light"
     },
     "output_type": "display_data"
    }
   ],
   "source": [
    "import seaborn as sns\n",
    "sns.kdeplot(np.log(model1_data[\"DRL_Bid\"]))\n",
    "sns.kdeplot(np.log(model1_data[\"Win_Bid\"]))\n",
    "sns.kdeplot(np.log(model1_data[\"Winning_Price\"]))"
   ]
  },
  {
   "cell_type": "code",
   "execution_count": 33,
   "id": "c08623a6-52ef-4d7e-9b36-c54480a80954",
   "metadata": {},
   "outputs": [
    {
     "data": {
      "text/plain": [
       "<AxesSubplot:xlabel='DRL_Bid', ylabel='Density'>"
      ]
     },
     "execution_count": 33,
     "metadata": {},
     "output_type": "execute_result"
    },
    {
     "data": {
      "image/png": "[encoded data removed]",
      "text/plain": [
       "<Figure size 432x288 with 1 Axes>"
      ]
     },
     "metadata": {
      "needs_background": "light"
     },
     "output_type": "display_data"
    }
   ],
   "source": [
    "sns.kdeplot((model1_data[\"DRL_Bid\"]))\n",
    "sns.kdeplot((model1_data[\"Win_Bid\"]))\n",
    "sns.kdeplot((model1_data[\"Winning_Price\"]))"
   ]
  },
  {
   "cell_type": "code",
   "execution_count": 34,
   "id": "c4262afe-45b2-48a0-bb8d-9c30eaf6c8ec",
   "metadata": {},
   "outputs": [],
   "source": [
    "model1_data.to_excel(\"Linear_Pred.xlsx\")"
   ]
  },
  {
   "cell_type": "code",
   "execution_count": 35,
   "id": "29b3c7ac-ef7e-4f52-a7b1-8254a5ebbdc7",
   "metadata": {},
   "outputs": [],
   "source": [
    "from sklearn.metrics import mean_absolute_percentage_error as mape"
   ]
  },
  {
   "cell_type": "code",
   "execution_count": 36,
   "id": "43235e85-2ee0-4a54-8bc6-8a5227e4bc7f",
   "metadata": {},
   "outputs": [
    {
     "data": {
      "text/plain": [
       "1.603087573543069"
      ]
     },
     "execution_count": 36,
     "metadata": {},
     "output_type": "execute_result"
    }
   ],
   "source": [
    "mape(Y,np.exp(reg2.predict(X)))"
   ]
  },
  {
   "cell_type": "code",
   "execution_count": 37,
   "id": "b9ce3d29-f38f-4d94-84ea-043ed0ad9bef",
   "metadata": {},
   "outputs": [
    {
     "data": {
      "text/plain": [
       "0.9979989249063351"
      ]
     },
     "execution_count": 37,
     "metadata": {},
     "output_type": "execute_result"
    }
   ],
   "source": [
    "mape(Y,np.exp(reg.predict(X)))"
   ]
  },
  {
   "cell_type": "code",
   "execution_count": 38,
   "id": "55fdc911-0b7d-46f1-ba0f-92a66c2db649",
   "metadata": {},
   "outputs": [
    {
     "data": {
      "text/plain": [
       "0.34450077815647895"
      ]
     },
     "execution_count": 38,
     "metadata": {},
     "output_type": "execute_result"
    }
   ],
   "source": [
    "mape(np.exp(reg2.predict(X)),np.exp(reg.predict(X)))"
   ]
  },
  {
   "cell_type": "code",
   "execution_count": 39,
   "id": "9e781ca7-a090-42f1-af47-698581d34e19",
   "metadata": {},
   "outputs": [
    {
     "data": {
      "text/plain": [
       "(0.0, 15000.0)"
      ]
     },
     "execution_count": 39,
     "metadata": {},
     "output_type": "execute_result"
    },
    {
     "data": {
      "image/png": "[encoded data removed]",
      "text/plain": [
       "<Figure size 432x288 with 1 Axes>"
      ]
     },
     "metadata": {
      "needs_background": "light"
     },
     "output_type": "display_data"
    }
   ],
   "source": [
    "plt.plot(Y,np.exp(reg.predict(X)),\"o\")\n",
    "plt.ylim(0,15000)"
   ]
  },
  {
   "cell_type": "code",
   "execution_count": 80,
   "id": "356ee090-39bc-4c3d-babf-12d71b7e9464",
   "metadata": {},
   "outputs": [],
   "source": [
    "def mean_absolute_percentage_error(y_true, y_pred): \n",
    "    y_true, y_pred = np.array(y_true), np.array(y_pred)\n",
    "    return np.mean(np.abs((y_true - y_pred) / y_true)) * 100"
   ]
  },
  {
   "cell_type": "code",
   "execution_count": 41,
   "id": "505083ba-6d70-49a7-a35e-065ebdabaa41",
   "metadata": {},
   "outputs": [
    {
     "data": {
      "text/plain": [
       "160.3087573543069"
      ]
     },
     "execution_count": 41,
     "metadata": {},
     "output_type": "execute_result"
    }
   ],
   "source": [
    "mean_absolute_percentage_error(Y,np.exp(reg2.predict(X)))"
   ]
  },
  {
   "cell_type": "code",
   "execution_count": 42,
   "id": "0a82880b-acda-4e59-98ac-46e82cf132ea",
   "metadata": {},
   "outputs": [
    {
     "data": {
      "text/plain": [
       "99.79989249063351"
      ]
     },
     "execution_count": 42,
     "metadata": {},
     "output_type": "execute_result"
    }
   ],
   "source": [
    "mean_absolute_percentage_error(Y,np.exp(reg.predict(X)))"
   ]
  },
  {
   "cell_type": "code",
   "execution_count": 43,
   "id": "fc980ddd-2630-4c06-8530-d3605e7efef4",
   "metadata": {},
   "outputs": [
    {
     "data": {
      "text/plain": [
       "<matplotlib.legend.Legend at 0x1ceb3623eb0>"
      ]
     },
     "execution_count": 43,
     "metadata": {},
     "output_type": "execute_result"
    },
    {
     "data": {
      "image/png": "[encoded data removed]",
      "text/plain": [
       "<Figure size 432x288 with 1 Axes>"
      ]
     },
     "metadata": {
      "needs_background": "light"
     },
     "output_type": "display_data"
    }
   ],
   "source": [
    "plt.vlines((np.mean(np.exp(reg2.predict(X)))),ymax=.00005,ymin=0,label=\"Mean Prediction\")\n",
    "sns.kdeplot((np.exp(reg2.predict(X))),label=\"Prediction\")\n",
    "sns.kdeplot((model1_data[\"Winning_Price\"]),label=\"Actual\")\n",
    "plt.legend()"
   ]
  },
  {
   "cell_type": "code",
   "execution_count": 44,
   "id": "76ca4d73-2a79-4187-8690-39ed4d5d1dd6",
   "metadata": {},
   "outputs": [
    {
     "data": {
      "text/plain": [
       "<matplotlib.legend.Legend at 0x1ceb23b0df0>"
      ]
     },
     "execution_count": 44,
     "metadata": {},
     "output_type": "execute_result"
    },
    {
     "data": {
      "image/png": "[encoded data removed]",
      "text/plain": [
       "<Figure size 432x288 with 1 Axes>"
      ]
     },
     "metadata": {
      "needs_background": "light"
     },
     "output_type": "display_data"
    }
   ],
   "source": [
    "import matplotlib.patches as  mpatches\n",
    "sns.kdeplot((model1_data[\"Winning_Price\"]),label=\"Actual\",color=\"red\")\n",
    "sns.kdeplot(model1_data[model1_data[\"DRL_Win_Flag\"]==1][\"Winning_Price\"])\n",
    "handles = [mpatches.Patch(label=\"Winner\"),\n",
    "           mpatches.Patch(label=\"Drl Winner\")]\n",
    "plt.legend(handles=handles)"
   ]
  },
  {
   "cell_type": "code",
   "execution_count": 203,
   "id": "88458afd-56d4-4adf-bb75-84820e951859",
   "metadata": {},
   "outputs": [
    {
     "data": {
      "text/plain": [
       "<AxesSubplot:xlabel='Winning_Price', ylabel='Density'>"
      ]
     },
     "execution_count": 203,
     "metadata": {},
     "output_type": "execute_result"
    },
    {
     "data": {
      "image/png": "[encoded data removed]",
      "text/plain": [
       "<Figure size 432x288 with 1 Axes>"
      ]
     },
     "metadata": {
      "needs_background": "light"
     },
     "output_type": "display_data"
    }
   ],
   "source": [
    "sns.kdeplot(model1_data[model1_data[\"DRL_Win_Flag\"]==1][\"Winning_Price\"])"
   ]
  },
  {
   "cell_type": "code",
   "execution_count": 214,
   "id": "7297f2e9-7ada-45fc-bd54-0324865e088f",
   "metadata": {},
   "outputs": [
    {
     "data": {
      "text/plain": [
       "29"
      ]
     },
     "execution_count": 214,
     "metadata": {},
     "output_type": "execute_result"
    }
   ],
   "source": [
    "len(model1_data[model1_data[\"Winning_Price\"]>100][\"Winning_Price\"])"
   ]
  },
  {
   "cell_type": "code",
   "execution_count": 216,
   "id": "cda309f3-27bc-4492-9df0-fe4016cafd53",
   "metadata": {},
   "outputs": [
    {
     "data": {
      "text/plain": [
       "177"
      ]
     },
     "execution_count": 216,
     "metadata": {},
     "output_type": "execute_result"
    }
   ],
   "source": [
    "len(model1_data[model1_data[\"Winning_Price\"]<100])"
   ]
  },
  {
   "cell_type": "code",
   "execution_count": 46,
   "id": "c6c82f4d-624b-4bc5-8054-b25712ec4b49",
   "metadata": {},
   "outputs": [
    {
     "data": {
      "text/plain": [
       "0.23"
      ]
     },
     "execution_count": 46,
     "metadata": {},
     "output_type": "execute_result"
    }
   ],
   "source": [
    "min(model1_data[model1_data[\"DRL_Win_Flag\"]==1][\"Winning_Price\"])"
   ]
  },
  {
   "cell_type": "code",
   "execution_count": 51,
   "id": "b0b781b3-5847-4c69-baab-c12ba2d2bc29",
   "metadata": {},
   "outputs": [
    {
     "data": {
      "text/plain": [
       "<matplotlib.collections.LineCollection at 0x1ceb3da8160>"
      ]
     },
     "execution_count": 51,
     "metadata": {},
     "output_type": "execute_result"
    },
    {
     "data": {
      "image/png": "[encoded data removed]",
      "text/plain": [
       "<Figure size 432x288 with 1 Axes>"
      ]
     },
     "metadata": {
      "needs_background": "light"
     },
     "output_type": "display_data"
    }
   ],
   "source": [
    "import matplotlib.patches as  mpatches\n",
    "sns.kdeplot((model1_data[\"Winning_Price\"]),label=\"Actual\",color=\"red\")\n",
    "sns.kdeplot(model1_data[model1_data[\"DRL_Win_Flag\"]==1][\"Winning_Price\"])\n",
    "handles = [mpatches.Patch(label=\"Winner\"),\n",
    "           mpatches.Patch(label=\"Drl Winner\")]\n",
    "plt.legend(handles=handles)\n",
    "plt.vlines(x=0.23,ymin=0,ymax=0.0005,color=\"green\")\n",
    "plt.vlines(x=min(model1_data[\"Winning_Price\"]),ymin=0,ymax=0.0005,color=\"orange\")"
   ]
  },
  {
   "cell_type": "code",
   "execution_count": 52,
   "id": "0c476955-6bc2-4ecd-9143-c92937c3f4ce",
   "metadata": {},
   "outputs": [
    {
     "data": {
      "text/plain": [
       "0.15609"
      ]
     },
     "execution_count": 52,
     "metadata": {},
     "output_type": "execute_result"
    }
   ],
   "source": [
    "min(model1_data[\"Winning_Price\"])"
   ]
  },
  {
   "cell_type": "code",
   "execution_count": 59,
   "id": "c7a8e826-122f-4e1f-a4b1-447fc41fa83c",
   "metadata": {},
   "outputs": [
    {
     "data": {
      "text/plain": [
       "<AxesSubplot:xlabel='Winning_Price', ylabel='Density'>"
      ]
     },
     "execution_count": 59,
     "metadata": {},
     "output_type": "execute_result"
    },
    {
     "data": {
      "image/png": "[encoded data removed]",
      "text/plain": [
       "<Figure size 432x288 with 1 Axes>"
      ]
     },
     "metadata": {
      "needs_background": "light"
     },
     "output_type": "display_data"
    }
   ],
   "source": [
    "sns.kdeplot(model1_data[model1_data[\"DRL_Bid_price\"]<1][\"Winning_Price\"])"
   ]
  },
  {
   "cell_type": "code",
   "execution_count": 57,
   "id": "c3218e36-c647-4c7f-8f4a-78d91969d8fa",
   "metadata": {},
   "outputs": [
    {
     "data": {
      "text/plain": [
       "63"
      ]
     },
     "execution_count": 57,
     "metadata": {},
     "output_type": "execute_result"
    }
   ],
   "source": [
    "sum(model1_data[\"Winning_Price\"]<1)"
   ]
  },
  {
   "cell_type": "markdown",
   "id": "7eb6b0e1-1165-49ee-ad79-1ed3421f14ac",
   "metadata": {},
   "source": [
    "## Model 1 to 50"
   ]
  },
  {
   "cell_type": "code",
   "execution_count": 143,
   "id": "1978ef48-8b1a-4e44-93f8-2554ddfff3db",
   "metadata": {},
   "outputs": [],
   "source": [
    "model1_50=model1_data[(model1_data[\"Winning_Price\"]>=1)&(model1_data[\"Winning_Price\"]<50)]\n",
    "model_1 = model1_data[model1_data[\"Winning_Price\"]<1]"
   ]
  },
  {
   "cell_type": "code",
   "execution_count": 172,
   "id": "5f397547-42c1-4025-bb98-dfbda48b9ea0",
   "metadata": {},
   "outputs": [],
   "source": [
    "X_cols = ['Form', 'Region', ' Tender_Type',\n",
    "       'Client', '#Participant', 'Proximity_Delivery',\n",
    "       'Tender_Duration', 'Previous_Winning_Price', '#Months_G.E']\n",
    "X = model1_50[X_cols]\n",
    "Y = list(model1_50[\"Winning_Price\"])\n",
    "#X_train,X_test,Y_train,Y_Test = train_test_split(X,Y,test_size=0.2,random_state=1)"
   ]
  },
  {
   "cell_type": "code",
   "execution_count": 145,
   "id": "762eb797-76d1-4ba9-98c4-592522d857bf",
   "metadata": {},
   "outputs": [
    {
     "data": {
      "text/plain": [
       "LinearRegression()"
      ]
     },
     "execution_count": 145,
     "metadata": {},
     "output_type": "execute_result"
    }
   ],
   "source": [
    "reg = LinearRegression()\n",
    "reg.fit(X,np.log(Y))"
   ]
  },
  {
   "cell_type": "code",
   "execution_count": 146,
   "id": "0ee1ba52-8b25-4f7e-baad-84f5f60e3b0c",
   "metadata": {},
   "outputs": [
    {
     "ename": "PermissionError",
     "evalue": "[Errno 13] Permission denied: 'Mean_Absolute_Prediction.xlsx'",
     "output_type": "error",
     "traceback": [
      "\u001b[1;31m---------------------------------------------------------------------------\u001b[0m",
      "\u001b[1;31mPermissionError\u001b[0m                           Traceback (most recent call last)",
      "\u001b[1;32mC:\\Users\\P90011~1\\AppData\\Local\\Temp/ipykernel_4504/736815495.py\u001b[0m in \u001b[0;36m<module>\u001b[1;34m\u001b[0m\n\u001b[1;32m----> 1\u001b[1;33m \u001b[0mpd\u001b[0m\u001b[1;33m.\u001b[0m\u001b[0mDataFrame\u001b[0m\u001b[1;33m(\u001b[0m\u001b[1;33m{\u001b[0m\u001b[1;34m\"Actual\"\u001b[0m\u001b[1;33m:\u001b[0m\u001b[0mY\u001b[0m\u001b[1;33m,\u001b[0m\u001b[1;34m\"pred\"\u001b[0m\u001b[1;33m:\u001b[0m\u001b[0mnp\u001b[0m\u001b[1;33m.\u001b[0m\u001b[0mexp\u001b[0m\u001b[1;33m(\u001b[0m\u001b[0mreg\u001b[0m\u001b[1;33m.\u001b[0m\u001b[0mpredict\u001b[0m\u001b[1;33m(\u001b[0m\u001b[0mX\u001b[0m\u001b[1;33m)\u001b[0m\u001b[1;33m)\u001b[0m\u001b[1;33m}\u001b[0m\u001b[1;33m)\u001b[0m\u001b[1;33m.\u001b[0m\u001b[0mto_excel\u001b[0m\u001b[1;33m(\u001b[0m\u001b[1;34m\"Mean_Absolute_Prediction.xlsx\"\u001b[0m\u001b[1;33m)\u001b[0m\u001b[1;33m\u001b[0m\u001b[1;33m\u001b[0m\u001b[0m\n\u001b[0m",
      "\u001b[1;32mC:\\ProgramData\\Anaconda3\\lib\\site-packages\\pandas\\core\\generic.py\u001b[0m in \u001b[0;36mto_excel\u001b[1;34m(self, excel_writer, sheet_name, na_rep, float_format, columns, header, index, index_label, startrow, startcol, engine, merge_cells, encoding, inf_rep, verbose, freeze_panes, storage_options)\u001b[0m\n\u001b[0;32m   2282\u001b[0m             \u001b[0minf_rep\u001b[0m\u001b[1;33m=\u001b[0m\u001b[0minf_rep\u001b[0m\u001b[1;33m,\u001b[0m\u001b[1;33m\u001b[0m\u001b[1;33m\u001b[0m\u001b[0m\n\u001b[0;32m   2283\u001b[0m         )\n\u001b[1;32m-> 2284\u001b[1;33m         formatter.write(\n\u001b[0m\u001b[0;32m   2285\u001b[0m             \u001b[0mexcel_writer\u001b[0m\u001b[1;33m,\u001b[0m\u001b[1;33m\u001b[0m\u001b[1;33m\u001b[0m\u001b[0m\n\u001b[0;32m   2286\u001b[0m             \u001b[0msheet_name\u001b[0m\u001b[1;33m=\u001b[0m\u001b[0msheet_name\u001b[0m\u001b[1;33m,\u001b[0m\u001b[1;33m\u001b[0m\u001b[1;33m\u001b[0m\u001b[0m\n",
      "\u001b[1;32mC:\\ProgramData\\Anaconda3\\lib\\site-packages\\pandas\\io\\formats\\excel.py\u001b[0m in \u001b[0;36mwrite\u001b[1;34m(self, writer, sheet_name, startrow, startcol, freeze_panes, engine, storage_options)\u001b[0m\n\u001b[0;32m    832\u001b[0m             \u001b[1;31m# error: Cannot instantiate abstract class 'ExcelWriter' with abstract\u001b[0m\u001b[1;33m\u001b[0m\u001b[1;33m\u001b[0m\u001b[0m\n\u001b[0;32m    833\u001b[0m             \u001b[1;31m# attributes 'engine', 'save', 'supported_extensions' and 'write_cells'\u001b[0m\u001b[1;33m\u001b[0m\u001b[1;33m\u001b[0m\u001b[0m\n\u001b[1;32m--> 834\u001b[1;33m             writer = ExcelWriter(  # type: ignore[abstract]\n\u001b[0m\u001b[0;32m    835\u001b[0m                 \u001b[0mwriter\u001b[0m\u001b[1;33m,\u001b[0m \u001b[0mengine\u001b[0m\u001b[1;33m=\u001b[0m\u001b[0mengine\u001b[0m\u001b[1;33m,\u001b[0m \u001b[0mstorage_options\u001b[0m\u001b[1;33m=\u001b[0m\u001b[0mstorage_options\u001b[0m\u001b[1;33m\u001b[0m\u001b[1;33m\u001b[0m\u001b[0m\n\u001b[0;32m    836\u001b[0m             )\n",
      "\u001b[1;32mC:\\ProgramData\\Anaconda3\\lib\\site-packages\\pandas\\io\\excel\\_xlsxwriter.py\u001b[0m in \u001b[0;36m__init__\u001b[1;34m(self, path, engine, date_format, datetime_format, mode, storage_options, if_sheet_exists, engine_kwargs, **kwargs)\u001b[0m\n\u001b[0;32m    189\u001b[0m             \u001b[1;32mraise\u001b[0m \u001b[0mValueError\u001b[0m\u001b[1;33m(\u001b[0m\u001b[1;34m\"Append mode is not supported with xlsxwriter!\"\u001b[0m\u001b[1;33m)\u001b[0m\u001b[1;33m\u001b[0m\u001b[1;33m\u001b[0m\u001b[0m\n\u001b[0;32m    190\u001b[0m \u001b[1;33m\u001b[0m\u001b[0m\n\u001b[1;32m--> 191\u001b[1;33m         super().__init__(\n\u001b[0m\u001b[0;32m    192\u001b[0m             \u001b[0mpath\u001b[0m\u001b[1;33m,\u001b[0m\u001b[1;33m\u001b[0m\u001b[1;33m\u001b[0m\u001b[0m\n\u001b[0;32m    193\u001b[0m             \u001b[0mengine\u001b[0m\u001b[1;33m=\u001b[0m\u001b[0mengine\u001b[0m\u001b[1;33m,\u001b[0m\u001b[1;33m\u001b[0m\u001b[1;33m\u001b[0m\u001b[0m\n",
      "\u001b[1;32mC:\\ProgramData\\Anaconda3\\lib\\site-packages\\pandas\\io\\excel\\_base.py\u001b[0m in \u001b[0;36m__init__\u001b[1;34m(self, path, engine, date_format, datetime_format, mode, storage_options, if_sheet_exists, engine_kwargs, **kwargs)\u001b[0m\n\u001b[0;32m    923\u001b[0m         \u001b[0mself\u001b[0m\u001b[1;33m.\u001b[0m\u001b[0mhandles\u001b[0m \u001b[1;33m=\u001b[0m \u001b[0mIOHandles\u001b[0m\u001b[1;33m(\u001b[0m\u001b[0mcast\u001b[0m\u001b[1;33m(\u001b[0m\u001b[0mBuffer\u001b[0m\u001b[1;33m,\u001b[0m \u001b[0mpath\u001b[0m\u001b[1;33m)\u001b[0m\u001b[1;33m,\u001b[0m \u001b[0mcompression\u001b[0m\u001b[1;33m=\u001b[0m\u001b[1;33m{\u001b[0m\u001b[1;34m\"copression\"\u001b[0m\u001b[1;33m:\u001b[0m \u001b[1;32mNone\u001b[0m\u001b[1;33m}\u001b[0m\u001b[1;33m)\u001b[0m\u001b[1;33m\u001b[0m\u001b[1;33m\u001b[0m\u001b[0m\n\u001b[0;32m    924\u001b[0m         \u001b[1;32mif\u001b[0m \u001b[1;32mnot\u001b[0m \u001b[0misinstance\u001b[0m\u001b[1;33m(\u001b[0m\u001b[0mpath\u001b[0m\u001b[1;33m,\u001b[0m \u001b[0mExcelWriter\u001b[0m\u001b[1;33m)\u001b[0m\u001b[1;33m:\u001b[0m\u001b[1;33m\u001b[0m\u001b[1;33m\u001b[0m\u001b[0m\n\u001b[1;32m--> 925\u001b[1;33m             self.handles = get_handle(\n\u001b[0m\u001b[0;32m    926\u001b[0m                 \u001b[0mpath\u001b[0m\u001b[1;33m,\u001b[0m \u001b[0mmode\u001b[0m\u001b[1;33m,\u001b[0m \u001b[0mstorage_options\u001b[0m\u001b[1;33m=\u001b[0m\u001b[0mstorage_options\u001b[0m\u001b[1;33m,\u001b[0m \u001b[0mis_text\u001b[0m\u001b[1;33m=\u001b[0m\u001b[1;32mFalse\u001b[0m\u001b[1;33m\u001b[0m\u001b[1;33m\u001b[0m\u001b[0m\n\u001b[0;32m    927\u001b[0m             )\n",
      "\u001b[1;32mC:\\ProgramData\\Anaconda3\\lib\\site-packages\\pandas\\io\\common.py\u001b[0m in \u001b[0;36mget_handle\u001b[1;34m(path_or_buf, mode, encoding, compression, memory_map, is_text, errors, storage_options)\u001b[0m\n\u001b[0;32m    709\u001b[0m         \u001b[1;32melse\u001b[0m\u001b[1;33m:\u001b[0m\u001b[1;33m\u001b[0m\u001b[1;33m\u001b[0m\u001b[0m\n\u001b[0;32m    710\u001b[0m             \u001b[1;31m# Binary mode\u001b[0m\u001b[1;33m\u001b[0m\u001b[1;33m\u001b[0m\u001b[0m\n\u001b[1;32m--> 711\u001b[1;33m             \u001b[0mhandle\u001b[0m \u001b[1;33m=\u001b[0m \u001b[0mopen\u001b[0m\u001b[1;33m(\u001b[0m\u001b[0mhandle\u001b[0m\u001b[1;33m,\u001b[0m \u001b[0mioargs\u001b[0m\u001b[1;33m.\u001b[0m\u001b[0mmode\u001b[0m\u001b[1;33m)\u001b[0m\u001b[1;33m\u001b[0m\u001b[1;33m\u001b[0m\u001b[0m\n\u001b[0m\u001b[0;32m    712\u001b[0m         \u001b[0mhandles\u001b[0m\u001b[1;33m.\u001b[0m\u001b[0mappend\u001b[0m\u001b[1;33m(\u001b[0m\u001b[0mhandle\u001b[0m\u001b[1;33m)\u001b[0m\u001b[1;33m\u001b[0m\u001b[1;33m\u001b[0m\u001b[0m\n\u001b[0;32m    713\u001b[0m \u001b[1;33m\u001b[0m\u001b[0m\n",
      "\u001b[1;31mPermissionError\u001b[0m: [Errno 13] Permission denied: 'Mean_Absolute_Prediction.xlsx'"
     ]
    }
   ],
   "source": [
    "pd.DataFrame({\"Actual\":Y,\"pred\":np.exp(reg.predict(X))}).to_excel(\"Mean_Absolute_Prediction.xlsx\")"
   ]
  },
  {
   "cell_type": "code",
   "execution_count": 147,
   "id": "bb61c8ae-6e80-4ab1-987e-70ef260b94b9",
   "metadata": {},
   "outputs": [
    {
     "data": {
      "text/plain": [
       "35.94629268591237"
      ]
     },
     "execution_count": 147,
     "metadata": {},
     "output_type": "execute_result"
    }
   ],
   "source": [
    "mean_absolute_percentage_error(Y,np.exp(reg.predict(X)))"
   ]
  },
  {
   "cell_type": "code",
   "execution_count": 121,
   "id": "a79ec010-846d-4959-a111-c32291dac561",
   "metadata": {},
   "outputs": [
    {
     "name": "stdout",
     "output_type": "stream",
     "text": [
      "Mean MAE: 0.628 (0.214)\n"
     ]
    }
   ],
   "source": [
    "# evaluate an ridge regression model on the dataset\n",
    "from numpy import mean\n",
    "from numpy import std\n",
    "from numpy import absolute\n",
    "from pandas import read_csv\n",
    "from sklearn.model_selection import cross_val_score\n",
    "from sklearn.model_selection import RepeatedKFold\n",
    "from sklearn.linear_model import Ridge\n",
    "# define model\n",
    "model = Ridge(alpha=1.0)\n",
    "# define model evaluation method\n",
    "cv = RepeatedKFold(n_splits=10, n_repeats=3, random_state=1)\n",
    "# evaluate model\n",
    "scores = cross_val_score(model, X, np.log(Y), scoring='neg_mean_absolute_error', cv=cv, n_jobs=-1)\n",
    "# force scores to be positive\n",
    "scores = absolute(scores)\n",
    "print('Mean MAE: %.3f (%.3f)' % (mean(scores), std(scores)))"
   ]
  },
  {
   "cell_type": "code",
   "execution_count": 122,
   "id": "c5eab3f1-468b-458f-9d22-95f5850ef305",
   "metadata": {},
   "outputs": [
    {
     "data": {
      "text/plain": [
       "Ridge()"
      ]
     },
     "execution_count": 122,
     "metadata": {},
     "output_type": "execute_result"
    }
   ],
   "source": [
    "model.fit(X,np.log(Y))"
   ]
  },
  {
   "cell_type": "code",
   "execution_count": 123,
   "id": "0865bf9e-fd2e-44df-a2e6-fc99d5399139",
   "metadata": {},
   "outputs": [
    {
     "data": {
      "text/plain": [
       "62.50678118950796"
      ]
     },
     "execution_count": 123,
     "metadata": {},
     "output_type": "execute_result"
    }
   ],
   "source": [
    "mean_absolute_percentage_error(Y,np.exp(model.predict(X)))"
   ]
  },
  {
   "cell_type": "code",
   "execution_count": 124,
   "id": "ed5fa549-fbab-408a-aa96-f6791089c930",
   "metadata": {},
   "outputs": [
    {
     "name": "stdout",
     "output_type": "stream",
     "text": [
      "MAE: -0.611\n",
      "Config: {'alpha': 0.0}\n"
     ]
    }
   ],
   "source": [
    "# grid search hyperparameters for ridge regression\n",
    "from numpy import arange\n",
    "from pandas import read_csv\n",
    "from sklearn.model_selection import GridSearchCV\n",
    "from sklearn.model_selection import RepeatedKFold\n",
    "from sklearn.linear_model import Ridge\n",
    "model = Ridge()\n",
    "# define model evaluation method\n",
    "cv = RepeatedKFold(n_splits=10, n_repeats=3, random_state=1)\n",
    "# define grid\n",
    "grid = dict()\n",
    "grid['alpha'] = arange(0, 1, 0.01)\n",
    "# define search\n",
    "search = GridSearchCV(model, grid, scoring='neg_mean_absolute_error', cv=cv, n_jobs=-1)\n",
    "# perform the search\n",
    "results = search.fit(X, np.log(Y))\n",
    "# summarize\n",
    "print('MAE: %.3f' % results.best_score_)\n",
    "print('Config: %s' % results.best_params_)"
   ]
  },
  {
   "cell_type": "code",
   "execution_count": 127,
   "id": "c14bdcab-a745-40e5-88ed-818d88794379",
   "metadata": {},
   "outputs": [
    {
     "data": {
      "text/plain": [
       "Ridge()"
      ]
     },
     "execution_count": 127,
     "metadata": {},
     "output_type": "execute_result"
    }
   ],
   "source": [
    "model.fit(X,np.log(Y))"
   ]
  },
  {
   "cell_type": "code",
   "execution_count": 128,
   "id": "d581af78-cb32-42ab-85e9-0d969d9dfdcc",
   "metadata": {},
   "outputs": [
    {
     "data": {
      "text/plain": [
       "array([ 2.01310631e+00, -2.96287638e-01,  7.23182580e-02,  3.25697596e-01,\n",
       "       -1.96025900e-01, -2.02492792e-04, -1.65462763e-01,  1.20021696e-03,\n",
       "       -1.02972810e-02])"
      ]
     },
     "execution_count": 128,
     "metadata": {},
     "output_type": "execute_result"
    }
   ],
   "source": [
    "model.coef_"
   ]
  },
  {
   "cell_type": "code",
   "execution_count": 129,
   "id": "5fe793b7-91b7-48f3-928b-982bf3b8b6a7",
   "metadata": {},
   "outputs": [
    {
     "data": {
      "text/plain": [
       "62.50678118950796"
      ]
     },
     "execution_count": 129,
     "metadata": {},
     "output_type": "execute_result"
    }
   ],
   "source": [
    "mean_absolute_percentage_error(Y,np.exp(model.predict(X)))"
   ]
  },
  {
   "cell_type": "code",
   "execution_count": 130,
   "id": "c647bd28-30b2-4163-b26b-09bad24737ee",
   "metadata": {},
   "outputs": [
    {
     "name": "stdout",
     "output_type": "stream",
     "text": [
      "MAE: -0.611\n",
      "Config: {'alpha': 0.0}\n"
     ]
    }
   ],
   "source": [
    "# grid search hyperparameters for ridge regression\n",
    "from numpy import arange\n",
    "from pandas import read_csv\n",
    "from sklearn.model_selection import GridSearchCV\n",
    "from sklearn.model_selection import RepeatedKFold\n",
    "from sklearn.linear_model import Lasso\n",
    "model = Lasso()\n",
    "# define model evaluation method\n",
    "cv = RepeatedKFold(n_splits=10, n_repeats=3, random_state=1)\n",
    "# define grid\n",
    "grid = dict()\n",
    "grid['alpha'] = arange(0, 1, 0.01)\n",
    "# define search\n",
    "search = GridSearchCV(model, grid, scoring='neg_mean_absolute_error', cv=cv, n_jobs=-1)\n",
    "# perform the search\n",
    "results = search.fit(X, np.log(Y))\n",
    "# summarize\n",
    "print('MAE: %.3f' % results.best_score_)\n",
    "print('Config: %s' % results.best_params_)"
   ]
  },
  {
   "cell_type": "code",
   "execution_count": 132,
   "id": "432ea027-8ca7-49a4-a544-ac29a9d092b2",
   "metadata": {},
   "outputs": [
    {
     "name": "stdout",
     "output_type": "stream",
     "text": [
      "MAE: -0.611\n",
      "Config: {'alpha': 0.0, 'l1_ratio': 0.0}\n"
     ]
    }
   ],
   "source": [
    "from sklearn.linear_model import ElasticNet\n",
    "# define model\n",
    "model = ElasticNet()\n",
    "# define model evaluation method\n",
    "cv = RepeatedKFold(n_splits=10, n_repeats=3, random_state=1)\n",
    "# define grid\n",
    "grid = dict()\n",
    "grid['alpha'] = [1e-5, 1e-4, 1e-3, 1e-2, 1e-1, 0.0, 1.0, 10.0, 100.0]\n",
    "grid['l1_ratio'] = arange(0, 1, 0.01)\n",
    "# define search\n",
    "search = GridSearchCV(model, grid, scoring='neg_mean_absolute_error', cv=cv, n_jobs=-1)\n",
    "# perform the search\n",
    "results = search.fit(X, np.log(Y))\n",
    "# summarize\n",
    "print('MAE: %.3f' % results.best_score_)\n",
    "print('Config: %s' % results.best_params_)"
   ]
  },
  {
   "cell_type": "code",
   "execution_count": 138,
   "id": "af0c5517-7876-4df5-a39a-ff22525c3bd8",
   "metadata": {},
   "outputs": [],
   "source": [
    "# plot line of best for multiple robust regression algorithms\n",
    "from random import random\n",
    "from random import randint\n",
    "from random import seed\n",
    "from numpy import arange\n",
    "from sklearn.datasets import make_regression\n",
    "from sklearn.linear_model import LinearRegression\n",
    "from sklearn.linear_model import HuberRegressor\n",
    "from sklearn.linear_model import RANSACRegressor\n",
    "from sklearn.linear_model import TheilSenRegressor\n",
    "from matplotlib import pyplot\n",
    " \n",
    "\n",
    " \n",
    "def get_models():\n",
    "    models = dict()\n",
    "    models['Linear'] = LinearRegression()\n",
    "    models['Huber'] = HuberRegressor()\n",
    "    models['RANSAC'] = RANSACRegressor()\n",
    "    models['TheilSen'] = TheilSenRegressor()\n",
    "    return models"
   ]
  },
  {
   "cell_type": "code",
   "execution_count": 139,
   "id": "0ba58953-b030-4687-b68b-69787706a1b7",
   "metadata": {},
   "outputs": [],
   "source": [
    "# evaluate a model\n",
    "def evalute_model(X, y, model, name):\n",
    "    # define model evaluation method\n",
    "    cv = RepeatedKFold(n_splits=10, n_repeats=3, random_state=1)\n",
    "    # evaluate model\n",
    "    scores = cross_val_score(model, X, y, scoring='neg_mean_absolute_error', cv=cv, n_jobs=-1)\n",
    "    # force scores to be positive\n",
    "    scores = absolute(scores)\n",
    "    return scores"
   ]
  },
  {
   "cell_type": "code",
   "execution_count": 141,
   "id": "23d1f2db-cf03-4ee2-bc14-2292d9feb2b3",
   "metadata": {},
   "outputs": [
    {
     "name": "stdout",
     "output_type": "stream",
     "text": [
      ">Linear 8.952 (3.461)\n",
      ">Huber 9.135 (4.354)\n",
      ">RANSAC 12.105 (11.774)\n",
      ">TheilSen 10.478 (9.556)\n"
     ]
    },
    {
     "data": {
      "text/plain": [
       "{'whiskers': [<matplotlib.lines.Line2D at 0x1ceb4ba5910>,\n",
       "  <matplotlib.lines.Line2D at 0x1ceb4ba56d0>,\n",
       "  <matplotlib.lines.Line2D at 0x1ceb49ed430>,\n",
       "  <matplotlib.lines.Line2D at 0x1ceb49ed220>,\n",
       "  <matplotlib.lines.Line2D at 0x1ceb4ab0fa0>,\n",
       "  <matplotlib.lines.Line2D at 0x1ceb5404b20>,\n",
       "  <matplotlib.lines.Line2D at 0x1ceb4fc4d90>,\n",
       "  <matplotlib.lines.Line2D at 0x1ceb4fc4190>],\n",
       " 'caps': [<matplotlib.lines.Line2D at 0x1ceb4ba5fd0>,\n",
       "  <matplotlib.lines.Line2D at 0x1ceb4d2b7c0>,\n",
       "  <matplotlib.lines.Line2D at 0x1ceb4b02e80>,\n",
       "  <matplotlib.lines.Line2D at 0x1ceb4b02490>,\n",
       "  <matplotlib.lines.Line2D at 0x1ceb5404be0>,\n",
       "  <matplotlib.lines.Line2D at 0x1ceb520c9a0>,\n",
       "  <matplotlib.lines.Line2D at 0x1ceb4fc4610>,\n",
       "  <matplotlib.lines.Line2D at 0x1ceb4fc41f0>],\n",
       " 'boxes': [<matplotlib.lines.Line2D at 0x1ceb4ba5e50>,\n",
       "  <matplotlib.lines.Line2D at 0x1ceb3bd04c0>,\n",
       "  <matplotlib.lines.Line2D at 0x1ceb4cf2a00>,\n",
       "  <matplotlib.lines.Line2D at 0x1ceb4b5f4c0>],\n",
       " 'medians': [<matplotlib.lines.Line2D at 0x1ceb4d2bfd0>,\n",
       "  <matplotlib.lines.Line2D at 0x1ceb4b02f70>,\n",
       "  <matplotlib.lines.Line2D at 0x1ceb4f17eb0>,\n",
       "  <matplotlib.lines.Line2D at 0x1ceb4b52dc0>],\n",
       " 'fliers': [<matplotlib.lines.Line2D at 0x1ceb3bd0cd0>,\n",
       "  <matplotlib.lines.Line2D at 0x1ceb4c81280>,\n",
       "  <matplotlib.lines.Line2D at 0x1ceb4b5feb0>,\n",
       "  <matplotlib.lines.Line2D at 0x1ceb4b528e0>],\n",
       " 'means': [<matplotlib.lines.Line2D at 0x1ceb3bd0250>,\n",
       "  <matplotlib.lines.Line2D at 0x1ceb4b02700>,\n",
       "  <matplotlib.lines.Line2D at 0x1ceb4b5f940>,\n",
       "  <matplotlib.lines.Line2D at 0x1ceb4b52400>]}"
      ]
     },
     "execution_count": 141,
     "metadata": {},
     "output_type": "execute_result"
    },
    {
     "data": {
      "image/png": "[encoded data removed]",
      "text/plain": [
       "<Figure size 432x288 with 1 Axes>"
      ]
     },
     "metadata": {
      "needs_background": "light"
     },
     "output_type": "display_data"
    }
   ],
   "source": [
    "# retrieve models\n",
    "models = get_models()\n",
    "results = dict()\n",
    "for name, model in models.items():\n",
    "    # evaluate the model\n",
    "    results[name] = evalute_model(X, Y, model, name)\n",
    "    # summarize progress\n",
    "    print('>%s %.3f (%.3f)' % (name, mean(results[name]), std(results[name])))\n",
    "# plot model performance for comparison\n",
    "pyplot.boxplot(results.values(), labels=results.keys(), showmeans=True)"
   ]
  },
  {
   "cell_type": "code",
   "execution_count": 182,
   "id": "edf2f016-bcdd-45f0-bd7c-ec2dee6599ca",
   "metadata": {},
   "outputs": [],
   "source": [
    "# evaluate random forest ensemble for regression\n",
    "from numpy import mean\n",
    "from numpy import std\n",
    "from sklearn.datasets import make_regression\n",
    "from sklearn.model_selection import cross_val_score\n",
    "from sklearn.model_selection import RepeatedKFold\n",
    "from sklearn.ensemble import RandomForestRegressor"
   ]
  },
  {
   "cell_type": "code",
   "execution_count": 183,
   "id": "1e0b7d12-fac1-47ce-beb7-88526ff99c86",
   "metadata": {},
   "outputs": [
    {
     "name": "stdout",
     "output_type": "stream",
     "text": [
      "MAE: -4.615 (1.794)\n"
     ]
    }
   ],
   "source": [
    "model = RandomForestRegressor()\n",
    "# evaluate the model\n",
    "cv = RepeatedKFold(n_splits=10, n_repeats=3, random_state=1)\n",
    "n_scores = cross_val_score(model, X, Y, scoring='neg_mean_absolute_error', cv=cv, n_jobs=-1, error_score='raise')\n",
    "# report performance\n",
    "print('MAE: %.3f (%.3f)' % (mean(n_scores), std(n_scores)))"
   ]
  },
  {
   "cell_type": "code",
   "execution_count": 184,
   "id": "147f124e-5097-4e33-837a-4bc0d0cbd52e",
   "metadata": {},
   "outputs": [
    {
     "data": {
      "text/plain": [
       "RandomForestRegressor()"
      ]
     },
     "execution_count": 184,
     "metadata": {},
     "output_type": "execute_result"
    }
   ],
   "source": [
    "model.fit(X,Y)"
   ]
  },
  {
   "cell_type": "code",
   "execution_count": 185,
   "id": "8f5871b3-cf7f-447c-8c95-76281745c57e",
   "metadata": {},
   "outputs": [
    {
     "data": {
      "text/plain": [
       "array([ 2.1033008,  2.5604608, 10.8493096,  2.5804006,  2.1768105,\n",
       "        2.162    ,  2.0107997,  1.6318187,  1.5348594,  1.5487088,\n",
       "       10.8493096,  2.5804006,  2.1768105,  2.162    ,  2.0107997,\n",
       "        1.6318187,  1.5348594,  1.5487088,  2.4831688,  1.8232997,\n",
       "       14.3800345,  4.0157221,  3.3397221,  3.1905884,  4.2112997,\n",
       "        2.6199102,  2.5515997,  4.7178112,  1.984158 , 38.1193946,\n",
       "       39.6415669, 34.1312236, 29.1921902, 35.5402572, 41.2152435,\n",
       "       37.1832168, 29.2480032, 26.5676022, 31.1024161, 38.2726242,\n",
       "       35.2425238, 30.8920202, 39.5706213, 39.6302407, 31.6178758,\n",
       "       34.4991989, 39.1615054, 40.4026251, 35.5351821, 30.1075874,\n",
       "       31.8837165, 29.9130836, 28.6952519, 24.2745122, 27.0384838,\n",
       "       17.0625673, 10.5846267,  6.9431895,  5.893    , 36.4128838,\n",
       "       38.584893 , 30.4093716, 24.2983307, 20.9908087, 26.4106867,\n",
       "       25.5700883, 17.265545 , 26.6474459, 22.7558431, 25.456355 ,\n",
       "       23.8564231, 20.0854489, 18.8386394, 13.9550091, 18.4267108,\n",
       "       18.85644  , 15.7008874, 13.1748774, 27.8738283, 26.2679932,\n",
       "       31.4020833, 29.9324246, 33.1496265, 24.488753 , 20.1290757,\n",
       "       22.6295401, 18.5269005, 21.634374 , 21.3923248, 17.775606 ,\n",
       "       43.6776214, 20.9230378, 14.97995  , 25.7136145, 15.1348689,\n",
       "       10.2814562,  5.8628243,  3.880311 ,  7.7361668, 25.7171798,\n",
       "        9.3308265, 13.3755882])"
      ]
     },
     "execution_count": 185,
     "metadata": {},
     "output_type": "execute_result"
    }
   ],
   "source": [
    "model.predict(X)"
   ]
  },
  {
   "cell_type": "code",
   "execution_count": 186,
   "id": "80a91b46-bdae-4e47-a9b1-d581d34c5af8",
   "metadata": {},
   "outputs": [
    {
     "data": {
      "text/plain": [
       "11.009999172560484"
      ]
     },
     "execution_count": 186,
     "metadata": {},
     "output_type": "execute_result"
    }
   ],
   "source": [
    "mean_absolute_percentage_error(Y,model.predict(X))"
   ]
  },
  {
   "cell_type": "code",
   "execution_count": 192,
   "id": "3ee18c39-295b-4449-9377-fcdd2ce7dec0",
   "metadata": {},
   "outputs": [
    {
     "name": "stdout",
     "output_type": "stream",
     "text": [
      "(207, 11)\n"
     ]
    },
    {
     "data": {
      "text/html": [
       "<div>\n",
       "<style scoped>\n",
       "    .dataframe tbody tr th:only-of-type {\n",
       "        vertical-align: middle;\n",
       "    }\n",
       "\n",
       "    .dataframe tbody tr th {\n",
       "        vertical-align: top;\n",
       "    }\n",
       "\n",
       "    .dataframe thead th {\n",
       "        text-align: right;\n",
       "    }\n",
       "</style>\n",
       "<table border=\"1\" class=\"dataframe\">\n",
       "  <thead>\n",
       "    <tr style=\"text-align: right;\">\n",
       "      <th></th>\n",
       "      <th>Identifier</th>\n",
       "      <th>DRL_Win_Flag</th>\n",
       "      <th>Form</th>\n",
       "      <th>Region</th>\n",
       "      <th>Tender_Type</th>\n",
       "      <th>Client</th>\n",
       "      <th>#Participant</th>\n",
       "      <th>Proximity_Delivery</th>\n",
       "      <th>Tender_Duration</th>\n",
       "      <th>Previous_Winning_Price</th>\n",
       "      <th>#Months_G.E</th>\n",
       "    </tr>\n",
       "  </thead>\n",
       "  <tbody>\n",
       "    <tr>\n",
       "      <th>19</th>\n",
       "      <td>CINACALCET 30MG84724</td>\n",
       "      <td>0</td>\n",
       "      <td>1</td>\n",
       "      <td>3</td>\n",
       "      <td>1</td>\n",
       "      <td>2</td>\n",
       "      <td>2</td>\n",
       "      <td>0.266667</td>\n",
       "      <td>1.106742</td>\n",
       "      <td>0.36800</td>\n",
       "      <td>0.466667</td>\n",
       "    </tr>\n",
       "    <tr>\n",
       "      <th>20</th>\n",
       "      <td>CINACALCET 30MG85261</td>\n",
       "      <td>0</td>\n",
       "      <td>1</td>\n",
       "      <td>2</td>\n",
       "      <td>2</td>\n",
       "      <td>2</td>\n",
       "      <td>2</td>\n",
       "      <td>0.266667</td>\n",
       "      <td>0.769663</td>\n",
       "      <td>0.36800</td>\n",
       "      <td>0.933333</td>\n",
       "    </tr>\n",
       "    <tr>\n",
       "      <th>21</th>\n",
       "      <td>CINACALCET 30MG85386</td>\n",
       "      <td>1</td>\n",
       "      <td>1</td>\n",
       "      <td>3</td>\n",
       "      <td>2</td>\n",
       "      <td>1</td>\n",
       "      <td>1</td>\n",
       "      <td>0.533333</td>\n",
       "      <td>1.794944</td>\n",
       "      <td>0.41587</td>\n",
       "      <td>1.100000</td>\n",
       "    </tr>\n",
       "    <tr>\n",
       "      <th>22</th>\n",
       "      <td>CINACALCET 30MG86307</td>\n",
       "      <td>0</td>\n",
       "      <td>1</td>\n",
       "      <td>2</td>\n",
       "      <td>1</td>\n",
       "      <td>1</td>\n",
       "      <td>2</td>\n",
       "      <td>2.400000</td>\n",
       "      <td>4.362360</td>\n",
       "      <td>0.67860</td>\n",
       "      <td>3.433333</td>\n",
       "    </tr>\n",
       "    <tr>\n",
       "      <th>46</th>\n",
       "      <td>CINACALCET 60MG84724</td>\n",
       "      <td>0</td>\n",
       "      <td>1</td>\n",
       "      <td>3</td>\n",
       "      <td>1</td>\n",
       "      <td>2</td>\n",
       "      <td>2</td>\n",
       "      <td>0.266667</td>\n",
       "      <td>1.106742</td>\n",
       "      <td>0.67900</td>\n",
       "      <td>0.466667</td>\n",
       "    </tr>\n",
       "    <tr>\n",
       "      <th>...</th>\n",
       "      <td>...</td>\n",
       "      <td>...</td>\n",
       "      <td>...</td>\n",
       "      <td>...</td>\n",
       "      <td>...</td>\n",
       "      <td>...</td>\n",
       "      <td>...</td>\n",
       "      <td>...</td>\n",
       "      <td>...</td>\n",
       "      <td>...</td>\n",
       "      <td>...</td>\n",
       "    </tr>\n",
       "    <tr>\n",
       "      <th>795</th>\n",
       "      <td>IMATINIB 100MG78730</td>\n",
       "      <td>0</td>\n",
       "      <td>1</td>\n",
       "      <td>3</td>\n",
       "      <td>1</td>\n",
       "      <td>2</td>\n",
       "      <td>2</td>\n",
       "      <td>9.733333</td>\n",
       "      <td>3.073034</td>\n",
       "      <td>12.50000</td>\n",
       "      <td>24.366667</td>\n",
       "    </tr>\n",
       "    <tr>\n",
       "      <th>797</th>\n",
       "      <td>IMATINIB 100MG81522</td>\n",
       "      <td>1</td>\n",
       "      <td>1</td>\n",
       "      <td>3</td>\n",
       "      <td>2</td>\n",
       "      <td>2</td>\n",
       "      <td>1</td>\n",
       "      <td>2.333333</td>\n",
       "      <td>4.101124</td>\n",
       "      <td>0.22850</td>\n",
       "      <td>29.466667</td>\n",
       "    </tr>\n",
       "    <tr>\n",
       "      <th>805</th>\n",
       "      <td>IMATINIB 100MG92526</td>\n",
       "      <td>0</td>\n",
       "      <td>1</td>\n",
       "      <td>3</td>\n",
       "      <td>1</td>\n",
       "      <td>2</td>\n",
       "      <td>2</td>\n",
       "      <td>1.833333</td>\n",
       "      <td>3.075843</td>\n",
       "      <td>0.23497</td>\n",
       "      <td>43.766667</td>\n",
       "    </tr>\n",
       "    <tr>\n",
       "      <th>806</th>\n",
       "      <td>IMATINIB 100MG92618</td>\n",
       "      <td>0</td>\n",
       "      <td>1</td>\n",
       "      <td>4</td>\n",
       "      <td>1</td>\n",
       "      <td>2</td>\n",
       "      <td>2</td>\n",
       "      <td>4.033333</td>\n",
       "      <td>1.264045</td>\n",
       "      <td>0.24550</td>\n",
       "      <td>44.333333</td>\n",
       "    </tr>\n",
       "    <tr>\n",
       "      <th>807</th>\n",
       "      <td>IMATINIB 100MG94254</td>\n",
       "      <td>0</td>\n",
       "      <td>1</td>\n",
       "      <td>3</td>\n",
       "      <td>1</td>\n",
       "      <td>1</td>\n",
       "      <td>2</td>\n",
       "      <td>2.333333</td>\n",
       "      <td>2.047753</td>\n",
       "      <td>0.18020</td>\n",
       "      <td>45.600000</td>\n",
       "    </tr>\n",
       "  </tbody>\n",
       "</table>\n",
       "<p>207 rows × 11 columns</p>\n",
       "</div>"
      ],
      "text/plain": [
       "               Identifier  DRL_Win_Flag  Form  Region   Tender_Type  Client  \\\n",
       "19   CINACALCET 30MG84724             0     1       3             1       2   \n",
       "20   CINACALCET 30MG85261             0     1       2             2       2   \n",
       "21   CINACALCET 30MG85386             1     1       3             2       1   \n",
       "22   CINACALCET 30MG86307             0     1       2             1       1   \n",
       "46   CINACALCET 60MG84724             0     1       3             1       2   \n",
       "..                    ...           ...   ...     ...           ...     ...   \n",
       "795   IMATINIB 100MG78730             0     1       3             1       2   \n",
       "797   IMATINIB 100MG81522             1     1       3             2       2   \n",
       "805   IMATINIB 100MG92526             0     1       3             1       2   \n",
       "806   IMATINIB 100MG92618             0     1       4             1       2   \n",
       "807   IMATINIB 100MG94254             0     1       3             1       1   \n",
       "\n",
       "     #Participant  Proximity_Delivery  Tender_Duration  \\\n",
       "19              2            0.266667         1.106742   \n",
       "20              2            0.266667         0.769663   \n",
       "21              1            0.533333         1.794944   \n",
       "22              2            2.400000         4.362360   \n",
       "46              2            0.266667         1.106742   \n",
       "..            ...                 ...              ...   \n",
       "795             2            9.733333         3.073034   \n",
       "797             1            2.333333         4.101124   \n",
       "805             2            1.833333         3.075843   \n",
       "806             2            4.033333         1.264045   \n",
       "807             2            2.333333         2.047753   \n",
       "\n",
       "     Previous_Winning_Price  #Months_G.E  \n",
       "19                  0.36800     0.466667  \n",
       "20                  0.36800     0.933333  \n",
       "21                  0.41587     1.100000  \n",
       "22                  0.67860     3.433333  \n",
       "46                  0.67900     0.466667  \n",
       "..                      ...          ...  \n",
       "795                12.50000    24.366667  \n",
       "797                 0.22850    29.466667  \n",
       "805                 0.23497    43.766667  \n",
       "806                 0.24550    44.333333  \n",
       "807                 0.18020    45.600000  \n",
       "\n",
       "[207 rows x 11 columns]"
      ]
     },
     "execution_count": 192,
     "metadata": {},
     "output_type": "execute_result"
    }
   ],
   "source": [
    "dh.winprob_data_processor(dh.previous_winning_price(dh.encoded_df(model_data)),DRL_Participation=True)"
   ]
  },
  {
   "cell_type": "code",
   "execution_count": 190,
   "id": "b945a896-9f22-41c0-8221-ce580a4ce539",
   "metadata": {},
   "outputs": [],
   "source": [
    "%load_ext autoreload\n",
    "%autoreload 2"
   ]
  },
  {
   "cell_type": "code",
   "execution_count": 194,
   "id": "e7a7df80-1e21-43ab-90b3-c1776e722adb",
   "metadata": {},
   "outputs": [],
   "source": [
    "model1_data.to_excel(\"PriceEstimationData.xlsx\")"
   ]
  },
  {
   "cell_type": "code",
   "execution_count": null,
   "id": "9ff97e97-81b1-49c8-9f38-090ada6c925b",
   "metadata": {},
   "outputs": [],
   "source": []
  }
 ],
 "metadata": {
  "kernelspec": {
   "display_name": "Python 3 (ipykernel)",
   "language": "python",
   "name": "python3"
  },
  "language_info": {
   "codemirror_mode": {
    "name": "ipython",
    "version": 3
   },
   "file_extension": ".py",
   "mimetype": "text/x-python",
   "name": "python",
   "nbconvert_exporter": "python",
   "pygments_lexer": "ipython3",
   "version": "3.9.12"
  }
 },
 "nbformat": 4,
 "nbformat_minor": 5
}
