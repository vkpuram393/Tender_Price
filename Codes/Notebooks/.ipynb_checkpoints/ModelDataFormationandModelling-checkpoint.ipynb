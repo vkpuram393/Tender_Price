{
 "cells": [
  {
   "cell_type": "code",
   "execution_count": 15,
   "id": "2cb79210-7cb9-4ae2-b025-e4ae5c14e74e",
   "metadata": {},
   "outputs": [],
   "source": [
    "import streamlit "
   ]
  },
  {
   "cell_type": "code",
   "execution_count": 11,
   "id": "80cbf18e-7480-4381-a0c4-fc57d52a922e",
   "metadata": {},
   "outputs": [
    {
     "name": "stdout",
     "output_type": "stream",
     "text": [
      "C:\\Users\\p90011066\\Documents\\Tender_Price_Estimation\n"
     ]
    }
   ],
   "source": [
    "cd Tender_Price_Estimation"
   ]
  },
  {
   "cell_type": "code",
   "execution_count": 16,
   "id": "0902e05b-7fa9-4cc8-8c13-6ed7e7d79ce3",
   "metadata": {},
   "outputs": [
    {
     "ename": "SyntaxError",
     "evalue": "invalid syntax (Temp/ipykernel_7244/3737097518.py, line 1)",
     "output_type": "error",
     "traceback": [
      "\u001b[1;36m  File \u001b[1;32m\"C:\\Users\\P90011~1\\AppData\\Local\\Temp/ipykernel_7244/3737097518.py\"\u001b[1;36m, line \u001b[1;32m1\u001b[0m\n\u001b[1;33m    streamlit run app.py\u001b[0m\n\u001b[1;37m              ^\u001b[0m\n\u001b[1;31mSyntaxError\u001b[0m\u001b[1;31m:\u001b[0m invalid syntax\n"
     ]
    }
   ],
   "source": [
    "streamlit run app.py"
   ]
  },
  {
   "cell_type": "code",
   "execution_count": 17,
   "id": "a5bdb7e6-d8ee-4c5c-9195-552e08e11d15",
   "metadata": {},
   "outputs": [
    {
     "ename": "SyntaxError",
     "evalue": "invalid syntax (Temp/ipykernel_7244/2747455435.py, line 1)",
     "output_type": "error",
     "traceback": [
      "\u001b[1;36m  File \u001b[1;32m\"C:\\Users\\P90011~1\\AppData\\Local\\Temp/ipykernel_7244/2747455435.py\"\u001b[1;36m, line \u001b[1;32m1\u001b[0m\n\u001b[1;33m    py -m streamlit run hello.py\u001b[0m\n\u001b[1;37m          ^\u001b[0m\n\u001b[1;31mSyntaxError\u001b[0m\u001b[1;31m:\u001b[0m invalid syntax\n"
     ]
    }
   ],
   "source": [
    "py -m streamlit run hello.py"
   ]
  },
  {
   "cell_type": "code",
   "execution_count": 3,
   "id": "1a9e639b-db23-48e6-84fa-cad2da15190a",
   "metadata": {},
   "outputs": [],
   "source": [
    "import pandas as pd\n",
    "import numpy as np"
   ]
  },
  {
   "cell_type": "code",
   "execution_count": 4,
   "id": "6edf20c0-ca86-473d-93db-5bb03e475fb4",
   "metadata": {},
   "outputs": [
    {
     "data": {
      "text/plain": [
       "(182, 15)"
      ]
     },
     "execution_count": 4,
     "metadata": {},
     "output_type": "execute_result"
    }
   ],
   "source": [
    "df1 = pd.read_excel(\"PriceEstimationData.xlsx\",engine=\"openpyxl\",index_col=\"Unnamed: 0\")\n",
    "df = df1[df1[\"Previous_Winning_Price\"]<500]\n",
    "df.shape"
   ]
  },
  {
   "cell_type": "code",
   "execution_count": 5,
   "id": "7a3e659b-2258-446e-aa0c-e3cd1191f027",
   "metadata": {},
   "outputs": [],
   "source": [
    "def prv_categoriser(s):\n",
    "    if s<=1:\n",
    "        return 0\n",
    "    elif s<=50:\n",
    "        return 1\n",
    "    else:\n",
    "        return 2"
   ]
  },
  {
   "cell_type": "code",
   "execution_count": 6,
   "id": "7e373563-4bd3-4592-85aa-93af3ea85b85",
   "metadata": {},
   "outputs": [
    {
     "data": {
      "text/plain": [
       "19     0\n",
       "20     0\n",
       "21     0\n",
       "22     0\n",
       "46     0\n",
       "      ..\n",
       "795    1\n",
       "797    0\n",
       "805    0\n",
       "806    0\n",
       "807    0\n",
       "Name: Previous_Winning_Price, Length: 182, dtype: int64"
      ]
     },
     "execution_count": 6,
     "metadata": {},
     "output_type": "execute_result"
    }
   ],
   "source": [
    "df[\"Previous_Winning_Price\"].apply(prv_categoriser)"
   ]
  },
  {
   "cell_type": "code",
   "execution_count": 7,
   "id": "e3e3fbd9-80bf-4b32-be93-602ebf73709b",
   "metadata": {},
   "outputs": [
    {
     "name": "stderr",
     "output_type": "stream",
     "text": [
      "C:\\Users\\P90011~1\\AppData\\Local\\Temp/ipykernel_6764/4068803415.py:1: SettingWithCopyWarning: \n",
      "A value is trying to be set on a copy of a slice from a DataFrame.\n",
      "Try using .loc[row_indexer,col_indexer] = value instead\n",
      "\n",
      "See the caveats in the documentation: https://pandas.pydata.org/pandas-docs/stable/user_guide/indexing.html#returning-a-view-versus-a-copy\n",
      "  df[\"Prv_Cat\"] = df[\"Previous_Winning_Price\"].apply(prv_categoriser)\n"
     ]
    }
   ],
   "source": [
    "df[\"Prv_Cat\"] = df[\"Previous_Winning_Price\"].apply(prv_categoriser)"
   ]
  },
  {
   "cell_type": "code",
   "execution_count": 8,
   "id": "9b67fa98-1af1-4ffa-a0b9-02b896c84021",
   "metadata": {},
   "outputs": [
    {
     "data": {
      "text/plain": [
       "Index(['Identifier', 'DRL_Win_Flag', 'Form', 'Region', ' Tender_Type',\n",
       "       'Client', '#Participant', 'Winning_Price', 'Proximity_Delivery',\n",
       "       'Tender_Duration', 'Previous_Winning_Price', '#Months_G.E',\n",
       "       'DRL_Bid_price', 'Win_Bid', 'DRL_Bid', 'Prv_Cat'],\n",
       "      dtype='object')"
      ]
     },
     "execution_count": 8,
     "metadata": {},
     "output_type": "execute_result"
    }
   ],
   "source": [
    "df.columns"
   ]
  },
  {
   "cell_type": "code",
   "execution_count": 9,
   "id": "fe875c38-6b1c-4bb1-9b97-d3bb1fa1e848",
   "metadata": {},
   "outputs": [],
   "source": [
    "X_cols = [\"Form\",' Tender_Type','Proximity_Delivery',\n",
    "       'Tender_Duration', 'Previous_Winning_Price', '#Months_G.E',\"Prv_Cat\"]\n",
    "X = df[X_cols]\n",
    "Y = list(df[\"Winning_Price\"])"
   ]
  },
  {
   "cell_type": "code",
   "execution_count": 10,
   "id": "aeacf9fd-94d2-4a61-8c0b-7dde523e4812",
   "metadata": {},
   "outputs": [],
   "source": [
    "from statsmodels.stats.outliers_influence import variance_inflation_factor"
   ]
  },
  {
   "cell_type": "code",
   "execution_count": 11,
   "id": "6e9635e0-9104-4995-b4a1-c1cb0ec70a02",
   "metadata": {},
   "outputs": [
    {
     "data": {
      "text/html": [
       "<div>\n",
       "<style scoped>\n",
       "    .dataframe tbody tr th:only-of-type {\n",
       "        vertical-align: middle;\n",
       "    }\n",
       "\n",
       "    .dataframe tbody tr th {\n",
       "        vertical-align: top;\n",
       "    }\n",
       "\n",
       "    .dataframe thead th {\n",
       "        text-align: right;\n",
       "    }\n",
       "</style>\n",
       "<table border=\"1\" class=\"dataframe\">\n",
       "  <thead>\n",
       "    <tr style=\"text-align: right;\">\n",
       "      <th></th>\n",
       "      <th>Feature</th>\n",
       "      <th>VIF</th>\n",
       "    </tr>\n",
       "  </thead>\n",
       "  <tbody>\n",
       "    <tr>\n",
       "      <th>0</th>\n",
       "      <td>Form</td>\n",
       "      <td>21.872294</td>\n",
       "    </tr>\n",
       "    <tr>\n",
       "      <th>1</th>\n",
       "      <td>Tender_Type</td>\n",
       "      <td>6.982342</td>\n",
       "    </tr>\n",
       "    <tr>\n",
       "      <th>2</th>\n",
       "      <td>Proximity_Delivery</td>\n",
       "      <td>2.394338</td>\n",
       "    </tr>\n",
       "    <tr>\n",
       "      <th>3</th>\n",
       "      <td>Tender_Duration</td>\n",
       "      <td>6.717672</td>\n",
       "    </tr>\n",
       "    <tr>\n",
       "      <th>4</th>\n",
       "      <td>Previous_Winning_Price</td>\n",
       "      <td>1.946055</td>\n",
       "    </tr>\n",
       "    <tr>\n",
       "      <th>5</th>\n",
       "      <td>#Months_G.E</td>\n",
       "      <td>3.430385</td>\n",
       "    </tr>\n",
       "    <tr>\n",
       "      <th>6</th>\n",
       "      <td>Prv_Cat</td>\n",
       "      <td>7.266806</td>\n",
       "    </tr>\n",
       "  </tbody>\n",
       "</table>\n",
       "</div>"
      ],
      "text/plain": [
       "                  Feature        VIF\n",
       "0                    Form  21.872294\n",
       "1             Tender_Type   6.982342\n",
       "2      Proximity_Delivery   2.394338\n",
       "3         Tender_Duration   6.717672\n",
       "4  Previous_Winning_Price   1.946055\n",
       "5             #Months_G.E   3.430385\n",
       "6                 Prv_Cat   7.266806"
      ]
     },
     "execution_count": 11,
     "metadata": {},
     "output_type": "execute_result"
    }
   ],
   "source": [
    "X = df[X_cols]\n",
    "norm_X = X.apply(lambda iterator: ((iterator-iterator.mean())/iterator.std()).round(2))\n",
    "norm_X\n",
    "vif_data = pd.DataFrame()\n",
    "vif_data[\"Feature\"]=norm_X.columns\n",
    "vif_data[\"VIF\"] = [variance_inflation_factor(X.values , i) for i in range(len(norm_X.columns))]\n",
    "vif_data"
   ]
  },
  {
   "cell_type": "code",
   "execution_count": 12,
   "id": "6a29e374-10a4-4d59-96f2-6ccb9b034c51",
   "metadata": {},
   "outputs": [],
   "source": [
    "from random import random\n",
    "from random import randint\n",
    "from random import seed\n",
    "from numpy import mean\n",
    "from numpy import std\n",
    "from numpy import absolute\n",
    "from sklearn.datasets import make_regression\n",
    "from sklearn.model_selection import cross_val_score\n",
    "from sklearn.model_selection import RepeatedKFold\n",
    "from sklearn.linear_model import LinearRegression\n",
    "from sklearn.linear_model import HuberRegressor\n",
    "from sklearn.linear_model import RANSACRegressor\n",
    "from sklearn.linear_model import TheilSenRegressor\n",
    "from matplotlib import pyplot"
   ]
  },
  {
   "cell_type": "code",
   "execution_count": 13,
   "id": "fc5654a4-c626-4d5e-8d02-f10a21fb744f",
   "metadata": {},
   "outputs": [
    {
     "data": {
      "text/plain": [
       "LinearRegression()"
      ]
     },
     "execution_count": 13,
     "metadata": {},
     "output_type": "execute_result"
    }
   ],
   "source": [
    "reg = LinearRegression()\n",
    "reg.fit(X,np.log(Y))"
   ]
  },
  {
   "cell_type": "code",
   "execution_count": 14,
   "id": "1b21b666-c3d6-4a97-b75d-c217cf7c20c9",
   "metadata": {},
   "outputs": [],
   "source": [
    "def mean_absolute_percentage_error(y_true, y_pred): \n",
    "    y_true, y_pred = np.array(y_true), np.array(y_pred)\n",
    "    return np.mean(np.abs((y_true - y_pred) / y_true)) * 100"
   ]
  },
  {
   "cell_type": "code",
   "execution_count": 15,
   "id": "e4343076-4946-4401-adb9-47506283c5fb",
   "metadata": {},
   "outputs": [
    {
     "data": {
      "text/plain": [
       "66.14311122267475"
      ]
     },
     "execution_count": 15,
     "metadata": {},
     "output_type": "execute_result"
    }
   ],
   "source": [
    "mean_absolute_percentage_error(Y,np.exp(reg.predict(X)))"
   ]
  },
  {
   "cell_type": "code",
   "execution_count": 16,
   "id": "305b48e1-3de8-4895-9aff-f18c3cbe422b",
   "metadata": {},
   "outputs": [],
   "source": [
    "from sklearn.ensemble import GradientBoostingRegressor"
   ]
  },
  {
   "cell_type": "code",
   "execution_count": 17,
   "id": "07feb825-3ac2-46f0-b00e-c6c0476bb29a",
   "metadata": {},
   "outputs": [
    {
     "data": {
      "text/plain": [
       "12.866890547624955"
      ]
     },
     "execution_count": 17,
     "metadata": {},
     "output_type": "execute_result"
    }
   ],
   "source": [
    "grad_reg = GradientBoostingRegressor(random_state=0)\n",
    "grad_reg.fit(X,np.log(Y))\n",
    "mean_absolute_percentage_error(Y,np.exp(grad_reg.predict(X)))"
   ]
  },
  {
   "cell_type": "code",
   "execution_count": 18,
   "id": "953df407-26e2-4dba-81de-42cf42f7d04f",
   "metadata": {},
   "outputs": [
    {
     "data": {
      "text/plain": [
       "array([2.44109972e-01, 2.40738344e-03, 5.54740760e-03, 1.19770067e-02,\n",
       "       7.22069966e-01, 1.37375074e-02, 1.50756484e-04])"
      ]
     },
     "execution_count": 18,
     "metadata": {},
     "output_type": "execute_result"
    }
   ],
   "source": [
    "grad_reg.feature_importances_"
   ]
  },
  {
   "cell_type": "code",
   "execution_count": 19,
   "id": "703b442e-1414-4638-99b4-471fabf90121",
   "metadata": {},
   "outputs": [
    {
     "name": "stderr",
     "output_type": "stream",
     "text": [
      "C:\\Users\\P90011~1\\AppData\\Local\\Temp/ipykernel_6764/976438006.py:1: SettingWithCopyWarning: \n",
      "A value is trying to be set on a copy of a slice from a DataFrame.\n",
      "Try using .loc[row_indexer,col_indexer] = value instead\n",
      "\n",
      "See the caveats in the documentation: https://pandas.pydata.org/pandas-docs/stable/user_guide/indexing.html#returning-a-view-versus-a-copy\n",
      "  df[\"Gr. Reg Prediction\"] = np.exp(grad_reg.predict(X))\n"
     ]
    }
   ],
   "source": [
    "df[\"Gr. Reg Prediction\"] = np.exp(grad_reg.predict(X))"
   ]
  },
  {
   "cell_type": "code",
   "execution_count": 20,
   "id": "0afc45df-1914-4952-814f-2e712125e455",
   "metadata": {},
   "outputs": [
    {
     "name": "stderr",
     "output_type": "stream",
     "text": [
      "C:\\ProgramData\\Anaconda3\\lib\\site-packages\\pandas\\core\\frame.py:4906: SettingWithCopyWarning: \n",
      "A value is trying to be set on a copy of a slice from a DataFrame\n",
      "\n",
      "See the caveats in the documentation: https://pandas.pydata.org/pandas-docs/stable/user_guide/indexing.html#returning-a-view-versus-a-copy\n",
      "  return super().drop(\n"
     ]
    }
   ],
   "source": [
    "df.drop([\"Prv_Cat\"],inplace=True,axis=1)"
   ]
  },
  {
   "cell_type": "code",
   "execution_count": 21,
   "id": "8637068a-4629-4fa6-b3c6-de44117e4730",
   "metadata": {},
   "outputs": [
    {
     "data": {
      "text/html": [
       "<div>\n",
       "<style scoped>\n",
       "    .dataframe tbody tr th:only-of-type {\n",
       "        vertical-align: middle;\n",
       "    }\n",
       "\n",
       "    .dataframe tbody tr th {\n",
       "        vertical-align: top;\n",
       "    }\n",
       "\n",
       "    .dataframe thead th {\n",
       "        text-align: right;\n",
       "    }\n",
       "</style>\n",
       "<table border=\"1\" class=\"dataframe\">\n",
       "  <thead>\n",
       "    <tr style=\"text-align: right;\">\n",
       "      <th></th>\n",
       "      <th>Identifier</th>\n",
       "      <th>DRL_Win_Flag</th>\n",
       "      <th>Form</th>\n",
       "      <th>Region</th>\n",
       "      <th>Tender_Type</th>\n",
       "      <th>Client</th>\n",
       "      <th>#Participant</th>\n",
       "      <th>Winning_Price</th>\n",
       "      <th>Proximity_Delivery</th>\n",
       "      <th>Tender_Duration</th>\n",
       "      <th>Previous_Winning_Price</th>\n",
       "      <th>#Months_G.E</th>\n",
       "      <th>DRL_Bid_price</th>\n",
       "      <th>Win_Bid</th>\n",
       "      <th>DRL_Bid</th>\n",
       "      <th>Gr. Reg Prediction</th>\n",
       "    </tr>\n",
       "  </thead>\n",
       "  <tbody>\n",
       "    <tr>\n",
       "      <th>19</th>\n",
       "      <td>CINACALCET 30MG84724</td>\n",
       "      <td>0</td>\n",
       "      <td>1</td>\n",
       "      <td>3</td>\n",
       "      <td>1</td>\n",
       "      <td>2</td>\n",
       "      <td>2</td>\n",
       "      <td>0.36800</td>\n",
       "      <td>0.266667</td>\n",
       "      <td>1.106742</td>\n",
       "      <td>0.36800</td>\n",
       "      <td>0.466667</td>\n",
       "      <td>1.00000</td>\n",
       "      <td>1.451944</td>\n",
       "      <td>2.975557</td>\n",
       "      <td>0.380245</td>\n",
       "    </tr>\n",
       "    <tr>\n",
       "      <th>20</th>\n",
       "      <td>CINACALCET 30MG85261</td>\n",
       "      <td>0</td>\n",
       "      <td>1</td>\n",
       "      <td>2</td>\n",
       "      <td>2</td>\n",
       "      <td>2</td>\n",
       "      <td>2</td>\n",
       "      <td>0.41587</td>\n",
       "      <td>0.266667</td>\n",
       "      <td>0.769663</td>\n",
       "      <td>0.36800</td>\n",
       "      <td>0.933333</td>\n",
       "      <td>1.21440</td>\n",
       "      <td>1.788109</td>\n",
       "      <td>4.122441</td>\n",
       "      <td>0.382410</td>\n",
       "    </tr>\n",
       "    <tr>\n",
       "      <th>21</th>\n",
       "      <td>CINACALCET 30MG85386</td>\n",
       "      <td>1</td>\n",
       "      <td>1</td>\n",
       "      <td>3</td>\n",
       "      <td>2</td>\n",
       "      <td>1</td>\n",
       "      <td>1</td>\n",
       "      <td>0.67860</td>\n",
       "      <td>0.533333</td>\n",
       "      <td>1.794944</td>\n",
       "      <td>0.41587</td>\n",
       "      <td>1.100000</td>\n",
       "      <td>0.67860</td>\n",
       "      <td>2.256696</td>\n",
       "      <td>2.641041</td>\n",
       "      <td>0.802040</td>\n",
       "    </tr>\n",
       "    <tr>\n",
       "      <th>22</th>\n",
       "      <td>CINACALCET 30MG86307</td>\n",
       "      <td>0</td>\n",
       "      <td>1</td>\n",
       "      <td>2</td>\n",
       "      <td>1</td>\n",
       "      <td>1</td>\n",
       "      <td>2</td>\n",
       "      <td>0.26000</td>\n",
       "      <td>2.400000</td>\n",
       "      <td>4.362360</td>\n",
       "      <td>0.67860</td>\n",
       "      <td>3.433333</td>\n",
       "      <td>0.29768</td>\n",
       "      <td>0.695754</td>\n",
       "      <td>1.279863</td>\n",
       "      <td>0.455938</td>\n",
       "    </tr>\n",
       "    <tr>\n",
       "      <th>46</th>\n",
       "      <td>CINACALCET 60MG84724</td>\n",
       "      <td>0</td>\n",
       "      <td>1</td>\n",
       "      <td>3</td>\n",
       "      <td>1</td>\n",
       "      <td>2</td>\n",
       "      <td>2</td>\n",
       "      <td>0.67900</td>\n",
       "      <td>0.266667</td>\n",
       "      <td>1.106742</td>\n",
       "      <td>0.67900</td>\n",
       "      <td>0.466667</td>\n",
       "      <td>2.50000</td>\n",
       "      <td>1.452071</td>\n",
       "      <td>2.975825</td>\n",
       "      <td>0.635500</td>\n",
       "    </tr>\n",
       "    <tr>\n",
       "      <th>...</th>\n",
       "      <td>...</td>\n",
       "      <td>...</td>\n",
       "      <td>...</td>\n",
       "      <td>...</td>\n",
       "      <td>...</td>\n",
       "      <td>...</td>\n",
       "      <td>...</td>\n",
       "      <td>...</td>\n",
       "      <td>...</td>\n",
       "      <td>...</td>\n",
       "      <td>...</td>\n",
       "      <td>...</td>\n",
       "      <td>...</td>\n",
       "      <td>...</td>\n",
       "      <td>...</td>\n",
       "      <td>...</td>\n",
       "    </tr>\n",
       "    <tr>\n",
       "      <th>795</th>\n",
       "      <td>IMATINIB 100MG78730</td>\n",
       "      <td>0</td>\n",
       "      <td>1</td>\n",
       "      <td>3</td>\n",
       "      <td>1</td>\n",
       "      <td>2</td>\n",
       "      <td>2</td>\n",
       "      <td>13.33334</td>\n",
       "      <td>9.733333</td>\n",
       "      <td>3.073034</td>\n",
       "      <td>12.50000</td>\n",
       "      <td>24.366667</td>\n",
       "      <td>0.31000</td>\n",
       "      <td>0.484227</td>\n",
       "      <td>1.086539</td>\n",
       "      <td>8.174508</td>\n",
       "    </tr>\n",
       "    <tr>\n",
       "      <th>797</th>\n",
       "      <td>IMATINIB 100MG81522</td>\n",
       "      <td>1</td>\n",
       "      <td>1</td>\n",
       "      <td>3</td>\n",
       "      <td>2</td>\n",
       "      <td>2</td>\n",
       "      <td>1</td>\n",
       "      <td>0.26990</td>\n",
       "      <td>2.333333</td>\n",
       "      <td>4.101124</td>\n",
       "      <td>0.22850</td>\n",
       "      <td>29.466667</td>\n",
       "      <td>0.26990</td>\n",
       "      <td>0.885460</td>\n",
       "      <td>1.158453</td>\n",
       "      <td>0.237964</td>\n",
       "    </tr>\n",
       "    <tr>\n",
       "      <th>805</th>\n",
       "      <td>IMATINIB 100MG92526</td>\n",
       "      <td>0</td>\n",
       "      <td>1</td>\n",
       "      <td>3</td>\n",
       "      <td>1</td>\n",
       "      <td>2</td>\n",
       "      <td>2</td>\n",
       "      <td>0.24550</td>\n",
       "      <td>1.833333</td>\n",
       "      <td>3.075843</td>\n",
       "      <td>0.23497</td>\n",
       "      <td>43.766667</td>\n",
       "      <td>0.35119</td>\n",
       "      <td>0.248519</td>\n",
       "      <td>0.515867</td>\n",
       "      <td>0.251625</td>\n",
       "    </tr>\n",
       "    <tr>\n",
       "      <th>806</th>\n",
       "      <td>IMATINIB 100MG92618</td>\n",
       "      <td>0</td>\n",
       "      <td>1</td>\n",
       "      <td>4</td>\n",
       "      <td>1</td>\n",
       "      <td>2</td>\n",
       "      <td>2</td>\n",
       "      <td>0.18020</td>\n",
       "      <td>4.033333</td>\n",
       "      <td>1.264045</td>\n",
       "      <td>0.24550</td>\n",
       "      <td>44.333333</td>\n",
       "      <td>0.31119</td>\n",
       "      <td>0.255400</td>\n",
       "      <td>0.543213</td>\n",
       "      <td>0.196118</td>\n",
       "    </tr>\n",
       "    <tr>\n",
       "      <th>807</th>\n",
       "      <td>IMATINIB 100MG94254</td>\n",
       "      <td>0</td>\n",
       "      <td>1</td>\n",
       "      <td>3</td>\n",
       "      <td>1</td>\n",
       "      <td>1</td>\n",
       "      <td>2</td>\n",
       "      <td>0.26558</td>\n",
       "      <td>2.333333</td>\n",
       "      <td>2.047753</td>\n",
       "      <td>0.18020</td>\n",
       "      <td>45.600000</td>\n",
       "      <td>0.27000</td>\n",
       "      <td>0.187734</td>\n",
       "      <td>0.357167</td>\n",
       "      <td>0.261942</td>\n",
       "    </tr>\n",
       "  </tbody>\n",
       "</table>\n",
       "<p>182 rows × 16 columns</p>\n",
       "</div>"
      ],
      "text/plain": [
       "               Identifier  DRL_Win_Flag  Form  Region   Tender_Type  Client  \\\n",
       "19   CINACALCET 30MG84724             0     1       3             1       2   \n",
       "20   CINACALCET 30MG85261             0     1       2             2       2   \n",
       "21   CINACALCET 30MG85386             1     1       3             2       1   \n",
       "22   CINACALCET 30MG86307             0     1       2             1       1   \n",
       "46   CINACALCET 60MG84724             0     1       3             1       2   \n",
       "..                    ...           ...   ...     ...           ...     ...   \n",
       "795   IMATINIB 100MG78730             0     1       3             1       2   \n",
       "797   IMATINIB 100MG81522             1     1       3             2       2   \n",
       "805   IMATINIB 100MG92526             0     1       3             1       2   \n",
       "806   IMATINIB 100MG92618             0     1       4             1       2   \n",
       "807   IMATINIB 100MG94254             0     1       3             1       1   \n",
       "\n",
       "     #Participant  Winning_Price  Proximity_Delivery  Tender_Duration  \\\n",
       "19              2        0.36800            0.266667         1.106742   \n",
       "20              2        0.41587            0.266667         0.769663   \n",
       "21              1        0.67860            0.533333         1.794944   \n",
       "22              2        0.26000            2.400000         4.362360   \n",
       "46              2        0.67900            0.266667         1.106742   \n",
       "..            ...            ...                 ...              ...   \n",
       "795             2       13.33334            9.733333         3.073034   \n",
       "797             1        0.26990            2.333333         4.101124   \n",
       "805             2        0.24550            1.833333         3.075843   \n",
       "806             2        0.18020            4.033333         1.264045   \n",
       "807             2        0.26558            2.333333         2.047753   \n",
       "\n",
       "     Previous_Winning_Price  #Months_G.E  DRL_Bid_price   Win_Bid   DRL_Bid  \\\n",
       "19                  0.36800     0.466667        1.00000  1.451944  2.975557   \n",
       "20                  0.36800     0.933333        1.21440  1.788109  4.122441   \n",
       "21                  0.41587     1.100000        0.67860  2.256696  2.641041   \n",
       "22                  0.67860     3.433333        0.29768  0.695754  1.279863   \n",
       "46                  0.67900     0.466667        2.50000  1.452071  2.975825   \n",
       "..                      ...          ...            ...       ...       ...   \n",
       "795                12.50000    24.366667        0.31000  0.484227  1.086539   \n",
       "797                 0.22850    29.466667        0.26990  0.885460  1.158453   \n",
       "805                 0.23497    43.766667        0.35119  0.248519  0.515867   \n",
       "806                 0.24550    44.333333        0.31119  0.255400  0.543213   \n",
       "807                 0.18020    45.600000        0.27000  0.187734  0.357167   \n",
       "\n",
       "     Gr. Reg Prediction  \n",
       "19             0.380245  \n",
       "20             0.382410  \n",
       "21             0.802040  \n",
       "22             0.455938  \n",
       "46             0.635500  \n",
       "..                  ...  \n",
       "795            8.174508  \n",
       "797            0.237964  \n",
       "805            0.251625  \n",
       "806            0.196118  \n",
       "807            0.261942  \n",
       "\n",
       "[182 rows x 16 columns]"
      ]
     },
     "execution_count": 21,
     "metadata": {},
     "output_type": "execute_result"
    }
   ],
   "source": [
    "df"
   ]
  },
  {
   "cell_type": "code",
   "execution_count": 22,
   "id": "bd9388ec-7c7f-445c-bb8a-eb06efab8eaa",
   "metadata": {},
   "outputs": [],
   "source": [
    "df.to_excel(\"GradientRegPred2.xlsx\",index=False)"
   ]
  },
  {
   "cell_type": "code",
   "execution_count": 23,
   "id": "fda20049-2bee-4f9f-92f0-c28911f1d984",
   "metadata": {},
   "outputs": [],
   "source": [
    "from sklearn import linear_model\n",
    "from scipy import stats\n",
    "def calculate_partial_correlation(input_df):\n",
    "    \"\"\"\n",
    "    Returns the sample linear partial correlation coefficients between pairs of variables,\n",
    "    controlling for all other remaining variables\n",
    "\n",
    "    Parameters\n",
    "    ----------\n",
    "    input_df : array-like, shape (n, p)\n",
    "        Array with the different variables. Each column is taken as a variable.\n",
    "\n",
    "    Returns\n",
    "    -------\n",
    "    P : array-like, shape (p, p)\n",
    "        P[i, j] contains the partial correlation of input_df[:, i] and input_df[:, j]\n",
    "        controlling for all other remaining variables.\n",
    "    \"\"\"\n",
    "    partial_corr_matrix = np.zeros((input_df.shape[1], input_df.shape[1]));\n",
    "    for i, column1 in enumerate(input_df):\n",
    "        for j, column2 in enumerate(input_df):\n",
    "            control_variables = np.delete(np.arange(input_df.shape[1]), [i, j]);\n",
    "            if i==j:\n",
    "                partial_corr_matrix[i, j] = 1;\n",
    "                continue\n",
    "            data_control_variable = input_df.iloc[:, control_variables]\n",
    "            data_column1 = input_df[column1].values\n",
    "            data_column2 = input_df[column2].values\n",
    "            fit1 = linear_model.LinearRegression(fit_intercept=True)\n",
    "            fit2 = linear_model.LinearRegression(fit_intercept=True)\n",
    "            fit1.fit(data_control_variable, data_column1)\n",
    "            fit2.fit(data_control_variable, data_column2)\n",
    "            residual1 = data_column1 - (np.dot(data_control_variable, fit1.coef_) + fit1.intercept_)\n",
    "            residual2 = data_column2 - (np.dot(data_control_variable, fit2.coef_) + fit2.intercept_)\n",
    "            partial_corr_matrix[i,j] = stats.pearsonr(residual1, residual2)[0]\n",
    "    return pd.DataFrame(partial_corr_matrix, columns = input_df.columns, index = input_df.columns)\n"
   ]
  },
  {
   "cell_type": "code",
   "execution_count": 24,
   "id": "957b5359-1f1d-41cf-a798-32aaac05bb28",
   "metadata": {},
   "outputs": [],
   "source": [
    "par_corr = calculate_partial_correlation(df[['Form', 'Region', ' Tender_Type',\n",
    "       'Client', '#Participant', 'Winning_Price', 'Proximity_Delivery',\n",
    "       'Tender_Duration', 'Previous_Winning_Price', '#Months_G.E']])[\"Winning_Price\"]"
   ]
  },
  {
   "cell_type": "markdown",
   "id": "0c57242c-9bf1-4fcc-97ca-dc7a0572dac2",
   "metadata": {},
   "source": [
    "### Partial Correlation Coefficient"
   ]
  },
  {
   "cell_type": "code",
   "execution_count": 25,
   "id": "f3fa936a-b6db-488f-9059-fc99d672ee58",
   "metadata": {},
   "outputs": [
    {
     "data": {
      "text/plain": [
       "Form                      0.017175\n",
       "Region                    0.028802\n",
       " Tender_Type              0.085109\n",
       "Client                    0.062785\n",
       "#Participant              0.133845\n",
       "Winning_Price             1.000000\n",
       "Proximity_Delivery       -0.035072\n",
       "Tender_Duration          -0.069073\n",
       "Previous_Winning_Price    0.672232\n",
       "#Months_G.E              -0.032468\n",
       "Name: Winning_Price, dtype: float64"
      ]
     },
     "execution_count": 25,
     "metadata": {},
     "output_type": "execute_result"
    }
   ],
   "source": [
    "par_corr"
   ]
  },
  {
   "cell_type": "code",
   "execution_count": 136,
   "id": "aa2c75d2-ab16-4250-8d8e-9f1202e9f219",
   "metadata": {},
   "outputs": [],
   "source": [
    "df_final = pd.read_excel(\"GradientRegPred2.xlsx\",sheet_name=\"Raw\",engine=\"openpyxl\")"
   ]
  },
  {
   "cell_type": "code",
   "execution_count": 137,
   "id": "c724a735-a84f-4c9b-b84a-fcf8748244b3",
   "metadata": {},
   "outputs": [],
   "source": [
    "df_final.dropna(thresh=8,inplace=True)"
   ]
  },
  {
   "cell_type": "code",
   "execution_count": 138,
   "id": "1c99c113-c202-44f8-abef-83a9b480be4c",
   "metadata": {},
   "outputs": [],
   "source": [
    "df_final = df_final[df_final[\"Deviation\"]<.50]"
   ]
  },
  {
   "cell_type": "code",
   "execution_count": 139,
   "id": "76c6c3e1-a158-499c-9dc5-a4c2949a4dd3",
   "metadata": {},
   "outputs": [],
   "source": [
    "df_final[\"Prv_Cat\"] = df_final[\"Previous_Winning_Price\"].apply(prv_categoriser)"
   ]
  },
  {
   "cell_type": "code",
   "execution_count": 140,
   "id": "f13050c7-59f4-459c-9d40-9ef847e12b7a",
   "metadata": {},
   "outputs": [
    {
     "data": {
      "text/plain": [
       "(168, 18)"
      ]
     },
     "execution_count": 140,
     "metadata": {},
     "output_type": "execute_result"
    }
   ],
   "source": [
    "df_final2 = df_final[df_final[\"Previous_Winning_Price\"]<=100]\n",
    "df_final2 = df_final2[df_final2[\"DRL_Bid_price\"]>0]\n",
    "df_final2.shape"
   ]
  },
  {
   "cell_type": "markdown",
   "id": "e01c797f-0321-48b9-b905-5fd594759c65",
   "metadata": {},
   "source": [
    "### Gradient Boosting Regression"
   ]
  },
  {
   "cell_type": "code",
   "execution_count": 141,
   "id": "43c41452-4f0f-447b-8b16-fe8e77d90ce0",
   "metadata": {},
   "outputs": [],
   "source": [
    "X_cols = [\"Client\",' Tender_Type','Proximity_Delivery',\n",
    "       'Tender_Duration',\"Previous_Winning_Price\", '#Months_G.E']\n",
    "X = df_final2[X_cols]\n",
    "Y = list(df_final2[\"Winning_Price\"])"
   ]
  },
  {
   "cell_type": "code",
   "execution_count": 142,
   "id": "ceafeee0-dea7-482a-91d2-7b3b5a244191",
   "metadata": {},
   "outputs": [
    {
     "data": {
      "text/html": [
       "<div>\n",
       "<style scoped>\n",
       "    .dataframe tbody tr th:only-of-type {\n",
       "        vertical-align: middle;\n",
       "    }\n",
       "\n",
       "    .dataframe tbody tr th {\n",
       "        vertical-align: top;\n",
       "    }\n",
       "\n",
       "    .dataframe thead th {\n",
       "        text-align: right;\n",
       "    }\n",
       "</style>\n",
       "<table border=\"1\" class=\"dataframe\">\n",
       "  <thead>\n",
       "    <tr style=\"text-align: right;\">\n",
       "      <th></th>\n",
       "      <th>Feature</th>\n",
       "      <th>VIF</th>\n",
       "    </tr>\n",
       "  </thead>\n",
       "  <tbody>\n",
       "    <tr>\n",
       "      <th>0</th>\n",
       "      <td>Client</td>\n",
       "      <td>10.822953</td>\n",
       "    </tr>\n",
       "    <tr>\n",
       "      <th>1</th>\n",
       "      <td>Tender_Type</td>\n",
       "      <td>9.806202</td>\n",
       "    </tr>\n",
       "    <tr>\n",
       "      <th>2</th>\n",
       "      <td>Proximity_Delivery</td>\n",
       "      <td>2.749688</td>\n",
       "    </tr>\n",
       "    <tr>\n",
       "      <th>3</th>\n",
       "      <td>Tender_Duration</td>\n",
       "      <td>5.705537</td>\n",
       "    </tr>\n",
       "    <tr>\n",
       "      <th>4</th>\n",
       "      <td>Previous_Winning_Price</td>\n",
       "      <td>1.619150</td>\n",
       "    </tr>\n",
       "    <tr>\n",
       "      <th>5</th>\n",
       "      <td>#Months_G.E</td>\n",
       "      <td>2.705274</td>\n",
       "    </tr>\n",
       "  </tbody>\n",
       "</table>\n",
       "</div>"
      ],
      "text/plain": [
       "                  Feature        VIF\n",
       "0                  Client  10.822953\n",
       "1             Tender_Type   9.806202\n",
       "2      Proximity_Delivery   2.749688\n",
       "3         Tender_Duration   5.705537\n",
       "4  Previous_Winning_Price   1.619150\n",
       "5             #Months_G.E   2.705274"
      ]
     },
     "execution_count": 142,
     "metadata": {},
     "output_type": "execute_result"
    }
   ],
   "source": [
    "X = df_final2[X_cols]\n",
    "norm_X = X.apply(lambda iterator: ((iterator-iterator.mean())/iterator.std()).round(2))\n",
    "norm_X\n",
    "vif_data = pd.DataFrame()\n",
    "vif_data[\"Feature\"]=norm_X.columns\n",
    "vif_data[\"VIF\"] = [variance_inflation_factor(X.values , i) for i in range(len(norm_X.columns))]\n",
    "vif_data"
   ]
  },
  {
   "cell_type": "code",
   "execution_count": 143,
   "id": "69fb312e-9113-4998-87bb-3e98b1c12529",
   "metadata": {},
   "outputs": [],
   "source": [
    "grad_reg = GradientBoostingRegressor(random_state=0)"
   ]
  },
  {
   "cell_type": "code",
   "execution_count": 144,
   "id": "18c87817-9c89-4103-942c-7495f3a59538",
   "metadata": {},
   "outputs": [
    {
     "data": {
      "text/plain": [
       "10.434572609055879"
      ]
     },
     "execution_count": 144,
     "metadata": {},
     "output_type": "execute_result"
    }
   ],
   "source": [
    "grad_reg = GradientBoostingRegressor(random_state=0)\n",
    "grad_reg.fit(X,np.log(Y))\n",
    "mean_absolute_percentage_error(Y,np.exp(grad_reg.predict(X)))"
   ]
  },
  {
   "cell_type": "code",
   "execution_count": 41,
   "id": "0148d703-5b0e-40f6-9f6a-9ec05b666a2d",
   "metadata": {},
   "outputs": [
    {
     "data": {
      "text/plain": [
       "array([9.21952894e-05, 4.81550604e-04, 6.44312623e-03, 1.13117351e-02,\n",
       "       9.68018952e-01, 1.36524403e-02])"
      ]
     },
     "execution_count": 41,
     "metadata": {},
     "output_type": "execute_result"
    }
   ],
   "source": [
    "grad_reg.feature_importances_"
   ]
  },
  {
   "cell_type": "markdown",
   "id": "9b90d9a5-af74-4060-9c1f-3f9ed6d5f2c7",
   "metadata": {},
   "source": [
    "### Feature Importance"
   ]
  },
  {
   "cell_type": "code",
   "execution_count": 42,
   "id": "7184122c-55e1-47ee-a272-e13d0d663cea",
   "metadata": {},
   "outputs": [
    {
     "data": {
      "text/html": [
       "<div>\n",
       "<style scoped>\n",
       "    .dataframe tbody tr th:only-of-type {\n",
       "        vertical-align: middle;\n",
       "    }\n",
       "\n",
       "    .dataframe tbody tr th {\n",
       "        vertical-align: top;\n",
       "    }\n",
       "\n",
       "    .dataframe thead th {\n",
       "        text-align: right;\n",
       "    }\n",
       "</style>\n",
       "<table border=\"1\" class=\"dataframe\">\n",
       "  <thead>\n",
       "    <tr style=\"text-align: right;\">\n",
       "      <th></th>\n",
       "      <th>Features</th>\n",
       "      <th>Importance</th>\n",
       "    </tr>\n",
       "  </thead>\n",
       "  <tbody>\n",
       "    <tr>\n",
       "      <th>0</th>\n",
       "      <td>Client</td>\n",
       "      <td>0.000092</td>\n",
       "    </tr>\n",
       "    <tr>\n",
       "      <th>1</th>\n",
       "      <td>Tender_Type</td>\n",
       "      <td>0.000482</td>\n",
       "    </tr>\n",
       "    <tr>\n",
       "      <th>2</th>\n",
       "      <td>Proximity_Delivery</td>\n",
       "      <td>0.006443</td>\n",
       "    </tr>\n",
       "    <tr>\n",
       "      <th>3</th>\n",
       "      <td>Tender_Duration</td>\n",
       "      <td>0.011312</td>\n",
       "    </tr>\n",
       "    <tr>\n",
       "      <th>4</th>\n",
       "      <td>Previous_Winning_Price</td>\n",
       "      <td>0.968019</td>\n",
       "    </tr>\n",
       "    <tr>\n",
       "      <th>5</th>\n",
       "      <td>#Months_G.E</td>\n",
       "      <td>0.013652</td>\n",
       "    </tr>\n",
       "  </tbody>\n",
       "</table>\n",
       "</div>"
      ],
      "text/plain": [
       "                 Features  Importance\n",
       "0                  Client    0.000092\n",
       "1             Tender_Type    0.000482\n",
       "2      Proximity_Delivery    0.006443\n",
       "3         Tender_Duration    0.011312\n",
       "4  Previous_Winning_Price    0.968019\n",
       "5             #Months_G.E    0.013652"
      ]
     },
     "execution_count": 42,
     "metadata": {},
     "output_type": "execute_result"
    }
   ],
   "source": [
    "pd.DataFrame({\"Features\":X.columns,\"Importance\":grad_reg.feature_importances_})"
   ]
  },
  {
   "cell_type": "markdown",
   "id": "08bef092-ba37-4776-be7d-1f4b5d46afd0",
   "metadata": {},
   "source": [
    "### Target Variable :- DRL Win DRL Bid"
   ]
  },
  {
   "cell_type": "code",
   "execution_count": 43,
   "id": "33309285-993a-4599-8967-b107d9a9b721",
   "metadata": {},
   "outputs": [],
   "source": [
    "df_final2 = df_final2[df_final2[\"DRL_Bid_price\"]>0]\n",
    "X_cols = [\"Client\",' Tender_Type','Proximity_Delivery',\n",
    "       'Tender_Duration', 'Previous_Winning_Price', '#Months_G.E']\n",
    "X = df_final2[X_cols]\n",
    "Y = list(df_final2[\"DRL_Bid_price\"])"
   ]
  },
  {
   "cell_type": "code",
   "execution_count": 44,
   "id": "6f16c321-4e7e-47d3-ba56-267688c32150",
   "metadata": {},
   "outputs": [
    {
     "data": {
      "text/plain": [
       "17.526835665095657"
      ]
     },
     "execution_count": 44,
     "metadata": {},
     "output_type": "execute_result"
    }
   ],
   "source": [
    "grad_reg = GradientBoostingRegressor(random_state=0)\n",
    "grad_reg = GradientBoostingRegressor(random_state=0)\n",
    "grad_reg.fit(X,np.log(Y))\n",
    "mean_absolute_percentage_error(Y,np.exp(grad_reg.predict(X)))"
   ]
  },
  {
   "cell_type": "markdown",
   "id": "e665da14-c2cf-4515-9308-efad1b891ff4",
   "metadata": {},
   "source": [
    "## Logistic Regression"
   ]
  },
  {
   "cell_type": "code",
   "execution_count": 45,
   "id": "90b192d7-ef26-4fa0-8dcc-b25cd539e324",
   "metadata": {},
   "outputs": [],
   "source": [
    "X_cols = [\"Client\",' Tender_Type','Proximity_Delivery',\n",
    "       'Tender_Duration','Previous_Winning_Price', '#Months_G.E']\n",
    "X = df_final2[X_cols]\n",
    "Y = list(df_final2[\"DRL_Win_Flag\"])"
   ]
  },
  {
   "cell_type": "code",
   "execution_count": 46,
   "id": "a8afd2ae-bb83-4166-8600-c4bea9a3cde2",
   "metadata": {},
   "outputs": [
    {
     "name": "stdout",
     "output_type": "stream",
     "text": [
      "{0: 0.65625, 1: 2.1}\n"
     ]
    },
    {
     "name": "stderr",
     "output_type": "stream",
     "text": [
      "C:\\ProgramData\\Anaconda3\\lib\\site-packages\\sklearn\\utils\\validation.py:70: FutureWarning: Pass classes=[0, 1], y=[0, 0, 1, 0, 0, 1, 0, 0, 0, 1, 0, 1, 1, 0, 0, 0, 1, 0, 0, 1, 1, 0, 0, 0, 1, 0, 0, 1, 1, 0, 0, 0, 0, 1, 0, 0, 1, 0, 0, 1, 1, 1, 1, 0, 0, 0, 1, 0, 0, 1, 1, 0, 0, 0, 0, 1, 0, 0, 0, 0, 0, 0, 0, 1, 0, 0, 0, 0, 0, 0, 0, 0, 0, 0, 0, 0, 0, 0, 0, 0, 1, 0, 1, 1, 1, 1, 0, 0, 0, 0, 0, 0, 0, 0, 0, 0, 1, 0, 0, 1, 0, 0, 1, 0, 1, 1, 0, 0, 0, 1, 0, 0, 1, 0, 0, 1, 0, 0, 0, 0, 0, 0, 0, 0, 0, 0, 0, 0, 0, 0, 0, 0, 1, 0, 0, 0, 0, 1, 1, 0, 0, 0, 0, 0, 0, 0, 0, 0, 0, 0, 0, 0, 0, 0, 0, 0, 0, 0, 0, 1, 0, 0, 0, 0, 1, 0, 0, 0] as keyword args. From version 1.0 (renaming of 0.25) passing these as positional arguments will result in an error\n",
      "  warnings.warn(f\"Pass {args_msg} as keyword args. From version \"\n"
     ]
    }
   ],
   "source": [
    "# calculate heuristic class weighting\n",
    "from sklearn.utils.class_weight import compute_class_weight\n",
    "from sklearn.datasets import make_classification\n",
    "# calculate class weighting\n",
    "weighting = compute_class_weight('balanced', [0,1], Y)\n",
    "class_model = [0,1]\n",
    "weight_hue = dict(zip(class_model,weighting))\n",
    "print(weight_hue)"
   ]
  },
  {
   "cell_type": "code",
   "execution_count": 47,
   "id": "ab980069-2b2e-48f4-89b0-f5ebf399f026",
   "metadata": {},
   "outputs": [
    {
     "name": "stdout",
     "output_type": "stream",
     "text": [
      "0.6130952380952381\n",
      "69\n",
      "Mean ROC AUC: 0.540\n"
     ]
    }
   ],
   "source": [
    "from sklearn.linear_model import LogisticRegression\n",
    "from sklearn.model_selection import cross_val_score\n",
    "from sklearn.model_selection import RepeatedStratifiedKFold\n",
    "# instantiate a logistic regression model, and fit with X and y\n",
    "model = LogisticRegression(class_weight=weight_hue,solver=\"liblinear\")\n",
    "model = model.fit(X, Y)\n",
    "\n",
    "# check the accuracy on the training set\n",
    "print(model.score(X, Y))\n",
    "\n",
    "# predict_proba will return array containing proability of y = 0 and y = 1\n",
    "model.predict_proba(X)[:,1]\n",
    "\n",
    "# predict will give convert the probability(y=1) values > .5 to 1 else 0  \n",
    "print(sum(model.predict(X)))\n",
    "\n",
    "# define evaluation procedure\n",
    "cv = RepeatedStratifiedKFold(n_splits=10, n_repeats=5, random_state=1)\n",
    "\n",
    "# evaluate model\n",
    "scores = cross_val_score(model, X, Y, scoring='roc_auc', cv=cv, n_jobs=-1)\n",
    "\n",
    "# summarize performance\n",
    "print('Mean ROC AUC: %.3f' % np.mean(scores))"
   ]
  },
  {
   "cell_type": "code",
   "execution_count": 48,
   "id": "ac3297c6-8a5e-4faf-8c1b-248952c9d433",
   "metadata": {},
   "outputs": [
    {
     "data": {
      "image/png": "[encoded data removed]",
      "text/plain": [
       "<Figure size 432x288 with 2 Axes>"
      ]
     },
     "metadata": {
      "needs_background": "light"
     },
     "output_type": "display_data"
    },
    {
     "data": {
      "text/plain": [
       "<Figure size 720x504 with 0 Axes>"
      ]
     },
     "metadata": {},
     "output_type": "display_data"
    }
   ],
   "source": [
    "from sklearn import metrics\n",
    "\n",
    "import seaborn as sns\n",
    "\n",
    "import matplotlib.pyplot as plt\n",
    "\n",
    "confusion_matrix = metrics.confusion_matrix(Y, model.predict(X))\n",
    "\n",
    "matrix_df = pd.DataFrame(confusion_matrix)\n",
    "\n",
    "ax = plt.axes()\n",
    "\n",
    "sns.set(font_scale=1.3)\n",
    "\n",
    "plt.figure(figsize=(10,7))\n",
    "\n",
    "sns.heatmap(matrix_df, annot=True, fmt=\"g\", ax=ax, cmap=\"magma\")\n",
    "\n",
    "ax.set_title('Confusion Matrix - Decision Tree')\n",
    "\n",
    "ax.set_xlabel(\"Predicted label\", fontsize =15)\n",
    "\n",
    "#ax.set_xticklabels(['']+[0,1])\n",
    "\n",
    "#ax.set_ylabel(\"True Label\", fontsize=15)\n",
    "\n",
    "#ax.set_yticklabels(list(labels), rotation = 0)\n",
    "\n",
    "plt.show()"
   ]
  },
  {
   "cell_type": "code",
   "execution_count": 132,
   "id": "300044b0-b74b-4621-b5d0-092912cb3977",
   "metadata": {},
   "outputs": [],
   "source": [
    "log_pred =[]\n",
    "for i in model.predict_proba(X):\n",
    "    log_pred.append(i[1])"
   ]
  },
  {
   "cell_type": "code",
   "execution_count": 133,
   "id": "e041ae2a-60df-497a-a3ca-f51b6ced6cd9",
   "metadata": {},
   "outputs": [],
   "source": [
    "df_final2[\"Logistic_Predictions\"]=log_pred"
   ]
  },
  {
   "cell_type": "code",
   "execution_count": 134,
   "id": "36272c8d-b421-4310-8f08-9d80a9fd3c16",
   "metadata": {},
   "outputs": [],
   "source": [
    "df_final2.to_excel(\"Logistic_Regression_Pred2.xlsx\",index=False)"
   ]
  },
  {
   "cell_type": "code",
   "execution_count": 136,
   "id": "95aef92a-b0ff-4c1c-8d08-c24295ca5b66",
   "metadata": {},
   "outputs": [
    {
     "data": {
      "text/plain": [
       "<AxesSubplot:xlabel='Gr. Reg Prediction', ylabel='Density'>"
      ]
     },
     "execution_count": 136,
     "metadata": {},
     "output_type": "execute_result"
    },
    {
     "data": {
      "image/png": "[encoded data removed]",
      "text/plain": [
       "<Figure size 432x288 with 1 Axes>"
      ]
     },
     "metadata": {},
     "output_type": "display_data"
    }
   ],
   "source": [
    "import seaborn as sns\n",
    "sns.kdeplot(df_final2[\"Gr. Reg Prediction\"])\n",
    "sns.kdeplot(df_final2[\"Winning_Price\"])"
   ]
  },
  {
   "cell_type": "code",
   "execution_count": 137,
   "id": "5b646082-4a2e-4b87-a796-d44dcde0424d",
   "metadata": {
    "collapsed": true,
    "jupyter": {
     "outputs_hidden": true
    },
    "tags": []
   },
   "outputs": [
    {
     "name": "stdout",
     "output_type": "stream",
     "text": [
      "Collecting fitter\n",
      "  Downloading fitter-1.4.0.tar.gz (27 kB)\n",
      "Collecting easydev\n",
      "  Downloading easydev-0.12.0.tar.gz (47 kB)\n",
      "Requirement already satisfied: numpy in c:\\programdata\\anaconda3\\lib\\site-packages (from fitter) (1.20.3)\n",
      "Requirement already satisfied: matplotlib in c:\\programdata\\anaconda3\\lib\\site-packages (from fitter) (3.4.3)\n",
      "Requirement already satisfied: scipy>=0.18 in c:\\programdata\\anaconda3\\lib\\site-packages (from fitter) (1.7.1)\n",
      "Requirement already satisfied: pandas in c:\\programdata\\anaconda3\\lib\\site-packages (from fitter) (1.3.4)\n",
      "Requirement already satisfied: click in c:\\programdata\\anaconda3\\lib\\site-packages (from fitter) (8.0.3)\n",
      "Requirement already satisfied: joblib in c:\\programdata\\anaconda3\\lib\\site-packages (from fitter) (1.1.0)\n",
      "Requirement already satisfied: colorama in c:\\programdata\\anaconda3\\lib\\site-packages (from click->fitter) (0.4.4)\n",
      "Requirement already satisfied: pexpect in c:\\programdata\\anaconda3\\lib\\site-packages (from easydev->fitter) (4.8.0)\n",
      "Collecting colorlog\n",
      "  Downloading colorlog-6.6.0-py2.py3-none-any.whl (11 kB)\n",
      "Requirement already satisfied: cycler>=0.10 in c:\\programdata\\anaconda3\\lib\\site-packages (from matplotlib->fitter) (0.10.0)\n",
      "Requirement already satisfied: python-dateutil>=2.7 in c:\\programdata\\anaconda3\\lib\\site-packages (from matplotlib->fitter) (2.8.2)\n",
      "Requirement already satisfied: pillow>=6.2.0 in c:\\programdata\\anaconda3\\lib\\site-packages (from matplotlib->fitter) (8.4.0)\n",
      "Requirement already satisfied: pyparsing>=2.2.1 in c:\\programdata\\anaconda3\\lib\\site-packages (from matplotlib->fitter) (3.0.4)\n",
      "Requirement already satisfied: kiwisolver>=1.0.1 in c:\\programdata\\anaconda3\\lib\\site-packages (from matplotlib->fitter) (1.3.1)\n",
      "Requirement already satisfied: six in c:\\programdata\\anaconda3\\lib\\site-packages (from cycler>=0.10->matplotlib->fitter) (1.16.0)\n",
      "Requirement already satisfied: pytz>=2017.3 in c:\\programdata\\anaconda3\\lib\\site-packages (from pandas->fitter) (2021.3)\n",
      "Requirement already satisfied: ptyprocess>=0.5 in c:\\programdata\\anaconda3\\lib\\site-packages (from pexpect->easydev->fitter) (0.7.0)\n",
      "Building wheels for collected packages: fitter, easydev\n",
      "  Building wheel for fitter (setup.py): started\n",
      "  Building wheel for fitter (setup.py): finished with status 'done'\n",
      "  Created wheel for fitter: filename=fitter-1.4.0-py3-none-any.whl size=25036 sha256=22f65539e40e96a2b8ad1bf066012b66c28d6dcea457f31604e1aa60e481182f\n",
      "  Stored in directory: c:\\users\\p90011066\\appdata\\local\\pip\\cache\\wheels\\26\\07\\d7\\685f1a5643d927b18e983ec3cf3b4ff18ec4e1bdbfc1455301\n",
      "  Building wheel for easydev (setup.py): started\n",
      "  Building wheel for easydev (setup.py): finished with status 'done'\n",
      "  Created wheel for easydev: filename=easydev-0.12.0-py3-none-any.whl size=64232 sha256=223f6780c1f3870689aa63b3c2717bca40f9596310a46caccb0595c721afb326\n",
      "  Stored in directory: c:\\users\\p90011066\\appdata\\local\\pip\\cache\\wheels\\91\\1a\\c5\\9dfcc86c5bb27991b4dd27741dd03847dfca83ce975c186ddb\n",
      "Successfully built fitter easydev\n",
      "Installing collected packages: colorlog, easydev, fitter\n",
      "Successfully installed colorlog-6.6.0 easydev-0.12.0 fitter-1.4.0\n"
     ]
    },
    {
     "name": "stderr",
     "output_type": "stream",
     "text": [
      "WARNING: Ignoring invalid distribution - (c:\\programdata\\anaconda3\\lib\\site-packages)\n",
      "WARNING: Ignoring invalid distribution -cikit-learn (c:\\programdata\\anaconda3\\lib\\site-packages)\n",
      "WARNING: Ignoring invalid distribution -ackaging (c:\\programdata\\anaconda3\\lib\\site-packages)\n",
      "WARNING: Ignoring invalid distribution - (c:\\programdata\\anaconda3\\lib\\site-packages)\n",
      "WARNING: Ignoring invalid distribution -cikit-learn (c:\\programdata\\anaconda3\\lib\\site-packages)\n",
      "WARNING: Ignoring invalid distribution -ackaging (c:\\programdata\\anaconda3\\lib\\site-packages)\n",
      "WARNING: Ignoring invalid distribution - (c:\\programdata\\anaconda3\\lib\\site-packages)\n",
      "WARNING: Ignoring invalid distribution -cikit-learn (c:\\programdata\\anaconda3\\lib\\site-packages)\n",
      "WARNING: Ignoring invalid distribution -ackaging (c:\\programdata\\anaconda3\\lib\\site-packages)\n",
      "WARNING: Ignoring invalid distribution - (c:\\programdata\\anaconda3\\lib\\site-packages)\n",
      "WARNING: Ignoring invalid distribution -cikit-learn (c:\\programdata\\anaconda3\\lib\\site-packages)\n",
      "WARNING: Ignoring invalid distribution -ackaging (c:\\programdata\\anaconda3\\lib\\site-packages)\n",
      "WARNING: Ignoring invalid distribution - (c:\\programdata\\anaconda3\\lib\\site-packages)\n",
      "WARNING: Ignoring invalid distribution -cikit-learn (c:\\programdata\\anaconda3\\lib\\site-packages)\n",
      "WARNING: Ignoring invalid distribution -ackaging (c:\\programdata\\anaconda3\\lib\\site-packages)\n",
      "WARNING: Ignoring invalid distribution - (c:\\programdata\\anaconda3\\lib\\site-packages)\n",
      "WARNING: Ignoring invalid distribution -cikit-learn (c:\\programdata\\anaconda3\\lib\\site-packages)\n",
      "WARNING: Ignoring invalid distribution -ackaging (c:\\programdata\\anaconda3\\lib\\site-packages)\n",
      "WARNING: Ignoring invalid distribution - (c:\\programdata\\anaconda3\\lib\\site-packages)\n",
      "WARNING: Ignoring invalid distribution -cikit-learn (c:\\programdata\\anaconda3\\lib\\site-packages)\n",
      "WARNING: Ignoring invalid distribution -ackaging (c:\\programdata\\anaconda3\\lib\\site-packages)\n",
      "WARNING: Ignoring invalid distribution - (c:\\programdata\\anaconda3\\lib\\site-packages)\n",
      "WARNING: Ignoring invalid distribution -cikit-learn (c:\\programdata\\anaconda3\\lib\\site-packages)\n",
      "WARNING: Ignoring invalid distribution -ackaging (c:\\programdata\\anaconda3\\lib\\site-packages)\n",
      "WARNING: Ignoring invalid distribution - (c:\\programdata\\anaconda3\\lib\\site-packages)\n",
      "WARNING: Ignoring invalid distribution -cikit-learn (c:\\programdata\\anaconda3\\lib\\site-packages)\n",
      "WARNING: Ignoring invalid distribution -ackaging (c:\\programdata\\anaconda3\\lib\\site-packages)\n"
     ]
    }
   ],
   "source": [
    "!pip install fitter"
   ]
  },
  {
   "cell_type": "code",
   "execution_count": 138,
   "id": "54c41d35-3c8a-43cb-a756-24ded4dd4627",
   "metadata": {},
   "outputs": [],
   "source": [
    "from fitter import Fitter"
   ]
  },
  {
   "cell_type": "code",
   "execution_count": 141,
   "id": "1f5aba8e-74bd-4c78-8988-65a61a1d16ec",
   "metadata": {},
   "outputs": [
    {
     "data": {
      "text/html": [
       "<div>\n",
       "<style scoped>\n",
       "    .dataframe tbody tr th:only-of-type {\n",
       "        vertical-align: middle;\n",
       "    }\n",
       "\n",
       "    .dataframe tbody tr th {\n",
       "        vertical-align: top;\n",
       "    }\n",
       "\n",
       "    .dataframe thead th {\n",
       "        text-align: right;\n",
       "    }\n",
       "</style>\n",
       "<table border=\"1\" class=\"dataframe\">\n",
       "  <thead>\n",
       "    <tr style=\"text-align: right;\">\n",
       "      <th></th>\n",
       "      <th>sumsquare_error</th>\n",
       "      <th>aic</th>\n",
       "      <th>bic</th>\n",
       "      <th>kl_div</th>\n",
       "    </tr>\n",
       "  </thead>\n",
       "  <tbody>\n",
       "    <tr>\n",
       "      <th>burr</th>\n",
       "      <td>0.008598</td>\n",
       "      <td>1298.828608</td>\n",
       "      <td>-1639.385239</td>\n",
       "      <td>inf</td>\n",
       "    </tr>\n",
       "    <tr>\n",
       "      <th>lognorm</th>\n",
       "      <td>0.015300</td>\n",
       "      <td>1256.736869</td>\n",
       "      <td>-1547.674146</td>\n",
       "      <td>inf</td>\n",
       "    </tr>\n",
       "    <tr>\n",
       "      <th>beta</th>\n",
       "      <td>0.032003</td>\n",
       "      <td>1696.230752</td>\n",
       "      <td>-1418.574024</td>\n",
       "      <td>inf</td>\n",
       "    </tr>\n",
       "    <tr>\n",
       "      <th>gamma</th>\n",
       "      <td>0.032056</td>\n",
       "      <td>1376.516069</td>\n",
       "      <td>-1423.419987</td>\n",
       "      <td>inf</td>\n",
       "    </tr>\n",
       "    <tr>\n",
       "      <th>norm</th>\n",
       "      <td>0.094804</td>\n",
       "      <td>1453.813186</td>\n",
       "      <td>-1246.376917</td>\n",
       "      <td>inf</td>\n",
       "    </tr>\n",
       "  </tbody>\n",
       "</table>\n",
       "</div>"
      ],
      "text/plain": [
       "         sumsquare_error          aic          bic  kl_div\n",
       "burr            0.008598  1298.828608 -1639.385239     inf\n",
       "lognorm         0.015300  1256.736869 -1547.674146     inf\n",
       "beta            0.032003  1696.230752 -1418.574024     inf\n",
       "gamma           0.032056  1376.516069 -1423.419987     inf\n",
       "norm            0.094804  1453.813186 -1246.376917     inf"
      ]
     },
     "execution_count": 141,
     "metadata": {},
     "output_type": "execute_result"
    },
    {
     "data": {
      "image/png": "[encoded data removed]",
      "text/plain": [
       "<Figure size 432x288 with 1 Axes>"
      ]
     },
     "metadata": {},
     "output_type": "display_data"
    }
   ],
   "source": [
    "f = Fitter(df_final2[\"Winning_Price\"],\n",
    "           distributions=['gamma',\n",
    "                          'lognorm',\n",
    "                          \"beta\",\n",
    "                          \"burr\",\n",
    "                          \"norm\"])\n",
    "f.fit()\n",
    "f.summary()"
   ]
  },
  {
   "cell_type": "code",
   "execution_count": 142,
   "id": "25945f28-7e2e-41ee-8abe-418288b88aad",
   "metadata": {},
   "outputs": [
    {
     "data": {
      "text/plain": [
       "{'burr': {'c': 0.4971076332088218,\n",
       "  'd': 16.10461210173616,\n",
       "  'loc': 0.1327409190351061,\n",
       "  'scale': 0.004750850762103757}}"
      ]
     },
     "execution_count": 142,
     "metadata": {},
     "output_type": "execute_result"
    }
   ],
   "source": [
    "f.get_best(method = 'sumsquare_error')"
   ]
  },
  {
   "cell_type": "code",
   "execution_count": 143,
   "id": "a1c147de-1726-4cb5-8b46-64e79a3f9eff",
   "metadata": {},
   "outputs": [
    {
     "name": "stderr",
     "output_type": "stream",
     "text": [
      "WARNING:root:SKIPPED kstwo distribution (taking more than 30 seconds)\n",
      "WARNING:root:SKIPPED rv_continuous distribution (taking more than 30 seconds)\n",
      "WARNING:root:SKIPPED rv_histogram distribution (taking more than 30 seconds)\n",
      "C:\\ProgramData\\Anaconda3\\lib\\site-packages\\scipy\\stats\\_distn_infrastructure.py:1826: IntegrationWarning: The maximum number of subdivisions (50) has been achieved.\n",
      "  If increasing the limit yields no improvement it is advised to analyze \n",
      "  the integrand in order to determine the difficulties.  If the position of a \n",
      "  local difficulty can be determined (singularity, discontinuity) one will \n",
      "  probably gain from splitting up the interval and calling the integrator \n",
      "  on the subranges.  Perhaps a special-purpose integrator should be used.\n",
      "  return integrate.quad(self._mom_integ1, 0, 1, args=(m,)+args)[0]\n",
      "C:\\ProgramData\\Anaconda3\\lib\\site-packages\\scipy\\stats\\_distn_infrastructure.py:1826: IntegrationWarning: The integral is probably divergent, or slowly convergent.\n",
      "  return integrate.quad(self._mom_integ1, 0, 1, args=(m,)+args)[0]\n",
      "C:\\ProgramData\\Anaconda3\\lib\\site-packages\\scipy\\integrate\\quadpack.py:879: IntegrationWarning: The maximum number of subdivisions (50) has been achieved.\n",
      "  If increasing the limit yields no improvement it is advised to analyze \n",
      "  the integrand in order to determine the difficulties.  If the position of a \n",
      "  local difficulty can be determined (singularity, discontinuity) one will \n",
      "  probably gain from splitting up the interval and calling the integrator \n",
      "  on the subranges.  Perhaps a special-purpose integrator should be used.\n",
      "  quad_r = quad(f, low, high, args=args, full_output=self.full_output,\n",
      "WARNING:root:SKIPPED genexpon distribution (taking more than 30 seconds)\n",
      "WARNING:root:SKIPPED kappa4 distribution (taking more than 30 seconds)\n",
      "WARNING:root:SKIPPED levy_stable distribution (taking more than 30 seconds)\n",
      "WARNING:root:SKIPPED recipinvgauss distribution (taking more than 30 seconds)\n",
      "WARNING:root:SKIPPED studentized_range distribution (taking more than 30 seconds)\n"
     ]
    },
    {
     "data": {
      "text/html": [
       "<div>\n",
       "<style scoped>\n",
       "    .dataframe tbody tr th:only-of-type {\n",
       "        vertical-align: middle;\n",
       "    }\n",
       "\n",
       "    .dataframe tbody tr th {\n",
       "        vertical-align: top;\n",
       "    }\n",
       "\n",
       "    .dataframe thead th {\n",
       "        text-align: right;\n",
       "    }\n",
       "</style>\n",
       "<table border=\"1\" class=\"dataframe\">\n",
       "  <thead>\n",
       "    <tr style=\"text-align: right;\">\n",
       "      <th></th>\n",
       "      <th>sumsquare_error</th>\n",
       "      <th>aic</th>\n",
       "      <th>bic</th>\n",
       "      <th>kl_div</th>\n",
       "    </tr>\n",
       "  </thead>\n",
       "  <tbody>\n",
       "    <tr>\n",
       "      <th>nct</th>\n",
       "      <td>0.007323</td>\n",
       "      <td>1330.491588</td>\n",
       "      <td>-1666.334909</td>\n",
       "      <td>inf</td>\n",
       "    </tr>\n",
       "    <tr>\n",
       "      <th>invgamma</th>\n",
       "      <td>0.007375</td>\n",
       "      <td>1322.077272</td>\n",
       "      <td>-1670.267395</td>\n",
       "      <td>inf</td>\n",
       "    </tr>\n",
       "    <tr>\n",
       "      <th>betaprime</th>\n",
       "      <td>0.007376</td>\n",
       "      <td>1324.068422</td>\n",
       "      <td>-1665.119642</td>\n",
       "      <td>inf</td>\n",
       "    </tr>\n",
       "    <tr>\n",
       "      <th>invweibull</th>\n",
       "      <td>0.008383</td>\n",
       "      <td>1297.612119</td>\n",
       "      <td>-1648.759505</td>\n",
       "      <td>inf</td>\n",
       "    </tr>\n",
       "    <tr>\n",
       "      <th>genextreme</th>\n",
       "      <td>0.008383</td>\n",
       "      <td>1297.610019</td>\n",
       "      <td>-1648.754977</td>\n",
       "      <td>inf</td>\n",
       "    </tr>\n",
       "  </tbody>\n",
       "</table>\n",
       "</div>"
      ],
      "text/plain": [
       "            sumsquare_error          aic          bic  kl_div\n",
       "nct                0.007323  1330.491588 -1666.334909     inf\n",
       "invgamma           0.007375  1322.077272 -1670.267395     inf\n",
       "betaprime          0.007376  1324.068422 -1665.119642     inf\n",
       "invweibull         0.008383  1297.612119 -1648.759505     inf\n",
       "genextreme         0.008383  1297.610019 -1648.754977     inf"
      ]
     },
     "execution_count": 143,
     "metadata": {},
     "output_type": "execute_result"
    },
    {
     "name": "stderr",
     "output_type": "stream",
     "text": [
      "C:\\ProgramData\\Anaconda3\\lib\\site-packages\\scipy\\stats\\_distn_infrastructure.py:1826: IntegrationWarning: The algorithm does not converge.  Roundoff error is detected\n",
      "  in the extrapolation table.  It is assumed that the requested tolerance\n",
      "  cannot be achieved, and that the returned result (if full_output = 1) is \n",
      "  the best which can be obtained.\n",
      "  return integrate.quad(self._mom_integ1, 0, 1, args=(m,)+args)[0]\n",
      "C:\\ProgramData\\Anaconda3\\lib\\site-packages\\scipy\\integrate\\quadpack.py:879: IntegrationWarning: The integral is probably divergent, or slowly convergent.\n",
      "  quad_r = quad(f, low, high, args=args, full_output=self.full_output,\n"
     ]
    },
    {
     "data": {
      "image/png": "[encoded data removed]",
      "text/plain": [
       "<Figure size 432x288 with 1 Axes>"
      ]
     },
     "metadata": {},
     "output_type": "display_data"
    },
    {
     "name": "stderr",
     "output_type": "stream",
     "text": [
      "C:\\ProgramData\\Anaconda3\\lib\\site-packages\\scipy\\stats\\_distn_infrastructure.py:1826: IntegrationWarning: The integral is probably divergent, or slowly convergent.\n",
      "  return integrate.quad(self._mom_integ1, 0, 1, args=(m,)+args)[0]\n",
      "C:\\ProgramData\\Anaconda3\\lib\\site-packages\\scipy\\integrate\\quadpack.py:879: IntegrationWarning: The occurrence of roundoff error is detected, which prevents \n",
      "  the requested tolerance from being achieved.  The error may be \n",
      "  underestimated.\n",
      "  quad_r = quad(f, low, high, args=args, full_output=self.full_output,\n",
      "C:\\ProgramData\\Anaconda3\\lib\\site-packages\\scipy\\integrate\\quadpack.py:879: IntegrationWarning: The maximum number of subdivisions (50) has been achieved.\n",
      "  If increasing the limit yields no improvement it is advised to analyze \n",
      "  the integrand in order to determine the difficulties.  If the position of a \n",
      "  local difficulty can be determined (singularity, discontinuity) one will \n",
      "  probably gain from splitting up the interval and calling the integrator \n",
      "  on the subranges.  Perhaps a special-purpose integrator should be used.\n",
      "  quad_r = quad(f, low, high, args=args, full_output=self.full_output,\n"
     ]
    }
   ],
   "source": [
    "f = Fitter(df_final2[\"Winning_Price\"])\n",
    "f.fit()\n",
    "f.summary()"
   ]
  },
  {
   "cell_type": "code",
   "execution_count": 151,
   "id": "c4b5c38a-2aa7-484b-956e-0914d80ea96a",
   "metadata": {},
   "outputs": [
    {
     "data": {
      "text/plain": [
       "<matplotlib.legend.Legend at 0x1d1185a77f0>"
      ]
     },
     "execution_count": 151,
     "metadata": {},
     "output_type": "execute_result"
    },
    {
     "data": {
      "image/png": "[encoded data removed]",
      "text/plain": [
       "<Figure size 864x576 with 1 Axes>"
      ]
     },
     "metadata": {},
     "output_type": "display_data"
    }
   ],
   "source": [
    "plt.figure(figsize=(12,8))\n",
    "df_final2[\"Winning_Price\"].plot()\n",
    "df_final2[\"Gr. Reg Prediction\"].plot()\n",
    "plt.legend()"
   ]
  },
  {
   "cell_type": "code",
   "execution_count": 160,
   "id": "29e6e258-eb70-40d2-884a-d1af9ff15e58",
   "metadata": {},
   "outputs": [
    {
     "name": "stderr",
     "output_type": "stream",
     "text": [
      "WARNING:matplotlib.legend:No handles with labels found to put in legend.\n"
     ]
    },
    {
     "data": {
      "text/plain": [
       "<matplotlib.legend.Legend at 0x1d1157b0790>"
      ]
     },
     "execution_count": 160,
     "metadata": {},
     "output_type": "execute_result"
    },
    {
     "data": {
      "image/png": "[encoded data removed]",
      "text/plain": [
       "<Figure size 432x288 with 1 Axes>"
      ]
     },
     "metadata": {},
     "output_type": "display_data"
    }
   ],
   "source": [
    "#sns.histplot(np.log(df_final2[\"Winning_Price\"]))\n",
    "sns.kdeplot(df_final2[\"Winning_Price\"])\n",
    "sns.kdeplot(df_final2[\"Gr. Reg Prediction\"])\n",
    "plt.legend()"
   ]
  },
  {
   "cell_type": "markdown",
   "id": "af81b407-a8ec-46c1-ab8d-57d31e9ced5d",
   "metadata": {},
   "source": [
    "## Hyperparametre Tuning"
   ]
  },
  {
   "cell_type": "code",
   "execution_count": 58,
   "id": "2c0fa764-df92-4450-920c-2ee63984847f",
   "metadata": {},
   "outputs": [],
   "source": [
    "def modelfit(alg, dtrain, predictors, printFeatureImportance=True, cv_folds=5):\n",
    "    #Fit the algorithm on the data\n",
    "    alg.fit(dtrain[predictors], np.log(dtrain['Winning_Price']))\n",
    "        \n",
    "    #Predict training set:\n",
    "    dtrain_predictions = alg.predict(dtrain[predictors])\n",
    "    #dtrain_predprob = alg.predict_proba(dtrain[predictors])[:,1]\n",
    "    \n",
    "    #Perform cross-validation:\n",
    "    #if performCV:\n",
    "    #    cv_score = cross_validation.cross_val_score(alg, dtrain[predictors], dtrain['Disbursed'], cv=cv_folds, scoring='roc_auc')\n",
    "    \n",
    "    #Print model report:\n",
    "    print (\"\\nModel Report\")\n",
    "    print(\"Predictions\",dtrain_predictions)\n",
    "    #print (\"Accuracy : %.4g\" % metrics.accuracy_score(dtrain['Disbursed'].values, dtrain_predictions))\n",
    "    #print (\"AUC Score (Train): %f\" % metrics.roc_auc_score(dtrain['Disbursed'], dtrain_predprob))\n",
    "    \n",
    "    #if performCV:\n",
    "    #    print (\"CV Score : Mean - %.7g | Std - %.7g | Min - %.7g | Max - %.7g\" % (np.mean(cv_score),np.std(cv_score),np.min(cv_score),np.max(cv_score)))\n",
    "        \n",
    "    #Print Feature Importance:\n",
    "    if printFeatureImportance:\n",
    "        feat_imp = pd.Series(alg.feature_importances_, predictors).sort_values(ascending=False)\n",
    "        feat_imp.plot(kind='bar', title='Feature Importances')\n",
    "        plt.ylabel('Feature Importance Score')\n",
    "    return dtrain_predictions"
   ]
  },
  {
   "cell_type": "code",
   "execution_count": 60,
   "id": "b69924ca-c1ec-4008-9ad8-315ac45709a1",
   "metadata": {},
   "outputs": [
    {
     "name": "stdout",
     "output_type": "stream",
     "text": [
      "\n",
      "Model Report\n",
      "Predictions [-0.95006771 -0.92738649 -0.24746586 -0.48871218 -0.48674102  0.21187739\n",
      " -0.57306033 -0.19675355 -0.39042604  0.42682537 -0.55022263  2.28956367\n",
      "  0.90733082  0.65120582  0.65120582  0.65669027  0.57798609  0.46485267\n",
      "  0.46485267  2.28956367  0.90733082  0.65120582  0.65120582  0.65669027\n",
      "  0.57798609  0.46485267  0.46485267  0.60903646 -0.12781009 -0.17027213\n",
      " -0.19014966 -0.220735   -0.29176546 -0.22708821 -0.48637645 -0.49302638\n",
      "  1.45194281  0.95009183  1.13601049  1.24834143  0.94635293  0.87541559\n",
      " -0.33553825 -0.9222972  -1.03390814  1.19955357 -0.0335119  -0.48587369\n",
      " -0.39689927  0.50145399  4.14409475  3.92634855  3.76932076  3.6148944\n",
      "  3.50778344  3.51296964  3.51994133  3.66627317  3.73060279  3.60986106\n",
      "  3.35682439  3.35598269  3.3834397   4.20999031  4.04247227  3.91000146\n",
      "  3.7335148   3.59200427  3.69812022  3.95684343  3.86122626  3.74482943\n",
      "  3.5046364   3.49487335  3.59935244  4.58551108  4.67638667  4.71577992\n",
      "  4.21767765  3.6235511   3.49644849  3.32775839  3.39858386  3.41928281\n",
      "  3.38037833  3.2468576   3.20060151  2.7950163   1.75618394  1.71748526\n",
      "  3.7375985   3.30309165  3.12795016  3.04157616  3.32524723  3.16434287\n",
      "  2.88846095  3.25643291  3.08122894  3.25686739  3.16879691  3.16340006\n",
      "  2.88435738  2.74380849  2.83882119  2.88670845  2.71289739  2.60444005\n",
      "  3.35043329  3.2116784   3.47897367  3.35948681  3.53512526  3.25527789\n",
      "  2.9203491   3.13006752  2.89701374  3.05046031  3.07570948  2.86494578\n",
      "  0.15585456 -0.38571901 -0.80759993 -0.80810878 -0.78015141 -0.79804926\n",
      " -1.03104078 -1.07911673 -1.27649825 -1.54981104 -1.482048    3.68730526\n",
      "  3.17499624  2.74775389  3.11081587  2.70227141  2.27283434  1.57999596\n",
      "  1.18498463  2.04170584  0.15585456 -0.23695038 -0.80665989 -0.78015141\n",
      " -0.79804926 -0.79939086 -0.86193171 -0.86717437 -0.89115628 -0.44641379\n",
      " -1.18266247  2.00112939 -0.79420846 -0.79939086 -0.55744776 -1.60472705\n",
      " -0.92548054 -0.67475551 -0.16376456 -1.42202755 -1.43761912 -1.5759387\n",
      " -1.54981104  2.26519405 -1.482048   -1.33789519 -1.58058527 -1.33165169]\n"
     ]
    },
    {
     "data": {
      "image/png": "[encoded data removed]",
      "text/plain": [
       "<Figure size 432x288 with 1 Axes>"
      ]
     },
     "metadata": {},
     "output_type": "display_data"
    }
   ],
   "source": [
    "from sklearn.ensemble import GradientBoostingRegressor\n",
    "#Choose all predictors except target & IDcols\n",
    "gbm0 = GradientBoostingRegressor(random_state=10)\n",
    "preds = modelfit(gbm0, df_final2, X_cols)"
   ]
  },
  {
   "cell_type": "code",
   "execution_count": 79,
   "id": "4030811a-ff7b-4d0b-a534-8019baee52db",
   "metadata": {},
   "outputs": [
    {
     "data": {
      "text/plain": [
       "24"
      ]
     },
     "execution_count": 79,
     "metadata": {},
     "output_type": "execute_result"
    }
   ],
   "source": [
    "len(pd.Series([x.split(\"MG\")[0]+\"MG\"  for x in list(df_final2[\"Identifier\"])]).unique())"
   ]
  },
  {
   "cell_type": "code",
   "execution_count": 74,
   "id": "6bb5ca99-bd57-4376-a93e-b963b3ca4787",
   "metadata": {},
   "outputs": [
    {
     "name": "stdout",
     "output_type": "stream",
     "text": [
      "168\n"
     ]
    }
   ],
   "source": [
    "iden=[]\n",
    "for i in df_final2[\"Identifier\"]:\n",
    "    iden.append((str(i).replace(\"MCG\",\"MG\")))\n",
    "print(len(iden))"
   ]
  },
  {
   "cell_type": "code",
   "execution_count": 159,
   "id": "9f00a5ac-e8de-41ad-8d23-a07e1d859bae",
   "metadata": {},
   "outputs": [],
   "source": [
    "df_final2[\"Identifier\"] = iden"
   ]
  },
  {
   "cell_type": "code",
   "execution_count": 472,
   "id": "f891883d-bd10-4949-8c74-8ec5c777e14a",
   "metadata": {},
   "outputs": [],
   "source": [
    "inno_price=[5.86607,10.83,16.245,71.448,75.20866,11.463,7.626,10.09,5.045,401.19,510.31, 510.31,173.3,\n",
    "           206.05,1030.25,71.8,102.58,13.25267,202.16,233.9337,43.8,13.25267,13.29889,15.89402]"
   ]
  },
  {
   "cell_type": "code",
   "execution_count": 473,
   "id": "8bbcfcf3-2cd7-4bfb-8d57-13babcfb8121",
   "metadata": {},
   "outputs": [
    {
     "data": {
      "text/plain": [
       "24"
      ]
     },
     "execution_count": 473,
     "metadata": {},
     "output_type": "execute_result"
    }
   ],
   "source": [
    "len(inno_price)"
   ]
  },
  {
   "cell_type": "code",
   "execution_count": 523,
   "id": "a37f6683-fa52-4cd9-ba56-346324b4ca1a",
   "metadata": {},
   "outputs": [],
   "source": [
    "df_innovator_price =pd.DataFrame({\"Product\":pd.Series([x.split(\"MG\")[0]+\"MG\"  for x in list(df_final2[\"Identifier\"])]).unique(),\"Innovator_Price\":inno_price})"
   ]
  },
  {
   "cell_type": "code",
   "execution_count": 525,
   "id": "b4d3c7ad-7b96-4014-b1e3-987a2170d7d9",
   "metadata": {},
   "outputs": [
    {
     "data": {
      "text/html": [
       "<div>\n",
       "<style scoped>\n",
       "    .dataframe tbody tr th:only-of-type {\n",
       "        vertical-align: middle;\n",
       "    }\n",
       "\n",
       "    .dataframe tbody tr th {\n",
       "        vertical-align: top;\n",
       "    }\n",
       "\n",
       "    .dataframe thead th {\n",
       "        text-align: right;\n",
       "    }\n",
       "</style>\n",
       "<table border=\"1\" class=\"dataframe\">\n",
       "  <thead>\n",
       "    <tr style=\"text-align: right;\">\n",
       "      <th></th>\n",
       "      <th>Product</th>\n",
       "      <th>Innovator_Price</th>\n",
       "    </tr>\n",
       "  </thead>\n",
       "  <tbody>\n",
       "    <tr>\n",
       "      <th>0</th>\n",
       "      <td>CINACALCET 30MG</td>\n",
       "      <td>5.86607</td>\n",
       "    </tr>\n",
       "    <tr>\n",
       "      <th>1</th>\n",
       "      <td>CINACALCET 60MG</td>\n",
       "      <td>10.83000</td>\n",
       "    </tr>\n",
       "    <tr>\n",
       "      <th>2</th>\n",
       "      <td>CINACALCET 90MG</td>\n",
       "      <td>16.24500</td>\n",
       "    </tr>\n",
       "    <tr>\n",
       "      <th>3</th>\n",
       "      <td>AMBRISENTAN 10MG</td>\n",
       "      <td>71.44800</td>\n",
       "    </tr>\n",
       "    <tr>\n",
       "      <th>4</th>\n",
       "      <td>AMBRISENTAN 5MG</td>\n",
       "      <td>75.20866</td>\n",
       "    </tr>\n",
       "    <tr>\n",
       "      <th>5</th>\n",
       "      <td>ABACAVIR 900MG</td>\n",
       "      <td>11.46300</td>\n",
       "    </tr>\n",
       "    <tr>\n",
       "      <th>6</th>\n",
       "      <td>PALONOSETRON 250MG</td>\n",
       "      <td>7.62600</td>\n",
       "    </tr>\n",
       "    <tr>\n",
       "      <th>7</th>\n",
       "      <td>ATAZANAVIR 200MG</td>\n",
       "      <td>10.09000</td>\n",
       "    </tr>\n",
       "    <tr>\n",
       "      <th>8</th>\n",
       "      <td>ATAZANAVIR 300MG</td>\n",
       "      <td>5.04500</td>\n",
       "    </tr>\n",
       "    <tr>\n",
       "      <th>9</th>\n",
       "      <td>ATAZANAVIR 150MG</td>\n",
       "      <td>401.19000</td>\n",
       "    </tr>\n",
       "    <tr>\n",
       "      <th>10</th>\n",
       "      <td>CASPOFUNGIN 50MG</td>\n",
       "      <td>510.31000</td>\n",
       "    </tr>\n",
       "    <tr>\n",
       "      <th>11</th>\n",
       "      <td>CASPOFUNGIN 70MG</td>\n",
       "      <td>510.31000</td>\n",
       "    </tr>\n",
       "    <tr>\n",
       "      <th>12</th>\n",
       "      <td>BORTEZOMIB 3.5MG</td>\n",
       "      <td>173.30000</td>\n",
       "    </tr>\n",
       "    <tr>\n",
       "      <th>13</th>\n",
       "      <td>PEMETREXED 100MG</td>\n",
       "      <td>206.05000</td>\n",
       "    </tr>\n",
       "    <tr>\n",
       "      <th>14</th>\n",
       "      <td>PEMETREXED 500MG</td>\n",
       "      <td>1030.25000</td>\n",
       "    </tr>\n",
       "    <tr>\n",
       "      <th>15</th>\n",
       "      <td>DAPTOMICINA 350MG</td>\n",
       "      <td>71.80000</td>\n",
       "    </tr>\n",
       "    <tr>\n",
       "      <th>16</th>\n",
       "      <td>DAPTOMICINA 500MG</td>\n",
       "      <td>102.58000</td>\n",
       "    </tr>\n",
       "    <tr>\n",
       "      <th>17</th>\n",
       "      <td>ENTECAVIR 0.5MG</td>\n",
       "      <td>13.25267</td>\n",
       "    </tr>\n",
       "    <tr>\n",
       "      <th>18</th>\n",
       "      <td>FULVESTRANT 250MG</td>\n",
       "      <td>202.16000</td>\n",
       "    </tr>\n",
       "    <tr>\n",
       "      <th>19</th>\n",
       "      <td>BENDAMUSTINA 100MG</td>\n",
       "      <td>233.93370</td>\n",
       "    </tr>\n",
       "    <tr>\n",
       "      <th>20</th>\n",
       "      <td>BENDAMUSTINA 25MG</td>\n",
       "      <td>43.80000</td>\n",
       "    </tr>\n",
       "    <tr>\n",
       "      <th>21</th>\n",
       "      <td>ENTECAVIR 1MG</td>\n",
       "      <td>13.25267</td>\n",
       "    </tr>\n",
       "    <tr>\n",
       "      <th>22</th>\n",
       "      <td>EMTRICITABINA 445MG</td>\n",
       "      <td>13.29889</td>\n",
       "    </tr>\n",
       "    <tr>\n",
       "      <th>23</th>\n",
       "      <td>IMATINIB 100MG</td>\n",
       "      <td>15.89402</td>\n",
       "    </tr>\n",
       "  </tbody>\n",
       "</table>\n",
       "</div>"
      ],
      "text/plain": [
       "                Product  Innovator_Price\n",
       "0       CINACALCET 30MG          5.86607\n",
       "1       CINACALCET 60MG         10.83000\n",
       "2       CINACALCET 90MG         16.24500\n",
       "3      AMBRISENTAN 10MG         71.44800\n",
       "4       AMBRISENTAN 5MG         75.20866\n",
       "5        ABACAVIR 900MG         11.46300\n",
       "6    PALONOSETRON 250MG          7.62600\n",
       "7      ATAZANAVIR 200MG         10.09000\n",
       "8      ATAZANAVIR 300MG          5.04500\n",
       "9      ATAZANAVIR 150MG        401.19000\n",
       "10     CASPOFUNGIN 50MG        510.31000\n",
       "11     CASPOFUNGIN 70MG        510.31000\n",
       "12     BORTEZOMIB 3.5MG        173.30000\n",
       "13     PEMETREXED 100MG        206.05000\n",
       "14     PEMETREXED 500MG       1030.25000\n",
       "15    DAPTOMICINA 350MG         71.80000\n",
       "16    DAPTOMICINA 500MG        102.58000\n",
       "17      ENTECAVIR 0.5MG         13.25267\n",
       "18    FULVESTRANT 250MG        202.16000\n",
       "19   BENDAMUSTINA 100MG        233.93370\n",
       "20    BENDAMUSTINA 25MG         43.80000\n",
       "21        ENTECAVIR 1MG         13.25267\n",
       "22  EMTRICITABINA 445MG         13.29889\n",
       "23       IMATINIB 100MG         15.89402"
      ]
     },
     "execution_count": 525,
     "metadata": {},
     "output_type": "execute_result"
    }
   ],
   "source": [
    "df_innovator_price.to_excel(\"Innovator_info.xlsx\",index=False)\n",
    "df_innovator_price"
   ]
  },
  {
   "cell_type": "code",
   "execution_count": 475,
   "id": "38ab83f1-3bd9-4218-be81-3cb488488a3e",
   "metadata": {},
   "outputs": [],
   "source": [
    "prod_price = dict(zip(pd.Series([x.split(\"MG\")[0]+\"MG\"  for x in list(df_final2[\"Identifier\"])]).unique(),inno_price))"
   ]
  },
  {
   "cell_type": "code",
   "execution_count": 476,
   "id": "37ceb736-1540-424b-a48a-108ae902e360",
   "metadata": {},
   "outputs": [],
   "source": [
    "def win_prop_price(df):\n",
    "    df1 =pd.DataFrame()\n",
    "    prod_price = dict(zip(pd.Series([x.split(\"MG\")[0]+\"MG\"  for x in list(df_final2[\"Identifier\"])]).unique(),inno_price))\n",
    "    for i in (df[\"Product Name\"].unique()):\n",
    "        prod_df = df[df[\"Product Name\"]==i]\n",
    "        prod_df[\"Innovator_Price\"] = prod_price.get(i)\n",
    "        prod_df[\"Winning_Price_Prop\"]=prod_df[\"Winning_Price\"]/prod_price.get(i)\n",
    "        df1=pd.concat([df1,prod_df])\n",
    "    return df1[['Identifier',\"Product Name\", 'DRL_Win_Flag', 'Form', 'Region', ' Tender_Type',\n",
    "       'Client', '#Participant', 'Winning_Price',\"Innovator_Price\",'Proximity_Delivery',\n",
    "       'Tender_Duration', 'Previous_Winning_Price', '#Months_G.E',\"Winning_Price_Prop\"]]"
   ]
  },
  {
   "cell_type": "code",
   "execution_count": 477,
   "id": "a9156d4c-e7cb-409a-bf94-17cfac17b63c",
   "metadata": {},
   "outputs": [],
   "source": [
    "df_final2[\"Product Name\"] = [x.split(\"MG\")[0]+\"MG\" for x in df_final2[\"Identifier\"]]"
   ]
  },
  {
   "cell_type": "code",
   "execution_count": 478,
   "id": "cb9f7fab-bbf3-45a5-aeaa-fecf0c0a7135",
   "metadata": {},
   "outputs": [
    {
     "data": {
      "text/html": [
       "<div>\n",
       "<style scoped>\n",
       "    .dataframe tbody tr th:only-of-type {\n",
       "        vertical-align: middle;\n",
       "    }\n",
       "\n",
       "    .dataframe tbody tr th {\n",
       "        vertical-align: top;\n",
       "    }\n",
       "\n",
       "    .dataframe thead th {\n",
       "        text-align: right;\n",
       "    }\n",
       "</style>\n",
       "<table border=\"1\" class=\"dataframe\">\n",
       "  <thead>\n",
       "    <tr style=\"text-align: right;\">\n",
       "      <th></th>\n",
       "      <th>Identifier</th>\n",
       "      <th>DRL_Win_Flag</th>\n",
       "      <th>Form</th>\n",
       "      <th>Region</th>\n",
       "      <th>Tender_Type</th>\n",
       "      <th>Client</th>\n",
       "      <th>#Participant</th>\n",
       "      <th>Winning_Price</th>\n",
       "      <th>Proximity_Delivery</th>\n",
       "      <th>Tender_Duration</th>\n",
       "      <th>...</th>\n",
       "      <th>#Months_G.E</th>\n",
       "      <th>DRL_Bid_price</th>\n",
       "      <th>Win_Bid</th>\n",
       "      <th>DRL_Bid</th>\n",
       "      <th>Gr. Reg Prediction</th>\n",
       "      <th>Deviation</th>\n",
       "      <th>Prv_Cat</th>\n",
       "      <th>Product Name</th>\n",
       "      <th>Upper</th>\n",
       "      <th>Lower</th>\n",
       "    </tr>\n",
       "  </thead>\n",
       "  <tbody>\n",
       "    <tr>\n",
       "      <th>0</th>\n",
       "      <td>CINACALCET 30MG84724</td>\n",
       "      <td>0</td>\n",
       "      <td>1</td>\n",
       "      <td>3</td>\n",
       "      <td>1</td>\n",
       "      <td>2</td>\n",
       "      <td>2</td>\n",
       "      <td>0.36800</td>\n",
       "      <td>0.266667</td>\n",
       "      <td>1.106742</td>\n",
       "      <td>...</td>\n",
       "      <td>0.466667</td>\n",
       "      <td>1.00000</td>\n",
       "      <td>1.451944</td>\n",
       "      <td>2.975557</td>\n",
       "      <td>0.380245</td>\n",
       "      <td>0.033273</td>\n",
       "      <td>0</td>\n",
       "      <td>CINACALCET 30MG</td>\n",
       "      <td>0.494079</td>\n",
       "      <td>0.352145</td>\n",
       "    </tr>\n",
       "    <tr>\n",
       "      <th>1</th>\n",
       "      <td>CINACALCET 30MG85261</td>\n",
       "      <td>0</td>\n",
       "      <td>1</td>\n",
       "      <td>2</td>\n",
       "      <td>2</td>\n",
       "      <td>2</td>\n",
       "      <td>2</td>\n",
       "      <td>0.41587</td>\n",
       "      <td>0.266667</td>\n",
       "      <td>0.769663</td>\n",
       "      <td>...</td>\n",
       "      <td>0.933333</td>\n",
       "      <td>1.21440</td>\n",
       "      <td>1.788109</td>\n",
       "      <td>4.122441</td>\n",
       "      <td>0.382410</td>\n",
       "      <td>0.080458</td>\n",
       "      <td>0</td>\n",
       "      <td>CINACALCET 30MG</td>\n",
       "      <td>0.496244</td>\n",
       "      <td>0.354310</td>\n",
       "    </tr>\n",
       "    <tr>\n",
       "      <th>2</th>\n",
       "      <td>CINACALCET 30MG85386</td>\n",
       "      <td>1</td>\n",
       "      <td>1</td>\n",
       "      <td>3</td>\n",
       "      <td>2</td>\n",
       "      <td>1</td>\n",
       "      <td>1</td>\n",
       "      <td>0.67860</td>\n",
       "      <td>0.533333</td>\n",
       "      <td>1.794944</td>\n",
       "      <td>...</td>\n",
       "      <td>1.100000</td>\n",
       "      <td>0.67860</td>\n",
       "      <td>2.256696</td>\n",
       "      <td>2.641041</td>\n",
       "      <td>0.802040</td>\n",
       "      <td>0.181903</td>\n",
       "      <td>0</td>\n",
       "      <td>CINACALCET 30MG</td>\n",
       "      <td>0.915874</td>\n",
       "      <td>0.773940</td>\n",
       "    </tr>\n",
       "    <tr>\n",
       "      <th>4</th>\n",
       "      <td>CINACALCET 60MG84724</td>\n",
       "      <td>0</td>\n",
       "      <td>1</td>\n",
       "      <td>3</td>\n",
       "      <td>1</td>\n",
       "      <td>2</td>\n",
       "      <td>2</td>\n",
       "      <td>0.67900</td>\n",
       "      <td>0.266667</td>\n",
       "      <td>1.106742</td>\n",
       "      <td>...</td>\n",
       "      <td>0.466667</td>\n",
       "      <td>2.50000</td>\n",
       "      <td>1.452071</td>\n",
       "      <td>2.975825</td>\n",
       "      <td>0.635500</td>\n",
       "      <td>0.064064</td>\n",
       "      <td>0</td>\n",
       "      <td>CINACALCET 60MG</td>\n",
       "      <td>0.749335</td>\n",
       "      <td>0.607401</td>\n",
       "    </tr>\n",
       "    <tr>\n",
       "      <th>5</th>\n",
       "      <td>CINACALCET 60MG85261</td>\n",
       "      <td>0</td>\n",
       "      <td>1</td>\n",
       "      <td>2</td>\n",
       "      <td>2</td>\n",
       "      <td>2</td>\n",
       "      <td>2</td>\n",
       "      <td>0.54609</td>\n",
       "      <td>0.266667</td>\n",
       "      <td>0.769663</td>\n",
       "      <td>...</td>\n",
       "      <td>0.933333</td>\n",
       "      <td>2.10700</td>\n",
       "      <td>1.788266</td>\n",
       "      <td>4.122812</td>\n",
       "      <td>0.635894</td>\n",
       "      <td>0.164450</td>\n",
       "      <td>0</td>\n",
       "      <td>CINACALCET 60MG</td>\n",
       "      <td>0.749728</td>\n",
       "      <td>0.607795</td>\n",
       "    </tr>\n",
       "    <tr>\n",
       "      <th>...</th>\n",
       "      <td>...</td>\n",
       "      <td>...</td>\n",
       "      <td>...</td>\n",
       "      <td>...</td>\n",
       "      <td>...</td>\n",
       "      <td>...</td>\n",
       "      <td>...</td>\n",
       "      <td>...</td>\n",
       "      <td>...</td>\n",
       "      <td>...</td>\n",
       "      <td>...</td>\n",
       "      <td>...</td>\n",
       "      <td>...</td>\n",
       "      <td>...</td>\n",
       "      <td>...</td>\n",
       "      <td>...</td>\n",
       "      <td>...</td>\n",
       "      <td>...</td>\n",
       "      <td>...</td>\n",
       "      <td>...</td>\n",
       "      <td>...</td>\n",
       "    </tr>\n",
       "    <tr>\n",
       "      <th>177</th>\n",
       "      <td>IMATINIB 100MG78730</td>\n",
       "      <td>0</td>\n",
       "      <td>1</td>\n",
       "      <td>3</td>\n",
       "      <td>1</td>\n",
       "      <td>2</td>\n",
       "      <td>2</td>\n",
       "      <td>13.33334</td>\n",
       "      <td>9.733333</td>\n",
       "      <td>3.073034</td>\n",
       "      <td>...</td>\n",
       "      <td>24.366667</td>\n",
       "      <td>0.31000</td>\n",
       "      <td>0.484227</td>\n",
       "      <td>1.086539</td>\n",
       "      <td>8.174508</td>\n",
       "      <td>0.386912</td>\n",
       "      <td>1</td>\n",
       "      <td>IMATINIB 100MG</td>\n",
       "      <td>9.736140</td>\n",
       "      <td>7.628341</td>\n",
       "    </tr>\n",
       "    <tr>\n",
       "      <th>178</th>\n",
       "      <td>IMATINIB 100MG81522</td>\n",
       "      <td>1</td>\n",
       "      <td>1</td>\n",
       "      <td>3</td>\n",
       "      <td>2</td>\n",
       "      <td>2</td>\n",
       "      <td>1</td>\n",
       "      <td>0.26990</td>\n",
       "      <td>2.333333</td>\n",
       "      <td>4.101124</td>\n",
       "      <td>...</td>\n",
       "      <td>29.466667</td>\n",
       "      <td>0.26990</td>\n",
       "      <td>0.885460</td>\n",
       "      <td>1.158453</td>\n",
       "      <td>0.237964</td>\n",
       "      <td>0.118324</td>\n",
       "      <td>0</td>\n",
       "      <td>IMATINIB 100MG</td>\n",
       "      <td>0.351798</td>\n",
       "      <td>0.209865</td>\n",
       "    </tr>\n",
       "    <tr>\n",
       "      <th>179</th>\n",
       "      <td>IMATINIB 100MG92526</td>\n",
       "      <td>0</td>\n",
       "      <td>1</td>\n",
       "      <td>3</td>\n",
       "      <td>1</td>\n",
       "      <td>2</td>\n",
       "      <td>2</td>\n",
       "      <td>0.24550</td>\n",
       "      <td>1.833333</td>\n",
       "      <td>3.075843</td>\n",
       "      <td>...</td>\n",
       "      <td>43.766667</td>\n",
       "      <td>0.35119</td>\n",
       "      <td>0.248519</td>\n",
       "      <td>0.515867</td>\n",
       "      <td>0.251625</td>\n",
       "      <td>0.024949</td>\n",
       "      <td>0</td>\n",
       "      <td>IMATINIB 100MG</td>\n",
       "      <td>0.365459</td>\n",
       "      <td>0.223525</td>\n",
       "    </tr>\n",
       "    <tr>\n",
       "      <th>180</th>\n",
       "      <td>IMATINIB 100MG92618</td>\n",
       "      <td>0</td>\n",
       "      <td>1</td>\n",
       "      <td>4</td>\n",
       "      <td>1</td>\n",
       "      <td>2</td>\n",
       "      <td>2</td>\n",
       "      <td>0.18020</td>\n",
       "      <td>4.033333</td>\n",
       "      <td>1.264045</td>\n",
       "      <td>...</td>\n",
       "      <td>44.333333</td>\n",
       "      <td>0.31119</td>\n",
       "      <td>0.255400</td>\n",
       "      <td>0.543213</td>\n",
       "      <td>0.196118</td>\n",
       "      <td>0.088336</td>\n",
       "      <td>0</td>\n",
       "      <td>IMATINIB 100MG</td>\n",
       "      <td>0.309952</td>\n",
       "      <td>0.168018</td>\n",
       "    </tr>\n",
       "    <tr>\n",
       "      <th>181</th>\n",
       "      <td>IMATINIB 100MG94254</td>\n",
       "      <td>0</td>\n",
       "      <td>1</td>\n",
       "      <td>3</td>\n",
       "      <td>1</td>\n",
       "      <td>1</td>\n",
       "      <td>2</td>\n",
       "      <td>0.26558</td>\n",
       "      <td>2.333333</td>\n",
       "      <td>2.047753</td>\n",
       "      <td>...</td>\n",
       "      <td>45.600000</td>\n",
       "      <td>0.27000</td>\n",
       "      <td>0.187734</td>\n",
       "      <td>0.357167</td>\n",
       "      <td>0.261942</td>\n",
       "      <td>0.013698</td>\n",
       "      <td>0</td>\n",
       "      <td>IMATINIB 100MG</td>\n",
       "      <td>0.375776</td>\n",
       "      <td>0.233843</td>\n",
       "    </tr>\n",
       "  </tbody>\n",
       "</table>\n",
       "<p>168 rows × 21 columns</p>\n",
       "</div>"
      ],
      "text/plain": [
       "               Identifier  DRL_Win_Flag  Form  Region   Tender_Type  Client  \\\n",
       "0    CINACALCET 30MG84724             0     1       3             1       2   \n",
       "1    CINACALCET 30MG85261             0     1       2             2       2   \n",
       "2    CINACALCET 30MG85386             1     1       3             2       1   \n",
       "4    CINACALCET 60MG84724             0     1       3             1       2   \n",
       "5    CINACALCET 60MG85261             0     1       2             2       2   \n",
       "..                    ...           ...   ...     ...           ...     ...   \n",
       "177   IMATINIB 100MG78730             0     1       3             1       2   \n",
       "178   IMATINIB 100MG81522             1     1       3             2       2   \n",
       "179   IMATINIB 100MG92526             0     1       3             1       2   \n",
       "180   IMATINIB 100MG92618             0     1       4             1       2   \n",
       "181   IMATINIB 100MG94254             0     1       3             1       1   \n",
       "\n",
       "     #Participant  Winning_Price  Proximity_Delivery  Tender_Duration  ...  \\\n",
       "0               2        0.36800            0.266667         1.106742  ...   \n",
       "1               2        0.41587            0.266667         0.769663  ...   \n",
       "2               1        0.67860            0.533333         1.794944  ...   \n",
       "4               2        0.67900            0.266667         1.106742  ...   \n",
       "5               2        0.54609            0.266667         0.769663  ...   \n",
       "..            ...            ...                 ...              ...  ...   \n",
       "177             2       13.33334            9.733333         3.073034  ...   \n",
       "178             1        0.26990            2.333333         4.101124  ...   \n",
       "179             2        0.24550            1.833333         3.075843  ...   \n",
       "180             2        0.18020            4.033333         1.264045  ...   \n",
       "181             2        0.26558            2.333333         2.047753  ...   \n",
       "\n",
       "     #Months_G.E  DRL_Bid_price   Win_Bid   DRL_Bid  Gr. Reg Prediction  \\\n",
       "0       0.466667        1.00000  1.451944  2.975557            0.380245   \n",
       "1       0.933333        1.21440  1.788109  4.122441            0.382410   \n",
       "2       1.100000        0.67860  2.256696  2.641041            0.802040   \n",
       "4       0.466667        2.50000  1.452071  2.975825            0.635500   \n",
       "5       0.933333        2.10700  1.788266  4.122812            0.635894   \n",
       "..           ...            ...       ...       ...                 ...   \n",
       "177    24.366667        0.31000  0.484227  1.086539            8.174508   \n",
       "178    29.466667        0.26990  0.885460  1.158453            0.237964   \n",
       "179    43.766667        0.35119  0.248519  0.515867            0.251625   \n",
       "180    44.333333        0.31119  0.255400  0.543213            0.196118   \n",
       "181    45.600000        0.27000  0.187734  0.357167            0.261942   \n",
       "\n",
       "     Deviation  Prv_Cat     Product Name     Upper     Lower  \n",
       "0     0.033273        0  CINACALCET 30MG  0.494079  0.352145  \n",
       "1     0.080458        0  CINACALCET 30MG  0.496244  0.354310  \n",
       "2     0.181903        0  CINACALCET 30MG  0.915874  0.773940  \n",
       "4     0.064064        0  CINACALCET 60MG  0.749335  0.607401  \n",
       "5     0.164450        0  CINACALCET 60MG  0.749728  0.607795  \n",
       "..         ...      ...              ...       ...       ...  \n",
       "177   0.386912        1   IMATINIB 100MG  9.736140  7.628341  \n",
       "178   0.118324        0   IMATINIB 100MG  0.351798  0.209865  \n",
       "179   0.024949        0   IMATINIB 100MG  0.365459  0.223525  \n",
       "180   0.088336        0   IMATINIB 100MG  0.309952  0.168018  \n",
       "181   0.013698        0   IMATINIB 100MG  0.375776  0.233843  \n",
       "\n",
       "[168 rows x 21 columns]"
      ]
     },
     "execution_count": 478,
     "metadata": {},
     "output_type": "execute_result"
    }
   ],
   "source": [
    "df_final2"
   ]
  },
  {
   "cell_type": "code",
   "execution_count": 167,
   "id": "f4820dc5-6369-4245-b1e9-f0bdbd81cd9f",
   "metadata": {},
   "outputs": [
    {
     "data": {
      "text/plain": [
       "Index(['Identifier', 'DRL_Win_Flag', 'Form', 'Region', ' Tender_Type',\n",
       "       'Client', '#Participant', 'Winning_Price', 'Proximity_Delivery',\n",
       "       'Tender_Duration', 'Previous_Winning_Price', '#Months_G.E',\n",
       "       'DRL_Bid_price', 'Win_Bid', 'DRL_Bid', 'Gr. Reg Prediction',\n",
       "       'Deviation', 'Prv_Cat', 'Product Name'],\n",
       "      dtype='object')"
      ]
     },
     "execution_count": 167,
     "metadata": {},
     "output_type": "execute_result"
    }
   ],
   "source": [
    "df_final2.columns"
   ]
  },
  {
   "cell_type": "code",
   "execution_count": 168,
   "id": "d6d2b30d-34be-42a5-a31d-ed759455df7d",
   "metadata": {},
   "outputs": [
    {
     "name": "stderr",
     "output_type": "stream",
     "text": [
      "C:\\Users\\P90011~1\\AppData\\Local\\Temp/ipykernel_6764/3238764418.py:6: SettingWithCopyWarning: \n",
      "A value is trying to be set on a copy of a slice from a DataFrame.\n",
      "Try using .loc[row_indexer,col_indexer] = value instead\n",
      "\n",
      "See the caveats in the documentation: https://pandas.pydata.org/pandas-docs/stable/user_guide/indexing.html#returning-a-view-versus-a-copy\n",
      "  prod_df[\"Innovator_Price\"] = prod_price.get(i)\n",
      "C:\\Users\\P90011~1\\AppData\\Local\\Temp/ipykernel_6764/3238764418.py:7: SettingWithCopyWarning: \n",
      "A value is trying to be set on a copy of a slice from a DataFrame.\n",
      "Try using .loc[row_indexer,col_indexer] = value instead\n",
      "\n",
      "See the caveats in the documentation: https://pandas.pydata.org/pandas-docs/stable/user_guide/indexing.html#returning-a-view-versus-a-copy\n",
      "  prod_df[\"Winning_Price_Prop\"]=prod_df[\"Winning_Price\"]/prod_price.get(i)\n"
     ]
    },
    {
     "data": {
      "text/plain": [
       "<AxesSubplot:xlabel='Winning_Price_Prop', ylabel='Density'>"
      ]
     },
     "execution_count": 168,
     "metadata": {},
     "output_type": "execute_result"
    },
    {
     "data": {
      "image/png": "[encoded data removed]",
      "text/plain": [
       "<Figure size 432x288 with 1 Axes>"
      ]
     },
     "metadata": {},
     "output_type": "display_data"
    }
   ],
   "source": [
    "import seaborn as sns\n",
    "sns.kdeplot(win_prop_price(df_final2)[\"Winning_Price_Prop\"])"
   ]
  },
  {
   "cell_type": "code",
   "execution_count": 169,
   "id": "bc84a8f2-f41d-4214-97a0-1e22d064c643",
   "metadata": {},
   "outputs": [
    {
     "name": "stderr",
     "output_type": "stream",
     "text": [
      "C:\\Users\\P90011~1\\AppData\\Local\\Temp/ipykernel_6764/3238764418.py:6: SettingWithCopyWarning: \n",
      "A value is trying to be set on a copy of a slice from a DataFrame.\n",
      "Try using .loc[row_indexer,col_indexer] = value instead\n",
      "\n",
      "See the caveats in the documentation: https://pandas.pydata.org/pandas-docs/stable/user_guide/indexing.html#returning-a-view-versus-a-copy\n",
      "  prod_df[\"Innovator_Price\"] = prod_price.get(i)\n",
      "C:\\Users\\P90011~1\\AppData\\Local\\Temp/ipykernel_6764/3238764418.py:7: SettingWithCopyWarning: \n",
      "A value is trying to be set on a copy of a slice from a DataFrame.\n",
      "Try using .loc[row_indexer,col_indexer] = value instead\n",
      "\n",
      "See the caveats in the documentation: https://pandas.pydata.org/pandas-docs/stable/user_guide/indexing.html#returning-a-view-versus-a-copy\n",
      "  prod_df[\"Winning_Price_Prop\"]=prod_df[\"Winning_Price\"]/prod_price.get(i)\n"
     ]
    },
    {
     "data": {
      "text/plain": [
       "<AxesSubplot:xlabel='Winning_Price', ylabel='Density'>"
      ]
     },
     "execution_count": 169,
     "metadata": {},
     "output_type": "execute_result"
    },
    {
     "data": {
      "image/png": "[encoded data removed]",
      "text/plain": [
       "<Figure size 432x288 with 1 Axes>"
      ]
     },
     "metadata": {},
     "output_type": "display_data"
    }
   ],
   "source": [
    "sns.kdeplot(win_prop_price(df_final2)[\"Winning_Price\"])"
   ]
  },
  {
   "cell_type": "code",
   "execution_count": 480,
   "id": "ad4b836e-5ef1-42cf-b60e-1c78fa1c0bef",
   "metadata": {},
   "outputs": [
    {
     "name": "stderr",
     "output_type": "stream",
     "text": [
      "C:\\Users\\P90011~1\\AppData\\Local\\Temp/ipykernel_6764/3238764418.py:6: SettingWithCopyWarning: \n",
      "A value is trying to be set on a copy of a slice from a DataFrame.\n",
      "Try using .loc[row_indexer,col_indexer] = value instead\n",
      "\n",
      "See the caveats in the documentation: https://pandas.pydata.org/pandas-docs/stable/user_guide/indexing.html#returning-a-view-versus-a-copy\n",
      "  prod_df[\"Innovator_Price\"] = prod_price.get(i)\n",
      "C:\\Users\\P90011~1\\AppData\\Local\\Temp/ipykernel_6764/3238764418.py:7: SettingWithCopyWarning: \n",
      "A value is trying to be set on a copy of a slice from a DataFrame.\n",
      "Try using .loc[row_indexer,col_indexer] = value instead\n",
      "\n",
      "See the caveats in the documentation: https://pandas.pydata.org/pandas-docs/stable/user_guide/indexing.html#returning-a-view-versus-a-copy\n",
      "  prod_df[\"Winning_Price_Prop\"]=prod_df[\"Winning_Price\"]/prod_price.get(i)\n"
     ]
    },
    {
     "data": {
      "text/plain": [
       "Index(['Identifier', 'Product Name', 'DRL_Win_Flag', 'Form', 'Region',\n",
       "       ' Tender_Type', 'Client', '#Participant', 'Winning_Price',\n",
       "       'Innovator_Price', 'Proximity_Delivery', 'Tender_Duration',\n",
       "       'Previous_Winning_Price', '#Months_G.E', 'Winning_Price_Prop'],\n",
       "      dtype='object')"
      ]
     },
     "execution_count": 480,
     "metadata": {},
     "output_type": "execute_result"
    }
   ],
   "source": [
    "df_2= win_prop_price(df_final2)\n",
    "df_2.columns"
   ]
  },
  {
   "cell_type": "code",
   "execution_count": 170,
   "id": "fd4adae3-51f9-4322-9a46-93e1d15f53bf",
   "metadata": {},
   "outputs": [
    {
     "name": "stderr",
     "output_type": "stream",
     "text": [
      "C:\\Users\\P90011~1\\AppData\\Local\\Temp/ipykernel_6764/3238764418.py:6: SettingWithCopyWarning: \n",
      "A value is trying to be set on a copy of a slice from a DataFrame.\n",
      "Try using .loc[row_indexer,col_indexer] = value instead\n",
      "\n",
      "See the caveats in the documentation: https://pandas.pydata.org/pandas-docs/stable/user_guide/indexing.html#returning-a-view-versus-a-copy\n",
      "  prod_df[\"Innovator_Price\"] = prod_price.get(i)\n",
      "C:\\Users\\P90011~1\\AppData\\Local\\Temp/ipykernel_6764/3238764418.py:7: SettingWithCopyWarning: \n",
      "A value is trying to be set on a copy of a slice from a DataFrame.\n",
      "Try using .loc[row_indexer,col_indexer] = value instead\n",
      "\n",
      "See the caveats in the documentation: https://pandas.pydata.org/pandas-docs/stable/user_guide/indexing.html#returning-a-view-versus-a-copy\n",
      "  prod_df[\"Winning_Price_Prop\"]=prod_df[\"Winning_Price\"]/prod_price.get(i)\n"
     ]
    }
   ],
   "source": [
    "df_1 = win_prop_price(df_final2)"
   ]
  },
  {
   "cell_type": "code",
   "execution_count": 172,
   "id": "d49c94c7-8fc9-4cd0-8b2e-bbe3463dc3ff",
   "metadata": {},
   "outputs": [
    {
     "data": {
      "text/plain": [
       "0       0.36800\n",
       "1       0.41587\n",
       "2       0.67860\n",
       "4       0.67900\n",
       "5       0.54609\n",
       "         ...   \n",
       "177    13.33334\n",
       "178     0.26990\n",
       "179     0.24550\n",
       "180     0.18020\n",
       "181     0.26558\n",
       "Name: Winning_Price, Length: 168, dtype: float64"
      ]
     },
     "execution_count": 172,
     "metadata": {},
     "output_type": "execute_result"
    }
   ],
   "source": [
    "df_1[\"Winning_Price\"]"
   ]
  },
  {
   "cell_type": "code",
   "execution_count": 173,
   "id": "803eecaf-6b22-48c6-903c-02c2f5eba191",
   "metadata": {},
   "outputs": [
    {
     "data": {
      "text/plain": [
       "0       0.36800\n",
       "1       0.41587\n",
       "2       0.67860\n",
       "4       0.67900\n",
       "5       0.54609\n",
       "         ...   \n",
       "177    13.33334\n",
       "178     0.26990\n",
       "179     0.24550\n",
       "180     0.18020\n",
       "181     0.26558\n",
       "Name: Winning_Price, Length: 168, dtype: float64"
      ]
     },
     "execution_count": 173,
     "metadata": {},
     "output_type": "execute_result"
    }
   ],
   "source": [
    "df_final2[\"Winning_Price\"]"
   ]
  },
  {
   "cell_type": "code",
   "execution_count": 157,
   "id": "85050b5a-6d88-4ff3-bdd1-a75d8e58a308",
   "metadata": {},
   "outputs": [],
   "source": [
    "def win_prop_price(df):\n",
    "    df1 =pd.DataFrame()\n",
    "    prod_price = dict(zip(pd.Series([x.split(\"MG\")[0]+\"MG\"  for x in list(df_final2[\"Identifier\"])]).unique(),inno_price))\n",
    "    for i in (df[\"Product Name\"].unique()):\n",
    "        prod_df = df[df[\"Product Name\"]==i]\n",
    "        prod_df[\"Innovator_Price\"] = prod_price.get(i)\n",
    "        prod_df[\"Winning_Price_Prop\"]=prod_df[\"Winning_Price\"]/prod_price.get(i)\n",
    "        df1=pd.concat([df1,prod_df])\n",
    "    return df1[['Identifier',\"Product Name\", 'DRL_Win_Flag', 'Form', 'Region', ' Tender_Type',\n",
    "       'Client', '#Participant', 'Winning_Price',\"Innovator_Price\",'Proximity_Delivery',\n",
    "       'Tender_Duration', 'Previous_Winning_Price', '#Months_G.E',\"Winning_Price_Prop\"]]"
   ]
  },
  {
   "cell_type": "code",
   "execution_count": 158,
   "id": "d3124e9c-68e6-47a9-b044-8e0923a46c1b",
   "metadata": {},
   "outputs": [
    {
     "name": "stderr",
     "output_type": "stream",
     "text": [
      "C:\\Users\\P90011~1\\AppData\\Local\\Temp/ipykernel_6764/3238764418.py:6: SettingWithCopyWarning: \n",
      "A value is trying to be set on a copy of a slice from a DataFrame.\n",
      "Try using .loc[row_indexer,col_indexer] = value instead\n",
      "\n",
      "See the caveats in the documentation: https://pandas.pydata.org/pandas-docs/stable/user_guide/indexing.html#returning-a-view-versus-a-copy\n",
      "  prod_df[\"Innovator_Price\"] = prod_price.get(i)\n",
      "C:\\Users\\P90011~1\\AppData\\Local\\Temp/ipykernel_6764/3238764418.py:7: SettingWithCopyWarning: \n",
      "A value is trying to be set on a copy of a slice from a DataFrame.\n",
      "Try using .loc[row_indexer,col_indexer] = value instead\n",
      "\n",
      "See the caveats in the documentation: https://pandas.pydata.org/pandas-docs/stable/user_guide/indexing.html#returning-a-view-versus-a-copy\n",
      "  prod_df[\"Winning_Price_Prop\"]=prod_df[\"Winning_Price\"]/prod_price.get(i)\n"
     ]
    },
    {
     "ename": "TypeError",
     "evalue": "unsupported operand type(s) for /: 'float' and 'NoneType'",
     "output_type": "error",
     "traceback": [
      "\u001b[1;31m---------------------------------------------------------------------------\u001b[0m",
      "\u001b[1;31mTypeError\u001b[0m                                 Traceback (most recent call last)",
      "\u001b[1;32mC:\\Users\\P90011~1\\AppData\\Local\\Temp/ipykernel_6764/1001252903.py\u001b[0m in \u001b[0;36m<module>\u001b[1;34m\u001b[0m\n\u001b[1;32m----> 1\u001b[1;33m \u001b[0mdf_1\u001b[0m \u001b[1;33m=\u001b[0m \u001b[0mwin_prop_price\u001b[0m\u001b[1;33m(\u001b[0m\u001b[0mdf_final2\u001b[0m\u001b[1;33m)\u001b[0m\u001b[1;33m\u001b[0m\u001b[1;33m\u001b[0m\u001b[0m\n\u001b[0m\u001b[0;32m      2\u001b[0m \u001b[0mdf_1\u001b[0m\u001b[1;33m\u001b[0m\u001b[1;33m\u001b[0m\u001b[0m\n",
      "\u001b[1;32mC:\\Users\\P90011~1\\AppData\\Local\\Temp/ipykernel_6764/3238764418.py\u001b[0m in \u001b[0;36mwin_prop_price\u001b[1;34m(df)\u001b[0m\n\u001b[0;32m      5\u001b[0m         \u001b[0mprod_df\u001b[0m \u001b[1;33m=\u001b[0m \u001b[0mdf\u001b[0m\u001b[1;33m[\u001b[0m\u001b[0mdf\u001b[0m\u001b[1;33m[\u001b[0m\u001b[1;34m\"Product Name\"\u001b[0m\u001b[1;33m]\u001b[0m\u001b[1;33m==\u001b[0m\u001b[0mi\u001b[0m\u001b[1;33m]\u001b[0m\u001b[1;33m\u001b[0m\u001b[1;33m\u001b[0m\u001b[0m\n\u001b[0;32m      6\u001b[0m         \u001b[0mprod_df\u001b[0m\u001b[1;33m[\u001b[0m\u001b[1;34m\"Innovator_Price\"\u001b[0m\u001b[1;33m]\u001b[0m \u001b[1;33m=\u001b[0m \u001b[0mprod_price\u001b[0m\u001b[1;33m.\u001b[0m\u001b[0mget\u001b[0m\u001b[1;33m(\u001b[0m\u001b[0mi\u001b[0m\u001b[1;33m)\u001b[0m\u001b[1;33m\u001b[0m\u001b[1;33m\u001b[0m\u001b[0m\n\u001b[1;32m----> 7\u001b[1;33m         \u001b[0mprod_df\u001b[0m\u001b[1;33m[\u001b[0m\u001b[1;34m\"Winning_Price_Prop\"\u001b[0m\u001b[1;33m]\u001b[0m\u001b[1;33m=\u001b[0m\u001b[0mprod_df\u001b[0m\u001b[1;33m[\u001b[0m\u001b[1;34m\"Winning_Price\"\u001b[0m\u001b[1;33m]\u001b[0m\u001b[1;33m/\u001b[0m\u001b[0mprod_price\u001b[0m\u001b[1;33m.\u001b[0m\u001b[0mget\u001b[0m\u001b[1;33m(\u001b[0m\u001b[0mi\u001b[0m\u001b[1;33m)\u001b[0m\u001b[1;33m\u001b[0m\u001b[1;33m\u001b[0m\u001b[0m\n\u001b[0m\u001b[0;32m      8\u001b[0m         \u001b[0mdf1\u001b[0m\u001b[1;33m=\u001b[0m\u001b[0mpd\u001b[0m\u001b[1;33m.\u001b[0m\u001b[0mconcat\u001b[0m\u001b[1;33m(\u001b[0m\u001b[1;33m[\u001b[0m\u001b[0mdf1\u001b[0m\u001b[1;33m,\u001b[0m\u001b[0mprod_df\u001b[0m\u001b[1;33m]\u001b[0m\u001b[1;33m)\u001b[0m\u001b[1;33m\u001b[0m\u001b[1;33m\u001b[0m\u001b[0m\n\u001b[0;32m      9\u001b[0m     return df1[['Identifier',\"Product Name\", 'DRL_Win_Flag', 'Form', 'Region', ' Tender_Type',\n",
      "\u001b[1;32mC:\\ProgramData\\Anaconda3\\lib\\site-packages\\pandas\\core\\ops\\common.py\u001b[0m in \u001b[0;36mnew_method\u001b[1;34m(self, other)\u001b[0m\n\u001b[0;32m     67\u001b[0m         \u001b[0mother\u001b[0m \u001b[1;33m=\u001b[0m \u001b[0mitem_from_zerodim\u001b[0m\u001b[1;33m(\u001b[0m\u001b[0mother\u001b[0m\u001b[1;33m)\u001b[0m\u001b[1;33m\u001b[0m\u001b[1;33m\u001b[0m\u001b[0m\n\u001b[0;32m     68\u001b[0m \u001b[1;33m\u001b[0m\u001b[0m\n\u001b[1;32m---> 69\u001b[1;33m         \u001b[1;32mreturn\u001b[0m \u001b[0mmethod\u001b[0m\u001b[1;33m(\u001b[0m\u001b[0mself\u001b[0m\u001b[1;33m,\u001b[0m \u001b[0mother\u001b[0m\u001b[1;33m)\u001b[0m\u001b[1;33m\u001b[0m\u001b[1;33m\u001b[0m\u001b[0m\n\u001b[0m\u001b[0;32m     70\u001b[0m \u001b[1;33m\u001b[0m\u001b[0m\n\u001b[0;32m     71\u001b[0m     \u001b[1;32mreturn\u001b[0m \u001b[0mnew_method\u001b[0m\u001b[1;33m\u001b[0m\u001b[1;33m\u001b[0m\u001b[0m\n",
      "\u001b[1;32mC:\\ProgramData\\Anaconda3\\lib\\site-packages\\pandas\\core\\arraylike.py\u001b[0m in \u001b[0;36m__truediv__\u001b[1;34m(self, other)\u001b[0m\n\u001b[0;32m    114\u001b[0m     \u001b[1;33m@\u001b[0m\u001b[0munpack_zerodim_and_defer\u001b[0m\u001b[1;33m(\u001b[0m\u001b[1;34m\"__truediv__\"\u001b[0m\u001b[1;33m)\u001b[0m\u001b[1;33m\u001b[0m\u001b[1;33m\u001b[0m\u001b[0m\n\u001b[0;32m    115\u001b[0m     \u001b[1;32mdef\u001b[0m \u001b[0m__truediv__\u001b[0m\u001b[1;33m(\u001b[0m\u001b[0mself\u001b[0m\u001b[1;33m,\u001b[0m \u001b[0mother\u001b[0m\u001b[1;33m)\u001b[0m\u001b[1;33m:\u001b[0m\u001b[1;33m\u001b[0m\u001b[1;33m\u001b[0m\u001b[0m\n\u001b[1;32m--> 116\u001b[1;33m         \u001b[1;32mreturn\u001b[0m \u001b[0mself\u001b[0m\u001b[1;33m.\u001b[0m\u001b[0m_arith_method\u001b[0m\u001b[1;33m(\u001b[0m\u001b[0mother\u001b[0m\u001b[1;33m,\u001b[0m \u001b[0moperator\u001b[0m\u001b[1;33m.\u001b[0m\u001b[0mtruediv\u001b[0m\u001b[1;33m)\u001b[0m\u001b[1;33m\u001b[0m\u001b[1;33m\u001b[0m\u001b[0m\n\u001b[0m\u001b[0;32m    117\u001b[0m \u001b[1;33m\u001b[0m\u001b[0m\n\u001b[0;32m    118\u001b[0m     \u001b[1;33m@\u001b[0m\u001b[0munpack_zerodim_and_defer\u001b[0m\u001b[1;33m(\u001b[0m\u001b[1;34m\"__rtruediv__\"\u001b[0m\u001b[1;33m)\u001b[0m\u001b[1;33m\u001b[0m\u001b[1;33m\u001b[0m\u001b[0m\n",
      "\u001b[1;32mC:\\ProgramData\\Anaconda3\\lib\\site-packages\\pandas\\core\\series.py\u001b[0m in \u001b[0;36m_arith_method\u001b[1;34m(self, other, op)\u001b[0m\n\u001b[0;32m   5524\u001b[0m \u001b[1;33m\u001b[0m\u001b[0m\n\u001b[0;32m   5525\u001b[0m         \u001b[1;32mwith\u001b[0m \u001b[0mnp\u001b[0m\u001b[1;33m.\u001b[0m\u001b[0merrstate\u001b[0m\u001b[1;33m(\u001b[0m\u001b[0mall\u001b[0m\u001b[1;33m=\u001b[0m\u001b[1;34m\"ignore\"\u001b[0m\u001b[1;33m)\u001b[0m\u001b[1;33m:\u001b[0m\u001b[1;33m\u001b[0m\u001b[1;33m\u001b[0m\u001b[0m\n\u001b[1;32m-> 5526\u001b[1;33m             \u001b[0mresult\u001b[0m \u001b[1;33m=\u001b[0m \u001b[0mops\u001b[0m\u001b[1;33m.\u001b[0m\u001b[0marithmetic_op\u001b[0m\u001b[1;33m(\u001b[0m\u001b[0mlvalues\u001b[0m\u001b[1;33m,\u001b[0m \u001b[0mrvalues\u001b[0m\u001b[1;33m,\u001b[0m \u001b[0mop\u001b[0m\u001b[1;33m)\u001b[0m\u001b[1;33m\u001b[0m\u001b[1;33m\u001b[0m\u001b[0m\n\u001b[0m\u001b[0;32m   5527\u001b[0m \u001b[1;33m\u001b[0m\u001b[0m\n\u001b[0;32m   5528\u001b[0m         \u001b[1;32mreturn\u001b[0m \u001b[0mself\u001b[0m\u001b[1;33m.\u001b[0m\u001b[0m_construct_result\u001b[0m\u001b[1;33m(\u001b[0m\u001b[0mresult\u001b[0m\u001b[1;33m,\u001b[0m \u001b[0mname\u001b[0m\u001b[1;33m=\u001b[0m\u001b[0mres_name\u001b[0m\u001b[1;33m)\u001b[0m\u001b[1;33m\u001b[0m\u001b[1;33m\u001b[0m\u001b[0m\n",
      "\u001b[1;32mC:\\ProgramData\\Anaconda3\\lib\\site-packages\\pandas\\core\\ops\\array_ops.py\u001b[0m in \u001b[0;36marithmetic_op\u001b[1;34m(left, right, op)\u001b[0m\n\u001b[0;32m    222\u001b[0m         \u001b[0m_bool_arith_check\u001b[0m\u001b[1;33m(\u001b[0m\u001b[0mop\u001b[0m\u001b[1;33m,\u001b[0m \u001b[0mleft\u001b[0m\u001b[1;33m,\u001b[0m \u001b[0mright\u001b[0m\u001b[1;33m)\u001b[0m\u001b[1;33m\u001b[0m\u001b[1;33m\u001b[0m\u001b[0m\n\u001b[0;32m    223\u001b[0m \u001b[1;33m\u001b[0m\u001b[0m\n\u001b[1;32m--> 224\u001b[1;33m         \u001b[0mres_values\u001b[0m \u001b[1;33m=\u001b[0m \u001b[0m_na_arithmetic_op\u001b[0m\u001b[1;33m(\u001b[0m\u001b[0mleft\u001b[0m\u001b[1;33m,\u001b[0m \u001b[0mright\u001b[0m\u001b[1;33m,\u001b[0m \u001b[0mop\u001b[0m\u001b[1;33m)\u001b[0m\u001b[1;33m\u001b[0m\u001b[1;33m\u001b[0m\u001b[0m\n\u001b[0m\u001b[0;32m    225\u001b[0m \u001b[1;33m\u001b[0m\u001b[0m\n\u001b[0;32m    226\u001b[0m     \u001b[1;32mreturn\u001b[0m \u001b[0mres_values\u001b[0m\u001b[1;33m\u001b[0m\u001b[1;33m\u001b[0m\u001b[0m\n",
      "\u001b[1;32mC:\\ProgramData\\Anaconda3\\lib\\site-packages\\pandas\\core\\ops\\array_ops.py\u001b[0m in \u001b[0;36m_na_arithmetic_op\u001b[1;34m(left, right, op, is_cmp)\u001b[0m\n\u001b[0;32m    164\u001b[0m \u001b[1;33m\u001b[0m\u001b[0m\n\u001b[0;32m    165\u001b[0m     \u001b[1;32mtry\u001b[0m\u001b[1;33m:\u001b[0m\u001b[1;33m\u001b[0m\u001b[1;33m\u001b[0m\u001b[0m\n\u001b[1;32m--> 166\u001b[1;33m         \u001b[0mresult\u001b[0m \u001b[1;33m=\u001b[0m \u001b[0mfunc\u001b[0m\u001b[1;33m(\u001b[0m\u001b[0mleft\u001b[0m\u001b[1;33m,\u001b[0m \u001b[0mright\u001b[0m\u001b[1;33m)\u001b[0m\u001b[1;33m\u001b[0m\u001b[1;33m\u001b[0m\u001b[0m\n\u001b[0m\u001b[0;32m    167\u001b[0m     \u001b[1;32mexcept\u001b[0m \u001b[0mTypeError\u001b[0m\u001b[1;33m:\u001b[0m\u001b[1;33m\u001b[0m\u001b[1;33m\u001b[0m\u001b[0m\n\u001b[0;32m    168\u001b[0m         \u001b[1;32mif\u001b[0m \u001b[0mis_object_dtype\u001b[0m\u001b[1;33m(\u001b[0m\u001b[0mleft\u001b[0m\u001b[1;33m)\u001b[0m \u001b[1;32mor\u001b[0m \u001b[0mis_object_dtype\u001b[0m\u001b[1;33m(\u001b[0m\u001b[0mright\u001b[0m\u001b[1;33m)\u001b[0m \u001b[1;32mand\u001b[0m \u001b[1;32mnot\u001b[0m \u001b[0mis_cmp\u001b[0m\u001b[1;33m:\u001b[0m\u001b[1;33m\u001b[0m\u001b[1;33m\u001b[0m\u001b[0m\n",
      "\u001b[1;32mC:\\ProgramData\\Anaconda3\\lib\\site-packages\\pandas\\core\\computation\\expressions.py\u001b[0m in \u001b[0;36mevaluate\u001b[1;34m(op, a, b, use_numexpr)\u001b[0m\n\u001b[0;32m    237\u001b[0m         \u001b[1;32mif\u001b[0m \u001b[0muse_numexpr\u001b[0m\u001b[1;33m:\u001b[0m\u001b[1;33m\u001b[0m\u001b[1;33m\u001b[0m\u001b[0m\n\u001b[0;32m    238\u001b[0m             \u001b[1;31m# error: \"None\" not callable\u001b[0m\u001b[1;33m\u001b[0m\u001b[1;33m\u001b[0m\u001b[0m\n\u001b[1;32m--> 239\u001b[1;33m             \u001b[1;32mreturn\u001b[0m \u001b[0m_evaluate\u001b[0m\u001b[1;33m(\u001b[0m\u001b[0mop\u001b[0m\u001b[1;33m,\u001b[0m \u001b[0mop_str\u001b[0m\u001b[1;33m,\u001b[0m \u001b[0ma\u001b[0m\u001b[1;33m,\u001b[0m \u001b[0mb\u001b[0m\u001b[1;33m)\u001b[0m  \u001b[1;31m# type: ignore[misc]\u001b[0m\u001b[1;33m\u001b[0m\u001b[1;33m\u001b[0m\u001b[0m\n\u001b[0m\u001b[0;32m    240\u001b[0m     \u001b[1;32mreturn\u001b[0m \u001b[0m_evaluate_standard\u001b[0m\u001b[1;33m(\u001b[0m\u001b[0mop\u001b[0m\u001b[1;33m,\u001b[0m \u001b[0mop_str\u001b[0m\u001b[1;33m,\u001b[0m \u001b[0ma\u001b[0m\u001b[1;33m,\u001b[0m \u001b[0mb\u001b[0m\u001b[1;33m)\u001b[0m\u001b[1;33m\u001b[0m\u001b[1;33m\u001b[0m\u001b[0m\n\u001b[0;32m    241\u001b[0m \u001b[1;33m\u001b[0m\u001b[0m\n",
      "\u001b[1;32mC:\\ProgramData\\Anaconda3\\lib\\site-packages\\pandas\\core\\computation\\expressions.py\u001b[0m in \u001b[0;36m_evaluate_numexpr\u001b[1;34m(op, op_str, a, b)\u001b[0m\n\u001b[0;32m    126\u001b[0m \u001b[1;33m\u001b[0m\u001b[0m\n\u001b[0;32m    127\u001b[0m     \u001b[1;32mif\u001b[0m \u001b[0mresult\u001b[0m \u001b[1;32mis\u001b[0m \u001b[1;32mNone\u001b[0m\u001b[1;33m:\u001b[0m\u001b[1;33m\u001b[0m\u001b[1;33m\u001b[0m\u001b[0m\n\u001b[1;32m--> 128\u001b[1;33m         \u001b[0mresult\u001b[0m \u001b[1;33m=\u001b[0m \u001b[0m_evaluate_standard\u001b[0m\u001b[1;33m(\u001b[0m\u001b[0mop\u001b[0m\u001b[1;33m,\u001b[0m \u001b[0mop_str\u001b[0m\u001b[1;33m,\u001b[0m \u001b[0ma\u001b[0m\u001b[1;33m,\u001b[0m \u001b[0mb\u001b[0m\u001b[1;33m)\u001b[0m\u001b[1;33m\u001b[0m\u001b[1;33m\u001b[0m\u001b[0m\n\u001b[0m\u001b[0;32m    129\u001b[0m \u001b[1;33m\u001b[0m\u001b[0m\n\u001b[0;32m    130\u001b[0m     \u001b[1;32mreturn\u001b[0m \u001b[0mresult\u001b[0m\u001b[1;33m\u001b[0m\u001b[1;33m\u001b[0m\u001b[0m\n",
      "\u001b[1;32mC:\\ProgramData\\Anaconda3\\lib\\site-packages\\pandas\\core\\computation\\expressions.py\u001b[0m in \u001b[0;36m_evaluate_standard\u001b[1;34m(op, op_str, a, b)\u001b[0m\n\u001b[0;32m     67\u001b[0m     \u001b[1;32mif\u001b[0m \u001b[0m_TEST_MODE\u001b[0m\u001b[1;33m:\u001b[0m\u001b[1;33m\u001b[0m\u001b[1;33m\u001b[0m\u001b[0m\n\u001b[0;32m     68\u001b[0m         \u001b[0m_store_test_result\u001b[0m\u001b[1;33m(\u001b[0m\u001b[1;32mFalse\u001b[0m\u001b[1;33m)\u001b[0m\u001b[1;33m\u001b[0m\u001b[1;33m\u001b[0m\u001b[0m\n\u001b[1;32m---> 69\u001b[1;33m     \u001b[1;32mreturn\u001b[0m \u001b[0mop\u001b[0m\u001b[1;33m(\u001b[0m\u001b[0ma\u001b[0m\u001b[1;33m,\u001b[0m \u001b[0mb\u001b[0m\u001b[1;33m)\u001b[0m\u001b[1;33m\u001b[0m\u001b[1;33m\u001b[0m\u001b[0m\n\u001b[0m\u001b[0;32m     70\u001b[0m \u001b[1;33m\u001b[0m\u001b[0m\n\u001b[0;32m     71\u001b[0m \u001b[1;33m\u001b[0m\u001b[0m\n",
      "\u001b[1;31mTypeError\u001b[0m: unsupported operand type(s) for /: 'float' and 'NoneType'"
     ]
    }
   ],
   "source": [
    "df_1 = win_prop_price(df_final2)\n",
    "df_1"
   ]
  },
  {
   "cell_type": "code",
   "execution_count": 519,
   "id": "e064dce5-b948-4583-93a6-985e57895b2b",
   "metadata": {},
   "outputs": [
    {
     "data": {
      "text/plain": [
       "Index(['Identifier', 'Product Name', 'DRL_Win_Flag', 'Form', 'Region',\n",
       "       ' Tender_Type', 'Client', '#Participant', 'Winning_Price',\n",
       "       'Innovator_Price', 'Proximity_Delivery', 'Tender_Duration',\n",
       "       'Previous_Winning_Price', '#Months_G.E', 'Winning_Price_Prop',\n",
       "       'Forecasted_Price_Prop'],\n",
       "      dtype='object')"
      ]
     },
     "execution_count": 519,
     "metadata": {},
     "output_type": "execute_result"
    }
   ],
   "source": [
    "df_2.columns"
   ]
  },
  {
   "cell_type": "code",
   "execution_count": 520,
   "id": "948458fa-a3cb-4fd7-9db7-af2519344a41",
   "metadata": {},
   "outputs": [],
   "source": [
    "X_cols = [\"Client\",' Tender_Type','Proximity_Delivery',\n",
    "       'Tender_Duration', 'Previous_Winning_Price', '#Months_G.E',\"#Participant\"]\n",
    "X = df_2[X_cols]\n",
    "Y = list(df_2[\"Winning_Price_Prop\"])\n",
    "Y2 = list(df_2[\"Winning_Price\"])"
   ]
  },
  {
   "cell_type": "code",
   "execution_count": 521,
   "id": "066f5b7e-d12e-4b13-a16b-268f6f0cc9b4",
   "metadata": {},
   "outputs": [
    {
     "data": {
      "text/html": [
       "<div>\n",
       "<style scoped>\n",
       "    .dataframe tbody tr th:only-of-type {\n",
       "        vertical-align: middle;\n",
       "    }\n",
       "\n",
       "    .dataframe tbody tr th {\n",
       "        vertical-align: top;\n",
       "    }\n",
       "\n",
       "    .dataframe thead th {\n",
       "        text-align: right;\n",
       "    }\n",
       "</style>\n",
       "<table border=\"1\" class=\"dataframe\">\n",
       "  <thead>\n",
       "    <tr style=\"text-align: right;\">\n",
       "      <th></th>\n",
       "      <th>Feature</th>\n",
       "      <th>VIF</th>\n",
       "    </tr>\n",
       "  </thead>\n",
       "  <tbody>\n",
       "    <tr>\n",
       "      <th>0</th>\n",
       "      <td>Client</td>\n",
       "      <td>12.958465</td>\n",
       "    </tr>\n",
       "    <tr>\n",
       "      <th>1</th>\n",
       "      <td>Tender_Type</td>\n",
       "      <td>10.313807</td>\n",
       "    </tr>\n",
       "    <tr>\n",
       "      <th>2</th>\n",
       "      <td>Proximity_Delivery</td>\n",
       "      <td>2.760251</td>\n",
       "    </tr>\n",
       "    <tr>\n",
       "      <th>3</th>\n",
       "      <td>Tender_Duration</td>\n",
       "      <td>9.341480</td>\n",
       "    </tr>\n",
       "    <tr>\n",
       "      <th>4</th>\n",
       "      <td>Previous_Winning_Price</td>\n",
       "      <td>1.619312</td>\n",
       "    </tr>\n",
       "    <tr>\n",
       "      <th>5</th>\n",
       "      <td>#Months_G.E</td>\n",
       "      <td>2.705417</td>\n",
       "    </tr>\n",
       "    <tr>\n",
       "      <th>6</th>\n",
       "      <td>#Participant</td>\n",
       "      <td>16.975320</td>\n",
       "    </tr>\n",
       "  </tbody>\n",
       "</table>\n",
       "</div>"
      ],
      "text/plain": [
       "                  Feature        VIF\n",
       "0                  Client  12.958465\n",
       "1             Tender_Type  10.313807\n",
       "2      Proximity_Delivery   2.760251\n",
       "3         Tender_Duration   9.341480\n",
       "4  Previous_Winning_Price   1.619312\n",
       "5             #Months_G.E   2.705417\n",
       "6            #Participant  16.975320"
      ]
     },
     "execution_count": 521,
     "metadata": {},
     "output_type": "execute_result"
    }
   ],
   "source": [
    "norm_X = X.apply(lambda iterator: ((iterator-iterator.mean())/iterator.std()).round(2))\n",
    "norm_X\n",
    "vif_data = pd.DataFrame()\n",
    "vif_data[\"Feature\"]=norm_X.columns\n",
    "vif_data[\"VIF\"] = [variance_inflation_factor(X.values , i) for i in range(len(norm_X.columns))]\n",
    "vif_data"
   ]
  },
  {
   "cell_type": "code",
   "execution_count": 522,
   "id": "37c05061-e281-4352-8a2f-ea3f91f82d0e",
   "metadata": {},
   "outputs": [
    {
     "data": {
      "text/plain": [
       "20.42924984745527"
      ]
     },
     "execution_count": 522,
     "metadata": {},
     "output_type": "execute_result"
    }
   ],
   "source": [
    "grad_reg = GradientBoostingRegressor(random_state=0)\n",
    "grad_reg.fit(X,np.log(Y))\n",
    "mean_absolute_percentage_error(list(df_2[\"Winning_Price\"]),np.exp(grad_reg.predict(X))*df_2[\"Innovator_Price\"])"
   ]
  },
  {
   "cell_type": "code",
   "execution_count": 489,
   "id": "9628c102-d9c8-45ad-a91e-b2de61e5d467",
   "metadata": {},
   "outputs": [],
   "source": [
    "df_2[\"Forecasted_Price_Prop\"]=np.exp(grad_reg.predict(X))"
   ]
  },
  {
   "cell_type": "code",
   "execution_count": 490,
   "id": "ee162bbc-281a-42a1-9b90-13705f02e080",
   "metadata": {},
   "outputs": [
    {
     "data": {
      "text/plain": [
       "Index(['Identifier', 'Product Name', 'DRL_Win_Flag', 'Form', 'Region',\n",
       "       ' Tender_Type', 'Client', '#Participant', 'Winning_Price',\n",
       "       'Innovator_Price', 'Proximity_Delivery', 'Tender_Duration',\n",
       "       'Previous_Winning_Price', '#Months_G.E', 'Winning_Price_Prop',\n",
       "       'Forecasted_Price_Prop'],\n",
       "      dtype='object')"
      ]
     },
     "execution_count": 490,
     "metadata": {},
     "output_type": "execute_result"
    }
   ],
   "source": [
    "df_2.columns"
   ]
  },
  {
   "cell_type": "code",
   "execution_count": 491,
   "id": "f3ab718e-5bfb-49c2-8448-87e9ad95fb13",
   "metadata": {},
   "outputs": [],
   "source": [
    "df_2.to_excel(\"Win_Price_Prop2.xlsx\")"
   ]
  },
  {
   "cell_type": "code",
   "execution_count": 127,
   "id": "f757b9af-3516-4969-8a1a-dc888f266af6",
   "metadata": {},
   "outputs": [
    {
     "data": {
      "text/plain": [
       "92.21037165863889"
      ]
     },
     "execution_count": 127,
     "metadata": {},
     "output_type": "execute_result"
    }
   ],
   "source": [
    "grad_reg2 = GradientBoostingRegressor(random_state=0)\n",
    "grad_reg2.fit(X,np.log(Y2))\n",
    "mean_absolute_percentage_error(list(df_1[\"Winning_Price\"]),np.exp(grad_reg.predict(X)))"
   ]
  },
  {
   "cell_type": "markdown",
   "id": "2b207f30-f95a-4486-9c80-be4c30cdc3fc",
   "metadata": {},
   "source": [
    "## Comparison\n"
   ]
  },
  {
   "cell_type": "code",
   "execution_count": 506,
   "id": "90457ca7-4709-4784-bb30-1f7bd8f33575",
   "metadata": {},
   "outputs": [],
   "source": [
    "X_cols = [\"Client\",' Tender_Type','Proximity_Delivery',\n",
    "       'Tender_Duration',\"Previous_Winning_Price\",\"#Participant\" ,'#Months_G.E']\n",
    "X = df_final2[X_cols]\n",
    "Y = list(df_final2[\"Winning_Price\"])"
   ]
  },
  {
   "cell_type": "code",
   "execution_count": 507,
   "id": "1f3e308a-ecb6-48c9-aace-e8d0c36f2b9e",
   "metadata": {},
   "outputs": [
    {
     "data": {
      "text/html": [
       "<div>\n",
       "<style scoped>\n",
       "    .dataframe tbody tr th:only-of-type {\n",
       "        vertical-align: middle;\n",
       "    }\n",
       "\n",
       "    .dataframe tbody tr th {\n",
       "        vertical-align: top;\n",
       "    }\n",
       "\n",
       "    .dataframe thead th {\n",
       "        text-align: right;\n",
       "    }\n",
       "</style>\n",
       "<table border=\"1\" class=\"dataframe\">\n",
       "  <thead>\n",
       "    <tr style=\"text-align: right;\">\n",
       "      <th></th>\n",
       "      <th>Feature</th>\n",
       "      <th>VIF</th>\n",
       "    </tr>\n",
       "  </thead>\n",
       "  <tbody>\n",
       "    <tr>\n",
       "      <th>0</th>\n",
       "      <td>Client</td>\n",
       "      <td>12.958465</td>\n",
       "    </tr>\n",
       "    <tr>\n",
       "      <th>1</th>\n",
       "      <td>Tender_Type</td>\n",
       "      <td>10.313807</td>\n",
       "    </tr>\n",
       "    <tr>\n",
       "      <th>2</th>\n",
       "      <td>Proximity_Delivery</td>\n",
       "      <td>2.760251</td>\n",
       "    </tr>\n",
       "    <tr>\n",
       "      <th>3</th>\n",
       "      <td>Tender_Duration</td>\n",
       "      <td>9.341480</td>\n",
       "    </tr>\n",
       "    <tr>\n",
       "      <th>4</th>\n",
       "      <td>Previous_Winning_Price</td>\n",
       "      <td>1.619312</td>\n",
       "    </tr>\n",
       "    <tr>\n",
       "      <th>5</th>\n",
       "      <td>#Participant</td>\n",
       "      <td>16.975320</td>\n",
       "    </tr>\n",
       "    <tr>\n",
       "      <th>6</th>\n",
       "      <td>#Months_G.E</td>\n",
       "      <td>2.705417</td>\n",
       "    </tr>\n",
       "  </tbody>\n",
       "</table>\n",
       "</div>"
      ],
      "text/plain": [
       "                  Feature        VIF\n",
       "0                  Client  12.958465\n",
       "1             Tender_Type  10.313807\n",
       "2      Proximity_Delivery   2.760251\n",
       "3         Tender_Duration   9.341480\n",
       "4  Previous_Winning_Price   1.619312\n",
       "5            #Participant  16.975320\n",
       "6             #Months_G.E   2.705417"
      ]
     },
     "execution_count": 507,
     "metadata": {},
     "output_type": "execute_result"
    }
   ],
   "source": [
    "X = df_final2[X_cols]\n",
    "norm_X = X.apply(lambda iterator: ((iterator-iterator.mean())/iterator.std()).round(2))\n",
    "norm_X\n",
    "vif_data = pd.DataFrame()\n",
    "vif_data[\"Feature\"]=norm_X.columns\n",
    "vif_data[\"VIF\"] = [variance_inflation_factor(X.values , i) for i in range(len(norm_X.columns))]\n",
    "vif_data"
   ]
  },
  {
   "cell_type": "code",
   "execution_count": 508,
   "id": "f8b9e64e-2c48-4e4e-b4bb-04c551ae68b2",
   "metadata": {},
   "outputs": [
    {
     "data": {
      "text/plain": [
       "9.973114128329645"
      ]
     },
     "execution_count": 508,
     "metadata": {},
     "output_type": "execute_result"
    }
   ],
   "source": [
    "grad_reg = GradientBoostingRegressor(random_state=0)\n",
    "grad_reg.fit(X,np.log(Y))\n",
    "mean_absolute_percentage_error(Y,np.exp(grad_reg.predict(X)))"
   ]
  },
  {
   "cell_type": "code",
   "execution_count": 509,
   "id": "ed07936f-c01e-4b88-b3dd-87641918552b",
   "metadata": {},
   "outputs": [],
   "source": [
    "df_final2[\"Pred\"]=np.exp(grad_reg.predict(X))"
   ]
  },
  {
   "cell_type": "code",
   "execution_count": 496,
   "id": "2b623433-4756-46d1-9ab0-a0865c19ff07",
   "metadata": {},
   "outputs": [],
   "source": [
    "df_final2.to_excel(\"Win_Price_Greg.xlsx\",index=False)"
   ]
  },
  {
   "cell_type": "code",
   "execution_count": 183,
   "id": "c30ed682-c10d-4b9c-bcfa-5dd7a31c00c2",
   "metadata": {},
   "outputs": [],
   "source": [
    "X_cols = [\"Client\",' Tender_Type','Proximity_Delivery',\n",
    "       'Tender_Duration',\"Previous_Winning_Price\", '#Months_G.E']\n",
    "X1 = df_1[X_cols]\n",
    "Y1 = list(df_1[\"Winning_Price_Prop\"])"
   ]
  },
  {
   "cell_type": "code",
   "execution_count": 184,
   "id": "5eaed8fd-a6e3-4c5f-8c93-105d79f2eb9e",
   "metadata": {},
   "outputs": [
    {
     "data": {
      "text/plain": [
       "43.690719136983766"
      ]
     },
     "execution_count": 184,
     "metadata": {},
     "output_type": "execute_result"
    }
   ],
   "source": [
    "grad_reg = GradientBoostingRegressor(random_state=0)\n",
    "grad_reg.fit(X1,np.log(Y1))\n",
    "mean_absolute_percentage_error(df_1[\"Winning_Price_Prop\"],np.exp(grad_reg.predict(X1)))"
   ]
  },
  {
   "cell_type": "code",
   "execution_count": 192,
   "id": "445ea47a-e5b3-4c85-b30f-0a50b8cc7d78",
   "metadata": {},
   "outputs": [
    {
     "data": {
      "text/plain": [
       "numpy.ndarray"
      ]
     },
     "execution_count": 192,
     "metadata": {},
     "output_type": "execute_result"
    }
   ],
   "source": [
    "type(np.exp(grad_reg.predict(X1)))"
   ]
  },
  {
   "cell_type": "code",
   "execution_count": 193,
   "id": "0e942b72-50e9-48b2-8362-7231a361105f",
   "metadata": {
    "collapsed": true,
    "jupyter": {
     "outputs_hidden": true
    },
    "tags": []
   },
   "outputs": [
    {
     "data": {
      "text/plain": [
       "[0.06195981342005694,\n",
       " 0.06354594044769131,\n",
       " 0.10253025113975506,\n",
       " 0.06665861085828884,\n",
       " 0.05750492578012291,\n",
       " 0.11267747499153898,\n",
       " 0.036244968290676916,\n",
       " 0.050362925643490826,\n",
       " 0.053835202383359204,\n",
       " 0.11267747499153898,\n",
       " 0.036244968290676916,\n",
       " 0.10805249859749688,\n",
       " 0.042159048163601484,\n",
       " 0.03414440559081222,\n",
       " 0.03463173229674028,\n",
       " 0.03414440559081222,\n",
       " 0.03357239681098254,\n",
       " 0.027170116518778212,\n",
       " 0.027170116518778212,\n",
       " 0.10805249859749688,\n",
       " 0.042159048163601484,\n",
       " 0.03414440559081222,\n",
       " 0.03463173229674028,\n",
       " 0.03414440559081222,\n",
       " 0.03357239681098254,\n",
       " 0.027170116518778212,\n",
       " 0.027170116518778212,\n",
       " 0.11265053409889292,\n",
       " 0.03573457763481977,\n",
       " 0.09792690806539728,\n",
       " 0.050359713496912546,\n",
       " 0.04572558368094046,\n",
       " 0.0644333943170819,\n",
       " 0.09923665398870729,\n",
       " 0.052526326414373846,\n",
       " 0.05593056778556437,\n",
       " 0.1548231635624652,\n",
       " 0.22836715650597048,\n",
       " 0.1376394135595835,\n",
       " 0.2580185975095485,\n",
       " 0.26202160263099694,\n",
       " 0.25951947778780116,\n",
       " 0.0660528487669369,\n",
       " 0.030954344196136314,\n",
       " 0.03877298560222613,\n",
       " 0.33665523502429073,\n",
       " 0.08704774518968574,\n",
       " 0.033740286291454244,\n",
       " 0.04513498520800606,\n",
       " 0.021453359157460064,\n",
       " 0.2002917480411811,\n",
       " 0.18223593159938775,\n",
       " 0.1636466705329272,\n",
       " 0.44986158621295236,\n",
       " 0.15385014398113667,\n",
       " 0.07539901547511772,\n",
       " 0.12090760153684156,\n",
       " 0.21439201270211145,\n",
       " 0.17616605268363827,\n",
       " 0.17591151625030657,\n",
       " 0.14514692982619,\n",
       " 0.20035703000858382,\n",
       " 0.14228920620019356,\n",
       " 66.64713060002181,\n",
       " 35.960815308928,\n",
       " 31.88257998703173,\n",
       " 20.256650463930992,\n",
       " 3.574956471214189,\n",
       " 22.962677962497814,\n",
       " 9.903395072884445,\n",
       " 43.6897217359467,\n",
       " 36.37605739496692,\n",
       " 12.55755235978743,\n",
       " 7.4067309069320695,\n",
       " 13.47536980593517,\n",
       " 0.6084189655284501,\n",
       " 0.6822132140929053,\n",
       " 0.7239761064519366,\n",
       " 0.5027896594897274,\n",
       " 0.25021622960656675,\n",
       " 0.16478366470494418,\n",
       " 0.11409878878636552,\n",
       " 0.1376361281596636,\n",
       " 0.3993435649497652,\n",
       " 0.17527492128098918,\n",
       " 0.1876847247371276,\n",
       " 0.1224467622803553,\n",
       " 0.054817838675415724,\n",
       " 0.029024672537546425,\n",
       " 0.029024672537546425,\n",
       " 0.06055989617376539,\n",
       " 0.03200561549142789,\n",
       " 0.030162150816546923,\n",
       " 0.03420447467409383,\n",
       " 0.03575521923465001,\n",
       " 0.17638787939228978,\n",
       " 0.12383882153538597,\n",
       " 0.3411445135274588,\n",
       " 0.14146863309737026,\n",
       " 0.22042722458972613,\n",
       " 0.22095727428331907,\n",
       " 0.19898440310339255,\n",
       " 0.20389297729098216,\n",
       " 0.17024753905841677,\n",
       " 0.1998962092647761,\n",
       " 0.20893231902775036,\n",
       " 0.19952710089421077,\n",
       " 0.1726774004358842,\n",
       " 0.1919940749166321,\n",
       " 0.16277230080813146,\n",
       " 0.33279134270034605,\n",
       " 0.2224078798941249,\n",
       " 0.3402945801156187,\n",
       " 0.16142813153237548,\n",
       " 0.19898440310339255,\n",
       " 0.21696981779275676,\n",
       " 0.18116650225011774,\n",
       " 0.20861822089679527,\n",
       " 0.19952710089421077,\n",
       " 0.18375220474627765,\n",
       " 0.11539239414615911,\n",
       " 0.05935358508495481,\n",
       " 0.03228867946427429,\n",
       " 0.03489955296260002,\n",
       " 0.03906464404544874,\n",
       " 0.034408457569568625,\n",
       " 0.029560618490212312,\n",
       " 0.02607273218314655,\n",
       " 0.022274483269100403,\n",
       " 0.016628022251101902,\n",
       " 0.01703664457009162,\n",
       " 0.24224803919056834,\n",
       " 0.10028922981392277,\n",
       " 0.14426819056100276,\n",
       " 0.21915518632338649,\n",
       " 0.1077134430874473,\n",
       " 0.14911414797151146,\n",
       " 0.1548231635624652,\n",
       " 0.1376394135595835,\n",
       " 0.2580185975095485,\n",
       " 0.11539239414615911,\n",
       " 0.05935358508495481,\n",
       " 0.03228867946427429,\n",
       " 0.03906464404544874,\n",
       " 0.034408457569568625,\n",
       " 0.030942870754183196,\n",
       " 0.030507452532900253,\n",
       " 0.03305536737495754,\n",
       " 0.0335271507613526,\n",
       " 0.12876280246258007,\n",
       " 0.03193220165806271,\n",
       " 0.23602610346571978,\n",
       " 0.0352105593395725,\n",
       " 0.030942870754183196,\n",
       " 0.04189487879284916,\n",
       " 0.02318190983240931,\n",
       " 0.0270061091031311,\n",
       " 0.03828590559392218,\n",
       " 0.09899429532485561,\n",
       " 0.01977908970948177,\n",
       " 0.02142594853421282,\n",
       " 0.021268629257139907,\n",
       " 0.015255950364016963,\n",
       " 0.31120395461174444,\n",
       " 0.01703664457009162,\n",
       " 0.018427614937796977,\n",
       " 0.015098866913617788,\n",
       " 0.01779486268249323]"
      ]
     },
     "execution_count": 193,
     "metadata": {},
     "output_type": "execute_result"
    }
   ],
   "source": [
    "np.exp(grad_reg.predict(X1)).tolist()"
   ]
  },
  {
   "cell_type": "code",
   "execution_count": 195,
   "id": "18522042-553f-43de-ba83-71bb66ff3751",
   "metadata": {},
   "outputs": [],
   "source": [
    "l1=np.exp(grad_reg.predict(X1)).tolist()\n",
    "l2=[df_1[\"Innovator_Price\"]]\n",
    "preds = [l1*l2 for l1,l2 in zip(l1,l2)]"
   ]
  },
  {
   "cell_type": "code",
   "execution_count": 196,
   "id": "7dc73a2d-3bd5-4b6a-934d-04fd458e855b",
   "metadata": {},
   "outputs": [
    {
     "data": {
      "text/plain": [
       "97.42586935712323"
      ]
     },
     "execution_count": 196,
     "metadata": {},
     "output_type": "execute_result"
    }
   ],
   "source": [
    "mean_absolute_percentage_error(list(df_1[\"Winning_Price\"]),preds)"
   ]
  },
  {
   "cell_type": "code",
   "execution_count": 197,
   "id": "72595ece-060e-422c-9e70-2c011d5cfa01",
   "metadata": {},
   "outputs": [
    {
     "data": {
      "text/plain": [
       "<AxesSubplot:xlabel='Deviation', ylabel='Density'>"
      ]
     },
     "execution_count": 197,
     "metadata": {},
     "output_type": "execute_result"
    },
    {
     "data": {
      "image/png": "[encoded data removed]",
      "text/plain": [
       "<Figure size 432x288 with 1 Axes>"
      ]
     },
     "metadata": {},
     "output_type": "display_data"
    }
   ],
   "source": [
    "sns.kdeplot(df_final2[\"Deviation\"])"
   ]
  },
  {
   "cell_type": "code",
   "execution_count": 198,
   "id": "ee32da87-c096-4260-ae79-fd130a42342f",
   "metadata": {},
   "outputs": [],
   "source": [
    "from fitter import Fitter"
   ]
  },
  {
   "cell_type": "code",
   "execution_count": 221,
   "id": "a620ed88-3c90-46e0-aca4-eaec942f04eb",
   "metadata": {},
   "outputs": [
    {
     "data": {
      "text/html": [
       "<div>\n",
       "<style scoped>\n",
       "    .dataframe tbody tr th:only-of-type {\n",
       "        vertical-align: middle;\n",
       "    }\n",
       "\n",
       "    .dataframe tbody tr th {\n",
       "        vertical-align: top;\n",
       "    }\n",
       "\n",
       "    .dataframe thead th {\n",
       "        text-align: right;\n",
       "    }\n",
       "</style>\n",
       "<table border=\"1\" class=\"dataframe\">\n",
       "  <thead>\n",
       "    <tr style=\"text-align: right;\">\n",
       "      <th></th>\n",
       "      <th>sumsquare_error</th>\n",
       "      <th>aic</th>\n",
       "      <th>bic</th>\n",
       "      <th>kl_div</th>\n",
       "    </tr>\n",
       "  </thead>\n",
       "  <tbody>\n",
       "    <tr>\n",
       "      <th>erlang</th>\n",
       "      <td>263.874354</td>\n",
       "      <td>24.637910</td>\n",
       "      <td>91.225417</td>\n",
       "      <td>inf</td>\n",
       "    </tr>\n",
       "    <tr>\n",
       "      <th>gamma</th>\n",
       "      <td>263.875108</td>\n",
       "      <td>24.640324</td>\n",
       "      <td>91.225897</td>\n",
       "      <td>inf</td>\n",
       "    </tr>\n",
       "  </tbody>\n",
       "</table>\n",
       "</div>"
      ],
      "text/plain": [
       "        sumsquare_error        aic        bic  kl_div\n",
       "erlang       263.874354  24.637910  91.225417     inf\n",
       "gamma        263.875108  24.640324  91.225897     inf"
      ]
     },
     "execution_count": 221,
     "metadata": {},
     "output_type": "execute_result"
    },
    {
     "data": {
      "image/png": "[encoded data removed]",
      "text/plain": [
       "<Figure size 432x288 with 1 Axes>"
      ]
     },
     "metadata": {},
     "output_type": "display_data"
    }
   ],
   "source": [
    "f = Fitter(df_final2[\"Deviation\"],\n",
    "           distributions=['gamma',\n",
    "                         \"erlang\"])\n",
    "f.fit()\n",
    "sns.kdeplot(df_final2[\"Deviation\"])\n",
    "f.summary()"
   ]
  },
  {
   "cell_type": "code",
   "execution_count": 218,
   "id": "ccd48d07-dc04-4bc5-aa70-66b920e093f8",
   "metadata": {},
   "outputs": [
    {
     "data": {
      "text/plain": [
       "{'gamma': (1.0999330524517448, -7.5973842633639e-05, 0.09923919834024193),\n",
       " 'erlang': (1.0999532128096692, -7.613136088589488e-05, 0.0992386663114278)}"
      ]
     },
     "execution_count": 218,
     "metadata": {},
     "output_type": "execute_result"
    }
   ],
   "source": [
    "f.fitted_param"
   ]
  },
  {
   "cell_type": "code",
   "execution_count": 246,
   "id": "d9b81807-1869-4457-a892-3c20b8fd6b5f",
   "metadata": {},
   "outputs": [
    {
     "data": {
      "text/html": [
       "<div>\n",
       "<style scoped>\n",
       "    .dataframe tbody tr th:only-of-type {\n",
       "        vertical-align: middle;\n",
       "    }\n",
       "\n",
       "    .dataframe tbody tr th {\n",
       "        vertical-align: top;\n",
       "    }\n",
       "\n",
       "    .dataframe thead th {\n",
       "        text-align: right;\n",
       "    }\n",
       "</style>\n",
       "<table border=\"1\" class=\"dataframe\">\n",
       "  <thead>\n",
       "    <tr style=\"text-align: right;\">\n",
       "      <th></th>\n",
       "      <th>sumsquare_error</th>\n",
       "      <th>aic</th>\n",
       "      <th>bic</th>\n",
       "      <th>kl_div</th>\n",
       "    </tr>\n",
       "  </thead>\n",
       "  <tbody>\n",
       "    <tr>\n",
       "      <th>lognorm</th>\n",
       "      <td>0.528326</td>\n",
       "      <td>958.031121</td>\n",
       "      <td>-952.645227</td>\n",
       "      <td>inf</td>\n",
       "    </tr>\n",
       "    <tr>\n",
       "      <th>erlang</th>\n",
       "      <td>1.563087</td>\n",
       "      <td>945.976974</td>\n",
       "      <td>-770.414697</td>\n",
       "      <td>inf</td>\n",
       "    </tr>\n",
       "    <tr>\n",
       "      <th>gamma</th>\n",
       "      <td>1.680833</td>\n",
       "      <td>902.886395</td>\n",
       "      <td>-758.213388</td>\n",
       "      <td>inf</td>\n",
       "    </tr>\n",
       "  </tbody>\n",
       "</table>\n",
       "</div>"
      ],
      "text/plain": [
       "         sumsquare_error         aic         bic  kl_div\n",
       "lognorm         0.528326  958.031121 -952.645227     inf\n",
       "erlang          1.563087  945.976974 -770.414697     inf\n",
       "gamma           1.680833  902.886395 -758.213388     inf"
      ]
     },
     "execution_count": 246,
     "metadata": {},
     "output_type": "execute_result"
    },
    {
     "data": {
      "image/png": "[encoded data removed]",
      "text/plain": [
       "<Figure size 432x288 with 1 Axes>"
      ]
     },
     "metadata": {},
     "output_type": "display_data"
    }
   ],
   "source": [
    "f = Fitter(res,\n",
    "           distributions=['gamma',\n",
    "                         \"erlang\",\n",
    "                         \"lognorm\"])\n",
    "f.fit()\n",
    "sns.kdeplot(df_final2[\"Deviation\"])\n",
    "f.summary()"
   ]
  },
  {
   "cell_type": "code",
   "execution_count": 247,
   "id": "8a7d53a9-4e08-4989-ab39-64f13e509ca2",
   "metadata": {},
   "outputs": [
    {
     "data": {
      "text/plain": [
       "{'lognorm': (2.4285699567642585, 0.0004504607782808218, 0.2641426095448619),\n",
       " 'erlang': (0.3461520755125792, 0.0005858491747012805, 4.99472390110303),\n",
       " 'gamma': (0.34561872336961075, 0.0005858491747012805, 5.811633389444233)}"
      ]
     },
     "execution_count": 247,
     "metadata": {},
     "output_type": "execute_result"
    }
   ],
   "source": [
    "f.fitted_param"
   ]
  },
  {
   "cell_type": "code",
   "execution_count": 248,
   "id": "45a2c5a9-d141-42cb-815b-6fd2657a0a0d",
   "metadata": {},
   "outputs": [],
   "source": [
    "from scipy.stats import gamma,lognorm"
   ]
  },
  {
   "cell_type": "code",
   "execution_count": 254,
   "id": "4471e2fc-d77a-47f4-9f6c-a6c905a41d82",
   "metadata": {},
   "outputs": [
    {
     "name": "stdout",
     "output_type": "stream",
     "text": [
      "(1.0999330524517448, -7.5973842633639e-05, 0.09923919834024193)\n",
      "(0.8271623131720995, -0.014064087778554113, 0.0899139033579547)\n"
     ]
    }
   ],
   "source": [
    "print(gamma.fit(df_final2[\"Deviation\"]))\n",
    "print(lognorm.fit(res))"
   ]
  },
  {
   "cell_type": "code",
   "execution_count": 224,
   "id": "7dda2443-5e4d-476c-b30e-1141887c2443",
   "metadata": {},
   "outputs": [
    {
     "data": {
      "text/plain": [
       "<scipy.stats._distn_infrastructure.rv_frozen at 0x21729c83160>"
      ]
     },
     "execution_count": 224,
     "metadata": {},
     "output_type": "execute_result"
    }
   ],
   "source": [
    "gamma.freeze((1.0999330524517448, -7.5973842633639e-05, 0.09923919834024193))"
   ]
  },
  {
   "cell_type": "code",
   "execution_count": 260,
   "id": "4294cc23-7be2-46fd-8107-5d2c12423b54",
   "metadata": {},
   "outputs": [
    {
     "data": {
      "text/plain": [
       "0.7636864122737262"
      ]
     },
     "execution_count": 260,
     "metadata": {},
     "output_type": "execute_result"
    }
   ],
   "source": [
    "gamma.interval(0.025,((1.0999330524517448, -7.5973842633639e-05, 0.09923919834024193)))[0][0]"
   ]
  },
  {
   "cell_type": "code",
   "execution_count": 234,
   "id": "48824baa-83cd-40d2-95c2-12e073078e75",
   "metadata": {},
   "outputs": [
    {
     "data": {
      "text/plain": [
       "0.09948473400944106"
      ]
     },
     "execution_count": 234,
     "metadata": {},
     "output_type": "execute_result"
    }
   ],
   "source": [
    " = np.std(df_final2[\"Deviation\"])"
   ]
  },
  {
   "cell_type": "code",
   "execution_count": 347,
   "id": "a9a13c26-93ae-486e-9c18-3e29e3b88548",
   "metadata": {},
   "outputs": [
    {
     "data": {
      "text/plain": [
       "0.08"
      ]
     },
     "execution_count": 347,
     "metadata": {},
     "output_type": "execute_result"
    }
   ],
   "source": [
    "res = (np.abs(df_final2[\"Winning_Price\"]-df_final2[\"Gr. Reg Prediction\"]))/df_final2[\"Winning_Price\"]\n",
    "np.round(std(res)*gamma.interval(0.025,((1.0999330524517448, -7.5973842633639e-05, 0.09923919834024193)))[0][0],2)"
   ]
  },
  {
   "cell_type": "code",
   "execution_count": 321,
   "id": "2aa30f58-9eb5-49b0-8691-adbfd9e12759",
   "metadata": {},
   "outputs": [
    {
     "data": {
      "text/html": [
       "<div>\n",
       "<style scoped>\n",
       "    .dataframe tbody tr th:only-of-type {\n",
       "        vertical-align: middle;\n",
       "    }\n",
       "\n",
       "    .dataframe tbody tr th {\n",
       "        vertical-align: top;\n",
       "    }\n",
       "\n",
       "    .dataframe thead th {\n",
       "        text-align: right;\n",
       "    }\n",
       "</style>\n",
       "<table border=\"1\" class=\"dataframe\">\n",
       "  <thead>\n",
       "    <tr style=\"text-align: right;\">\n",
       "      <th></th>\n",
       "      <th>sumsquare_error</th>\n",
       "      <th>aic</th>\n",
       "      <th>bic</th>\n",
       "      <th>kl_div</th>\n",
       "    </tr>\n",
       "  </thead>\n",
       "  <tbody>\n",
       "    <tr>\n",
       "      <th>lognorm</th>\n",
       "      <td>89.952537</td>\n",
       "      <td>512.167563</td>\n",
       "      <td>39.947359</td>\n",
       "      <td>inf</td>\n",
       "    </tr>\n",
       "    <tr>\n",
       "      <th>gamma</th>\n",
       "      <td>477.447388</td>\n",
       "      <td>253.915211</td>\n",
       "      <td>128.413465</td>\n",
       "      <td>inf</td>\n",
       "    </tr>\n",
       "  </tbody>\n",
       "</table>\n",
       "</div>"
      ],
      "text/plain": [
       "         sumsquare_error         aic         bic  kl_div\n",
       "lognorm        89.952537  512.167563   39.947359     inf\n",
       "gamma         477.447388  253.915211  128.413465     inf"
      ]
     },
     "execution_count": 321,
     "metadata": {},
     "output_type": "execute_result"
    },
    {
     "data": {
      "image/png": "[encoded data removed]",
      "text/plain": [
       "<Figure size 432x288 with 1 Axes>"
      ]
     },
     "metadata": {},
     "output_type": "display_data"
    }
   ],
   "source": [
    "cat1_df = df_final2[(df_final2[\"Previous_Winning_Price\"]<1)&(df_final2[\"Previous_Winning_Price\"]<=1)]\n",
    "res = np.abs(cat1_df[\"Winning_Price\"]-cat1_df[\"Gr. Reg Prediction\"])#/cat1_df[\"Winning_Price\"]\n",
    "sns.kdeplot(res)\n",
    "std(res)\n",
    "f = Fitter(res,\n",
    "           distributions=['gamma',\n",
    "                          \"lognorm\"])\n",
    "f.fit()\n",
    "f.summary()"
   ]
  },
  {
   "cell_type": "code",
   "execution_count": 322,
   "id": "f50a4e7f-5f0c-4b30-93c6-b53b4d1c9e5c",
   "metadata": {},
   "outputs": [],
   "source": [
    "from scipy.stats import lognorm"
   ]
  },
  {
   "cell_type": "code",
   "execution_count": 334,
   "id": "0ac7e84a-6f8d-40f0-9127-f378fd39d46f",
   "metadata": {},
   "outputs": [
    {
     "name": "stdout",
     "output_type": "stream",
     "text": [
      "0.0075677874372050155\n",
      "0.0767527935806259\n"
     ]
    }
   ],
   "source": [
    "import numpy as np\n",
    "inter =0.005\n",
    "right = lognorm.interval((1-inter),lognorm.fit(df_final2[\"Deviation\"]))/np.sqrt(len(df_final2))\n",
    "left = lognorm.interval(inter,lognorm.fit(df_final2[\"Deviation\"]))/np.sqrt(len(df_final2))\n",
    "print(right[0][0])\n",
    "print(left[0][0])"
   ]
  },
  {
   "cell_type": "code",
   "execution_count": 323,
   "id": "131ec6cb-1bda-4f24-8364-0913aebc5499",
   "metadata": {},
   "outputs": [
    {
     "data": {
      "text/plain": [
       "(0.8271623131720995, -0.014064087778554113, 0.0899139033579547)"
      ]
     },
     "execution_count": 323,
     "metadata": {},
     "output_type": "execute_result"
    }
   ],
   "source": [
    "def dist_score(df):\n",
    "    cat = (df[\"Prv_Cat\"]).unique()\n",
    "    for i in cat:\n",
    "        prv_df = df[df[\"Prv_Cat\"]==i]\n",
    "        std_cat = std(df[\"Deviation\"])\n",
    "        "
   ]
  },
  {
   "cell_type": "code",
   "execution_count": 463,
   "id": "770f72a0-0b2c-4707-97d8-b7b1055cf0da",
   "metadata": {},
   "outputs": [],
   "source": [
    "def dist_std(df):\n",
    "    left_inter = 0.80\n",
    "    std1 = []\n",
    "    left1=[]\n",
    "    right1 = []\n",
    "    for i in (df[\"Prv_Cat\"]).unique():\n",
    "        prv_df = df[df[\"Prv_Cat\"]==i]\n",
    "        res = pd.Series(np.abs(prv_df[\"Winning_Price\"]-prv_df[\"Gr. Reg Prediction\"]))#/prv_df[\"Winning_Price\"])\n",
    "        std1.append(std(res))\n",
    "        right = lognorm.interval((1-left_inter),lognorm.fit(prv_df[\"Deviation\"]))/np.sqrt(len(prv_df))\n",
    "        left = lognorm.interval(left_inter,lognorm.fit(prv_df[\"Deviation\"]))/np.sqrt(len(prv_df))\n",
    "        left1.append(left[0][0])\n",
    "        right1.append(right[0][0])\n",
    "        #sns.kdeplot(res)\n",
    "    return pd.DataFrame({\"Category\":(df[\"Prv_Cat\"]).unique(),\"Standard\":std1,\"Left\":left1,\"Right\":right1})\n",
    "        #sns.kdeplot(res)\n",
    "        #plt.legend()\n",
    "        #sns.histplot(res)"
   ]
  },
  {
   "cell_type": "code",
   "execution_count": 464,
   "id": "607c4b6a-b15e-4790-bf2f-663f73b98172",
   "metadata": {},
   "outputs": [
    {
     "data": {
      "text/html": [
       "<div>\n",
       "<style scoped>\n",
       "    .dataframe tbody tr th:only-of-type {\n",
       "        vertical-align: middle;\n",
       "    }\n",
       "\n",
       "    .dataframe tbody tr th {\n",
       "        vertical-align: top;\n",
       "    }\n",
       "\n",
       "    .dataframe thead th {\n",
       "        text-align: right;\n",
       "    }\n",
       "</style>\n",
       "<table border=\"1\" class=\"dataframe\">\n",
       "  <thead>\n",
       "    <tr style=\"text-align: right;\">\n",
       "      <th></th>\n",
       "      <th>Category</th>\n",
       "      <th>Standard</th>\n",
       "      <th>Left</th>\n",
       "      <th>Right</th>\n",
       "    </tr>\n",
       "  </thead>\n",
       "  <tbody>\n",
       "    <tr>\n",
       "      <th>0</th>\n",
       "      <td>0</td>\n",
       "      <td>0.136220</td>\n",
       "      <td>0.034380</td>\n",
       "      <td>0.104458</td>\n",
       "    </tr>\n",
       "    <tr>\n",
       "      <th>1</th>\n",
       "      <td>1</td>\n",
       "      <td>2.308126</td>\n",
       "      <td>0.039438</td>\n",
       "      <td>0.084573</td>\n",
       "    </tr>\n",
       "    <tr>\n",
       "      <th>2</th>\n",
       "      <td>2</td>\n",
       "      <td>4.700820</td>\n",
       "      <td>0.104003</td>\n",
       "      <td>0.196202</td>\n",
       "    </tr>\n",
       "  </tbody>\n",
       "</table>\n",
       "</div>"
      ],
      "text/plain": [
       "   Category  Standard      Left     Right\n",
       "0         0  0.136220  0.034380  0.104458\n",
       "1         1  2.308126  0.039438  0.084573\n",
       "2         2  4.700820  0.104003  0.196202"
      ]
     },
     "execution_count": 464,
     "metadata": {},
     "output_type": "execute_result"
    }
   ],
   "source": [
    "cat_df = dist_std(df_final2)\n",
    "cat_df"
   ]
  },
  {
   "cell_type": "code",
   "execution_count": 528,
   "id": "606d1246-42b8-4270-ab5f-23a10d803397",
   "metadata": {},
   "outputs": [],
   "source": [
    "cat_df.to_excel(\"Standard_dev.xlsx\",index=False)"
   ]
  },
  {
   "cell_type": "code",
   "execution_count": 515,
   "id": "05481265-1326-4945-9faf-ecbbe866b71e",
   "metadata": {},
   "outputs": [],
   "source": [
    "upper = []\n",
    "lower = []\n",
    "for i in range(len(df_final2)):\n",
    "    cat = df_final2.iloc[i][\"Prv_Cat\"]\n",
    "    lower.append(df_final2.iloc[i][\"Pred\"]-6*cat_df[\"Left\"][cat]*cat_df[\"Standard\"][cat])\n",
    "    upper.append(df_final2.iloc[i][\"Pred\"]+7*cat_df[\"Right\"][cat]*cat_df[\"Standard\"][cat])"
   ]
  },
  {
   "cell_type": "code",
   "execution_count": 516,
   "id": "73a9c5e8-a1c9-4766-91fa-d946abb01971",
   "metadata": {},
   "outputs": [
    {
     "data": {
      "text/plain": [
       "[0.4971056654101425,\n",
       " 0.4896930131278785,\n",
       " 0.8530208849275499,\n",
       " 0.7029042875847927,\n",
       " 0.6916538734823208]"
      ]
     },
     "execution_count": 516,
     "metadata": {},
     "output_type": "execute_result"
    }
   ],
   "source": [
    "upper[:5]"
   ]
  },
  {
   "cell_type": "code",
   "execution_count": 517,
   "id": "d5730d8a-122d-4272-9db6-4185cfee2653",
   "metadata": {},
   "outputs": [],
   "source": [
    "df_final2[\"Upper\"] = upper\n",
    "df_final2[\"Lower\"] = lower"
   ]
  },
  {
   "cell_type": "code",
   "execution_count": 518,
   "id": "a4c01477-9dee-4af9-a937-d394771999a7",
   "metadata": {},
   "outputs": [],
   "source": [
    "df_final2.to_excel(\"Interval5.xlsx\")"
   ]
  },
  {
   "cell_type": "code",
   "execution_count": 335,
   "id": "6b6d36d3-7359-4531-9642-235e2aca7a35",
   "metadata": {},
   "outputs": [
    {
     "name": "stdout",
     "output_type": "stream",
     "text": [
      "0.0075677874372050155\n",
      "0.0767527935806259\n"
     ]
    }
   ],
   "source": [
    "import numpy as np\n",
    "inter =0.005\n",
    "right = lognorm.interval((1-inter),lognorm.fit(df_final2[\"Deviation\"]))/np.sqrt(len(df_final2))\n",
    "left = lognorm.interval(inter,lognorm.fit(df_final2[\"Deviation\"]))/np.sqrt(len(df_final2))\n",
    "print(right[0][0])\n",
    "print(left[0][0])"
   ]
  },
  {
   "cell_type": "code",
   "execution_count": 498,
   "id": "d2b8c2a4-3f41-49b5-8bb2-a51a5a770029",
   "metadata": {},
   "outputs": [
    {
     "data": {
      "text/plain": [
       "Index(['Identifier', 'DRL_Win_Flag', 'Form', 'Region', ' Tender_Type',\n",
       "       'Client', '#Participant', 'Winning_Price', 'Proximity_Delivery',\n",
       "       'Tender_Duration', 'Previous_Winning_Price', '#Months_G.E',\n",
       "       'DRL_Bid_price', 'Win_Bid', 'DRL_Bid', 'Gr. Reg Prediction',\n",
       "       'Deviation', 'Prv_Cat', 'Product Name', 'Upper', 'Lower', 'Pred'],\n",
       "      dtype='object')"
      ]
     },
     "execution_count": 498,
     "metadata": {},
     "output_type": "execute_result"
    }
   ],
   "source": [
    "df_final2.columns"
   ]
  },
  {
   "cell_type": "code",
   "execution_count": 502,
   "id": "3d7b2428-ff15-4eb8-8bfe-40cc49822953",
   "metadata": {},
   "outputs": [],
   "source": [
    "model_final = df_final2[['Identifier', 'DRL_Win_Flag', 'Form', 'Region', ' Tender_Type',\n",
    "       'Client', '#Participant', 'Winning_Price', 'Proximity_Delivery',\n",
    "       'Tender_Duration', 'Previous_Winning_Price', '#Months_G.E',\n",
    "       'DRL_Bid_price','Prv_Cat']]\n",
    "model_final.to_excel(\"Model_Final_Data.xlsx\")"
   ]
  },
  {
   "cell_type": "code",
   "execution_count": 503,
   "id": "7f04af99-a28c-4dae-bce3-f6dc76810c78",
   "metadata": {},
   "outputs": [
    {
     "data": {
      "text/plain": [
       "0       0.36800\n",
       "1       0.41587\n",
       "2       0.67860\n",
       "4       0.67900\n",
       "5       0.54609\n",
       "         ...   \n",
       "177    13.33334\n",
       "178     0.26990\n",
       "179     0.24550\n",
       "180     0.18020\n",
       "181     0.26558\n",
       "Name: Winning_Price, Length: 168, dtype: float64"
      ]
     },
     "execution_count": 503,
     "metadata": {},
     "output_type": "execute_result"
    }
   ],
   "source": [
    "df_final2[\"Winning_Price\"]"
   ]
  },
  {
   "cell_type": "code",
   "execution_count": 505,
   "id": "858cf92d-4fc7-4817-a840-2bd636c69c2a",
   "metadata": {},
   "outputs": [],
   "source": [
    "df_final2.to_excel(\"Win_Int.xlsx\")"
   ]
  },
  {
   "cell_type": "code",
   "execution_count": 527,
   "id": "6b4e405b-3bd7-40f7-ba92-efc8657cb1cd",
   "metadata": {},
   "outputs": [],
   "source": [
    "df_2.to_excel(\"RegressionPercentage.xlsx\")"
   ]
  },
  {
   "cell_type": "code",
   "execution_count": null,
   "id": "598fc9bf-3a1e-4297-86e2-bebdf7190220",
   "metadata": {},
   "outputs": [],
   "source": [
    "grad_reg"
   ]
  }
 ],
 "metadata": {
  "kernelspec": {
   "display_name": "Python 3 (ipykernel)",
   "language": "python",
   "name": "python3"
  },
  "language_info": {
   "codemirror_mode": {
    "name": "ipython",
    "version": 3
   },
   "file_extension": ".py",
   "mimetype": "text/x-python",
   "name": "python",
   "nbconvert_exporter": "python",
   "pygments_lexer": "ipython3",
   "version": "3.9.12"
  }
 },
 "nbformat": 4,
 "nbformat_minor": 5
}
